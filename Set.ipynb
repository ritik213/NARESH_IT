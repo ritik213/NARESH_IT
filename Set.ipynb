{
 "cells": [
  {
   "cell_type": "markdown",
   "id": "7a9f7327-8e1c-40ac-942d-bbeed7630f6c",
   "metadata": {},
   "source": [
    "# Set"
   ]
  },
  {
   "cell_type": "raw",
   "id": "2068f97b-003e-4666-b6b4-499c21dd3f5e",
   "metadata": {},
   "source": [
    "1.Duplicate is Not allowed\n",
    "2.Slicing and indexing isnot allowed\n",
    "3.it is ordered in sequence\n",
    "4.in set pop function can remove the random element\n",
    "5.Mutable"
   ]
  },
  {
   "cell_type": "code",
   "execution_count": 45,
   "id": "7ba5f591-bd46-40fa-a43d-a9394560119d",
   "metadata": {},
   "outputs": [
    {
     "data": {
      "text/plain": [
       "{}"
      ]
     },
     "execution_count": 45,
     "metadata": {},
     "output_type": "execute_result"
    }
   ],
   "source": [
    "s = {}  #bydefault the curly bracket is created as dict\n",
    "s"
   ]
  },
  {
   "cell_type": "code",
   "execution_count": 47,
   "id": "f1f8fa4c-d695-4a5b-85cb-64925df1017f",
   "metadata": {},
   "outputs": [
    {
     "data": {
      "text/plain": [
       "dict"
      ]
     },
     "execution_count": 47,
     "metadata": {},
     "output_type": "execute_result"
    }
   ],
   "source": [
    "type(s)"
   ]
  },
  {
   "cell_type": "code",
   "execution_count": 49,
   "id": "a4b96f94-3e39-4568-a600-691194cf8360",
   "metadata": {},
   "outputs": [
    {
     "data": {
      "text/plain": [
       "set"
      ]
     },
     "execution_count": 49,
     "metadata": {},
     "output_type": "execute_result"
    }
   ],
   "source": [
    "s1 = set()     #empty set is defined the set we should used the set() function\n",
    "type(s1)"
   ]
  },
  {
   "cell_type": "markdown",
   "id": "5a7ad7df-a3da-40b9-9bb3-e582db757919",
   "metadata": {},
   "source": [
    "# add function"
   ]
  },
  {
   "cell_type": "code",
   "execution_count": 52,
   "id": "c8d7825b-d297-4135-b17a-3060b13ad53b",
   "metadata": {},
   "outputs": [],
   "source": [
    "s1.add(10)"
   ]
  },
  {
   "cell_type": "code",
   "execution_count": 54,
   "id": "4e517aab-0d0f-4c32-9ec4-cf350c400edf",
   "metadata": {},
   "outputs": [
    {
     "data": {
      "text/plain": [
       "{10}"
      ]
     },
     "execution_count": 54,
     "metadata": {},
     "output_type": "execute_result"
    }
   ],
   "source": [
    "s1"
   ]
  },
  {
   "cell_type": "code",
   "execution_count": 56,
   "id": "3e13d570-ae14-442c-a75b-ffaa715c520c",
   "metadata": {},
   "outputs": [],
   "source": [
    "s1.add(20)\n",
    "s1.add('ONE')\n",
    "s1.add(False)\n",
    "s1.add(1+2J)\n",
    "s1.add(3.14)"
   ]
  },
  {
   "cell_type": "code",
   "execution_count": 58,
   "id": "b07071d6-74f0-497f-8be2-6edf020fad1a",
   "metadata": {},
   "outputs": [
    {
     "data": {
      "text/plain": [
       "{(1+2j), 10, 20, 3.14, False, 'ONE'}"
      ]
     },
     "execution_count": 58,
     "metadata": {},
     "output_type": "execute_result"
    }
   ],
   "source": [
    "s1"
   ]
  },
  {
   "cell_type": "code",
   "execution_count": 60,
   "id": "e2932409-234c-4abc-8634-a14a6b12dc8b",
   "metadata": {},
   "outputs": [],
   "source": [
    "s1.add(77)"
   ]
  },
  {
   "cell_type": "code",
   "execution_count": 62,
   "id": "4bd4bed8-d2ed-4c68-b0d7-80544b3b865c",
   "metadata": {},
   "outputs": [
    {
     "data": {
      "text/plain": [
       "{(1+2j), 10, 20, 3.14, 77, False, 'ONE'}"
      ]
     },
     "execution_count": 62,
     "metadata": {},
     "output_type": "execute_result"
    }
   ],
   "source": [
    "s1"
   ]
  },
  {
   "cell_type": "code",
   "execution_count": 64,
   "id": "79d62d7a-dec6-45ad-8f34-42e9e9e8c908",
   "metadata": {},
   "outputs": [
    {
     "data": {
      "text/plain": [
       "set()"
      ]
     },
     "execution_count": 64,
     "metadata": {},
     "output_type": "execute_result"
    }
   ],
   "source": [
    "s2 = set()\n",
    "s2"
   ]
  },
  {
   "cell_type": "code",
   "execution_count": 66,
   "id": "978f0de5-7408-4eae-9817-3a2950d5cb9b",
   "metadata": {},
   "outputs": [
    {
     "ename": "TypeError",
     "evalue": "set.add() takes exactly one argument (2 given)",
     "output_type": "error",
     "traceback": [
      "\u001b[1;31m---------------------------------------------------------------------------\u001b[0m",
      "\u001b[1;31mTypeError\u001b[0m                                 Traceback (most recent call last)",
      "Cell \u001b[1;32mIn[66], line 1\u001b[0m\n\u001b[1;32m----> 1\u001b[0m s2\u001b[38;5;241m.\u001b[39madd(\u001b[38;5;241m100\u001b[39m,\u001b[38;5;241m300\u001b[39m)\n",
      "\u001b[1;31mTypeError\u001b[0m: set.add() takes exactly one argument (2 given)"
     ]
    }
   ],
   "source": [
    "s2.add(100,300)   #in set only one value can add "
   ]
  },
  {
   "cell_type": "code",
   "execution_count": 68,
   "id": "b5964b59-bc15-45f2-9f45-1e74ce8eb35c",
   "metadata": {},
   "outputs": [
    {
     "data": {
      "text/plain": [
       "{9, 10, 34, 100, 200}"
      ]
     },
     "execution_count": 68,
     "metadata": {},
     "output_type": "execute_result"
    }
   ],
   "source": [
    "s2.add(100)\n",
    "s2.add(200)\n",
    "s2.add(10)\n",
    "s2.add(34)\n",
    "s2.add(9)\n",
    "\n",
    "s2"
   ]
  },
  {
   "cell_type": "code",
   "execution_count": 70,
   "id": "01e87e06-761d-439e-9e77-8f3e587dd588",
   "metadata": {},
   "outputs": [
    {
     "data": {
      "text/plain": [
       "set()"
      ]
     },
     "execution_count": 70,
     "metadata": {},
     "output_type": "execute_result"
    }
   ],
   "source": [
    "s3 = set()\n",
    "s3"
   ]
  },
  {
   "cell_type": "code",
   "execution_count": 72,
   "id": "c7f2c87b-bf75-421b-a465-13d17a81cd1e",
   "metadata": {},
   "outputs": [
    {
     "data": {
      "text/plain": [
       "{'b', 'c', 'g', 'l', 'm', 'p', 'z'}"
      ]
     },
     "execution_count": 72,
     "metadata": {},
     "output_type": "execute_result"
    }
   ],
   "source": [
    "s3.add('z')\n",
    "s3.add('g')\n",
    "s3.add('b')\n",
    "s3.add('l')\n",
    "s3.add('m')\n",
    "s3.add('c')\n",
    "s3.add('p')\n",
    "\n",
    "s3"
   ]
  },
  {
   "cell_type": "code",
   "execution_count": 74,
   "id": "f2e82a97-21c3-42e9-8383-8498c4e1c64c",
   "metadata": {},
   "outputs": [
    {
     "name": "stdout",
     "output_type": "stream",
     "text": [
      "{False, 3.14, (1+2j), 10, 77, 'ONE', 20}\n",
      "{34, 100, 200, 9, 10}\n",
      "{'l', 'z', 'g', 'p', 'b', 'c', 'm'}\n"
     ]
    }
   ],
   "source": [
    "print(s1)\n",
    "print(s2)\n",
    "print(s3)"
   ]
  },
  {
   "cell_type": "code",
   "execution_count": 76,
   "id": "b9e921c9-1f4e-4281-9963-f9111deca685",
   "metadata": {},
   "outputs": [
    {
     "name": "stdout",
     "output_type": "stream",
     "text": [
      "7\n",
      "5\n",
      "7\n"
     ]
    }
   ],
   "source": [
    "print(len(s1))\n",
    "print(len(s2))\n",
    "print(len(s3))"
   ]
  },
  {
   "cell_type": "markdown",
   "id": "69a88fba-64ac-4349-a228-66ac23fc7ffa",
   "metadata": {},
   "source": [
    "# Slicing And indexing"
   ]
  },
  {
   "cell_type": "raw",
   "id": "c0188b53-a58b-4526-baed-448c4323a891",
   "metadata": {},
   "source": [
    "1. In set indexing and slicing is not allowed"
   ]
  },
  {
   "cell_type": "code",
   "execution_count": 79,
   "id": "84e764a2-e8d2-43d0-8ea1-d9ffb016fe7d",
   "metadata": {},
   "outputs": [
    {
     "ename": "KeyError",
     "evalue": "3",
     "output_type": "error",
     "traceback": [
      "\u001b[1;31m---------------------------------------------------------------------------\u001b[0m",
      "\u001b[1;31mKeyError\u001b[0m                                  Traceback (most recent call last)",
      "Cell \u001b[1;32mIn[79], line 1\u001b[0m\n\u001b[1;32m----> 1\u001b[0m s[\u001b[38;5;241m3\u001b[39m]\n",
      "\u001b[1;31mKeyError\u001b[0m: 3"
     ]
    }
   ],
   "source": [
    "s[3]"
   ]
  },
  {
   "cell_type": "code",
   "execution_count": 81,
   "id": "f8bfdad9-fc1c-433d-b07d-4f871c5ab045",
   "metadata": {},
   "outputs": [
    {
     "ename": "KeyError",
     "evalue": "slice(None, None, None)",
     "output_type": "error",
     "traceback": [
      "\u001b[1;31m---------------------------------------------------------------------------\u001b[0m",
      "\u001b[1;31mKeyError\u001b[0m                                  Traceback (most recent call last)",
      "Cell \u001b[1;32mIn[81], line 1\u001b[0m\n\u001b[1;32m----> 1\u001b[0m s[:]\n",
      "\u001b[1;31mKeyError\u001b[0m: slice(None, None, None)"
     ]
    }
   ],
   "source": [
    "s[:]"
   ]
  },
  {
   "cell_type": "code",
   "execution_count": 83,
   "id": "25c33ccb-b27e-473a-9c2b-03756e33d803",
   "metadata": {},
   "outputs": [
    {
     "ename": "TypeError",
     "evalue": "'set' object does not support item assignment",
     "output_type": "error",
     "traceback": [
      "\u001b[1;31m---------------------------------------------------------------------------\u001b[0m",
      "\u001b[1;31mTypeError\u001b[0m                                 Traceback (most recent call last)",
      "Cell \u001b[1;32mIn[83], line 1\u001b[0m\n\u001b[1;32m----> 1\u001b[0m s3[\u001b[38;5;241m3\u001b[39m] \u001b[38;5;241m=\u001b[39m \u001b[38;5;241m19\u001b[39m\n",
      "\u001b[1;31mTypeError\u001b[0m: 'set' object does not support item assignment"
     ]
    }
   ],
   "source": [
    "s3[3] = 19 #set is immutable it can't change the values onces it's created"
   ]
  },
  {
   "cell_type": "markdown",
   "id": "30738733-ff97-4654-a8f7-a75b532e0fff",
   "metadata": {},
   "source": [
    "# Copy Function"
   ]
  },
  {
   "cell_type": "code",
   "execution_count": 90,
   "id": "3091f1dc-3a13-4f7c-8756-d023f73424e1",
   "metadata": {},
   "outputs": [
    {
     "ename": "NameError",
     "evalue": "name 's4' is not defined",
     "output_type": "error",
     "traceback": [
      "\u001b[1;31m---------------------------------------------------------------------------\u001b[0m",
      "\u001b[1;31mNameError\u001b[0m                                 Traceback (most recent call last)",
      "Cell \u001b[1;32mIn[90], line 1\u001b[0m\n\u001b[1;32m----> 1\u001b[0m s4\n",
      "\u001b[1;31mNameError\u001b[0m: name 's4' is not defined"
     ]
    }
   ],
   "source": [
    "s4"
   ]
  },
  {
   "cell_type": "code",
   "execution_count": 92,
   "id": "d7ae01cb-01ef-4ad8-afcf-34c2a6b42c31",
   "metadata": {},
   "outputs": [
    {
     "data": {
      "text/plain": [
       "{'b', 'c', 'g', 'l', 'm', 'p', 'z'}"
      ]
     },
     "execution_count": 92,
     "metadata": {},
     "output_type": "execute_result"
    }
   ],
   "source": [
    "s3"
   ]
  },
  {
   "cell_type": "code",
   "execution_count": 94,
   "id": "b84e40d8-4630-4b50-8e0e-54847a0c93e8",
   "metadata": {},
   "outputs": [],
   "source": [
    "s4 = s3.copy()"
   ]
  },
  {
   "cell_type": "code",
   "execution_count": 96,
   "id": "9995cb2f-fad1-4078-a4ad-937e2eae863e",
   "metadata": {},
   "outputs": [
    {
     "data": {
      "text/plain": [
       "{'b', 'c', 'g', 'l', 'm', 'p', 'z'}"
      ]
     },
     "execution_count": 96,
     "metadata": {},
     "output_type": "execute_result"
    }
   ],
   "source": [
    "s4"
   ]
  },
  {
   "cell_type": "code",
   "execution_count": 98,
   "id": "750305c2-fb9f-4744-9ca9-0a781e814eef",
   "metadata": {},
   "outputs": [
    {
     "data": {
      "text/plain": [
       "True"
      ]
     },
     "execution_count": 98,
     "metadata": {},
     "output_type": "execute_result"
    }
   ],
   "source": [
    "s4 == s3"
   ]
  },
  {
   "cell_type": "code",
   "execution_count": 100,
   "id": "0e0b39d2-657e-4789-b786-75a31c148335",
   "metadata": {},
   "outputs": [],
   "source": [
    "s5 = s4.copy()"
   ]
  },
  {
   "cell_type": "code",
   "execution_count": 102,
   "id": "c049ddfd-8004-4f46-874e-6670ef76eaf3",
   "metadata": {},
   "outputs": [
    {
     "data": {
      "text/plain": [
       "{'b', 'c', 'g', 'l', 'm', 'p', 'z'}"
      ]
     },
     "execution_count": 102,
     "metadata": {},
     "output_type": "execute_result"
    }
   ],
   "source": [
    "s5"
   ]
  },
  {
   "cell_type": "markdown",
   "id": "40bac1f5-e8eb-4873-9c6f-3715fb7f226d",
   "metadata": {},
   "source": [
    "# pop Function"
   ]
  },
  {
   "cell_type": "code",
   "execution_count": 105,
   "id": "aa647391-901e-4b61-8b79-cc449d383b09",
   "metadata": {},
   "outputs": [
    {
     "name": "stdout",
     "output_type": "stream",
     "text": [
      "{False, 3.14, (1+2j), 10, 77, 'ONE', 20}\n",
      "{34, 100, 200, 9, 10}\n",
      "{'l', 'z', 'g', 'p', 'b', 'c', 'm'}\n",
      "{'c', 'l', 'm', 'p', 'z', 'g', 'b'}\n"
     ]
    }
   ],
   "source": [
    "print(s1)\n",
    "print(s2)\n",
    "print(s3)\n",
    "print(s4)"
   ]
  },
  {
   "cell_type": "code",
   "execution_count": 107,
   "id": "6b4c8218-6816-4178-b8da-aa9404d2cfe0",
   "metadata": {},
   "outputs": [
    {
     "data": {
      "text/plain": [
       "False"
      ]
     },
     "execution_count": 107,
     "metadata": {},
     "output_type": "execute_result"
    }
   ],
   "source": [
    "s1.pop()"
   ]
  },
  {
   "cell_type": "code",
   "execution_count": 109,
   "id": "73b7efa6-2374-4ccf-82ae-1143e8f8b892",
   "metadata": {},
   "outputs": [
    {
     "data": {
      "text/plain": [
       "{(1+2j), 10, 20, 3.14, 77, 'ONE'}"
      ]
     },
     "execution_count": 109,
     "metadata": {},
     "output_type": "execute_result"
    }
   ],
   "source": [
    "s1"
   ]
  },
  {
   "cell_type": "code",
   "execution_count": 111,
   "id": "2e1cee22-fd7a-4f3c-980a-45dd13eb25b0",
   "metadata": {},
   "outputs": [
    {
     "data": {
      "text/plain": [
       "34"
      ]
     },
     "execution_count": 111,
     "metadata": {},
     "output_type": "execute_result"
    }
   ],
   "source": [
    "s2.pop()"
   ]
  },
  {
   "cell_type": "code",
   "execution_count": 113,
   "id": "532d9d27-a70f-431e-bcbf-c79182792d22",
   "metadata": {},
   "outputs": [
    {
     "data": {
      "text/plain": [
       "{9, 10, 100, 200}"
      ]
     },
     "execution_count": 113,
     "metadata": {},
     "output_type": "execute_result"
    }
   ],
   "source": [
    "s2"
   ]
  },
  {
   "cell_type": "code",
   "execution_count": 115,
   "id": "0d268a4a-2157-4e09-8caf-c21fb6bff2ed",
   "metadata": {},
   "outputs": [
    {
     "data": {
      "text/plain": [
       "'l'"
      ]
     },
     "execution_count": 115,
     "metadata": {},
     "output_type": "execute_result"
    }
   ],
   "source": [
    "s3.pop()"
   ]
  },
  {
   "cell_type": "code",
   "execution_count": 117,
   "id": "984237f3-2829-4fc3-86c7-daf34f45f849",
   "metadata": {},
   "outputs": [
    {
     "data": {
      "text/plain": [
       "{'b', 'c', 'g', 'm', 'p', 'z'}"
      ]
     },
     "execution_count": 117,
     "metadata": {},
     "output_type": "execute_result"
    }
   ],
   "source": [
    "s3"
   ]
  },
  {
   "cell_type": "code",
   "execution_count": 119,
   "id": "3aa5c460-104b-4368-9ac0-14b8a1776626",
   "metadata": {},
   "outputs": [
    {
     "data": {
      "text/plain": [
       "'z'"
      ]
     },
     "execution_count": 119,
     "metadata": {},
     "output_type": "execute_result"
    }
   ],
   "source": [
    "s3.pop()"
   ]
  },
  {
   "cell_type": "code",
   "execution_count": 121,
   "id": "36432854-b197-4790-b1ab-441ed8b6ca0c",
   "metadata": {},
   "outputs": [
    {
     "data": {
      "text/plain": [
       "{'b', 'c', 'g', 'm', 'p'}"
      ]
     },
     "execution_count": 121,
     "metadata": {},
     "output_type": "execute_result"
    }
   ],
   "source": [
    "s3"
   ]
  },
  {
   "cell_type": "markdown",
   "id": "d3a753ad-5983-4be3-be6d-52af70681006",
   "metadata": {},
   "source": [
    "# remove Function"
   ]
  },
  {
   "cell_type": "code",
   "execution_count": 124,
   "id": "98a54316-c4b1-4733-85da-b633db0cf8fe",
   "metadata": {},
   "outputs": [],
   "source": [
    "s1.remove(1+2j)"
   ]
  },
  {
   "cell_type": "code",
   "execution_count": 126,
   "id": "37b5c5ff-5f85-41f2-adda-f8740a0602d0",
   "metadata": {},
   "outputs": [
    {
     "data": {
      "text/plain": [
       "{10, 20, 3.14, 77, 'ONE'}"
      ]
     },
     "execution_count": 126,
     "metadata": {},
     "output_type": "execute_result"
    }
   ],
   "source": [
    "s1"
   ]
  },
  {
   "cell_type": "code",
   "execution_count": 128,
   "id": "283565d2-ba29-48bc-9753-7160f6765996",
   "metadata": {},
   "outputs": [
    {
     "name": "stdout",
     "output_type": "stream",
     "text": [
      "{3.14, 10, 77, 'ONE', 20}\n",
      "{100, 200, 9, 10}\n",
      "{'g', 'p', 'b', 'c', 'm'}\n",
      "{'c', 'l', 'm', 'p', 'z', 'g', 'b'}\n"
     ]
    }
   ],
   "source": [
    "print(s1)\n",
    "print(s2)\n",
    "print(s3)\n",
    "print(s4)"
   ]
  },
  {
   "cell_type": "code",
   "execution_count": 130,
   "id": "535d59d2-9853-4bea-af0e-81df97381e33",
   "metadata": {},
   "outputs": [],
   "source": [
    "s2.remove(200)"
   ]
  },
  {
   "cell_type": "code",
   "execution_count": 132,
   "id": "4b757cb8-dae1-4c1d-95e8-4a3f43ffecd4",
   "metadata": {},
   "outputs": [
    {
     "data": {
      "text/plain": [
       "{9, 10, 100}"
      ]
     },
     "execution_count": 132,
     "metadata": {},
     "output_type": "execute_result"
    }
   ],
   "source": [
    "s2"
   ]
  },
  {
   "cell_type": "code",
   "execution_count": 134,
   "id": "c4669950-c58f-42e8-832f-562891a18df5",
   "metadata": {},
   "outputs": [
    {
     "name": "stdout",
     "output_type": "stream",
     "text": [
      "c\n",
      "l\n",
      "m\n",
      "p\n",
      "z\n",
      "g\n",
      "b\n"
     ]
    }
   ],
   "source": [
    "for i in s4:\n",
    "    print(i)"
   ]
  },
  {
   "cell_type": "code",
   "execution_count": 136,
   "id": "6beae9b6-2ee2-4bbb-9242-dd72afe93fd0",
   "metadata": {},
   "outputs": [
    {
     "name": "stdout",
     "output_type": "stream",
     "text": [
      "(0, 'c')\n",
      "(1, 'l')\n",
      "(2, 'm')\n",
      "(3, 'p')\n",
      "(4, 'z')\n",
      "(5, 'g')\n",
      "(6, 'b')\n"
     ]
    }
   ],
   "source": [
    "for i in enumerate(s4):\n",
    "    print(i)"
   ]
  },
  {
   "cell_type": "markdown",
   "id": "10d80782-480a-49ee-9bf4-3e73920ba20d",
   "metadata": {},
   "source": [
    "# Set Operation"
   ]
  },
  {
   "cell_type": "raw",
   "id": "d2c502cd-61cf-4a4c-8fc4-e0bef95deaad",
   "metadata": {},
   "source": [
    "1.Union\n",
    "2.Intersection\n",
    "3.Difference\n",
    "4.update"
   ]
  },
  {
   "cell_type": "markdown",
   "id": "1cd88964-6a84-4ad3-8a9c-a1ed13f73d47",
   "metadata": {},
   "source": [
    "# Union"
   ]
  },
  {
   "cell_type": "markdown",
   "id": "068739c7-a1b8-4597-a73d-56603aa0b27f",
   "metadata": {},
   "source": [
    "## 1.union of two set means finding the set containing the all of the values in both set.\n",
    "## 2.It is denoted as the U or |\n"
   ]
  },
  {
   "cell_type": "code",
   "execution_count": 141,
   "id": "309d1280-54a3-4291-b2ab-cd6028da9011",
   "metadata": {},
   "outputs": [],
   "source": [
    "A = {1,2,3,4,5}\n",
    "B = {4,5,6,7,8,}\n",
    "C = {8,9,10}"
   ]
  },
  {
   "cell_type": "code",
   "execution_count": 143,
   "id": "1895537a-dd0d-4f85-8f53-443b4908edd1",
   "metadata": {},
   "outputs": [
    {
     "data": {
      "text/plain": [
       "{1, 2, 3, 4, 5, 6, 7, 8}"
      ]
     },
     "execution_count": 143,
     "metadata": {},
     "output_type": "execute_result"
    }
   ],
   "source": [
    "A | B"
   ]
  },
  {
   "cell_type": "code",
   "execution_count": 145,
   "id": "1c8c3063-45db-4b4e-8e2e-d67490450944",
   "metadata": {},
   "outputs": [
    {
     "data": {
      "text/plain": [
       "{4, 5, 6, 7, 8, 9, 10}"
      ]
     },
     "execution_count": 145,
     "metadata": {},
     "output_type": "execute_result"
    }
   ],
   "source": [
    "B.union(C)"
   ]
  },
  {
   "cell_type": "code",
   "execution_count": 147,
   "id": "efd970a0-53ae-4ee4-97a0-39b0bb749719",
   "metadata": {},
   "outputs": [
    {
     "data": {
      "text/plain": [
       "{1, 2, 3, 4, 5, 6, 7, 8, 9, 10}"
      ]
     },
     "execution_count": 147,
     "metadata": {},
     "output_type": "execute_result"
    }
   ],
   "source": [
    "A | B | C"
   ]
  },
  {
   "cell_type": "code",
   "execution_count": 149,
   "id": "e88a8e12-f486-41c9-aa7d-6e74d9c8447d",
   "metadata": {},
   "outputs": [],
   "source": [
    "#Copy()\n",
    "D = C.copy()"
   ]
  },
  {
   "cell_type": "code",
   "execution_count": 151,
   "id": "34a82cf7-3163-4293-9cd5-a16798352943",
   "metadata": {},
   "outputs": [
    {
     "data": {
      "text/plain": [
       "{8, 9, 10}"
      ]
     },
     "execution_count": 151,
     "metadata": {},
     "output_type": "execute_result"
    }
   ],
   "source": [
    "D"
   ]
  },
  {
   "cell_type": "code",
   "execution_count": 153,
   "id": "cda01a07-c553-4700-92a0-9a24eeb406cc",
   "metadata": {},
   "outputs": [
    {
     "data": {
      "text/plain": [
       "True"
      ]
     },
     "execution_count": 153,
     "metadata": {},
     "output_type": "execute_result"
    }
   ],
   "source": [
    " C == D"
   ]
  },
  {
   "cell_type": "code",
   "execution_count": 155,
   "id": "0c36bc6a-e260-4d4a-b4f2-8c5e1402c1e5",
   "metadata": {},
   "outputs": [],
   "source": [
    "#update\n",
    "C.update(B)"
   ]
  },
  {
   "cell_type": "code",
   "execution_count": 157,
   "id": "9355c37c-f71c-40b0-ac08-c88f8bcf0792",
   "metadata": {},
   "outputs": [
    {
     "data": {
      "text/plain": [
       "{4, 5, 6, 7, 8, 9, 10}"
      ]
     },
     "execution_count": 157,
     "metadata": {},
     "output_type": "execute_result"
    }
   ],
   "source": [
    "C"
   ]
  },
  {
   "cell_type": "code",
   "execution_count": 159,
   "id": "f6500743-b8a7-453a-9c0d-1edfcd6a0df7",
   "metadata": {},
   "outputs": [
    {
     "name": "stdout",
     "output_type": "stream",
     "text": [
      "{1, 2, 3, 4, 5}\n",
      "{4, 5, 6, 7, 8}\n",
      "{4, 5, 6, 7, 8, 9, 10}\n",
      "{8, 9, 10}\n"
     ]
    }
   ],
   "source": [
    "print(A)\n",
    "print(B)\n",
    "print(C)\n",
    "print(D)"
   ]
  },
  {
   "cell_type": "code",
   "execution_count": 161,
   "id": "77295c46-1509-48ad-9ff0-7765e37c2391",
   "metadata": {},
   "outputs": [
    {
     "data": {
      "text/plain": [
       "{4, 5}"
      ]
     },
     "execution_count": 161,
     "metadata": {},
     "output_type": "execute_result"
    }
   ],
   "source": [
    "# Intersection\n",
    "A & B"
   ]
  },
  {
   "cell_type": "code",
   "execution_count": 163,
   "id": "2a3cdf66-8654-4811-842c-58f0177f6951",
   "metadata": {},
   "outputs": [
    {
     "data": {
      "text/plain": [
       "{4, 5}"
      ]
     },
     "execution_count": 163,
     "metadata": {},
     "output_type": "execute_result"
    }
   ],
   "source": [
    "A & B & C"
   ]
  },
  {
   "cell_type": "code",
   "execution_count": 165,
   "id": "76c7cc92-f48a-4f95-9979-7ada51bdbaf7",
   "metadata": {},
   "outputs": [
    {
     "data": {
      "text/plain": [
       "{4, 5}"
      ]
     },
     "execution_count": 165,
     "metadata": {},
     "output_type": "execute_result"
    }
   ],
   "source": [
    "A & (B | C)"
   ]
  },
  {
   "cell_type": "code",
   "execution_count": 167,
   "id": "9c5e5c7b-a448-4be7-a904-6b1cd16eee7f",
   "metadata": {},
   "outputs": [
    {
     "data": {
      "text/plain": [
       "{1, 2, 3}"
      ]
     },
     "execution_count": 167,
     "metadata": {},
     "output_type": "execute_result"
    }
   ],
   "source": [
    "# Difference\n",
    "A - C"
   ]
  },
  {
   "cell_type": "code",
   "execution_count": 169,
   "id": "49e570a9-15dc-47dd-a993-dabd51563c17",
   "metadata": {},
   "outputs": [
    {
     "data": {
      "text/plain": [
       "{1, 2, 3}"
      ]
     },
     "execution_count": 169,
     "metadata": {},
     "output_type": "execute_result"
    }
   ],
   "source": [
    "A - (B | C)"
   ]
  },
  {
   "cell_type": "code",
   "execution_count": 171,
   "id": "db459252-5f2d-4669-92a3-97ffb6b2337a",
   "metadata": {},
   "outputs": [
    {
     "data": {
      "text/plain": [
       "{1, 2, 3}"
      ]
     },
     "execution_count": 171,
     "metadata": {},
     "output_type": "execute_result"
    }
   ],
   "source": [
    "A - B - C"
   ]
  },
  {
   "cell_type": "code",
   "execution_count": 176,
   "id": "4ff2f584-139a-442e-8be0-81958c497b47",
   "metadata": {},
   "outputs": [
    {
     "data": {
      "text/plain": [
       "{6, 7, 8, 9, 10}"
      ]
     },
     "execution_count": 176,
     "metadata": {},
     "output_type": "execute_result"
    }
   ],
   "source": [
    "C - A"
   ]
  },
  {
   "cell_type": "code",
   "execution_count": null,
   "id": "00361ed1-b412-4c31-bf87-d7e876f5af0e",
   "metadata": {},
   "outputs": [],
   "source": [
    "# 25th"
   ]
  },
  {
   "cell_type": "code",
   "execution_count": 178,
   "id": "c2a09878-005c-4821-b504-4b0a82328cf3",
   "metadata": {},
   "outputs": [
    {
     "name": "stdout",
     "output_type": "stream",
     "text": [
      "{1, 2, 3, 4, 5}\n",
      "{4, 5, 6, 7, 8}\n"
     ]
    },
    {
     "ename": "NameError",
     "evalue": "name 'c' is not defined",
     "output_type": "error",
     "traceback": [
      "\u001b[1;31m---------------------------------------------------------------------------\u001b[0m",
      "\u001b[1;31mNameError\u001b[0m                                 Traceback (most recent call last)",
      "Cell \u001b[1;32mIn[178], line 3\u001b[0m\n\u001b[0;32m      1\u001b[0m \u001b[38;5;28mprint\u001b[39m(A)\n\u001b[0;32m      2\u001b[0m \u001b[38;5;28mprint\u001b[39m(B)\n\u001b[1;32m----> 3\u001b[0m \u001b[38;5;28mprint\u001b[39m(c)\n",
      "\u001b[1;31mNameError\u001b[0m: name 'c' is not defined"
     ]
    }
   ],
   "source": [
    "print(A)\n",
    "print(B)\n",
    "print(c)"
   ]
  },
  {
   "cell_type": "code",
   "execution_count": null,
   "id": "0bcf91f8-fad8-405e-a3c0-5ef64f27b331",
   "metadata": {},
   "outputs": [],
   "source": []
  }
 ],
 "metadata": {
  "kernelspec": {
   "display_name": "Python 3 (ipykernel)",
   "language": "python",
   "name": "python3"
  },
  "language_info": {
   "codemirror_mode": {
    "name": "ipython",
    "version": 3
   },
   "file_extension": ".py",
   "mimetype": "text/x-python",
   "name": "python",
   "nbconvert_exporter": "python",
   "pygments_lexer": "ipython3",
   "version": "3.12.7"
  }
 },
 "nbformat": 4,
 "nbformat_minor": 5
}
