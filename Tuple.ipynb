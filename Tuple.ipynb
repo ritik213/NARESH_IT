{
 "cells": [
  {
   "cell_type": "markdown",
   "id": "aecbc5a8-6b0e-4fe5-8b5b-b4df738ab75d",
   "metadata": {},
   "source": [
    "# Tuple "
   ]
  },
  {
   "cell_type": "code",
   "execution_count": 130,
   "id": "43ee8d3e-18d5-4b27-afc9-dbc5165ff013",
   "metadata": {},
   "outputs": [
    {
     "data": {
      "text/plain": [
       "()"
      ]
     },
     "execution_count": 130,
     "metadata": {},
     "output_type": "execute_result"
    }
   ],
   "source": [
    "tuple = ()  #Empty tuple\n",
    "tuple"
   ]
  },
  {
   "cell_type": "code",
   "execution_count": 132,
   "id": "8a602712-e6f8-4085-9b62-6a7a6be3434b",
   "metadata": {},
   "outputs": [
    {
     "data": {
      "text/plain": [
       "tuple"
      ]
     },
     "execution_count": 132,
     "metadata": {},
     "output_type": "execute_result"
    }
   ],
   "source": [
    "type(tuple)"
   ]
  },
  {
   "cell_type": "code",
   "execution_count": 134,
   "id": "fd6296d1-2099-4359-a230-b4df65a8a782",
   "metadata": {},
   "outputs": [],
   "source": [
    "tup = (10,20,30)    #Tuple of the integer value"
   ]
  },
  {
   "cell_type": "code",
   "execution_count": 136,
   "id": "8a68145f-ec74-4bd8-a391-98384741a454",
   "metadata": {},
   "outputs": [
    {
     "data": {
      "text/plain": [
       "(10, 20, 30)"
      ]
     },
     "execution_count": 136,
     "metadata": {},
     "output_type": "execute_result"
    }
   ],
   "source": [
    "tup"
   ]
  },
  {
   "cell_type": "code",
   "execution_count": 138,
   "id": "3482df91-d9f5-497a-8024-5c45c7a2d719",
   "metadata": {},
   "outputs": [],
   "source": [
    "tup1 = (10.77,30.33,3.14)  #tuple of the float "
   ]
  },
  {
   "cell_type": "code",
   "execution_count": 140,
   "id": "03ff1d37-1859-4d7a-903b-b4db169e3afb",
   "metadata": {},
   "outputs": [
    {
     "data": {
      "text/plain": [
       "(10.77, 30.33, 3.14)"
      ]
     },
     "execution_count": 140,
     "metadata": {},
     "output_type": "execute_result"
    }
   ],
   "source": [
    "tup1"
   ]
  },
  {
   "cell_type": "code",
   "execution_count": 142,
   "id": "3c4634de-0a6f-400f-aa0e-434411b57f58",
   "metadata": {},
   "outputs": [
    {
     "data": {
      "text/plain": [
       "('one', 'Two', ' three')"
      ]
     },
     "execution_count": 142,
     "metadata": {},
     "output_type": "execute_result"
    }
   ],
   "source": [
    "tup2 = ('one', 'Two', ' three')  # tuple of string\n",
    "tup2"
   ]
  },
  {
   "cell_type": "code",
   "execution_count": 146,
   "id": "d830778d-5f33-4288-859e-e610ba116134",
   "metadata": {},
   "outputs": [
    {
     "data": {
      "text/plain": [
       "('one', 45, (100, 50), (50, 100))"
      ]
     },
     "execution_count": 146,
     "metadata": {},
     "output_type": "execute_result"
    }
   ],
   "source": [
    "tup3 = ('one',45,(100,50),(50, 100))   #Nested Tuple\n",
    "tup3"
   ]
  },
  {
   "cell_type": "code",
   "execution_count": 18,
   "id": "45f570f3-d4b8-423f-a66e-5392c47ea326",
   "metadata": {},
   "outputs": [
    {
     "data": {
      "text/plain": [
       "(100, 3.14, 'one', (2+6j), False)"
      ]
     },
     "execution_count": 18,
     "metadata": {},
     "output_type": "execute_result"
    }
   ],
   "source": [
    "tup4 = (100 , 3.14,'one',2+6J,False)\n",
    "tup4"
   ]
  },
  {
   "cell_type": "code",
   "execution_count": 20,
   "id": "b9f00357-945f-4219-8c70-c88c7f3a7477",
   "metadata": {},
   "outputs": [],
   "source": [
    "tup5 = ('Asif', 25,[50,100],[150,90],{'John','David'},(99,22,33))"
   ]
  },
  {
   "cell_type": "code",
   "execution_count": 22,
   "id": "78310531-a4a0-41fc-91d7-2136e98f3b3d",
   "metadata": {},
   "outputs": [
    {
     "data": {
      "text/plain": [
       "('Asif', 25, [50, 100], [150, 90], {'David', 'John'}, (99, 22, 33))"
      ]
     },
     "execution_count": 22,
     "metadata": {},
     "output_type": "execute_result"
    }
   ],
   "source": [
    "tup5"
   ]
  },
  {
   "cell_type": "code",
   "execution_count": 30,
   "id": "e6ebf0ab-67fe-4e1f-a112-d9656d1916ce",
   "metadata": {},
   "outputs": [
    {
     "data": {
      "text/plain": [
       "6"
      ]
     },
     "execution_count": 30,
     "metadata": {},
     "output_type": "execute_result"
    }
   ],
   "source": [
    "len(tup5)"
   ]
  },
  {
   "cell_type": "markdown",
   "id": "4a61af05-2468-413a-9a21-e46fe69a8f69",
   "metadata": {},
   "source": [
    "# tuple Indexing"
   ]
  },
  {
   "cell_type": "code",
   "execution_count": 33,
   "id": "6704d353-7f2c-4d24-a0da-e118f3ade7a9",
   "metadata": {},
   "outputs": [
    {
     "data": {
      "text/plain": [
       "10"
      ]
     },
     "execution_count": 33,
     "metadata": {},
     "output_type": "execute_result"
    }
   ],
   "source": [
    "tup[0]"
   ]
  },
  {
   "cell_type": "code",
   "execution_count": 35,
   "id": "250b3ffd-555c-4073-9fda-61555eed68c0",
   "metadata": {},
   "outputs": [
    {
     "data": {
      "text/plain": [
       "'one'"
      ]
     },
     "execution_count": 35,
     "metadata": {},
     "output_type": "execute_result"
    }
   ],
   "source": [
    "tup2[0]"
   ]
  },
  {
   "cell_type": "code",
   "execution_count": 37,
   "id": "16452918-23de-4d3d-9847-80ee0ae62386",
   "metadata": {},
   "outputs": [
    {
     "data": {
      "text/plain": [
       "'o'"
      ]
     },
     "execution_count": 37,
     "metadata": {},
     "output_type": "execute_result"
    }
   ],
   "source": [
    "tup2[0][0]"
   ]
  },
  {
   "cell_type": "code",
   "execution_count": 39,
   "id": "59c72495-4a4f-49bc-b036-c2075b1f6f72",
   "metadata": {},
   "outputs": [
    {
     "data": {
      "text/plain": [
       "' three'"
      ]
     },
     "execution_count": 39,
     "metadata": {},
     "output_type": "execute_result"
    }
   ],
   "source": [
    "tup2[-1]"
   ]
  },
  {
   "cell_type": "code",
   "execution_count": 41,
   "id": "f8c7c53d-d780-464c-a199-17663c0f8f52",
   "metadata": {},
   "outputs": [
    {
     "data": {
      "text/plain": [
       "(99, 22, 33)"
      ]
     },
     "execution_count": 41,
     "metadata": {},
     "output_type": "execute_result"
    }
   ],
   "source": [
    "tup5[-1]"
   ]
  },
  {
   "cell_type": "code",
   "execution_count": 43,
   "id": "c64687e1-c1c6-451f-adf7-f59051e69b29",
   "metadata": {},
   "outputs": [
    {
     "data": {
      "text/plain": [
       "tuple"
      ]
     },
     "execution_count": 43,
     "metadata": {},
     "output_type": "execute_result"
    }
   ],
   "source": [
    "type(tup5)"
   ]
  },
  {
   "cell_type": "code",
   "execution_count": 45,
   "id": "e6495545-bf80-4eed-b3f3-46c60a148363",
   "metadata": {},
   "outputs": [
    {
     "data": {
      "text/plain": [
       "(50, 100)"
      ]
     },
     "execution_count": 45,
     "metadata": {},
     "output_type": "execute_result"
    }
   ],
   "source": [
    "tup3[-1]"
   ]
  },
  {
   "cell_type": "markdown",
   "id": "9e76b76e-6e84-43dc-8092-f96ea0f7efb8",
   "metadata": {},
   "source": [
    "# Tuple slicing"
   ]
  },
  {
   "cell_type": "code",
   "execution_count": 48,
   "id": "2580ad08-9d4b-47ad-b69d-db195bdaa9c2",
   "metadata": {},
   "outputs": [
    {
     "data": {
      "text/plain": [
       "('one', 'two', 'three', 'four', 'five0', 'six', 'seven', 'eight')"
      ]
     },
     "execution_count": 48,
     "metadata": {},
     "output_type": "execute_result"
    }
   ],
   "source": [
    "mytup = ('one','two','three','four','five0','six','seven','eight')\n",
    "mytup"
   ]
  },
  {
   "cell_type": "code",
   "execution_count": 50,
   "id": "6f6afbc3-a1d4-4beb-8cbb-10d96e2d92ec",
   "metadata": {},
   "outputs": [
    {
     "data": {
      "text/plain": [
       "tuple"
      ]
     },
     "execution_count": 50,
     "metadata": {},
     "output_type": "execute_result"
    }
   ],
   "source": [
    "type(mytup)"
   ]
  },
  {
   "cell_type": "code",
   "execution_count": 52,
   "id": "6101d63f-5543-4cbc-8c7a-b99a71b74d02",
   "metadata": {},
   "outputs": [
    {
     "data": {
      "text/plain": [
       "8"
      ]
     },
     "execution_count": 52,
     "metadata": {},
     "output_type": "execute_result"
    }
   ],
   "source": [
    "len(mytup)"
   ]
  },
  {
   "cell_type": "code",
   "execution_count": 54,
   "id": "bd07dfe1-0e43-472d-bced-51900d67d648",
   "metadata": {},
   "outputs": [
    {
     "data": {
      "text/plain": [
       "('one', 'two', 'three')"
      ]
     },
     "execution_count": 54,
     "metadata": {},
     "output_type": "execute_result"
    }
   ],
   "source": [
    "mytup[0:3]"
   ]
  },
  {
   "cell_type": "code",
   "execution_count": 56,
   "id": "501d32c1-9069-433f-9cd3-e83fc76246d6",
   "metadata": {},
   "outputs": [
    {
     "data": {
      "text/plain": [
       "('three', 'four', 'five0')"
      ]
     },
     "execution_count": 56,
     "metadata": {},
     "output_type": "execute_result"
    }
   ],
   "source": [
    "mytup[2:5]"
   ]
  },
  {
   "cell_type": "code",
   "execution_count": 58,
   "id": "f1f60f2c-8094-4013-b04f-0927db00c890",
   "metadata": {},
   "outputs": [
    {
     "data": {
      "text/plain": [
       "('one', 'two', 'three')"
      ]
     },
     "execution_count": 58,
     "metadata": {},
     "output_type": "execute_result"
    }
   ],
   "source": [
    "mytup[:3]"
   ]
  },
  {
   "cell_type": "code",
   "execution_count": 60,
   "id": "1fd95974-6214-405c-8bf3-6a619380350f",
   "metadata": {},
   "outputs": [
    {
     "data": {
      "text/plain": [
       "('one', 'two')"
      ]
     },
     "execution_count": 60,
     "metadata": {},
     "output_type": "execute_result"
    }
   ],
   "source": [
    "mytup[:2]"
   ]
  },
  {
   "cell_type": "code",
   "execution_count": 62,
   "id": "396a82db-86c7-4e0a-b7c0-42bcc7f3924f",
   "metadata": {},
   "outputs": [
    {
     "data": {
      "text/plain": [
       "('six', 'seven', 'eight')"
      ]
     },
     "execution_count": 62,
     "metadata": {},
     "output_type": "execute_result"
    }
   ],
   "source": [
    "mytup[-3:]"
   ]
  },
  {
   "cell_type": "code",
   "execution_count": 66,
   "id": "cd0cbd52-132f-4093-b7c9-8516fdd6e01f",
   "metadata": {},
   "outputs": [
    {
     "data": {
      "text/plain": [
       "('seven', 'eight')"
      ]
     },
     "execution_count": 66,
     "metadata": {},
     "output_type": "execute_result"
    }
   ],
   "source": [
    "mytup[-2:]"
   ]
  },
  {
   "cell_type": "code",
   "execution_count": 68,
   "id": "c09143f6-5772-4e65-a2e1-dc0ed07a0568",
   "metadata": {},
   "outputs": [
    {
     "data": {
      "text/plain": [
       "'eight'"
      ]
     },
     "execution_count": 68,
     "metadata": {},
     "output_type": "execute_result"
    }
   ],
   "source": [
    "mytup[-1]"
   ]
  },
  {
   "cell_type": "code",
   "execution_count": 70,
   "id": "65fccecb-5235-4760-acb1-253f2eeb681c",
   "metadata": {},
   "outputs": [
    {
     "data": {
      "text/plain": [
       "('one', 'two', 'three', 'four', 'five0', 'six', 'seven', 'eight')"
      ]
     },
     "execution_count": 70,
     "metadata": {},
     "output_type": "execute_result"
    }
   ],
   "source": [
    "mytup[:]"
   ]
  },
  {
   "cell_type": "markdown",
   "id": "1d65371f-c7ba-4f5c-903b-449d214a8583",
   "metadata": {},
   "source": [
    "# Remove and chnage items"
   ]
  },
  {
   "cell_type": "code",
   "execution_count": 73,
   "id": "4da4f945-7493-458c-9ea4-d0f461087b94",
   "metadata": {},
   "outputs": [
    {
     "data": {
      "text/plain": [
       "('one', 'two', 'three', 'four', 'five0', 'six', 'seven', 'eight')"
      ]
     },
     "execution_count": 73,
     "metadata": {},
     "output_type": "execute_result"
    }
   ],
   "source": [
    "mytup"
   ]
  },
  {
   "cell_type": "code",
   "execution_count": 75,
   "id": "6d77e8ea-7e89-4e07-b121-c47d7f15cf73",
   "metadata": {},
   "outputs": [
    {
     "ename": "TypeError",
     "evalue": "'tuple' object doesn't support item deletion",
     "output_type": "error",
     "traceback": [
      "\u001b[1;31m---------------------------------------------------------------------------\u001b[0m",
      "\u001b[1;31mTypeError\u001b[0m                                 Traceback (most recent call last)",
      "Cell \u001b[1;32mIn[75], line 1\u001b[0m\n\u001b[1;32m----> 1\u001b[0m \u001b[38;5;28;01mdel\u001b[39;00m mytup[\u001b[38;5;241m0\u001b[39m]\n",
      "\u001b[1;31mTypeError\u001b[0m: 'tuple' object doesn't support item deletion"
     ]
    }
   ],
   "source": [
    "del mytup[0]"
   ]
  },
  {
   "cell_type": "code",
   "execution_count": 77,
   "id": "04e7c491-f0b2-457b-bb37-eb4bab0fe637",
   "metadata": {},
   "outputs": [
    {
     "ename": "TypeError",
     "evalue": "'tuple' object does not support item assignment",
     "output_type": "error",
     "traceback": [
      "\u001b[1;31m---------------------------------------------------------------------------\u001b[0m",
      "\u001b[1;31mTypeError\u001b[0m                                 Traceback (most recent call last)",
      "Cell \u001b[1;32mIn[77], line 1\u001b[0m\n\u001b[1;32m----> 1\u001b[0m mytup[\u001b[38;5;241m0\u001b[39m] \u001b[38;5;241m=\u001b[39m \u001b[38;5;241m1\u001b[39m\n",
      "\u001b[1;31mTypeError\u001b[0m: 'tuple' object does not support item assignment"
     ]
    }
   ],
   "source": [
    "mytup[0] = 1 #tuple are immutable means it's can't change the items onces it's created"
   ]
  },
  {
   "cell_type": "code",
   "execution_count": 79,
   "id": "841e3e6b-7692-4715-8c66-aaf02dea3bad",
   "metadata": {},
   "outputs": [],
   "source": [
    "del mytup"
   ]
  },
  {
   "cell_type": "code",
   "execution_count": 81,
   "id": "0879fa33-4587-42ce-8d5d-4b2323b03cd9",
   "metadata": {},
   "outputs": [
    {
     "ename": "NameError",
     "evalue": "name 'mytup' is not defined",
     "output_type": "error",
     "traceback": [
      "\u001b[1;31m---------------------------------------------------------------------------\u001b[0m",
      "\u001b[1;31mNameError\u001b[0m                                 Traceback (most recent call last)",
      "Cell \u001b[1;32mIn[81], line 1\u001b[0m\n\u001b[1;32m----> 1\u001b[0m mytup\n",
      "\u001b[1;31mNameError\u001b[0m: name 'mytup' is not defined"
     ]
    }
   ],
   "source": [
    "mytup"
   ]
  },
  {
   "cell_type": "markdown",
   "id": "a131ac5b-0955-4fe2-a0c6-3c9ea379e91d",
   "metadata": {},
   "source": [
    "# Loop Through tuple"
   ]
  },
  {
   "cell_type": "code",
   "execution_count": 88,
   "id": "4e4c1b4b-45dd-481a-922c-496cef07dc56",
   "metadata": {},
   "outputs": [],
   "source": [
    "mytuple = ('one','two','three','four','five','six','seven','eight')"
   ]
  },
  {
   "cell_type": "code",
   "execution_count": 90,
   "id": "98ba85f0-730d-43a2-8e92-e373ab0e6d7f",
   "metadata": {},
   "outputs": [
    {
     "name": "stdout",
     "output_type": "stream",
     "text": [
      "one\n",
      "two\n",
      "three\n",
      "four\n",
      "five\n",
      "six\n",
      "seven\n",
      "eight\n"
     ]
    }
   ],
   "source": [
    "for i in mytuple:\n",
    "    print(i)"
   ]
  },
  {
   "cell_type": "code",
   "execution_count": 92,
   "id": "202dd839-17c7-48b6-a869-984d6b658ea2",
   "metadata": {},
   "outputs": [
    {
     "name": "stdout",
     "output_type": "stream",
     "text": [
      "(0, 'one')\n",
      "(1, 'two')\n",
      "(2, 'three')\n",
      "(3, 'four')\n",
      "(4, 'five')\n",
      "(5, 'six')\n",
      "(6, 'seven')\n",
      "(7, 'eight')\n"
     ]
    }
   ],
   "source": [
    "for i in enumerate(mytuple):\n",
    "    print(i)"
   ]
  },
  {
   "cell_type": "markdown",
   "id": "d59314f4-374b-4ef4-9df8-03ab3699feb5",
   "metadata": {},
   "source": [
    "# Tuple Membership"
   ]
  },
  {
   "cell_type": "code",
   "execution_count": 95,
   "id": "f4aa407e-cc18-4e73-848e-06fd6880487e",
   "metadata": {},
   "outputs": [
    {
     "data": {
      "text/plain": [
       "('one', 'two', 'three', 'four', 'five', 'six', 'seven', 'eight')"
      ]
     },
     "execution_count": 95,
     "metadata": {},
     "output_type": "execute_result"
    }
   ],
   "source": [
    "mytuple"
   ]
  },
  {
   "cell_type": "code",
   "execution_count": 97,
   "id": "525f99fa-4972-41b4-bbe6-fcd58c48deb4",
   "metadata": {},
   "outputs": [
    {
     "data": {
      "text/plain": [
       "True"
      ]
     },
     "execution_count": 97,
     "metadata": {},
     "output_type": "execute_result"
    }
   ],
   "source": [
    "'one' in mytuple"
   ]
  },
  {
   "cell_type": "code",
   "execution_count": 99,
   "id": "e7bcd421-9015-48c0-bb2b-bfbc89c1a312",
   "metadata": {},
   "outputs": [
    {
     "data": {
      "text/plain": [
       "False"
      ]
     },
     "execution_count": 99,
     "metadata": {},
     "output_type": "execute_result"
    }
   ],
   "source": [
    "'nine' in mytuple"
   ]
  },
  {
   "cell_type": "code",
   "execution_count": 101,
   "id": "9b9f9b1d-4500-471b-93d2-0124d638ed1b",
   "metadata": {},
   "outputs": [
    {
     "name": "stdout",
     "output_type": "stream",
     "text": [
      "Four is present in the tuple\n"
     ]
    }
   ],
   "source": [
    "if 'four' in mytuple:\n",
    "    print('Four is present in the tuple')\n",
    "else:\n",
    "    print('Four is not present in the tuple')"
   ]
  },
  {
   "cell_type": "code",
   "execution_count": 103,
   "id": "bde0d8f7-1cce-4485-b6f3-6f0dde2008fd",
   "metadata": {},
   "outputs": [
    {
     "name": "stdout",
     "output_type": "stream",
     "text": [
      "nine is not present in tuple\n"
     ]
    }
   ],
   "source": [
    "if 'ten' in mytuple:\n",
    "    print('nine is present in tuple')\n",
    "else:\n",
    "    print('nine is not present in tuple')"
   ]
  },
  {
   "cell_type": "markdown",
   "id": "ce52102c-7fa6-4237-a284-0b5cecf41d8a",
   "metadata": {},
   "source": [
    "# index position"
   ]
  },
  {
   "cell_type": "code",
   "execution_count": 106,
   "id": "f46be01d-f5ef-4b53-aa79-fe521e569bc9",
   "metadata": {},
   "outputs": [
    {
     "data": {
      "text/plain": [
       "('one', 'two', 'three', 'four', 'five', 'six', 'seven', 'eight')"
      ]
     },
     "execution_count": 106,
     "metadata": {},
     "output_type": "execute_result"
    }
   ],
   "source": [
    "mytuple"
   ]
  },
  {
   "cell_type": "code",
   "execution_count": 108,
   "id": "7ba2621a-a552-4c8e-bc0d-5255c819f40b",
   "metadata": {},
   "outputs": [
    {
     "data": {
      "text/plain": [
       "0"
      ]
     },
     "execution_count": 108,
     "metadata": {},
     "output_type": "execute_result"
    }
   ],
   "source": [
    "mytuple.index('one')   # check the index of one is present or not"
   ]
  },
  {
   "cell_type": "code",
   "execution_count": 110,
   "id": "2f6ce830-cb2d-48e8-ab8a-c7395fef55fc",
   "metadata": {},
   "outputs": [
    {
     "data": {
      "text/plain": [
       "4"
      ]
     },
     "execution_count": 110,
     "metadata": {},
     "output_type": "execute_result"
    }
   ],
   "source": [
    "mytuple.index('five')"
   ]
  },
  {
   "cell_type": "code",
   "execution_count": 113,
   "id": "a79f8664-94e1-4356-88b0-f0f96e058b05",
   "metadata": {},
   "outputs": [
    {
     "data": {
      "text/plain": [
       "6"
      ]
     },
     "execution_count": 113,
     "metadata": {},
     "output_type": "execute_result"
    }
   ],
   "source": [
    "mytuple.index('seven')"
   ]
  },
  {
   "cell_type": "markdown",
   "id": "d696b1aa-1415-4c6f-81b9-6939f984c966",
   "metadata": {},
   "source": [
    "# Sorting"
   ]
  },
  {
   "cell_type": "code",
   "execution_count": 116,
   "id": "9b64cadb-c4f3-4f8f-986a-762b4e9b1027",
   "metadata": {},
   "outputs": [
    {
     "data": {
      "text/plain": [
       "(43, 67, 99, 12, 6, 90, 67)"
      ]
     },
     "execution_count": 116,
     "metadata": {},
     "output_type": "execute_result"
    }
   ],
   "source": [
    "mytuple1 = (43,67,99,12,6,90,67)\n",
    "mytuple1"
   ]
  },
  {
   "cell_type": "code",
   "execution_count": 118,
   "id": "0e54de9b-64ec-4d8b-a90b-1fa8bdef4ed9",
   "metadata": {},
   "outputs": [
    {
     "data": {
      "text/plain": [
       "[6, 12, 43, 67, 67, 90, 99]"
      ]
     },
     "execution_count": 118,
     "metadata": {},
     "output_type": "execute_result"
    }
   ],
   "source": [
    "sorted(mytuple1)"
   ]
  },
  {
   "cell_type": "code",
   "execution_count": 124,
   "id": "90f68252-c5cd-43fe-8fdd-48d189ff332c",
   "metadata": {},
   "outputs": [
    {
     "data": {
      "text/plain": [
       "[99, 90, 67, 67, 43, 12, 6]"
      ]
     },
     "execution_count": 124,
     "metadata": {},
     "output_type": "execute_result"
    }
   ],
   "source": [
    "sorted(mytuple1, reverse=True)"
   ]
  },
  {
   "cell_type": "code",
   "execution_count": 148,
   "id": "f16364a3-e098-44cc-b38d-ce814f068cf2",
   "metadata": {},
   "outputs": [
    {
     "data": {
      "text/plain": [
       "2"
      ]
     },
     "execution_count": 148,
     "metadata": {},
     "output_type": "execute_result"
    }
   ],
   "source": [
    "tup1 = ['a', 'z','c','b']\n",
    "tup1.index('c')"
   ]
  },
  {
   "cell_type": "code",
   "execution_count": 150,
   "id": "0a9bfe47-467d-4e2d-9357-5f3ea51de05f",
   "metadata": {},
   "outputs": [
    {
     "data": {
      "text/plain": [
       "1"
      ]
     },
     "execution_count": 150,
     "metadata": {},
     "output_type": "execute_result"
    }
   ],
   "source": [
    "tup4 = [1,2,3,4,5,6]"
   ]
  }
 ],
 "metadata": {
  "kernelspec": {
   "display_name": "Python 3 (ipykernel)",
   "language": "python",
   "name": "python3"
  },
  "language_info": {
   "codemirror_mode": {
    "name": "ipython",
    "version": 3
   },
   "file_extension": ".py",
   "mimetype": "text/x-python",
   "name": "python",
   "nbconvert_exporter": "python",
   "pygments_lexer": "ipython3",
   "version": "3.12.7"
  }
 },
 "nbformat": 4,
 "nbformat_minor": 5
}
