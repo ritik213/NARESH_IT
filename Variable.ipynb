{
 "cells": [
  {
   "cell_type": "markdown",
   "id": "e501fbf5-cd0c-4a87-aa19-3d27342c51e1",
   "metadata": {},
   "source": [
    "### Python Defination"
   ]
  },
  {
   "cell_type": "raw",
   "id": "fc0e1b62-03c8-474b-8ffa-133a824147a4",
   "metadata": {},
   "source": [
    "1.python is the high level , general purpose of the programing language.\n",
    "2.python is come from the complete tv show that is Monty python flying circus.\n",
    "3.Guido vannn rosum is the father of the python.\n",
    "4.IT is atualy developed in the 1989 but it released in the market on 1991.\n",
    "5.python having various language like c, c++, java to form the complete python , so python isalso called as the everything , and it is the very powerfull toool.\n",
    "6.python developed in the netherland so many people called as the new language because , people are not used the python so they were get the new language and now most demand in the market and it is used in gen AI agentis AI , machine learning , data science\n"
   ]
  },
  {
   "cell_type": "raw",
   "id": "f46d48ca-66fb-4b60-be09-5f47a6db4df4",
   "metadata": {},
   "source": [
    "Python virtual machine:---> it is a software based environment which execute the  byte code."
   ]
  },
  {
   "cell_type": "code",
   "execution_count": null,
   "id": "cce70df9-9601-4ae2-a5ca-950ed1f2d63a",
   "metadata": {},
   "outputs": [],
   "source": [
    "byte code:--->Byte code is an intermediate code which execute the virtual machine.."
   ]
  },
  {
   "cell_type": "raw",
   "id": "96b88d4d-fb2e-436d-939b-3ee15ec2bfb5",
   "metadata": {},
   "source": [
    "IDE :--->(Integrated development kit)---Which can write the code, run the code, debug the code."
   ]
  },
  {
   "cell_type": "raw",
   "id": "6d8122df-fb01-4247-a6ee-afc05361b604",
   "metadata": {},
   "source": [
    "Platform Independent:-->If the same code cam rum in window , same code can run in the mac operating system."
   ]
  },
  {
   "cell_type": "markdown",
   "id": "ce69b8c3-b7f8-42ed-b448-7c714344c920",
   "metadata": {},
   "source": [
    "## What is mean by compiler and interpreter"
   ]
  },
  {
   "cell_type": "raw",
   "id": "08c830cf-f276-40a7-b99f-2468600a04b7",
   "metadata": {},
   "source": [
    "compiler :--->If all the code run at once.\n",
    "Interpreter:--->If the code execute line by line."
   ]
  },
  {
   "cell_type": "markdown",
   "id": "f7362da5-8708-437c-926c-2025e4d2b13f",
   "metadata": {},
   "source": [
    "# variable in python"
   ]
  },
  {
   "cell_type": "raw",
   "id": "f17eb571-063c-4a90-bd97-628269e7f31a",
   "metadata": {},
   "source": [
    "1. variable is the name of the memory location which stored the data value.\n",
    "2. variable == identifier == object\n",
    "----------------------------------------------------------------------------------------------------------------------------\n",
    "3. Syntax :- variable = value "
   ]
  },
  {
   "cell_type": "markdown",
   "id": "0727c245-09ea-4486-85c3-b429380a5309",
   "metadata": {},
   "source": [
    "### Variable Rules"
   ]
  },
  {
   "cell_type": "raw",
   "id": "fe521dec-ccdb-4de4-86fd-67bf03fc6296",
   "metadata": {},
   "source": [
    "1. variable does not start with digit but ends with the digit\n",
    "2. Special character is not allowed except underscore\n",
    "3. It is a case sensitive (age,Age)\n",
    "4. Keyword or reserved word never be declare as the variable"
   ]
  },
  {
   "cell_type": "code",
   "execution_count": 1,
   "id": "b41ca5fd-0c72-4a64-bf60-c261b324af99",
   "metadata": {},
   "outputs": [
    {
     "ename": "SyntaxError",
     "evalue": "invalid decimal literal (2508811914.py, line 1)",
     "output_type": "error",
     "traceback": [
      "\u001b[1;36m  Cell \u001b[1;32mIn[1], line 1\u001b[1;36m\u001b[0m\n\u001b[1;33m    1nit = 23\u001b[0m\n\u001b[1;37m    ^\u001b[0m\n\u001b[1;31mSyntaxError\u001b[0m\u001b[1;31m:\u001b[0m invalid decimal literal\n"
     ]
    }
   ],
   "source": [
    "1nit = 23\n",
    "1nit"
   ]
  },
  {
   "cell_type": "code",
   "execution_count": 3,
   "id": "98f8b71f-0ca5-4b11-8ba3-a3a88c7cdc3b",
   "metadata": {},
   "outputs": [
    {
     "ename": "SyntaxError",
     "evalue": "invalid syntax (3659403305.py, line 1)",
     "output_type": "error",
     "traceback": [
      "\u001b[1;36m  Cell \u001b[1;32mIn[3], line 1\u001b[1;36m\u001b[0m\n\u001b[1;33m    va$ = 43\u001b[0m\n\u001b[1;37m      ^\u001b[0m\n\u001b[1;31mSyntaxError\u001b[0m\u001b[1;31m:\u001b[0m invalid syntax\n"
     ]
    }
   ],
   "source": [
    "va$ = 43\n",
    "va$"
   ]
  },
  {
   "cell_type": "code",
   "execution_count": 5,
   "id": "2e85330a-e868-4267-86c6-161f02b88d96",
   "metadata": {},
   "outputs": [
    {
     "data": {
      "text/plain": [
       "53"
      ]
     },
     "execution_count": 5,
     "metadata": {},
     "output_type": "execute_result"
    }
   ],
   "source": [
    "var_ = 53\n",
    "var_"
   ]
  },
  {
   "cell_type": "code",
   "execution_count": 7,
   "id": "0cea9b57-6313-47c2-aa4b-7be2052de9cf",
   "metadata": {},
   "outputs": [
    {
     "ename": "SyntaxError",
     "evalue": "invalid syntax (4288045352.py, line 1)",
     "output_type": "error",
     "traceback": [
      "\u001b[1;36m  Cell \u001b[1;32mIn[7], line 1\u001b[1;36m\u001b[0m\n\u001b[1;33m    if = True\u001b[0m\n\u001b[1;37m       ^\u001b[0m\n\u001b[1;31mSyntaxError\u001b[0m\u001b[1;31m:\u001b[0m invalid syntax\n"
     ]
    }
   ],
   "source": [
    "if = True\n",
    "if"
   ]
  },
  {
   "cell_type": "code",
   "execution_count": 9,
   "id": "a3f1bb35-fcae-4479-9451-b5dc673da8c3",
   "metadata": {},
   "outputs": [
    {
     "data": {
      "text/plain": [
       "'False'"
      ]
     },
     "execution_count": 9,
     "metadata": {},
     "output_type": "execute_result"
    }
   ],
   "source": [
    "IF ='False'\n",
    "IF"
   ]
  },
  {
   "cell_type": "code",
   "execution_count": 11,
   "id": "31f276b9-a95a-44e7-8676-69fd6dc8fe0c",
   "metadata": {},
   "outputs": [
    {
     "data": {
      "text/plain": [
       "True"
      ]
     },
     "execution_count": 11,
     "metadata": {},
     "output_type": "execute_result"
    }
   ],
   "source": [
    "IF = True\n",
    "IF"
   ]
  },
  {
   "cell_type": "code",
   "execution_count": 17,
   "id": "8742ea3c-0a15-4e06-9ce1-4d5b8336c16d",
   "metadata": {},
   "outputs": [
    {
     "name": "stdout",
     "output_type": "stream",
     "text": [
      "57\n",
      "-11\n",
      "782\n",
      "0.6764705882352942\n",
      "0\n",
      "23\n",
      "19895113660064588580108197261066338165074766609\n"
     ]
    }
   ],
   "source": [
    "a = 23\n",
    "b = 34\n",
    "\n",
    "print(a+b)\n",
    "print(a-b)\n",
    "print(a*b)\n",
    "print(a/b)\n",
    "print(a//b)\n",
    "print(a%b)\n",
    "print(a**b)"
   ]
  },
  {
   "cell_type": "code",
   "execution_count": 21,
   "id": "65235940-b762-4ab4-a604-1e20a6119caa",
   "metadata": {},
   "outputs": [
    {
     "name": "stdout",
     "output_type": "stream",
     "text": [
      "3 4\n"
     ]
    }
   ],
   "source": [
    "x = 3\n",
    "y = 4\n",
    "print(x,y)"
   ]
  },
  {
   "cell_type": "code",
   "execution_count": 23,
   "id": "e0882521-5430-468a-99f4-53ab6ef1bf19",
   "metadata": {},
   "outputs": [
    {
     "name": "stdout",
     "output_type": "stream",
     "text": [
      "7\n"
     ]
    }
   ],
   "source": [
    "print(x+y)"
   ]
  },
  {
   "cell_type": "code",
   "execution_count": 39,
   "id": "15544bb8-5860-41f7-8d54-0be53eb7fc63",
   "metadata": {},
   "outputs": [
    {
     "name": "stdout",
     "output_type": "stream",
     "text": [
      "<class 'int'>\n",
      "3\n",
      "<class 'float'>\n",
      "3.14\n",
      "<class 'str'>\n",
      "True\n",
      "<class 'bool'>\n",
      "False\n",
      "<class 'complex'>\n",
      "(3+2j)\n"
     ]
    }
   ],
   "source": [
    "a = 3\n",
    "print(type(a))\n",
    "print(a)\n",
    "\n",
    "b = 3.14\n",
    "print(type(b))\n",
    "print(b)\n",
    "\n",
    "c = 'True'\n",
    "print(type(c))\n",
    "print(c)\n",
    "\n",
    "d = False\n",
    "print(type(d))\n",
    "print(d)\n",
    "\n",
    "e= a +2j\n",
    "print(type(e))\n",
    "print(e)"
   ]
  },
  {
   "cell_type": "code",
   "execution_count": 41,
   "id": "f25365fa-0b75-4115-ab62-3a3d0cd1b1ad",
   "metadata": {},
   "outputs": [
    {
     "data": {
      "text/plain": [
       "['False',\n",
       " 'None',\n",
       " 'True',\n",
       " 'and',\n",
       " 'as',\n",
       " 'assert',\n",
       " 'async',\n",
       " 'await',\n",
       " 'break',\n",
       " 'class',\n",
       " 'continue',\n",
       " 'def',\n",
       " 'del',\n",
       " 'elif',\n",
       " 'else',\n",
       " 'except',\n",
       " 'finally',\n",
       " 'for',\n",
       " 'from',\n",
       " 'global',\n",
       " 'if',\n",
       " 'import',\n",
       " 'in',\n",
       " 'is',\n",
       " 'lambda',\n",
       " 'nonlocal',\n",
       " 'not',\n",
       " 'or',\n",
       " 'pass',\n",
       " 'raise',\n",
       " 'return',\n",
       " 'try',\n",
       " 'while',\n",
       " 'with',\n",
       " 'yield']"
      ]
     },
     "execution_count": 41,
     "metadata": {},
     "output_type": "execute_result"
    }
   ],
   "source": [
    "import keyword\n",
    "keyword.kwlist"
   ]
  },
  {
   "cell_type": "markdown",
   "id": "8a35906f-8e4c-48cc-a59c-bcf32dc5374e",
   "metadata": {},
   "source": [
    "# Storing and printing the value"
   ]
  },
  {
   "cell_type": "code",
   "execution_count": 44,
   "id": "d4dde8a4-9451-4fce-b3ae-cd5d7fb91410",
   "metadata": {},
   "outputs": [
    {
     "data": {
      "text/plain": [
       "48"
      ]
     },
     "execution_count": 44,
     "metadata": {},
     "output_type": "execute_result"
    }
   ],
   "source": [
    "# here we stored value 48 in a  print  varible in a\n",
    "a = 48 \n",
    "a"
   ]
  },
  {
   "cell_type": "code",
   "execution_count": 1,
   "id": "6d2c5495-236b-417c-b76f-0a21281ae9d8",
   "metadata": {},
   "outputs": [
    {
     "data": {
      "text/plain": [
       "11"
      ]
     },
     "execution_count": 1,
     "metadata": {},
     "output_type": "execute_result"
    }
   ],
   "source": [
    "a = 4\n",
    "b = 7\n",
    "c = a + b\n",
    "c"
   ]
  },
  {
   "cell_type": "code",
   "execution_count": 3,
   "id": "e4bdeab5-fb8f-45e6-958a-f93c93a22807",
   "metadata": {},
   "outputs": [
    {
     "data": {
      "text/plain": [
       "'True False'"
      ]
     },
     "execution_count": 3,
     "metadata": {},
     "output_type": "execute_result"
    }
   ],
   "source": [
    "fisrt = 'True'\n",
    "second = 'False'\n",
    "third = 'True'+ ' ' +'False'\n",
    "third"
   ]
  },
  {
   "cell_type": "markdown",
   "id": "b9cdbaf5-8477-4df0-b213-1a1956811261",
   "metadata": {},
   "source": [
    "## Variable in python printing the value stored in the variable"
   ]
  },
  {
   "cell_type": "code",
   "execution_count": 18,
   "id": "85bba015-26ed-4edf-a79b-7f2564b2d9f4",
   "metadata": {},
   "outputs": [
    {
     "name": "stdout",
     "output_type": "stream",
     "text": [
      "<class 'str'>\n",
      "First_name :  Shradha\n",
      "<class 'str'>\n",
      "Last_name:  Kapur\n",
      "<class 'str'>\n",
      "City: Hydrabad\n",
      "<class 'str'>\n",
      "Country : Telangana\n",
      "Skill: ('HTML', 'CSS', 'Javascript', 'Pyhton', 'Java', 'Datascience')\n",
      "Married: False\n",
      "Advanced_Knowledge: ['SQL', 'PHP', 'Flask', 'Django', 'Springboot']\n",
      "Personal_Data {'name': 'rani', 'Last_name': 'Deshmukh', 'age': 1995, 'City': 'United state', 'Country': 'North America'}\n"
     ]
    }
   ],
   "source": [
    "first_name = 'Shradha'\n",
    "Last_name = 'Kapur'\n",
    "city = 'Hydrabad'\n",
    "country = 'Telangana'\n",
    "Skill = ('HTML','CSS','Javascript','Pyhton','Java','Datascience')\n",
    "is_Married = 'False'\n",
    "advanced_skill = ['SQL','PHP','Flask','Django','Springboot']\n",
    "Personal_info = {\n",
    "    'name' : 'rani',\n",
    "    'Last_name':'Deshmukh',\n",
    "    'age' : 1995,\n",
    "    'City' : 'United state',\n",
    "    'Country':'North America'\n",
    "}\n",
    "\n",
    "\n",
    "print(type(first_name))\n",
    "print('First_name : ', first_name)\n",
    "print(type(Last_name))\n",
    "print('Last_name: ',Last_name)\n",
    "print(type(city))\n",
    "print('City:', city)\n",
    "print(type(country))\n",
    "print('Country :',country)\n",
    "print('Skill:',Skill)\n",
    "print('Married:',is_Married)\n",
    "print('Advanced_Knowledge:',advanced_skill)\n",
    "print('Personal_Data',Personal_info)"
   ]
  },
  {
   "cell_type": "markdown",
   "id": "98c1bdef-d9ca-49ea-8b03-612bed613978",
   "metadata": {},
   "source": [
    "## Declaring Multiple variable in one line"
   ]
  },
  {
   "cell_type": "code",
   "execution_count": 31,
   "id": "f7bce97e-38d7-484d-ab16-b4eeb5f03ad4",
   "metadata": {},
   "outputs": [
    {
     "name": "stdout",
     "output_type": "stream",
     "text": [
      "First_name : Ram\n",
      "Last_name : swami\n",
      "City : nanded\n",
      "Country: Maharashtra\n",
      "Skill : ['php', 'sql', 'javascript', 'scripting']\n",
      "<class 'list'>\n",
      "advanced : ('Flask', 'Django', 'springboot')\n"
     ]
    }
   ],
   "source": [
    "first_name,last_name,city, country,skill,advanced_skill = 'Ram','swami','nanded','Maharashtra',['php','sql','javascript','scripting'],('Flask','Django','springboot')\n",
    "print('First_name :',first_name) \n",
    "print('Last_name :',last_name)\n",
    "print('City :',city)\n",
    "print('Country:',country)\n",
    "print('Skill :',skill)\n",
    "print(type(skill))\n",
    "print('advanced :',advanced_skill)"
   ]
  },
  {
   "cell_type": "markdown",
   "id": "43e0dee4-ecff-41b1-8ab0-c76f426dc7e6",
   "metadata": {},
   "source": [
    "# Basic Code"
   ]
  },
  {
   "cell_type": "code",
   "execution_count": 36,
   "id": "bec822f8-8903-4b15-b3ce-64c153d5f40b",
   "metadata": {},
   "outputs": [
    {
     "name": "stdout",
     "output_type": "stream",
     "text": [
      "9\n",
      "1\n",
      "20\n",
      "1.25\n",
      "1\n",
      "1\n",
      "625\n"
     ]
    }
   ],
   "source": [
    "print(5+4)\n",
    "print(5-4)\n",
    "print(5*4)\n",
    "print(5/4)\n",
    "print(5//4)\n",
    "print(5%4)\n",
    "print(5**4)"
   ]
  },
  {
   "cell_type": "code",
   "execution_count": 60,
   "id": "6b66857b-ace2-4ba7-bbdd-a93d411ba52e",
   "metadata": {},
   "outputs": [
    {
     "name": "stdout",
     "output_type": "stream",
     "text": [
      "<class 'int'>\n",
      "<class 'float'>\n",
      "<class 'complex'>\n",
      "<class 'bool'>\n",
      "<class 'bool'>\n",
      "<class 'bool'>\n",
      "<class 'str'>\n",
      "<class 'list'>\n",
      "<class 'tuple'>\n",
      "<class 'set'>\n",
      "<class 'dict'>\n"
     ]
    }
   ],
   "source": [
    "print(type(7))\n",
    "print(type(3.14))\n",
    "print(type(2+3J))\n",
    "print(type(True))\n",
    "print(type(3 == 3))\n",
    "print(type(7>=7))\n",
    "print(type('Shree swami samarth'))\n",
    "print(type([1,'str',True,3.14]))\n",
    "print(type((23,24,25,26)))\n",
    "print(type({\"HelloEveryone\",47}))\n",
    "print(type({'class': 'twelve'}))"
   ]
  },
  {
   "cell_type": "code",
   "execution_count": null,
   "id": "6d6eccd0-1b4d-4ee4-81bb-0846c2e79e77",
   "metadata": {},
   "outputs": [],
   "source": [
    "##string"
   ]
  }
 ],
 "metadata": {
  "kernelspec": {
   "display_name": "Python 3 (ipykernel)",
   "language": "python",
   "name": "python3"
  },
  "language_info": {
   "codemirror_mode": {
    "name": "ipython",
    "version": 3
   },
   "file_extension": ".py",
   "mimetype": "text/x-python",
   "name": "python",
   "nbconvert_exporter": "python",
   "pygments_lexer": "ipython3",
   "version": "3.12.7"
  }
 },
 "nbformat": 4,
 "nbformat_minor": 5
}
