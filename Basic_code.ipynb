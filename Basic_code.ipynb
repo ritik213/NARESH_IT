{
 "cells": [
  {
   "cell_type": "markdown",
   "id": "2a831126-9a15-4c19-8ec3-d1f57cebb87f",
   "metadata": {},
   "source": [
    "# Basic code"
   ]
  },
  {
   "cell_type": "code",
   "execution_count": 3,
   "id": "74c79a06-dd6d-4949-9560-73785ead54d1",
   "metadata": {},
   "outputs": [
    {
     "name": "stdout",
     "output_type": "stream",
     "text": [
      "11\n",
      "2\n",
      "18\n",
      "2.0\n",
      "3\n",
      "125\n"
     ]
    }
   ],
   "source": [
    "print(4+7)   #Addition(+)\n",
    "print(6-4)   #substraction(-) \n",
    "print(6*3)   #Multiplication(*)\n",
    "print(10/5)  #division(/)\n",
    "print(15//5) #floor division(//)\n",
    "print(5**3)  #exponential(**)\n",
    "print(3 % 2) #Modulus(%)"
   ]
  },
  {
   "cell_type": "markdown",
   "id": "9dbbe778-8f43-42cd-a2d9-c27b1b15e92b",
   "metadata": {},
   "source": [
    "### checking the datatypes"
   ]
  },
  {
   "cell_type": "code",
   "execution_count": 30,
   "id": "3eefe79a-3d36-4c84-8f96-9617520b3e1a",
   "metadata": {},
   "outputs": [
    {
     "name": "stdout",
     "output_type": "stream",
     "text": [
      "<class 'int'>\n",
      "<class 'float'>\n",
      "<class 'str'>\n",
      "<class 'bool'>\n",
      "<class 'complex'>\n",
      "<class 'list'>\n",
      "<class 'tuple'>\n",
      "<class 'dict'>\n",
      "<class 'set'>\n"
     ]
    }
   ],
   "source": [
    "print(type(34))                        #int\n",
    "print(type(3.14))                      #float\n",
    "print(type('nit'))                     #string\n",
    "print(type(True))                      #bool\n",
    "print(type(3+2J))                      #complex\n",
    "print(type([1,'nit','True',3.14]))     #List\n",
    "print(type((3,2,4)))                   # tuple\n",
    "print(type({'name' : 'john'}))         #dictionary\n",
    "print(type({'hello','Python'}))        #set"
   ]
  },
  {
   "cell_type": "code",
   "execution_count": 32,
   "id": "4ce09183-8e96-4b71-8387-d0e61669a8f9",
   "metadata": {},
   "outputs": [
    {
     "data": {
      "text/plain": [
       "8"
      ]
     },
     "execution_count": 32,
     "metadata": {},
     "output_type": "execute_result"
    }
   ],
   "source": [
    "a = 2+6 #addition\n",
    "a"
   ]
  },
  {
   "cell_type": "code",
   "execution_count": 34,
   "id": "ed8e5296-2019-460f-ba5a-e2018230c380",
   "metadata": {},
   "outputs": [
    {
     "data": {
      "text/plain": [
       "-2"
      ]
     },
     "execution_count": 34,
     "metadata": {},
     "output_type": "execute_result"
    }
   ],
   "source": [
    "b = 4-6 #substraction\n",
    "b"
   ]
  },
  {
   "cell_type": "code",
   "execution_count": 36,
   "id": "54e90e63-8964-4ce9-8eae-792ba67d9fce",
   "metadata": {},
   "outputs": [
    {
     "data": {
      "text/plain": [
       "60"
      ]
     },
     "execution_count": 36,
     "metadata": {},
     "output_type": "execute_result"
    }
   ],
   "source": [
    "c = 12*5 #Multiplication\n",
    "c"
   ]
  },
  {
   "cell_type": "code",
   "execution_count": 38,
   "id": "cda1a5fb-1672-4312-bafd-007ceac1ad20",
   "metadata": {},
   "outputs": [
    {
     "data": {
      "text/plain": [
       "6.0"
      ]
     },
     "execution_count": 38,
     "metadata": {},
     "output_type": "execute_result"
    }
   ],
   "source": [
    "d = 12/2  #division\n",
    "d"
   ]
  },
  {
   "cell_type": "code",
   "execution_count": 40,
   "id": "81d58b14-d39f-4996-b135-9e4007a1c2ae",
   "metadata": {},
   "outputs": [
    {
     "data": {
      "text/plain": [
       "6"
      ]
     },
     "execution_count": 40,
     "metadata": {},
     "output_type": "execute_result"
    }
   ],
   "source": [
    "m = 12//2   #floor division\n",
    "m"
   ]
  },
  {
   "cell_type": "code",
   "execution_count": 42,
   "id": "5f15c184-89cf-4e9b-a613-61175b749016",
   "metadata": {},
   "outputs": [
    {
     "data": {
      "text/plain": [
       "0"
      ]
     },
     "execution_count": 42,
     "metadata": {},
     "output_type": "execute_result"
    }
   ],
   "source": [
    "n = 12 % 2 #Modulus\n",
    "n"
   ]
  },
  {
   "cell_type": "code",
   "execution_count": 44,
   "id": "8ec9a4f3-fd9f-4255-9cd3-52c70030bb49",
   "metadata": {},
   "outputs": [
    {
     "data": {
      "text/plain": [
       "256"
      ]
     },
     "execution_count": 44,
     "metadata": {},
     "output_type": "execute_result"
    }
   ],
   "source": [
    "x = 2**8  #exponential or power\n",
    "x"
   ]
  },
  {
   "cell_type": "code",
   "execution_count": 46,
   "id": "d2ab35db-c984-472a-942c-e32244f55711",
   "metadata": {},
   "outputs": [
    {
     "data": {
      "text/plain": [
       "[1, 2, 3, 4, 5, 10]"
      ]
     },
     "execution_count": 46,
     "metadata": {},
     "output_type": "execute_result"
    }
   ],
   "source": [
    "a = [ 1,2,3,4,5]  #list\n",
    "a.append(10)\n",
    "a"
   ]
  },
  {
   "cell_type": "code",
   "execution_count": 48,
   "id": "c34c4fcc-cc98-49d8-aac6-0112c7efb960",
   "metadata": {},
   "outputs": [
    {
     "data": {
      "text/plain": [
       "list"
      ]
     },
     "execution_count": 48,
     "metadata": {},
     "output_type": "execute_result"
    }
   ],
   "source": [
    "type(a)"
   ]
  },
  {
   "cell_type": "code",
   "execution_count": 56,
   "id": "385c0ed5-91d7-4c29-9a18-1d66cec7b941",
   "metadata": {},
   "outputs": [
    {
     "name": "stdout",
     "output_type": "stream",
     "text": [
      "<class 'tuple'>\n"
     ]
    }
   ],
   "source": [
    "tup = (\"python\",\"Book\")  #Tuple\n",
    "print(type(tup))"
   ]
  },
  {
   "cell_type": "code",
   "execution_count": 58,
   "id": "6faa2c8c-34fa-46ab-854e-b998df267e19",
   "metadata": {},
   "outputs": [
    {
     "data": {
      "text/plain": [
       "str"
      ]
     },
     "execution_count": 58,
     "metadata": {},
     "output_type": "execute_result"
    }
   ],
   "source": [
    "str = ('nit') #String\n",
    "type(str)"
   ]
  },
  {
   "cell_type": "code",
   "execution_count": 62,
   "id": "16b15343-2dce-473a-a82d-3ad583fef7cc",
   "metadata": {},
   "outputs": [
    {
     "name": "stdout",
     "output_type": "stream",
     "text": [
      "False\n",
      "<class 'bool'>\n"
     ]
    }
   ],
   "source": [
    "b = 1 >= 2   #boolean\n",
    "print(b)\n",
    "print(type(b))"
   ]
  },
  {
   "cell_type": "code",
   "execution_count": 68,
   "id": "991eeb44-ec0e-4a7a-8dd7-25659232f4d1",
   "metadata": {},
   "outputs": [
    {
     "name": "stdout",
     "output_type": "stream",
     "text": [
      "{'name': 'rakesh', 'age': 1923}\n",
      "<class 'dict'>\n"
     ]
    }
   ],
   "source": [
    "dict = {'name' : 'rakesh', 'age':1923}  #dictionary\n",
    "print(dict)\n",
    "print(type(dict))"
   ]
  },
  {
   "cell_type": "code",
   "execution_count": 72,
   "id": "a68c5087-88a5-457f-826e-87e46a72f1f4",
   "metadata": {},
   "outputs": [
    {
     "name": "stdout",
     "output_type": "stream",
     "text": [
      "{'python is very interesting'}\n",
      "<class 'set'>\n"
     ]
    }
   ],
   "source": [
    "s= {'python is very interesting'}\n",
    "print(s)\n",
    "print(type(set))"
   ]
  }
 ],
 "metadata": {
  "kernelspec": {
   "display_name": "Python 3 (ipykernel)",
   "language": "python",
   "name": "python3"
  },
  "language_info": {
   "codemirror_mode": {
    "name": "ipython",
    "version": 3
   },
   "file_extension": ".py",
   "mimetype": "text/x-python",
   "name": "python",
   "nbconvert_exporter": "python",
   "pygments_lexer": "ipython3",
   "version": "3.12.7"
  }
 },
 "nbformat": 4,
 "nbformat_minor": 5
}
