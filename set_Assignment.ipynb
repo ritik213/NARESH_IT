{
 "cells": [
  {
   "cell_type": "markdown",
   "id": "383ba1dd-1c1b-49b1-8c9c-11cdb7a2695e",
   "metadata": {},
   "source": [
    "# Set"
   ]
  },
  {
   "cell_type": "raw",
   "id": "f12f6016-d556-4d77-9743-faac1449a504",
   "metadata": {},
   "source": [
    "1. Unordered and unindexed collection of items.\n",
    "2. Set element are unique.Duplicate element are not allowed.\n",
    "3. Set element are immutable(cannot be change).\n",
    "4. Set itself is mutable.We can add or remove item for it."
   ]
  },
  {
   "cell_type": "markdown",
   "id": "e51ff6a0-e59e-4634-9491-43156c53cd01",
   "metadata": {},
   "source": [
    "## set creation"
   ]
  },
  {
   "cell_type": "code",
   "execution_count": 230,
   "id": "7f932cf6-acaf-4c38-948d-4f0a3b863926",
   "metadata": {},
   "outputs": [],
   "source": [
    "myset = {1,2,3,4,5}    # set of number"
   ]
  },
  {
   "cell_type": "code",
   "execution_count": 232,
   "id": "198e24dc-ea60-4238-9816-6a825624b5d8",
   "metadata": {},
   "outputs": [
    {
     "data": {
      "text/plain": [
       "{1, 2, 3, 4, 5}"
      ]
     },
     "execution_count": 232,
     "metadata": {},
     "output_type": "execute_result"
    }
   ],
   "source": [
    "myset"
   ]
  },
  {
   "cell_type": "code",
   "execution_count": 234,
   "id": "076666ea-d553-4a00-b4f9-7f7ead236be4",
   "metadata": {},
   "outputs": [
    {
     "data": {
      "text/plain": [
       "5"
      ]
     },
     "execution_count": 234,
     "metadata": {},
     "output_type": "execute_result"
    }
   ],
   "source": [
    "len(myset)            #length of set"
   ]
  },
  {
   "cell_type": "code",
   "execution_count": 236,
   "id": "6f7f8921-2f60-4db9-95de-c6607020b200",
   "metadata": {},
   "outputs": [
    {
     "data": {
      "text/plain": [
       "{1, 2, 3, 4, 5}"
      ]
     },
     "execution_count": 236,
     "metadata": {},
     "output_type": "execute_result"
    }
   ],
   "source": [
    "myset1 ={1,1,2,2,3,3,4,5,4,5}    #duplicate is not allowed\n",
    "myset1"
   ]
  },
  {
   "cell_type": "code",
   "execution_count": 238,
   "id": "4ac2b739-270b-4b02-963a-5396a1c61d1d",
   "metadata": {},
   "outputs": [
    {
     "data": {
      "text/plain": [
       "{2.15, 2.34, 3.14, 3.16}"
      ]
     },
     "execution_count": 238,
     "metadata": {},
     "output_type": "execute_result"
    }
   ],
   "source": [
    "myset2 = {3.14, 2.34,2.15,3.16}  #set of  float Number\n",
    "myset2"
   ]
  },
  {
   "cell_type": "code",
   "execution_count": 240,
   "id": "fbde8cd6-a5b0-40ea-af77-9797080e69c9",
   "metadata": {},
   "outputs": [
    {
     "data": {
      "text/plain": [
       "4"
      ]
     },
     "execution_count": 240,
     "metadata": {},
     "output_type": "execute_result"
    }
   ],
   "source": [
    "len(myset2)"
   ]
  },
  {
   "cell_type": "code",
   "execution_count": 242,
   "id": "4fc2fec3-ba17-452f-a3db-c4767adb689d",
   "metadata": {},
   "outputs": [
    {
     "data": {
      "text/plain": [
       "{'five', 'four', 'one', 'three', 'two'}"
      ]
     },
     "execution_count": 242,
     "metadata": {},
     "output_type": "execute_result"
    }
   ],
   "source": [
    "myset3 = {'one','two','three','four','five'}  # set of string\n",
    "myset3"
   ]
  },
  {
   "cell_type": "code",
   "execution_count": 244,
   "id": "74750d07-0ad7-48c1-a6f7-993e381bb291",
   "metadata": {},
   "outputs": [
    {
     "data": {
      "text/plain": [
       "{(2, 3, 4), 2.34, 34, 'one'}"
      ]
     },
     "execution_count": 244,
     "metadata": {},
     "output_type": "execute_result"
    }
   ],
   "source": [
    "myset4 = {'one',34,(2,3,4),2.34} #set with mixed datatype\n",
    "myset4"
   ]
  },
  {
   "cell_type": "code",
   "execution_count": 246,
   "id": "daff8472-85f8-4511-9cb5-e56c2a3a88ff",
   "metadata": {},
   "outputs": [
    {
     "data": {
      "text/plain": [
       "{(3+4j), 20, 3.14, 30, 'one', 'two'}"
      ]
     },
     "execution_count": 246,
     "metadata": {},
     "output_type": "execute_result"
    }
   ],
   "source": [
    "myset41 = {'one','two',30,20,3.14,3+4j}\n",
    "myset41"
   ]
  },
  {
   "cell_type": "code",
   "execution_count": 248,
   "id": "25776846-3db9-471c-a288-a3812fb421ff",
   "metadata": {},
   "outputs": [
    {
     "ename": "TypeError",
     "evalue": "unhashable type: 'list'",
     "output_type": "error",
     "traceback": [
      "\u001b[1;31m---------------------------------------------------------------------------\u001b[0m",
      "\u001b[1;31mTypeError\u001b[0m                                 Traceback (most recent call last)",
      "Cell \u001b[1;32mIn[248], line 1\u001b[0m\n\u001b[1;32m----> 1\u001b[0m myset5 \u001b[38;5;241m=\u001b[39m {\u001b[38;5;241m10\u001b[39m,\u001b[38;5;241m20\u001b[39m,\u001b[38;5;124m'\u001b[39m\u001b[38;5;124mone\u001b[39m\u001b[38;5;124m'\u001b[39m,[\u001b[38;5;241m10\u001b[39m,\u001b[38;5;241m20\u001b[39m,\u001b[38;5;241m30\u001b[39m]}  \u001b[38;5;66;03m#set does not allow the multiple type of list\u001b[39;00m\n\u001b[0;32m      2\u001b[0m myset5\n",
      "\u001b[1;31mTypeError\u001b[0m: unhashable type: 'list'"
     ]
    }
   ],
   "source": [
    "myset5 = {10,20,'one',[10,20,30]}  #set does not allow the multiple type of list\n",
    "myset5"
   ]
  },
  {
   "cell_type": "code",
   "execution_count": 250,
   "id": "e2cdc1dc-4858-40a0-b4bc-47b37f7c9a07",
   "metadata": {},
   "outputs": [
    {
     "data": {
      "text/plain": [
       "{'four', 'one', 'three', 'two'}"
      ]
     },
     "execution_count": 250,
     "metadata": {},
     "output_type": "execute_result"
    }
   ],
   "source": [
    "myset6 = set(('one','two','three','four'))\n",
    "myset6"
   ]
  },
  {
   "cell_type": "code",
   "execution_count": 252,
   "id": "a5fde8a3-c8b1-4e0a-bd38-6fdbab05661f",
   "metadata": {},
   "outputs": [
    {
     "name": "stdout",
     "output_type": "stream",
     "text": [
      "{'tina', 'mina', 'shyam', 'ram'}\n",
      "<class 'set'>\n"
     ]
    }
   ],
   "source": [
    "str = set(('ram','shyam','mina','tina'))\n",
    "print(str)\n",
    "print(type(str))"
   ]
  },
  {
   "cell_type": "markdown",
   "id": "6106dff9-b3e0-4eb1-8a1e-06a44763755f",
   "metadata": {},
   "source": [
    "# Loop Through the set"
   ]
  },
  {
   "cell_type": "code",
   "execution_count": 255,
   "id": "2b750a40-7b61-4fcb-a59c-9bef601c80ec",
   "metadata": {},
   "outputs": [
    {
     "data": {
      "text/plain": [
       "{'eight', 'five', 'four', 'nine', 'one', 'seven', 'six', 'three', 'two'}"
      ]
     },
     "execution_count": 255,
     "metadata": {},
     "output_type": "execute_result"
    }
   ],
   "source": [
    "myset7 = set(('one','two','three','four','five','six','seven','eight','nine'))\n",
    "myset7"
   ]
  },
  {
   "cell_type": "code",
   "execution_count": 257,
   "id": "d74d0f32-cb7e-4829-b4b9-5fb074b2e5cc",
   "metadata": {},
   "outputs": [
    {
     "name": "stdout",
     "output_type": "stream",
     "text": [
      "six\n",
      "five\n",
      "four\n",
      "three\n",
      "seven\n",
      "two\n",
      "one\n",
      "eight\n",
      "nine\n"
     ]
    }
   ],
   "source": [
    "for i in myset7:\n",
    "    print(i)"
   ]
  },
  {
   "cell_type": "code",
   "execution_count": 259,
   "id": "22f9a829-274c-4346-b034-a3082ccd0347",
   "metadata": {},
   "outputs": [
    {
     "name": "stdout",
     "output_type": "stream",
     "text": [
      "(0, 'six')\n",
      "(1, 'five')\n",
      "(2, 'four')\n",
      "(3, 'three')\n",
      "(4, 'seven')\n",
      "(5, 'two')\n",
      "(6, 'one')\n",
      "(7, 'eight')\n",
      "(8, 'nine')\n"
     ]
    }
   ],
   "source": [
    "for i in enumerate(myset7):\n",
    "    print(i)"
   ]
  },
  {
   "cell_type": "markdown",
   "id": "e5e96e14-c17c-4b45-8e92-cd0c7daad8cc",
   "metadata": {},
   "source": [
    "# Set Membership"
   ]
  },
  {
   "cell_type": "code",
   "execution_count": 262,
   "id": "2a8ae5ed-6e73-4a0c-9992-30c492fa5a7d",
   "metadata": {},
   "outputs": [
    {
     "data": {
      "text/plain": [
       "{'eight', 'five', 'four', 'nine', 'one', 'seven', 'six', 'three', 'two'}"
      ]
     },
     "execution_count": 262,
     "metadata": {},
     "output_type": "execute_result"
    }
   ],
   "source": [
    "myset7"
   ]
  },
  {
   "cell_type": "code",
   "execution_count": 264,
   "id": "574c9d37-23a4-4682-bfc6-e03a13d0bdfb",
   "metadata": {},
   "outputs": [
    {
     "data": {
      "text/plain": [
       "True"
      ]
     },
     "execution_count": 264,
     "metadata": {},
     "output_type": "execute_result"
    }
   ],
   "source": [
    "'one' in myset7"
   ]
  },
  {
   "cell_type": "code",
   "execution_count": 266,
   "id": "012792fd-cb26-43cf-b490-f64091f5034f",
   "metadata": {},
   "outputs": [
    {
     "data": {
      "text/plain": [
       "True"
      ]
     },
     "execution_count": 266,
     "metadata": {},
     "output_type": "execute_result"
    }
   ],
   "source": [
    "'nine' in myset7"
   ]
  },
  {
   "cell_type": "code",
   "execution_count": 268,
   "id": "d27fcaff-be3b-4340-9a74-b67aba5ff611",
   "metadata": {},
   "outputs": [
    {
     "data": {
      "text/plain": [
       "False"
      ]
     },
     "execution_count": 268,
     "metadata": {},
     "output_type": "execute_result"
    }
   ],
   "source": [
    "'twenty' in myset7"
   ]
  },
  {
   "cell_type": "code",
   "execution_count": 270,
   "id": "f55ae127-1911-4861-8155-fdfd9826bfe9",
   "metadata": {},
   "outputs": [
    {
     "data": {
      "text/plain": [
       "False"
      ]
     },
     "execution_count": 270,
     "metadata": {},
     "output_type": "execute_result"
    }
   ],
   "source": [
    "'language' in myset7"
   ]
  },
  {
   "cell_type": "code",
   "execution_count": 272,
   "id": "73b15da9-82f5-48dc-8562-348bb4dc83f2",
   "metadata": {},
   "outputs": [
    {
     "name": "stdout",
     "output_type": "stream",
     "text": [
      "seven is present in set\n"
     ]
    }
   ],
   "source": [
    "if 'seven' in myset7:    #check seven is exits in set\n",
    "    print('seven is present in set')\n",
    "else:\n",
    "    print('seven is not present in set')"
   ]
  },
  {
   "cell_type": "code",
   "execution_count": 274,
   "id": "728c5b8c-f051-4ee9-a217-25b1bfdaad19",
   "metadata": {},
   "outputs": [
    {
     "name": "stdout",
     "output_type": "stream",
     "text": [
      "twelve is not present in set\n"
     ]
    }
   ],
   "source": [
    "if 'twelve' in myset7:\n",
    "    print('twelve is present in set')\n",
    "else:\n",
    "    print('twelve is not present in set')"
   ]
  },
  {
   "cell_type": "markdown",
   "id": "86b31a70-7e97-44ad-ba50-0c4625c6e625",
   "metadata": {},
   "source": [
    "# Add & Remove Items"
   ]
  },
  {
   "cell_type": "code",
   "execution_count": 277,
   "id": "16c24f1b-dd3b-4bb9-9c6f-bbb7d0c08130",
   "metadata": {},
   "outputs": [
    {
     "data": {
      "text/plain": [
       "{'eight', 'five', 'four', 'nine', 'one', 'seven', 'six', 'three', 'two'}"
      ]
     },
     "execution_count": 277,
     "metadata": {},
     "output_type": "execute_result"
    }
   ],
   "source": [
    "myset7"
   ]
  },
  {
   "cell_type": "code",
   "execution_count": 279,
   "id": "c60885cc-e89f-4b65-840b-e060f27d6abc",
   "metadata": {},
   "outputs": [],
   "source": [
    "myset7.add('ten')  #Add the item to set by using the add() method"
   ]
  },
  {
   "cell_type": "code",
   "execution_count": 281,
   "id": "735de423-c38b-4c28-bed5-55009d047d3e",
   "metadata": {},
   "outputs": [
    {
     "data": {
      "text/plain": [
       "{'eight', 'five', 'four', 'nine', 'one', 'seven', 'six', 'ten', 'three', 'two'}"
      ]
     },
     "execution_count": 281,
     "metadata": {},
     "output_type": "execute_result"
    }
   ],
   "source": [
    "myset7"
   ]
  },
  {
   "cell_type": "code",
   "execution_count": 283,
   "id": "e7fa31a8-b092-4b25-afba-0745eaf494cd",
   "metadata": {},
   "outputs": [
    {
     "data": {
      "text/plain": [
       "{'ELEVEN',\n",
       " 'TWELVE',\n",
       " 'eight',\n",
       " 'five',\n",
       " 'four',\n",
       " 'nine',\n",
       " 'one',\n",
       " 'seven',\n",
       " 'six',\n",
       " 'ten',\n",
       " 'three',\n",
       " 'two'}"
      ]
     },
     "execution_count": 283,
     "metadata": {},
     "output_type": "execute_result"
    }
   ],
   "source": [
    "myset7.update(['ELEVEN','TWELVE'])   #Add the multiple item using to a set using update() method \n",
    "myset7"
   ]
  },
  {
   "cell_type": "code",
   "execution_count": 285,
   "id": "39243dea-d0f2-4238-81e2-f2391d8b5b99",
   "metadata": {},
   "outputs": [
    {
     "data": {
      "text/plain": [
       "{'ELEVEN',\n",
       " 'TWELVE',\n",
       " 'eight',\n",
       " 'five',\n",
       " 'four',\n",
       " 'one',\n",
       " 'seven',\n",
       " 'six',\n",
       " 'ten',\n",
       " 'three',\n",
       " 'two'}"
      ]
     },
     "execution_count": 285,
     "metadata": {},
     "output_type": "execute_result"
    }
   ],
   "source": [
    "myset7.remove('nine')    #remove item in set by using the remove method()\n",
    "myset7"
   ]
  },
  {
   "cell_type": "code",
   "execution_count": 287,
   "id": "fe57f60a-c9e1-4486-bb82-3c85f5ac39ac",
   "metadata": {},
   "outputs": [
    {
     "data": {
      "text/plain": [
       "{'ELEVEN',\n",
       " 'TWELVE',\n",
       " 'eight',\n",
       " 'five',\n",
       " 'four',\n",
       " 'one',\n",
       " 'seven',\n",
       " 'six',\n",
       " 'three',\n",
       " 'two'}"
      ]
     },
     "execution_count": 287,
     "metadata": {},
     "output_type": "execute_result"
    }
   ],
   "source": [
    "myset7.discard('ten')    # remove item from a set using discard() method\n",
    "myset7"
   ]
  },
  {
   "cell_type": "code",
   "execution_count": 289,
   "id": "92db52c1-a74b-4eb4-8979-3a8195f92e47",
   "metadata": {},
   "outputs": [],
   "source": [
    "myset7.clear()   #Delete all item in a set"
   ]
  },
  {
   "cell_type": "code",
   "execution_count": 291,
   "id": "1213ecfe-0a9a-4847-8b64-66d3ea6926d8",
   "metadata": {},
   "outputs": [
    {
     "data": {
      "text/plain": [
       "set()"
      ]
     },
     "execution_count": 291,
     "metadata": {},
     "output_type": "execute_result"
    }
   ],
   "source": [
    "myset7"
   ]
  },
  {
   "cell_type": "code",
   "execution_count": 293,
   "id": "4b2cfb77-6671-48f5-ad63-7593c9e7190d",
   "metadata": {},
   "outputs": [
    {
     "ename": "NameError",
     "evalue": "name 'myset7' is not defined",
     "output_type": "error",
     "traceback": [
      "\u001b[1;31m---------------------------------------------------------------------------\u001b[0m",
      "\u001b[1;31mNameError\u001b[0m                                 Traceback (most recent call last)",
      "Cell \u001b[1;32mIn[293], line 2\u001b[0m\n\u001b[0;32m      1\u001b[0m \u001b[38;5;28;01mdel\u001b[39;00m myset7   \u001b[38;5;66;03m#delete set object\u001b[39;00m\n\u001b[1;32m----> 2\u001b[0m myset7\n",
      "\u001b[1;31mNameError\u001b[0m: name 'myset7' is not defined"
     ]
    }
   ],
   "source": [
    "del myset7   #delete set object\n",
    "myset7"
   ]
  },
  {
   "cell_type": "markdown",
   "id": "795e1f4b-bb5a-43b5-8fe3-defef46b0fab",
   "metadata": {},
   "source": [
    "# Copy Set"
   ]
  },
  {
   "cell_type": "code",
   "execution_count": 297,
   "id": "71d6fa37-dedd-4625-b280-f783b216095c",
   "metadata": {},
   "outputs": [
    {
     "data": {
      "text/plain": [
       "{'eight', 'five', 'four', 'one', 'seven', 'six', 'three', 'two'}"
      ]
     },
     "execution_count": 297,
     "metadata": {},
     "output_type": "execute_result"
    }
   ],
   "source": [
    "myset = {'one','two','three','four','five','six','seven','eight'}\n",
    "myset"
   ]
  },
  {
   "cell_type": "code",
   "execution_count": 299,
   "id": "2a3a88ba-80d5-4252-bb55-d010bb1bc7ce",
   "metadata": {},
   "outputs": [
    {
     "data": {
      "text/plain": [
       "{'eight', 'five', 'four', 'one', 'seven', 'six', 'three', 'two'}"
      ]
     },
     "execution_count": 299,
     "metadata": {},
     "output_type": "execute_result"
    }
   ],
   "source": [
    "myset1 = myset   #create a new reference of myset1\n",
    "myset1"
   ]
  },
  {
   "cell_type": "code",
   "execution_count": 301,
   "id": "c01a93db-d9b1-42a9-b1f5-1f7402106be1",
   "metadata": {},
   "outputs": [
    {
     "data": {
      "text/plain": [
       "(1893802083264, 1893802083264)"
      ]
     },
     "execution_count": 301,
     "metadata": {},
     "output_type": "execute_result"
    }
   ],
   "source": [
    "id(myset), id(myset1)     # The address of both myset and myset1 will be the same"
   ]
  },
  {
   "cell_type": "code",
   "execution_count": 303,
   "id": "7cf8723a-88ef-4678-8549-b1295851d6f2",
   "metadata": {},
   "outputs": [],
   "source": [
    "myset2 = myset.copy()   #create the copy of the list"
   ]
  },
  {
   "cell_type": "code",
   "execution_count": 305,
   "id": "adbdf82f-5096-4c6a-92bd-e8a1f413b76c",
   "metadata": {},
   "outputs": [
    {
     "data": {
      "text/plain": [
       "{'eight', 'five', 'four', 'one', 'seven', 'six', 'three', 'two'}"
      ]
     },
     "execution_count": 305,
     "metadata": {},
     "output_type": "execute_result"
    }
   ],
   "source": [
    "myset2"
   ]
  },
  {
   "cell_type": "code",
   "execution_count": 307,
   "id": "a1164459-018f-46d0-8747-6b07d4dbd02e",
   "metadata": {},
   "outputs": [
    {
     "data": {
      "text/plain": [
       "1893802087072"
      ]
     },
     "execution_count": 307,
     "metadata": {},
     "output_type": "execute_result"
    }
   ],
   "source": [
    "id(myset2)"
   ]
  },
  {
   "cell_type": "code",
   "execution_count": 309,
   "id": "22ef8320-181d-4f4b-9b44-8ef1b5d3cb01",
   "metadata": {},
   "outputs": [
    {
     "data": {
      "text/plain": [
       "{'NINE', 'eight', 'five', 'four', 'one', 'seven', 'six', 'three', 'two'}"
      ]
     },
     "execution_count": 309,
     "metadata": {},
     "output_type": "execute_result"
    }
   ],
   "source": [
    "myset.add('NINE')\n",
    "myset"
   ]
  },
  {
   "cell_type": "code",
   "execution_count": 311,
   "id": "970a2a33-565b-40e4-85c7-02f519d5c517",
   "metadata": {},
   "outputs": [
    {
     "data": {
      "text/plain": [
       "{'NINE', 'eight', 'five', 'four', 'one', 'seven', 'six', 'three', 'two'}"
      ]
     },
     "execution_count": 311,
     "metadata": {},
     "output_type": "execute_result"
    }
   ],
   "source": [
    "myset1  # myset1 will be also impacted as it is pointing to the same Set "
   ]
  },
  {
   "cell_type": "code",
   "execution_count": 313,
   "id": "f53c21ff-7f88-4a79-a6ee-9c84ee9fd241",
   "metadata": {},
   "outputs": [
    {
     "data": {
      "text/plain": [
       "{'eight', 'five', 'four', 'one', 'seven', 'six', 'three', 'two'}"
      ]
     },
     "execution_count": 313,
     "metadata": {},
     "output_type": "execute_result"
    }
   ],
   "source": [
    "myset2  #  Copy of the set won't be impacted due to changes made on the original Set "
   ]
  },
  {
   "cell_type": "markdown",
   "id": "83460b52-f095-4c99-bc90-bbbf49dfba5b",
   "metadata": {},
   "source": [
    "# Set Operation"
   ]
  },
  {
   "cell_type": "raw",
   "id": "c75479c1-3c63-420a-81ab-7e68ee5179a8",
   "metadata": {},
   "source": [
    "1.Union \n",
    "2.Intersection \n",
    "3.Difference\n",
    "4.Symmetric Difference\n",
    "5.Subset , Superset & Disjoint "
   ]
  },
  {
   "cell_type": "markdown",
   "id": "d62752bc-4e1a-48c9-8aeb-3c8c0f752080",
   "metadata": {},
   "source": [
    "# Union"
   ]
  },
  {
   "cell_type": "code",
   "execution_count": 317,
   "id": "253ee787-2bc1-4a96-a28d-08801f346931",
   "metadata": {},
   "outputs": [],
   "source": [
    "A = {1,2,3,4,5}\n",
    "B = {4,5,6,7,8}\n",
    "C = {8, 9, 10}"
   ]
  },
  {
   "cell_type": "code",
   "execution_count": 319,
   "id": "d02899c0-59bd-47c1-87ce-30365ca22573",
   "metadata": {},
   "outputs": [
    {
     "data": {
      "text/plain": [
       "{1, 2, 3, 4, 5, 6, 7, 8}"
      ]
     },
     "execution_count": 319,
     "metadata": {},
     "output_type": "execute_result"
    }
   ],
   "source": [
    "A | B    #Union of A and B All elements from both sets.(No Duplicate)"
   ]
  },
  {
   "cell_type": "code",
   "execution_count": 323,
   "id": "c8d26911-8923-44db-bead-dc4a547c91c6",
   "metadata": {},
   "outputs": [
    {
     "data": {
      "text/plain": [
       "{1, 2, 3, 4, 5, 6, 7, 8}"
      ]
     },
     "execution_count": 323,
     "metadata": {},
     "output_type": "execute_result"
    }
   ],
   "source": [
    "A .union(B)  # Union of A and B "
   ]
  },
  {
   "cell_type": "code",
   "execution_count": 325,
   "id": "935d8180-8b7a-4df6-b3af-057e8e2ef49b",
   "metadata": {},
   "outputs": [
    {
     "data": {
      "text/plain": [
       "{1, 2, 3, 4, 5, 6, 7, 8, 9, 10}"
      ]
     },
     "execution_count": 325,
     "metadata": {},
     "output_type": "execute_result"
    }
   ],
   "source": [
    "A .union(B,C)  # Union of A , B and C"
   ]
  },
  {
   "cell_type": "code",
   "execution_count": 327,
   "id": "fa54bd71-3f70-4bcb-9df2-5fa41a6e4d06",
   "metadata": {},
   "outputs": [],
   "source": [
    "\"\"\" \n",
    "Updates the set calling the update() method with union of A , B & C. \n",
    "For below example Set A will be updated with union of A,B & C.\n",
    "\n",
    "\"\"\"\n",
    "A.update(B,C)"
   ]
  },
  {
   "cell_type": "code",
   "execution_count": 329,
   "id": "4995e886-aaf0-4665-a451-0ffc83552a6e",
   "metadata": {},
   "outputs": [
    {
     "data": {
      "text/plain": [
       "{1, 2, 3, 4, 5, 6, 7, 8, 9, 10}"
      ]
     },
     "execution_count": 329,
     "metadata": {},
     "output_type": "execute_result"
    }
   ],
   "source": [
    "A"
   ]
  },
  {
   "cell_type": "markdown",
   "id": "ae11b40a-7771-4b15-80fc-24c74506aad9",
   "metadata": {},
   "source": [
    "# Intersection"
   ]
  },
  {
   "cell_type": "code",
   "execution_count": 332,
   "id": "cbf62626-a722-4b1b-839b-07d574b9f085",
   "metadata": {},
   "outputs": [
    {
     "data": {
      "text/plain": [
       "{4, 5}"
      ]
     },
     "execution_count": 332,
     "metadata": {},
     "output_type": "execute_result"
    }
   ],
   "source": [
    "A = {1,2,3,4,5}\n",
    "B = {4,5,6,7,8}\n",
    "\n",
    "A & B  # Intersection of A & B comon items in both sets"
   ]
  },
  {
   "cell_type": "code",
   "execution_count": 334,
   "id": "4b2b0370-6ee9-4a62-9a9f-ba5ad4463676",
   "metadata": {},
   "outputs": [
    {
     "data": {
      "text/plain": [
       "{4, 5}"
      ]
     },
     "execution_count": 334,
     "metadata": {},
     "output_type": "execute_result"
    }
   ],
   "source": [
    "A .intersection(B)"
   ]
  },
  {
   "cell_type": "code",
   "execution_count": 336,
   "id": "6345efcd-77c3-43a2-af4a-9e7758583b99",
   "metadata": {},
   "outputs": [
    {
     "ename": "SyntaxError",
     "evalue": "invalid syntax (4132668792.py, line 1)",
     "output_type": "error",
     "traceback": [
      "\u001b[1;36m  Cell \u001b[1;32mIn[336], line 1\u001b[1;36m\u001b[0m\n\u001b[1;33m    Intersection of A and B\u001b[0m\n\u001b[1;37m                 ^\u001b[0m\n\u001b[1;31mSyntaxError\u001b[0m\u001b[1;31m:\u001b[0m invalid syntax\n"
     ]
    }
   ],
   "source": [
    "Intersection of A and B"
   ]
  },
  {
   "cell_type": "code",
   "execution_count": 338,
   "id": "adaac79e-d75d-431a-a433-f6c11a893e96",
   "metadata": {},
   "outputs": [],
   "source": [
    "A.intersection_update(B)"
   ]
  },
  {
   "cell_type": "code",
   "execution_count": 340,
   "id": "fec78268-ea36-4b39-ba35-03315539dd80",
   "metadata": {},
   "outputs": [
    {
     "data": {
      "text/plain": [
       "{4, 5}"
      ]
     },
     "execution_count": 340,
     "metadata": {},
     "output_type": "execute_result"
    }
   ],
   "source": [
    "A"
   ]
  },
  {
   "cell_type": "markdown",
   "id": "34e027af-80bc-4540-982b-eb5e830138a8",
   "metadata": {},
   "source": [
    "# Difference"
   ]
  },
  {
   "cell_type": "code",
   "execution_count": 344,
   "id": "6ce176b6-2195-48e4-b31b-cdfe5aacb582",
   "metadata": {},
   "outputs": [],
   "source": [
    "A = {1,2,3,4,5}\n",
    "B = {4,5,6,7,8}"
   ]
  },
  {
   "cell_type": "code",
   "execution_count": 346,
   "id": "75b9ede8-6b80-4fea-abaa-0659dff4678a",
   "metadata": {},
   "outputs": [
    {
     "data": {
      "text/plain": [
       "{1, 2, 3}"
      ]
     },
     "execution_count": 346,
     "metadata": {},
     "output_type": "execute_result"
    }
   ],
   "source": [
    "A - B #set of element that are only in A but not in B"
   ]
  },
  {
   "cell_type": "code",
   "execution_count": 348,
   "id": "9328296f-a325-4610-85ec-a06ab448a6ef",
   "metadata": {},
   "outputs": [
    {
     "data": {
      "text/plain": [
       "{1, 2, 3}"
      ]
     },
     "execution_count": 348,
     "metadata": {},
     "output_type": "execute_result"
    }
   ],
   "source": [
    "A.difference(B)  # difference of set"
   ]
  },
  {
   "cell_type": "code",
   "execution_count": 350,
   "id": "0dca9c2e-2273-48b5-9c22-79487b40266e",
   "metadata": {},
   "outputs": [
    {
     "data": {
      "text/plain": [
       "{6, 7, 8}"
      ]
     },
     "execution_count": 350,
     "metadata": {},
     "output_type": "execute_result"
    }
   ],
   "source": [
    "B - A  # set of element that are only in B but not in A"
   ]
  },
  {
   "cell_type": "code",
   "execution_count": 354,
   "id": "c6370e3e-942b-42bb-8e16-6b095a9c983b",
   "metadata": {},
   "outputs": [],
   "source": [
    "\"\"\"\n",
    "Updates the set calling the difference_update() method with the difference of set\n",
    "For below example Set B will be updated with the difference of B & A\n",
    "\"\"\"\n",
    "B.difference_update(A)"
   ]
  },
  {
   "cell_type": "code",
   "execution_count": 356,
   "id": "99376a50-6ac8-48b4-9685-788da274e294",
   "metadata": {},
   "outputs": [
    {
     "data": {
      "text/plain": [
       "{6, 7, 8}"
      ]
     },
     "execution_count": 356,
     "metadata": {},
     "output_type": "execute_result"
    }
   ],
   "source": [
    "B"
   ]
  },
  {
   "cell_type": "markdown",
   "id": "e8e927dd-8490-4b13-ab8f-734a24260daf",
   "metadata": {},
   "source": [
    "# Symmetric Difference"
   ]
  },
  {
   "cell_type": "code",
   "execution_count": 359,
   "id": "2b09e648-f111-429b-bcc3-8d383312504d",
   "metadata": {},
   "outputs": [],
   "source": [
    "A = {1,2,3,4,5}\n",
    "B = {4,5,6,7,8}"
   ]
  },
  {
   "cell_type": "code",
   "execution_count": 361,
   "id": "95ad39dd-a4a5-4151-bffe-7553483b2932",
   "metadata": {},
   "outputs": [
    {
     "data": {
      "text/plain": [
       "{1, 2, 3, 6, 7, 8}"
      ]
     },
     "execution_count": 361,
     "metadata": {},
     "output_type": "execute_result"
    }
   ],
   "source": [
    "A ^ B  # Except the common element remaining all element are print"
   ]
  },
  {
   "cell_type": "code",
   "execution_count": 363,
   "id": "48f75c8f-84f0-4fd6-a8e7-77e92173d6c2",
   "metadata": {},
   "outputs": [
    {
     "data": {
      "text/plain": [
       "{1, 2, 3, 6, 7, 8}"
      ]
     },
     "execution_count": 363,
     "metadata": {},
     "output_type": "execute_result"
    }
   ],
   "source": [
    "A.symmetric_difference(B)  "
   ]
  },
  {
   "cell_type": "code",
   "execution_count": 365,
   "id": "41b4ccca-b258-441a-ad23-7a0b3bfa8697",
   "metadata": {},
   "outputs": [
    {
     "data": {
      "text/plain": [
       "{1, 2, 3, 4, 5}"
      ]
     },
     "execution_count": 365,
     "metadata": {},
     "output_type": "execute_result"
    }
   ],
   "source": [
    "A"
   ]
  },
  {
   "cell_type": "code",
   "execution_count": 367,
   "id": "d5d0e33d-aa21-43b1-828c-e0712026a950",
   "metadata": {},
   "outputs": [],
   "source": [
    "A.symmetric_difference_update(B)"
   ]
  },
  {
   "cell_type": "code",
   "execution_count": 369,
   "id": "a56867e1-ae91-46d0-b485-f8d2cdeba84b",
   "metadata": {},
   "outputs": [
    {
     "data": {
      "text/plain": [
       "{1, 2, 3, 6, 7, 8}"
      ]
     },
     "execution_count": 369,
     "metadata": {},
     "output_type": "execute_result"
    }
   ],
   "source": [
    "A"
   ]
  },
  {
   "cell_type": "markdown",
   "id": "1cf719db-f3cd-4214-95eb-5e5c8e90af25",
   "metadata": {},
   "source": [
    "# Subset , Superset & Disjoint"
   ]
  },
  {
   "cell_type": "code",
   "execution_count": 372,
   "id": "85bbd261-981e-4f50-8022-b14e0e179c36",
   "metadata": {},
   "outputs": [],
   "source": [
    "A = {1,2,3,4,5,6,7,8,9} \n",
    "B = {3,4,5,6,7,8} \n",
    "C = {10,20,30,40}"
   ]
  },
  {
   "cell_type": "code",
   "execution_count": 378,
   "id": "4b352b3c-2a5e-4a3e-b358-6c8efdb4c28d",
   "metadata": {},
   "outputs": [
    {
     "data": {
      "text/plain": [
       "False"
      ]
     },
     "execution_count": 378,
     "metadata": {},
     "output_type": "execute_result"
    }
   ],
   "source": [
    "A.issubset(B)  # A set A is the not issubset of B because All element of B is not present in A"
   ]
  },
  {
   "cell_type": "code",
   "execution_count": 380,
   "id": "679ff4e4-caf8-4625-9ce1-de9f782a665a",
   "metadata": {},
   "outputs": [
    {
     "data": {
      "text/plain": [
       "True"
      ]
     },
     "execution_count": 380,
     "metadata": {},
     "output_type": "execute_result"
    }
   ],
   "source": [
    "B.issubset(A)  #A set B is the issubset of A , if all element of B are present in A"
   ]
  },
  {
   "cell_type": "code",
   "execution_count": 382,
   "id": "83cfd3db-b499-4983-8f56-2bc8bb25e225",
   "metadata": {},
   "outputs": [
    {
     "data": {
      "text/plain": [
       "False"
      ]
     },
     "execution_count": 382,
     "metadata": {},
     "output_type": "execute_result"
    }
   ],
   "source": [
    "C.issubset(A)"
   ]
  },
  {
   "cell_type": "code",
   "execution_count": 384,
   "id": "a8af736f-df19-4442-a3f2-27bbc6f96cbf",
   "metadata": {},
   "outputs": [
    {
     "data": {
      "text/plain": [
       "True"
      ]
     },
     "execution_count": 384,
     "metadata": {},
     "output_type": "execute_result"
    }
   ],
   "source": [
    "A.issuperset(B)  #set A is a superset of B if it contains all element of B"
   ]
  },
  {
   "cell_type": "code",
   "execution_count": 386,
   "id": "cfcba06e-b21a-4885-a602-c572710751b1",
   "metadata": {},
   "outputs": [
    {
     "data": {
      "text/plain": [
       "False"
      ]
     },
     "execution_count": 386,
     "metadata": {},
     "output_type": "execute_result"
    }
   ],
   "source": [
    "B.issuperset(A)"
   ]
  },
  {
   "cell_type": "code",
   "execution_count": 388,
   "id": "66cb8cff-97d3-4437-9c0d-183ce20e7688",
   "metadata": {},
   "outputs": [
    {
     "data": {
      "text/plain": [
       "False"
      ]
     },
     "execution_count": 388,
     "metadata": {},
     "output_type": "execute_result"
    }
   ],
   "source": [
    "A.issuperset(C)"
   ]
  },
  {
   "cell_type": "code",
   "execution_count": 392,
   "id": "0d6815e1-ee3c-4ed1-a84a-5b67a0382fb9",
   "metadata": {},
   "outputs": [
    {
     "data": {
      "text/plain": [
       "True"
      ]
     },
     "execution_count": 392,
     "metadata": {},
     "output_type": "execute_result"
    }
   ],
   "source": [
    "C.isdisjoint(A) #Two sets are disjoint if two element are not in common"
   ]
  },
  {
   "cell_type": "code",
   "execution_count": 394,
   "id": "a0957e5a-d1ee-4b82-8d28-d9900516c302",
   "metadata": {},
   "outputs": [
    {
     "data": {
      "text/plain": [
       "True"
      ]
     },
     "execution_count": 394,
     "metadata": {},
     "output_type": "execute_result"
    }
   ],
   "source": [
    "A.isdisjoint(C)"
   ]
  },
  {
   "cell_type": "code",
   "execution_count": 396,
   "id": "67d26a84-9784-44ca-9b98-bdecf76f973f",
   "metadata": {},
   "outputs": [
    {
     "data": {
      "text/plain": [
       "True"
      ]
     },
     "execution_count": 396,
     "metadata": {},
     "output_type": "execute_result"
    }
   ],
   "source": [
    "C.isdisjoint(B)"
   ]
  },
  {
   "cell_type": "markdown",
   "id": "65b97715-61be-4286-99e9-8b464eabd655",
   "metadata": {},
   "source": [
    "# Other Builtin functions "
   ]
  },
  {
   "cell_type": "code",
   "execution_count": 399,
   "id": "85ef6e25-a740-4a86-a9f1-dfc588ab40a4",
   "metadata": {},
   "outputs": [],
   "source": [
    "A = {1,2,3,4,5,6,7,8,9}"
   ]
  },
  {
   "cell_type": "code",
   "execution_count": 401,
   "id": "8e3f598c-14d8-4d77-b3d0-72c7b4e671a9",
   "metadata": {},
   "outputs": [
    {
     "data": {
      "text/plain": [
       "45"
      ]
     },
     "execution_count": 401,
     "metadata": {},
     "output_type": "execute_result"
    }
   ],
   "source": [
    "sum(A)"
   ]
  },
  {
   "cell_type": "code",
   "execution_count": 403,
   "id": "9417dea1-1698-4693-8950-ee1ee59b3860",
   "metadata": {},
   "outputs": [
    {
     "data": {
      "text/plain": [
       "9"
      ]
     },
     "execution_count": 403,
     "metadata": {},
     "output_type": "execute_result"
    }
   ],
   "source": [
    "len(A)"
   ]
  },
  {
   "cell_type": "code",
   "execution_count": 405,
   "id": "ce938198-84f1-4c2d-b710-338a4c9ca05e",
   "metadata": {},
   "outputs": [
    {
     "data": {
      "text/plain": [
       "1"
      ]
     },
     "execution_count": 405,
     "metadata": {},
     "output_type": "execute_result"
    }
   ],
   "source": [
    "min(A)"
   ]
  },
  {
   "cell_type": "code",
   "execution_count": 407,
   "id": "eb3c406f-436b-4054-877c-f591f5a233cc",
   "metadata": {},
   "outputs": [
    {
     "data": {
      "text/plain": [
       "9"
      ]
     },
     "execution_count": 407,
     "metadata": {},
     "output_type": "execute_result"
    }
   ],
   "source": [
    "max(A)"
   ]
  },
  {
   "cell_type": "code",
   "execution_count": 409,
   "id": "37353659-a2d5-43f5-829b-a10873ad82aa",
   "metadata": {},
   "outputs": [
    {
     "data": {
      "text/plain": [
       "<enumerate at 0x1b8ec1c98a0>"
      ]
     },
     "execution_count": 409,
     "metadata": {},
     "output_type": "execute_result"
    }
   ],
   "source": [
    "enumerate(A)"
   ]
  },
  {
   "cell_type": "code",
   "execution_count": 411,
   "id": "502f1e60-e6cc-4660-a684-fe83bf03512b",
   "metadata": {},
   "outputs": [
    {
     "data": {
      "text/plain": [
       "[(0, 1), (1, 2), (2, 3), (3, 4), (4, 5), (5, 6), (6, 7), (7, 8), (8, 9)]"
      ]
     },
     "execution_count": 411,
     "metadata": {},
     "output_type": "execute_result"
    }
   ],
   "source": [
    "list(enumerate(A))"
   ]
  },
  {
   "cell_type": "code",
   "execution_count": 413,
   "id": "85c7197d-b061-43cb-9ff6-f73e1657f81c",
   "metadata": {},
   "outputs": [],
   "source": [
    "B = sorted(A, reverse=True)"
   ]
  },
  {
   "cell_type": "code",
   "execution_count": 415,
   "id": "a94c4154-2a25-4e9d-ae84-940a642a323a",
   "metadata": {},
   "outputs": [
    {
     "data": {
      "text/plain": [
       "[9, 8, 7, 6, 5, 4, 3, 2, 1]"
      ]
     },
     "execution_count": 415,
     "metadata": {},
     "output_type": "execute_result"
    }
   ],
   "source": [
    "B"
   ]
  },
  {
   "cell_type": "code",
   "execution_count": 417,
   "id": "3eb8792c-22c4-48a5-a422-d7fb4109de26",
   "metadata": {},
   "outputs": [
    {
     "data": {
      "text/plain": [
       "[1, 2, 3, 4, 5, 6, 7, 8, 9]"
      ]
     },
     "execution_count": 417,
     "metadata": {},
     "output_type": "execute_result"
    }
   ],
   "source": [
    "sorted(B)"
   ]
  }
 ],
 "metadata": {
  "kernelspec": {
   "display_name": "Python 3 (ipykernel)",
   "language": "python",
   "name": "python3"
  },
  "language_info": {
   "codemirror_mode": {
    "name": "ipython",
    "version": 3
   },
   "file_extension": ".py",
   "mimetype": "text/x-python",
   "name": "python",
   "nbconvert_exporter": "python",
   "pygments_lexer": "ipython3",
   "version": "3.12.7"
  }
 },
 "nbformat": 4,
 "nbformat_minor": 5
}
