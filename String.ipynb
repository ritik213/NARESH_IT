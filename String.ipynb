{
 "cells": [
  {
   "cell_type": "raw",
   "id": "c520584e-f646-4d33-bf7a-0b9091989d28",
   "metadata": {},
   "source": [
    "# string :- It is an sequence of character"
   ]
  },
  {
   "cell_type": "markdown",
   "id": "96b8c825-2362-420e-a7d0-d9165e1639b5",
   "metadata": {},
   "source": [
    "# string creation"
   ]
  },
  {
   "cell_type": "code",
   "execution_count": 9,
   "id": "e3f74cd6-057e-4bac-be51-3dec6fc946e3",
   "metadata": {},
   "outputs": [
    {
     "data": {
      "text/plain": [
       "'Hello Everyone'"
      ]
     },
     "execution_count": 9,
     "metadata": {},
     "output_type": "execute_result"
    }
   ],
   "source": [
    "str = 'Hello Everyone'\n",
    "str"
   ]
  },
  {
   "cell_type": "code",
   "execution_count": 11,
   "id": "edba4cd3-00bd-4209-9b06-b9897d22782f",
   "metadata": {},
   "outputs": [
    {
     "data": {
      "text/plain": [
       "'Python free workshop'"
      ]
     },
     "execution_count": 11,
     "metadata": {},
     "output_type": "execute_result"
    }
   ],
   "source": [
    "str1 = \"Python free workshop\"  #by using the double quotes\n",
    "str1"
   ]
  },
  {
   "cell_type": "code",
   "execution_count": 13,
   "id": "f6065b7a-8b94-4ca4-9dc3-3f2a2f96d863",
   "metadata": {},
   "outputs": [
    {
     "data": {
      "text/plain": [
       "'hello python'"
      ]
     },
     "execution_count": 13,
     "metadata": {},
     "output_type": "execute_result"
    }
   ],
   "source": [
    "str2 = 'hello python'  # by using the single quotes\n",
    "str2"
   ]
  },
  {
   "cell_type": "code",
   "execution_count": 15,
   "id": "dece7834-8d9f-462f-af17-39a38472f9ef",
   "metadata": {},
   "outputs": [
    {
     "name": "stdout",
     "output_type": "stream",
     "text": [
      "HELLO            \n",
      "        Monty_python\n"
     ]
    }
   ],
   "source": [
    "s = '''HELLO            \n",
    "        Monty_python'''  #by using the triple  single quotes\n",
    "print(s)"
   ]
  },
  {
   "cell_type": "code",
   "execution_count": 17,
   "id": "23fe337f-5e55-492f-ba43-da63230ae261",
   "metadata": {},
   "outputs": [
    {
     "name": "stdout",
     "output_type": "stream",
     "text": [
      " Hello\n",
      "           World\n"
     ]
    }
   ],
   "source": [
    "s1 = \"\"\" Hello\n",
    "           World\"\"\"   #by using the triple double quotes\n",
    "print(s1)"
   ]
  },
  {
   "cell_type": "code",
   "execution_count": 19,
   "id": "0137a43f-135d-45cd-a9dc-bb95328f6aa2",
   "metadata": {},
   "outputs": [
    {
     "name": "stdout",
     "output_type": "stream",
     "text": [
      "hello every python learner \n"
     ]
    }
   ],
   "source": [
    "st = ('hello '\n",
    "      'every python '\n",
    "      'learner ')\n",
    "print(st)"
   ]
  },
  {
   "cell_type": "code",
   "execution_count": 21,
   "id": "3e384053-1f8f-4494-bac9-53b6d1286905",
   "metadata": {},
   "outputs": [
    {
     "name": "stdout",
     "output_type": "stream",
     "text": [
      " hello hello hello hello\n"
     ]
    }
   ],
   "source": [
    "srt = ' hello'\n",
    "print(srt*4)"
   ]
  },
  {
   "cell_type": "code",
   "execution_count": 23,
   "id": "59dc4a4e-9339-4f38-907c-35c2c65737f2",
   "metadata": {},
   "outputs": [
    {
     "data": {
      "text/plain": [
       "'world world world world world '"
      ]
     },
     "execution_count": 23,
     "metadata": {},
     "output_type": "execute_result"
    }
   ],
   "source": [
    "str4='world '\n",
    "mystr= str4 * 5\n",
    "mystr"
   ]
  },
  {
   "cell_type": "code",
   "execution_count": 25,
   "id": "1b52ec03-93f0-412c-bc27-43aaebb75e29",
   "metadata": {},
   "outputs": [
    {
     "data": {
      "text/plain": [
       "30"
      ]
     },
     "execution_count": 25,
     "metadata": {},
     "output_type": "execute_result"
    }
   ],
   "source": [
    "len(mystr)"
   ]
  },
  {
   "cell_type": "raw",
   "id": "388b7739-1fd8-43e6-8f15-11a26d6c088f",
   "metadata": {},
   "source": [
    "string indexing\n",
    "  a] Forward indexing: (start with left to right ): start with 0\n",
    "  b] Backward indexing:(start with right to left):Start with -1"
   ]
  },
  {
   "cell_type": "code",
   "execution_count": 27,
   "id": "37ea9e71-3730-41bf-b42c-82026a87fc1a",
   "metadata": {},
   "outputs": [
    {
     "data": {
      "text/plain": [
       "'Hello Everyone'"
      ]
     },
     "execution_count": 27,
     "metadata": {},
     "output_type": "execute_result"
    }
   ],
   "source": [
    "str"
   ]
  },
  {
   "cell_type": "code",
   "execution_count": 29,
   "id": "449b5352-fab7-4491-b89d-a0f5dec5a3fa",
   "metadata": {},
   "outputs": [
    {
     "data": {
      "text/plain": [
       "'H'"
      ]
     },
     "execution_count": 29,
     "metadata": {},
     "output_type": "execute_result"
    }
   ],
   "source": [
    "str[0]"
   ]
  },
  {
   "cell_type": "code",
   "execution_count": 33,
   "id": "99a82ad3-990d-460f-abed-d2483a5dd905",
   "metadata": {},
   "outputs": [
    {
     "data": {
      "text/plain": [
       "'e'"
      ]
     },
     "execution_count": 33,
     "metadata": {},
     "output_type": "execute_result"
    }
   ],
   "source": [
    "str[len(str)-1]"
   ]
  },
  {
   "cell_type": "code",
   "execution_count": 35,
   "id": "fdfbe70a-8652-4e1d-a3e0-70a68b583ca9",
   "metadata": {},
   "outputs": [
    {
     "data": {
      "text/plain": [
       "'e'"
      ]
     },
     "execution_count": 35,
     "metadata": {},
     "output_type": "execute_result"
    }
   ],
   "source": [
    "str[-1]"
   ]
  },
  {
   "cell_type": "code",
   "execution_count": 37,
   "id": "7e15cd92-6938-4ae0-9ea8-70254acc1026",
   "metadata": {},
   "outputs": [
    {
     "data": {
      "text/plain": [
       "'E'"
      ]
     },
     "execution_count": 37,
     "metadata": {},
     "output_type": "execute_result"
    }
   ],
   "source": [
    "str[6]"
   ]
  },
  {
   "cell_type": "code",
   "execution_count": 39,
   "id": "9b3baf51-908a-46a1-b0db-5d9dceff096a",
   "metadata": {},
   "outputs": [
    {
     "data": {
      "text/plain": [
       "' '"
      ]
     },
     "execution_count": 39,
     "metadata": {},
     "output_type": "execute_result"
    }
   ],
   "source": [
    "str[5]"
   ]
  },
  {
   "cell_type": "code",
   "execution_count": 41,
   "id": "4a5c64dc-66ec-474b-a5c7-c137ee045185",
   "metadata": {},
   "outputs": [
    {
     "data": {
      "text/plain": [
       "'o'"
      ]
     },
     "execution_count": 41,
     "metadata": {},
     "output_type": "execute_result"
    }
   ],
   "source": [
    "str[4]"
   ]
  },
  {
   "cell_type": "markdown",
   "id": "53e0d45e-9fcb-4598-a3f3-63b11931c08d",
   "metadata": {},
   "source": [
    "# String slicing"
   ]
  },
  {
   "cell_type": "code",
   "execution_count": 44,
   "id": "6a2849bf-cda0-4f09-8f68-c50ef2f83be1",
   "metadata": {},
   "outputs": [
    {
     "data": {
      "text/plain": [
       "'Hello Everyone'"
      ]
     },
     "execution_count": 44,
     "metadata": {},
     "output_type": "execute_result"
    }
   ],
   "source": [
    "str"
   ]
  },
  {
   "cell_type": "code",
   "execution_count": 46,
   "id": "fe03e154-cb60-4a65-91b7-06a432a3443c",
   "metadata": {},
   "outputs": [
    {
     "data": {
      "text/plain": [
       "'Hello'"
      ]
     },
     "execution_count": 46,
     "metadata": {},
     "output_type": "execute_result"
    }
   ],
   "source": [
    "str[0:5]"
   ]
  },
  {
   "cell_type": "code",
   "execution_count": 48,
   "id": "a98b1dbb-1dea-415d-a7f7-cfbc7707c409",
   "metadata": {},
   "outputs": [
    {
     "data": {
      "text/plain": [
       "'Everyo'"
      ]
     },
     "execution_count": 48,
     "metadata": {},
     "output_type": "execute_result"
    }
   ],
   "source": [
    "str[6:12]"
   ]
  },
  {
   "cell_type": "code",
   "execution_count": 50,
   "id": "98a9b15c-5a6d-432d-8bf7-e64b15be4952",
   "metadata": {},
   "outputs": [
    {
     "data": {
      "text/plain": [
       "'y'"
      ]
     },
     "execution_count": 50,
     "metadata": {},
     "output_type": "execute_result"
    }
   ],
   "source": [
    "str[-4]"
   ]
  },
  {
   "cell_type": "code",
   "execution_count": 52,
   "id": "c3d34a79-8a40-4c5b-8cd1-a710d0b56208",
   "metadata": {},
   "outputs": [
    {
     "data": {
      "text/plain": [
       "'yone'"
      ]
     },
     "execution_count": 52,
     "metadata": {},
     "output_type": "execute_result"
    }
   ],
   "source": [
    "str[-4:]"
   ]
  },
  {
   "cell_type": "code",
   "execution_count": 54,
   "id": "e085ea6e-9aa0-4d6d-b041-34af3d5f5e49",
   "metadata": {},
   "outputs": [
    {
     "data": {
      "text/plain": [
       "'Hello Ever'"
      ]
     },
     "execution_count": 54,
     "metadata": {},
     "output_type": "execute_result"
    }
   ],
   "source": [
    "str[:-4]"
   ]
  },
  {
   "cell_type": "code",
   "execution_count": 56,
   "id": "99e31509-127e-4e6a-a45e-81f4a16aff25",
   "metadata": {},
   "outputs": [
    {
     "data": {
      "text/plain": [
       "'e'"
      ]
     },
     "execution_count": 56,
     "metadata": {},
     "output_type": "execute_result"
    }
   ],
   "source": [
    "str[-6]"
   ]
  },
  {
   "cell_type": "code",
   "execution_count": 58,
   "id": "513b74df-f32e-4432-b2fe-46fd28c78778",
   "metadata": {},
   "outputs": [
    {
     "data": {
      "text/plain": [
       "'eryone'"
      ]
     },
     "execution_count": 58,
     "metadata": {},
     "output_type": "execute_result"
    }
   ],
   "source": [
    "str[-6:]"
   ]
  },
  {
   "cell_type": "code",
   "execution_count": 60,
   "id": "f0bb3ba4-2f5d-4b8c-9700-56f73b5d24e0",
   "metadata": {},
   "outputs": [
    {
     "data": {
      "text/plain": [
       "'Hello Ev'"
      ]
     },
     "execution_count": 60,
     "metadata": {},
     "output_type": "execute_result"
    }
   ],
   "source": [
    "str[:-6]"
   ]
  },
  {
   "cell_type": "code",
   "execution_count": 62,
   "id": "dbfb7d42-74a3-41b2-9260-cd6bbf9886af",
   "metadata": {},
   "outputs": [
    {
     "data": {
      "text/plain": [
       "'Hell'"
      ]
     },
     "execution_count": 62,
     "metadata": {},
     "output_type": "execute_result"
    }
   ],
   "source": [
    "str[:4]"
   ]
  },
  {
   "cell_type": "code",
   "execution_count": 64,
   "id": "852e8586-49d7-4de0-a67a-db7cbd0a35a9",
   "metadata": {},
   "outputs": [
    {
     "data": {
      "text/plain": [
       "'Hello '"
      ]
     },
     "execution_count": 64,
     "metadata": {},
     "output_type": "execute_result"
    }
   ],
   "source": [
    "str[:6]"
   ]
  },
  {
   "cell_type": "code",
   "execution_count": 15,
   "id": "e37e7d4a-e1c6-4c65-b56d-76df957538c6",
   "metadata": {},
   "outputs": [
    {
     "data": {
      "text/plain": [
       "'name'"
      ]
     },
     "execution_count": 15,
     "metadata": {},
     "output_type": "execute_result"
    }
   ],
   "source": [
    "#slicing\n",
    "str1 = 'name'\n",
    "str1"
   ]
  },
  {
   "cell_type": "code",
   "execution_count": 17,
   "id": "67195e42-53e9-4c59-8fa6-c746f7a2d57b",
   "metadata": {},
   "outputs": [
    {
     "data": {
      "text/plain": [
       "'n'"
      ]
     },
     "execution_count": 17,
     "metadata": {},
     "output_type": "execute_result"
    }
   ],
   "source": [
    "str1[0:1]"
   ]
  },
  {
   "cell_type": "code",
   "execution_count": 19,
   "id": "87adc85b-748e-4e73-b8f5-53aeae3fc5dd",
   "metadata": {},
   "outputs": [
    {
     "data": {
      "text/plain": [
       "'na'"
      ]
     },
     "execution_count": 19,
     "metadata": {},
     "output_type": "execute_result"
    }
   ],
   "source": [
    "str1[0:2]"
   ]
  },
  {
   "cell_type": "code",
   "execution_count": 21,
   "id": "ea671cb2-a83f-44b3-a962-96f1048444af",
   "metadata": {},
   "outputs": [
    {
     "data": {
      "text/plain": [
       "'ame'"
      ]
     },
     "execution_count": 21,
     "metadata": {},
     "output_type": "execute_result"
    }
   ],
   "source": [
    "str1[1:4]"
   ]
  },
  {
   "cell_type": "code",
   "execution_count": 27,
   "id": "aafee723-1075-4620-8bc2-56451ae413b0",
   "metadata": {},
   "outputs": [
    {
     "data": {
      "text/plain": [
       "'ame'"
      ]
     },
     "execution_count": 27,
     "metadata": {},
     "output_type": "execute_result"
    }
   ],
   "source": [
    "str1[1:]"
   ]
  },
  {
   "cell_type": "code",
   "execution_count": 29,
   "id": "8a3171c7-60b6-4746-b6b3-b0418c63201e",
   "metadata": {},
   "outputs": [
    {
     "data": {
      "text/plain": [
       "'name'"
      ]
     },
     "execution_count": 29,
     "metadata": {},
     "output_type": "execute_result"
    }
   ],
   "source": [
    "str1[:4]"
   ]
  },
  {
   "cell_type": "code",
   "execution_count": 31,
   "id": "1137f633-56cc-4bfa-a10b-46f43aa6ca6d",
   "metadata": {},
   "outputs": [
    {
     "data": {
      "text/plain": [
       "'e'"
      ]
     },
     "execution_count": 31,
     "metadata": {},
     "output_type": "execute_result"
    }
   ],
   "source": [
    "str1[3:9]"
   ]
  },
  {
   "cell_type": "code",
   "execution_count": 33,
   "id": "5796ee78-4eca-4fdc-a675-866e45aafcae",
   "metadata": {},
   "outputs": [
    {
     "data": {
      "text/plain": [
       "'fine'"
      ]
     },
     "execution_count": 33,
     "metadata": {},
     "output_type": "execute_result"
    }
   ],
   "source": [
    "name = 'fine'\n",
    "name"
   ]
  },
  {
   "cell_type": "code",
   "execution_count": 35,
   "id": "c7bb7c72-f379-43e5-af48-3866f72b473f",
   "metadata": {},
   "outputs": [
    {
     "ename": "TypeError",
     "evalue": "'str' object does not support item assignment",
     "output_type": "error",
     "traceback": [
      "\u001b[1;31m---------------------------------------------------------------------------\u001b[0m",
      "\u001b[1;31mTypeError\u001b[0m                                 Traceback (most recent call last)",
      "Cell \u001b[1;32mIn[35], line 1\u001b[0m\n\u001b[1;32m----> 1\u001b[0m name[\u001b[38;5;241m0\u001b[39m:\u001b[38;5;241m1\u001b[39m] \u001b[38;5;241m=\u001b[39m \u001b[38;5;124m'\u001b[39m\u001b[38;5;124md\u001b[39m\u001b[38;5;124m'\u001b[39m\n",
      "\u001b[1;31mTypeError\u001b[0m: 'str' object does not support item assignment"
     ]
    }
   ],
   "source": [
    "name[0:1] = 'd'"
   ]
  },
  {
   "cell_type": "code",
   "execution_count": 37,
   "id": "a572bfad-aee3-41d7-8515-6971b9c7c7b4",
   "metadata": {},
   "outputs": [
    {
     "ename": "TypeError",
     "evalue": "'str' object does not support item assignment",
     "output_type": "error",
     "traceback": [
      "\u001b[1;31m---------------------------------------------------------------------------\u001b[0m",
      "\u001b[1;31mTypeError\u001b[0m                                 Traceback (most recent call last)",
      "Cell \u001b[1;32mIn[37], line 1\u001b[0m\n\u001b[1;32m----> 1\u001b[0m name[\u001b[38;5;241m0\u001b[39m] \u001b[38;5;241m=\u001b[39m \u001b[38;5;124m'\u001b[39m\u001b[38;5;124md\u001b[39m\u001b[38;5;124m'\u001b[39m\n",
      "\u001b[1;31mTypeError\u001b[0m: 'str' object does not support item assignment"
     ]
    }
   ],
   "source": [
    "name[0] = 'd'"
   ]
  },
  {
   "cell_type": "markdown",
   "id": "2c3bd273-9ab7-4655-9ead-b67b213e388a",
   "metadata": {},
   "source": [
    "## string in python are immutable and it's does not assign the value "
   ]
  },
  {
   "cell_type": "markdown",
   "id": "b30fc660-63d1-4450-be4c-41696ca82a26",
   "metadata": {},
   "source": [
    "# Single line string"
   ]
  },
  {
   "cell_type": "code",
   "execution_count": 51,
   "id": "d6801d8c-37d8-4c39-b09c-a3e7290b88ba",
   "metadata": {},
   "outputs": [
    {
     "name": "stdout",
     "output_type": "stream",
     "text": [
      "R\n",
      "1\n",
      "Hello Word\n",
      "10\n",
      "I hope you are enjoying the 30 days python challenges\n"
     ]
    }
   ],
   "source": [
    "str = 'R'              # A string must be single charcter or the bunch of the text\n",
    "print(str)             #R\n",
    "print(len(str))        #1\n",
    "letter = 'Hello Word'  #a string could be single or double quotes, \"Hello World\"\n",
    "print(letter)          #Hello World\n",
    "print(len(letter))     #10\n",
    "sentence = 'I hope you are enjoying the 30 days python challenges'\n",
    "print(sentence)"
   ]
  },
  {
   "cell_type": "markdown",
   "id": "977b95bd-4e36-4f02-a560-816a648c28fe",
   "metadata": {},
   "source": [
    "# Multi Line String"
   ]
  },
  {
   "cell_type": "code",
   "execution_count": 57,
   "id": "d6b4e5bc-5e15-44f7-bb98-4960a7eb331a",
   "metadata": {},
   "outputs": [
    {
     "name": "stdout",
     "output_type": "stream",
     "text": [
      "I am a student to learn new things,\n",
      "and interesting to learn the naresh it classes\n"
     ]
    }
   ],
   "source": [
    "multiline_string = '''I am a student to learn new things,\n",
    "and interesting to learn the naresh it classes'''\n",
    "print(multiline_string)"
   ]
  },
  {
   "cell_type": "code",
   "execution_count": null,
   "id": "eb0088fd-9a83-4f09-80f9-5cc748e95392",
   "metadata": {},
   "outputs": [],
   "source": [
    "string =\"\"\" "
   ]
  },
  {
   "cell_type": "markdown",
   "id": "b0645e68-667a-4371-a4bf-599ac2df5f21",
   "metadata": {},
   "source": [
    "# Unpacking character"
   ]
  },
  {
   "cell_type": "code",
   "execution_count": 58,
   "id": "3e855380-27fd-4479-9088-b03f92afd1d6",
   "metadata": {},
   "outputs": [
    {
     "name": "stdout",
     "output_type": "stream",
     "text": [
      "P\n",
      "Y\n",
      "T\n",
      "H\n",
      "O\n",
      "N\n"
     ]
    }
   ],
   "source": [
    "Language = 'PYTHON'\n",
    "a,b,c,d,e,f ='PYTHON' #unpacking sequence character into variable\n",
    "print(a)\n",
    "print(b)\n",
    "print(c)\n",
    "print(d)\n",
    "print(e)\n",
    "print(f)"
   ]
  },
  {
   "cell_type": "markdown",
   "id": "0ddda27d-ec05-4f8f-8218-a6acca501828",
   "metadata": {},
   "source": [
    "#  Accessing characters in strings by index"
   ]
  },
  {
   "cell_type": "code",
   "execution_count": 66,
   "id": "910d989b-eb11-4dd6-9f16-b30bb7108406",
   "metadata": {},
   "outputs": [
    {
     "name": "stdout",
     "output_type": "stream",
     "text": [
      "P\n",
      "tho\n",
      "Python language\n",
      "Pto agae\n",
      "e\n",
      "g\n"
     ]
    }
   ],
   "source": [
    "a = \"Python language\"\n",
    "print(a[0])\n",
    "second_name = a[2:5]\n",
    "print(second_name)\n",
    "third_name =a[:]\n",
    "print(third_name)\n",
    "fourth_name=a[::2]\n",
    "print(fourth_name)\n",
    "fifth_name = a[-1::]\n",
    "print(fifth_name)\n",
    "print(a[-2:-1:3])"
   ]
  },
  {
   "cell_type": "markdown",
   "id": "b11c0cd3-2ff3-4136-b694-3796d8dd2052",
   "metadata": {},
   "source": [
    "# Updating and Deleting string"
   ]
  },
  {
   "cell_type": "markdown",
   "id": "05cc1319-bfd2-4f45-a4a3-a9aef7eb95bd",
   "metadata": {},
   "source": [
    "### string is immutable when the element is created it's does not chance "
   ]
  },
  {
   "cell_type": "code",
   "execution_count": 69,
   "id": "09283e50-2868-4d7f-a8de-4bca9818691e",
   "metadata": {},
   "outputs": [
    {
     "data": {
      "text/plain": [
       "'Hello Everyone'"
      ]
     },
     "execution_count": 69,
     "metadata": {},
     "output_type": "execute_result"
    }
   ],
   "source": [
    "str"
   ]
  },
  {
   "cell_type": "code",
   "execution_count": 71,
   "id": "414c65cb-e4cd-478a-aaf7-5504c18c646a",
   "metadata": {},
   "outputs": [
    {
     "data": {
      "text/plain": [
       "'Hello'"
      ]
     },
     "execution_count": 71,
     "metadata": {},
     "output_type": "execute_result"
    }
   ],
   "source": [
    "str[0:5]"
   ]
  },
  {
   "cell_type": "code",
   "execution_count": 73,
   "id": "cd213671-60da-4785-9cc1-9bd7b28f7990",
   "metadata": {},
   "outputs": [
    {
     "ename": "TypeError",
     "evalue": "'str' object does not support item assignment",
     "output_type": "error",
     "traceback": [
      "\u001b[1;31m---------------------------------------------------------------------------\u001b[0m",
      "\u001b[1;31mTypeError\u001b[0m                                 Traceback (most recent call last)",
      "Cell \u001b[1;32mIn[73], line 1\u001b[0m\n\u001b[1;32m----> 1\u001b[0m \u001b[38;5;28mstr\u001b[39m[\u001b[38;5;241m0\u001b[39m:\u001b[38;5;241m2\u001b[39m] \u001b[38;5;241m=\u001b[39m \u001b[38;5;124m'\u001b[39m\u001b[38;5;124mHolla\u001b[39m\u001b[38;5;124m'\u001b[39m\n",
      "\u001b[1;31mTypeError\u001b[0m: 'str' object does not support item assignment"
     ]
    }
   ],
   "source": [
    "str[0:2] = 'Holla'"
   ]
  },
  {
   "cell_type": "code",
   "execution_count": 75,
   "id": "a7ba2805-a526-45d3-a478-83b15e2ce769",
   "metadata": {},
   "outputs": [
    {
     "data": {
      "text/plain": [
       "'o Everyone'"
      ]
     },
     "execution_count": 75,
     "metadata": {},
     "output_type": "execute_result"
    }
   ],
   "source": [
    "str[4:]"
   ]
  },
  {
   "cell_type": "code",
   "execution_count": 77,
   "id": "7ee9d860-34d6-4dad-a312-103dea981134",
   "metadata": {},
   "outputs": [
    {
     "data": {
      "text/plain": [
       "'o Everyo'"
      ]
     },
     "execution_count": 77,
     "metadata": {},
     "output_type": "execute_result"
    }
   ],
   "source": [
    "str[4:12]"
   ]
  },
  {
   "cell_type": "code",
   "execution_count": 79,
   "id": "c4e2cfb2-6ec1-454f-bbf3-14dc8258ddd5",
   "metadata": {},
   "outputs": [
    {
     "data": {
      "text/plain": [
       "'Hello '"
      ]
     },
     "execution_count": 79,
     "metadata": {},
     "output_type": "execute_result"
    }
   ],
   "source": [
    "str[:6]"
   ]
  },
  {
   "cell_type": "code",
   "execution_count": 81,
   "id": "658f0cad-0280-4737-8b97-3ad480e0c511",
   "metadata": {},
   "outputs": [
    {
     "data": {
      "text/plain": [
       "'Hello Everyone'"
      ]
     },
     "execution_count": 81,
     "metadata": {},
     "output_type": "execute_result"
    }
   ],
   "source": [
    "str[:]"
   ]
  },
  {
   "cell_type": "code",
   "execution_count": 83,
   "id": "0defa148-04b8-4e45-9c73-e877d91f3f49",
   "metadata": {},
   "outputs": [
    {
     "data": {
      "text/plain": [
       "''"
      ]
     },
     "execution_count": 83,
     "metadata": {},
     "output_type": "execute_result"
    }
   ],
   "source": [
    "str[16:]"
   ]
  },
  {
   "cell_type": "code",
   "execution_count": 85,
   "id": "3fcbd1a5-f17b-4c91-976f-d88258737514",
   "metadata": {},
   "outputs": [
    {
     "data": {
      "text/plain": [
       "'Hello Everyone'"
      ]
     },
     "execution_count": 85,
     "metadata": {},
     "output_type": "execute_result"
    }
   ],
   "source": [
    "str[:18]"
   ]
  },
  {
   "cell_type": "code",
   "execution_count": 87,
   "id": "88080e3a-271d-4df8-8697-59246ea559c0",
   "metadata": {},
   "outputs": [
    {
     "ename": "IndexError",
     "evalue": "string index out of range",
     "output_type": "error",
     "traceback": [
      "\u001b[1;31m---------------------------------------------------------------------------\u001b[0m",
      "\u001b[1;31mIndexError\u001b[0m                                Traceback (most recent call last)",
      "Cell \u001b[1;32mIn[87], line 1\u001b[0m\n\u001b[1;32m----> 1\u001b[0m \u001b[38;5;28mstr\u001b[39m[\u001b[38;5;241m18\u001b[39m]\n",
      "\u001b[1;31mIndexError\u001b[0m: string index out of range"
     ]
    }
   ],
   "source": [
    "str[18]"
   ]
  },
  {
   "cell_type": "code",
   "execution_count": 89,
   "id": "18de5f2b-ee94-425d-b899-afe79c368e06",
   "metadata": {},
   "outputs": [
    {
     "data": {
      "text/plain": [
       "'e'"
      ]
     },
     "execution_count": 89,
     "metadata": {},
     "output_type": "execute_result"
    }
   ],
   "source": [
    "str[-1:]"
   ]
  },
  {
   "cell_type": "code",
   "execution_count": 91,
   "id": "a04560d9-863e-4f48-8d89-fea87ba5b51a",
   "metadata": {},
   "outputs": [
    {
     "data": {
      "text/plain": [
       "'Hello Ever'"
      ]
     },
     "execution_count": 91,
     "metadata": {},
     "output_type": "execute_result"
    }
   ],
   "source": [
    "str[:-4]"
   ]
  },
  {
   "cell_type": "code",
   "execution_count": 93,
   "id": "c957025f-dce9-43cf-b49d-10b4a141d49b",
   "metadata": {},
   "outputs": [
    {
     "data": {
      "text/plain": [
       "'Hell'"
      ]
     },
     "execution_count": 93,
     "metadata": {},
     "output_type": "execute_result"
    }
   ],
   "source": [
    "str[:4]"
   ]
  },
  {
   "cell_type": "code",
   "execution_count": 97,
   "id": "59687235-17ee-4697-818c-61331cf16dde",
   "metadata": {},
   "outputs": [
    {
     "ename": "NameError",
     "evalue": "name 'str' is not defined",
     "output_type": "error",
     "traceback": [
      "\u001b[1;31m---------------------------------------------------------------------------\u001b[0m",
      "\u001b[1;31mNameError\u001b[0m                                 Traceback (most recent call last)",
      "Cell \u001b[1;32mIn[97], line 1\u001b[0m\n\u001b[1;32m----> 1\u001b[0m \u001b[38;5;28;01mdel\u001b[39;00m \u001b[38;5;28mstr\u001b[39m\n\u001b[0;32m      2\u001b[0m \u001b[38;5;28mprint\u001b[39m(\u001b[38;5;28mstr\u001b[39m)\n",
      "\u001b[1;31mNameError\u001b[0m: name 'str' is not defined"
     ]
    }
   ],
   "source": [
    "del str\n",
    "print(str)"
   ]
  },
  {
   "cell_type": "markdown",
   "id": "c40c7c06-08b0-4d14-9714-971b2995e077",
   "metadata": {},
   "source": [
    "# String Concatination"
   ]
  },
  {
   "cell_type": "code",
   "execution_count": 5,
   "id": "cd86a881-7849-4434-a806-91996ac7866d",
   "metadata": {},
   "outputs": [
    {
     "name": "stdout",
     "output_type": "stream",
     "text": [
      "Hello Python \n"
     ]
    }
   ],
   "source": [
    "str1 = 'Hello '\n",
    "str2 = 'Python '\n",
    "str3 = str1 + str2\n",
    "print(str3)"
   ]
  },
  {
   "cell_type": "code",
   "execution_count": 54,
   "id": "fa8fc6eb-2bba-4eab-b486-dd6f13bd1167",
   "metadata": {},
   "outputs": [
    {
     "name": "stdout",
     "output_type": "stream",
     "text": [
      "Ritika Chintalwar\n",
      "6\n",
      "10\n",
      "1\n",
      "17\n"
     ]
    }
   ],
   "source": [
    "#another way of the concatination\n",
    "first_name = 'Ritika'\n",
    "Last_name = 'Chintalwar'\n",
    "space = ' '\n",
    "full_name =first_name+space+Last_name\n",
    "print(full_name)\n",
    "print(len(first_name))\n",
    "print(len(Last_name))\n",
    "print(len(space))\n",
    "print(len(full_name))"
   ]
  },
  {
   "cell_type": "markdown",
   "id": "f788aa8f-a38b-4f3d-8560-4db8ca97dad0",
   "metadata": {},
   "source": [
    "# Escape sequence\n"
   ]
  },
  {
   "cell_type": "code",
   "execution_count": 71,
   "id": "73224cf9-8727-4fb8-b354-88dbefa16d8f",
   "metadata": {},
   "outputs": [
    {
     "name": "stdout",
     "output_type": "stream",
     "text": [
      "Days of weeks\n",
      "Day 1\tMonday\n",
      "Day 2\tTuesday\n",
      "Day 3\tWednesday\n",
      "Day 4\tThursday\n",
      "Day 5\tFriday\n",
      "Day 6\tSaturday\n",
      "Day 7\tSunday\n"
     ]
    }
   ],
   "source": [
    "print('Days of weeks')\n",
    "print('Day 1\\tMonday')\n",
    "print('Day 2\\tTuesday')\n",
    "print('Day 3\\tWednesday')\n",
    "print('Day 4\\tThursday')\n",
    "print('Day 5\\tFriday')\n",
    "print('Day 6\\tSaturday')\n",
    "print('Day 7\\tSunday')"
   ]
  },
  {
   "cell_type": "markdown",
   "id": "66445a19-e249-415e-9584-413b2ace139c",
   "metadata": {},
   "source": [
    "# String Method"
   ]
  },
  {
   "cell_type": "raw",
   "id": "1fa366e6-3d39-4dcb-bd47-2478ad44e595",
   "metadata": {},
   "source": [
    "1.capitalize()\n",
    "2.count()\n",
    "3.endswith()\n",
    "4.expandtabs()\n",
    "5. find()\n",
    "6.format()\n",
    "7.isalnum()\n",
    "8.isalpha()\n",
    "9.isdecimal()\n",
    "10.isdigit()\n",
    "11.isidentifier()\n",
    "12.islower()\n",
    "13.isupper()\n",
    "14.isnumeric()\n",
    "15.join()\n",
    "16.strip()\n",
    "17.replace()\n",
    "18.split()\n",
    "19. title()\n",
    "20.swapcase()\n",
    "21.startswith()"
   ]
  },
  {
   "cell_type": "code",
   "execution_count": 80,
   "id": "6ff739f0-7ee4-4ee2-888b-ad0510b0ad98",
   "metadata": {},
   "outputs": [
    {
     "name": "stdout",
     "output_type": "stream",
     "text": [
      "Thirty days of python\n"
     ]
    }
   ],
   "source": [
    "#capitalize\n",
    "str = 'thirty days of python'\n",
    "print(str.capitalize())"
   ]
  },
  {
   "cell_type": "code",
   "execution_count": 86,
   "id": "b3e9a04c-e5f9-475b-8f9b-c97189aee8f3",
   "metadata": {},
   "outputs": [
    {
     "name": "stdout",
     "output_type": "stream",
     "text": [
      "3\n"
     ]
    }
   ],
   "source": [
    "str = 'thirty days of python'\n",
    "print(str.count('y'))"
   ]
  },
  {
   "cell_type": "code",
   "execution_count": 88,
   "id": "fcab46db-7625-4760-af2d-f69c5556ea6d",
   "metadata": {},
   "outputs": [
    {
     "name": "stdout",
     "output_type": "stream",
     "text": [
      "3\n",
      "2\n",
      "1\n"
     ]
    }
   ],
   "source": [
    "#count\n",
    "print(str.count('t'))\n",
    "print(str.count('h'))\n",
    "print(str.count('s'))"
   ]
  },
  {
   "cell_type": "code",
   "execution_count": 90,
   "id": "659e5d8b-5ece-4726-801d-0f9a1950d042",
   "metadata": {},
   "outputs": [
    {
     "data": {
      "text/plain": [
       "'thirty days of python'"
      ]
     },
     "execution_count": 90,
     "metadata": {},
     "output_type": "execute_result"
    }
   ],
   "source": [
    "str"
   ]
  },
  {
   "cell_type": "code",
   "execution_count": 95,
   "id": "4f980eac-86c5-4477-b272-7616cde50cbc",
   "metadata": {},
   "outputs": [
    {
     "name": "stdout",
     "output_type": "stream",
     "text": [
      "False\n",
      "True\n"
     ]
    }
   ],
   "source": [
    "#endswith\n",
    "print(str.endswith('tion'))\n",
    "print(str.endswith('hon'))"
   ]
  },
  {
   "cell_type": "code",
   "execution_count": 111,
   "id": "9617b1ca-3300-4a61-89d4-a42ed7f44766",
   "metadata": {},
   "outputs": [
    {
     "name": "stdout",
     "output_type": "stream",
     "text": [
      "thirty  days    of      python\n",
      "thirty    days      of        python\n"
     ]
    }
   ],
   "source": [
    "#expandtabs\n",
    "challenge = 'thirty\\tdays\\tof\\tpython'\n",
    "print(challenge .expandtabs())\n",
    "print(challenge.expandtabs(10))"
   ]
  },
  {
   "cell_type": "code",
   "execution_count": 119,
   "id": "40f3de94-e366-4a31-9c0d-dab87186cddd",
   "metadata": {},
   "outputs": [
    {
     "name": "stdout",
     "output_type": "stream",
     "text": [
      "5\n",
      "12\n",
      "10\n"
     ]
    }
   ],
   "source": [
    "#find\n",
    "print(str.find('y'))\n",
    "print(str.find('o'))\n",
    "print(str.find('s'))"
   ]
  },
  {
   "cell_type": "code",
   "execution_count": 123,
   "id": "9bd9b4bf-f570-4cb1-abbb-e1fa647369e3",
   "metadata": {},
   "outputs": [
    {
     "name": "stdout",
     "output_type": "stream",
     "text": [
      "My  first name is ritika, last name is chintalwar\n"
     ]
    }
   ],
   "source": [
    "#format()\n",
    "f_name = 'ritika'\n",
    "l_name ='chintalwar'\n",
    "print('My  first name is {}, last name is {}'.format(f_name,l_name)) "
   ]
  },
  {
   "cell_type": "code",
   "execution_count": 125,
   "id": "60565584-e9b0-43f2-ac4d-57f4687251e9",
   "metadata": {},
   "outputs": [
    {
     "name": "stdout",
     "output_type": "stream",
     "text": [
      "False\n"
     ]
    }
   ],
   "source": [
    "#isalnum() :--> hecks the alphanumeric character\n",
    "print(str.isalnum())"
   ]
  },
  {
   "cell_type": "code",
   "execution_count": 129,
   "id": "302812a1-949b-429a-a847-1077490e22d3",
   "metadata": {},
   "outputs": [
    {
     "name": "stdout",
     "output_type": "stream",
     "text": [
      "True\n"
     ]
    }
   ],
   "source": [
    "str1 = 'thirtyDaysofPython'\n",
    "print(str1.isalnum())"
   ]
  },
  {
   "cell_type": "code",
   "execution_count": 131,
   "id": "d285f0d3-c1fc-4bd4-a361-47484139e5c2",
   "metadata": {},
   "outputs": [
    {
     "name": "stdout",
     "output_type": "stream",
     "text": [
      "True\n"
     ]
    }
   ],
   "source": [
    "str2 = 'thirtyDaysofPython2025'\n",
    "print(str2.isalnum())"
   ]
  },
  {
   "cell_type": "code",
   "execution_count": 133,
   "id": "55dc6438-d565-41d4-82cf-f63bce62468c",
   "metadata": {},
   "outputs": [
    {
     "name": "stdout",
     "output_type": "stream",
     "text": [
      "False\n"
     ]
    }
   ],
   "source": [
    "str3 = 'thirtyDaysofPython 2018'\n",
    "print(str3.isalnum())"
   ]
  },
  {
   "cell_type": "code",
   "execution_count": 141,
   "id": "168ceb60-f3b1-4594-9670-fa22da38efea",
   "metadata": {},
   "outputs": [
    {
     "name": "stdout",
     "output_type": "stream",
     "text": [
      "True\n",
      "False\n",
      "False\n"
     ]
    }
   ],
   "source": [
    "#isalpha() :-->check the if all character are alphabet\n",
    "print(str1.isalpha())\n",
    "print(str2.isalpha())\n",
    "print(str3.isalpha())"
   ]
  },
  {
   "cell_type": "code",
   "execution_count": 143,
   "id": "5898487b-a72a-4838-a4e4-4992abaf8288",
   "metadata": {},
   "outputs": [
    {
     "name": "stdout",
     "output_type": "stream",
     "text": [
      "True\n"
     ]
    }
   ],
   "source": [
    "#isdecimal():--->check decimal character\n",
    "str = '1233445'\n",
    "print(str.isdecimal())"
   ]
  },
  {
   "cell_type": "code",
   "execution_count": 145,
   "id": "3d5013af-43e2-422c-86f5-e705517aeeab",
   "metadata": {},
   "outputs": [
    {
     "name": "stdout",
     "output_type": "stream",
     "text": [
      "False\n"
     ]
    }
   ],
   "source": [
    "print(str2.isdecimal())"
   ]
  },
  {
   "cell_type": "code",
   "execution_count": 147,
   "id": "57bbc71b-2d55-47b2-88ec-35be7a09b874",
   "metadata": {},
   "outputs": [
    {
     "name": "stdout",
     "output_type": "stream",
     "text": [
      "False\n"
     ]
    }
   ],
   "source": [
    "dec = '123412a'\n",
    "print(dec.isdecimal())"
   ]
  },
  {
   "cell_type": "code",
   "execution_count": 151,
   "id": "b8d4fc97-c8bb-443d-969a-7b79289966d2",
   "metadata": {},
   "outputs": [
    {
     "name": "stdout",
     "output_type": "stream",
     "text": [
      "True\n",
      "False\n"
     ]
    }
   ],
   "source": [
    "#isdigit():--->check digit character\n",
    "dig = '987654'\n",
    "print(dig.isdigit())\n",
    "print(dec.isdigit())"
   ]
  },
  {
   "cell_type": "code",
   "execution_count": 153,
   "id": "408a2d01-168f-47b8-8568-ab5cc191d0bd",
   "metadata": {},
   "outputs": [
    {
     "name": "stdout",
     "output_type": "stream",
     "text": [
      "False\n"
     ]
    }
   ],
   "source": [
    "digit ='fifty'\n",
    "print(digit.isdigit())"
   ]
  },
  {
   "cell_type": "code",
   "execution_count": 1,
   "id": "a149bd36-691a-46a2-9e5e-280ddacfb869",
   "metadata": {},
   "outputs": [
    {
     "name": "stdout",
     "output_type": "stream",
     "text": [
      "False\n"
     ]
    }
   ],
   "source": [
    "#isidentifier() :-->Checks for valid identifier means it check if a string is a valid variable name\n",
    "challenge = 'thirty days of python'\n",
    "print(challenge.isidentifier())"
   ]
  },
  {
   "cell_type": "code",
   "execution_count": 3,
   "id": "75464e65-f0e4-41f9-ae49-a06190bd340a",
   "metadata": {},
   "outputs": [
    {
     "name": "stdout",
     "output_type": "stream",
     "text": [
      "False\n"
     ]
    }
   ],
   "source": [
    "den = '30daysofpython'\n",
    "print(den.isidentifier())"
   ]
  },
  {
   "cell_type": "code",
   "execution_count": 7,
   "id": "e9d8e4e9-38ba-4849-8405-a82203d7176d",
   "metadata": {},
   "outputs": [
    {
     "name": "stdout",
     "output_type": "stream",
     "text": [
      "True\n"
     ]
    }
   ],
   "source": [
    "dentifier = 'Thirty_days_of_python_30'\n",
    "print(dentifier.isidentifier())"
   ]
  },
  {
   "cell_type": "code",
   "execution_count": 9,
   "id": "956b442a-a577-4c31-823b-608d86fd6f74",
   "metadata": {},
   "outputs": [
    {
     "name": "stdout",
     "output_type": "stream",
     "text": [
      "False\n"
     ]
    }
   ],
   "source": [
    "# islower():-Check  if all alphabet and string in a lower\n",
    "low = 'THIRTY DAYS OF PYTHON'\n",
    "print(low.islower())"
   ]
  },
  {
   "cell_type": "code",
   "execution_count": 26,
   "id": "8e092bba-df89-4cd3-8f01-9fd65224d000",
   "metadata": {},
   "outputs": [
    {
     "name": "stdout",
     "output_type": "stream",
     "text": [
      "True\n"
     ]
    }
   ],
   "source": [
    "print(challenge.islower())"
   ]
  },
  {
   "cell_type": "code",
   "execution_count": 28,
   "id": "7d4f757b-3076-4426-8ee0-76207b794ef4",
   "metadata": {},
   "outputs": [
    {
     "name": "stdout",
     "output_type": "stream",
     "text": [
      "True\n"
     ]
    }
   ],
   "source": [
    "# isupper():-->return all charcter are the uppercase character\n",
    "print(low.isupper())"
   ]
  },
  {
   "cell_type": "code",
   "execution_count": 30,
   "id": "f1e99161-16cb-4a61-9a75-bdecccaeae47",
   "metadata": {},
   "outputs": [
    {
     "name": "stdout",
     "output_type": "stream",
     "text": [
      "False\n"
     ]
    }
   ],
   "source": [
    "print(dentifier.islower())"
   ]
  },
  {
   "cell_type": "code",
   "execution_count": 34,
   "id": "dbe6ca53-e449-4d56-917b-1193c2f18886",
   "metadata": {},
   "outputs": [
    {
     "name": "stdout",
     "output_type": "stream",
     "text": [
      "True\n",
      "False\n"
     ]
    }
   ],
   "source": [
    "#isnumeric():--check numeric character\n",
    "num = '10'\n",
    "print(num.isnumeric())\n",
    "print('ten'.isnumeric())"
   ]
  },
  {
   "cell_type": "code",
   "execution_count": 36,
   "id": "4d2dddd4-0de2-4f35-955b-a3d26d1bc529",
   "metadata": {},
   "outputs": [
    {
     "name": "stdout",
     "output_type": "stream",
     "text": [
      "Html CSS Javascript ReactJS NodeJS PHP SQL\n"
     ]
    }
   ],
   "source": [
    "#join():--Return the concatenate string\n",
    "web_tech = ['Html','CSS','Javascript','ReactJS','NodeJS','PHP','SQL']\n",
    "result= ' '.join(web_tech)\n",
    "print(result)"
   ]
  },
  {
   "cell_type": "code",
   "execution_count": 40,
   "id": "68634179-e458-4818-a7fa-d8af711a472b",
   "metadata": {},
   "outputs": [
    {
     "name": "stdout",
     "output_type": "stream",
     "text": [
      "thirty days of python\n"
     ]
    }
   ],
   "source": [
    "#Strip():-->Remove Both Leading and trailing character\n",
    "challenge = 'thirty days of python'\n",
    "print(challenge.strip('y'))"
   ]
  },
  {
   "cell_type": "code",
   "execution_count": 44,
   "id": "4ba6759f-d5d2-4e3c-aa7c-e4cd1b4f75c2",
   "metadata": {},
   "outputs": [
    {
     "name": "stdout",
     "output_type": "stream",
     "text": [
      "ten days of CODING\n"
     ]
    }
   ],
   "source": [
    "#replace :-->Replace substring inside\n",
    "challenge = 'ten days of python'\n",
    "print(challenge.replace('python','CODING'))"
   ]
  },
  {
   "cell_type": "code",
   "execution_count": 46,
   "id": "90642b5d-d5ea-4bae-8bc3-ee90b1dcc87d",
   "metadata": {},
   "outputs": [
    {
     "name": "stdout",
     "output_type": "stream",
     "text": [
      "['ten', 'days', 'of', 'python']\n"
     ]
    }
   ],
   "source": [
    "#split():-->split string from ledt\n",
    "print(challenge.split())"
   ]
  },
  {
   "cell_type": "code",
   "execution_count": 48,
   "id": "e2df19a2-89c4-4bb7-a41e-5cae1cacf35a",
   "metadata": {},
   "outputs": [
    {
     "name": "stdout",
     "output_type": "stream",
     "text": [
      "Ten Days Of Python\n"
     ]
    }
   ],
   "source": [
    "#title:--> Return a Title\n",
    "print(challenge.title())\n"
   ]
  },
  {
   "cell_type": "code",
   "execution_count": 50,
   "id": "bad745da-140d-47d9-ae40-e835548b1bb4",
   "metadata": {},
   "outputs": [
    {
     "name": "stdout",
     "output_type": "stream",
     "text": [
      "True\n"
     ]
    }
   ],
   "source": [
    "#startswith:->check if the string start with specified string\n",
    "print(challenge.startswith('ten'))"
   ]
  },
  {
   "cell_type": "code",
   "execution_count": 52,
   "id": "53c7c91d-985c-4e92-926f-8c43aca7ecb9",
   "metadata": {},
   "outputs": [
    {
     "name": "stdout",
     "output_type": "stream",
     "text": [
      "False\n"
     ]
    }
   ],
   "source": [
    "print(challenge.startswith('thirty'))"
   ]
  }
 ],
 "metadata": {
  "kernelspec": {
   "display_name": "Python 3 (ipykernel)",
   "language": "python",
   "name": "python3"
  },
  "language_info": {
   "codemirror_mode": {
    "name": "ipython",
    "version": 3
   },
   "file_extension": ".py",
   "mimetype": "text/x-python",
   "name": "python",
   "nbconvert_exporter": "python",
   "pygments_lexer": "ipython3",
   "version": "3.12.7"
  }
 },
 "nbformat": 4,
 "nbformat_minor": 5
}
