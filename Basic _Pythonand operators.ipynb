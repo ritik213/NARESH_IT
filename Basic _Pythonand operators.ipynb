{
 "cells": [
  {
   "cell_type": "markdown",
   "id": "32d58983-3a1b-4852-b149-796d3da0de44",
   "metadata": {},
   "source": [
    "-  undescore:- It is nothing but the it take perivious output.\n",
    "-  Some of the system might be work may not be work because of ide version , (except the google colab)"
   ]
  },
  {
   "cell_type": "markdown",
   "id": "c284a019-90d3-4e60-a022-11ba3bb6bf60",
   "metadata": {},
   "source": [
    "# To Find Help"
   ]
  },
  {
   "cell_type": "markdown",
   "id": "d257415e-9436-4b58-ad6b-e70fbdbb1e8e",
   "metadata": {},
   "source": [
    "- steps to find the help\n",
    "- 1] help()\n",
    "- 2] Topic\n",
    "- 3] search as per the requirements\n",
    "- 4]if you want help on any command then help(list) || help(tuple)"
   ]
  },
  {
   "cell_type": "code",
   "execution_count": null,
   "id": "2ca4c687-9ea6-486b-b2f5-27985320855a",
   "metadata": {},
   "outputs": [
    {
     "name": "stdout",
     "output_type": "stream",
     "text": [
      "Welcome to Python 3.12's help utility! If this is your first time using\n",
      "Python, you should definitely check out the tutorial at\n",
      "https://docs.python.org/3.12/tutorial/.\n",
      "\n",
      "Enter the name of any module, keyword, or topic to get help on writing\n",
      "Python programs and using Python modules.  To get a list of available\n",
      "modules, keywords, symbols, or topics, enter \"modules\", \"keywords\",\n",
      "\"symbols\", or \"topics\".\n",
      "\n",
      "Each module also comes with a one-line summary of what it does; to list\n",
      "the modules whose name or summary contain a given string such as \"spam\",\n",
      "enter \"modules spam\".\n",
      "\n",
      "To quit this help utility and return to the interpreter,\n",
      "enter \"q\" or \"quit\".\n",
      "\n"
     ]
    }
   ],
   "source": [
    "help()"
   ]
  },
  {
   "cell_type": "markdown",
   "id": "8e310496-88e8-4976-af6d-513488e7ddaf",
   "metadata": {},
   "source": [
    "# Introduction to ID()"
   ]
  },
  {
   "cell_type": "code",
   "execution_count": 10,
   "id": "5ef2eb82-b9dd-4f60-b461-494cc92f6ced",
   "metadata": {},
   "outputs": [
    {
     "data": {
      "text/plain": [
       "140703730313784"
      ]
     },
     "execution_count": 10,
     "metadata": {},
     "output_type": "execute_result"
    }
   ],
   "source": [
    "#variable address\n",
    "num = 5\n",
    "id(num)"
   ]
  },
  {
   "cell_type": "code",
   "execution_count": 14,
   "id": "1dc1c1bb-63e1-4b09-a9aa-d30df61ad253",
   "metadata": {},
   "outputs": [
    {
     "data": {
      "text/plain": [
       "2305435335920"
      ]
     },
     "execution_count": 14,
     "metadata": {},
     "output_type": "execute_result"
    }
   ],
   "source": [
    "num1 = 'python'\n",
    "id(num1) #every address have different id"
   ]
  },
  {
   "cell_type": "code",
   "execution_count": 16,
   "id": "33355b3b-87e0-4aca-b50f-7341638a84f3",
   "metadata": {},
   "outputs": [
    {
     "data": {
      "text/plain": [
       "10"
      ]
     },
     "execution_count": 16,
     "metadata": {},
     "output_type": "execute_result"
    }
   ],
   "source": [
    "a = 10\n",
    "a"
   ]
  },
  {
   "cell_type": "code",
   "execution_count": 18,
   "id": "40376baf-35a6-462a-918c-746bf6c20be2",
   "metadata": {},
   "outputs": [],
   "source": [
    "b = a  # that why python is more memory efficient"
   ]
  },
  {
   "cell_type": "code",
   "execution_count": 20,
   "id": "8c334946-fb52-4fb9-bf42-29ba40766d06",
   "metadata": {},
   "outputs": [
    {
     "data": {
      "text/plain": [
       "10"
      ]
     },
     "execution_count": 20,
     "metadata": {},
     "output_type": "execute_result"
    }
   ],
   "source": [
    "b"
   ]
  },
  {
   "cell_type": "code",
   "execution_count": 22,
   "id": "cc353b1c-4d8b-4db1-a8c4-ea2fd40f9ca4",
   "metadata": {},
   "outputs": [
    {
     "data": {
      "text/plain": [
       "140703730313944"
      ]
     },
     "execution_count": 22,
     "metadata": {},
     "output_type": "execute_result"
    }
   ],
   "source": [
    "id(b)"
   ]
  },
  {
   "cell_type": "code",
   "execution_count": 24,
   "id": "686bf740-b946-4915-9392-a91db9b2c58f",
   "metadata": {},
   "outputs": [
    {
     "data": {
      "text/plain": [
       "140703730313944"
      ]
     },
     "execution_count": 24,
     "metadata": {},
     "output_type": "execute_result"
    }
   ],
   "source": [
    "id(10)"
   ]
  },
  {
   "cell_type": "code",
   "execution_count": 26,
   "id": "19a1548e-f22b-40d7-bf9e-82306e58dbef",
   "metadata": {},
   "outputs": [
    {
     "data": {
      "text/plain": [
       "True"
      ]
     },
     "execution_count": 26,
     "metadata": {},
     "output_type": "execute_result"
    }
   ],
   "source": [
    "a == b"
   ]
  },
  {
   "cell_type": "code",
   "execution_count": 28,
   "id": "64a2b656-9fd8-44c7-be09-66a70424ebac",
   "metadata": {},
   "outputs": [
    {
     "data": {
      "text/plain": [
       "140703730313944"
      ]
     },
     "execution_count": 28,
     "metadata": {},
     "output_type": "execute_result"
    }
   ],
   "source": [
    "k = 10\n",
    "id(k)"
   ]
  },
  {
   "cell_type": "code",
   "execution_count": 30,
   "id": "6fcfd7e4-504c-41ad-9632-6cd6cff4d48d",
   "metadata": {},
   "outputs": [
    {
     "data": {
      "text/plain": [
       "140703730314264"
      ]
     },
     "execution_count": 30,
     "metadata": {},
     "output_type": "execute_result"
    }
   ],
   "source": [
    "a = 20\n",
    "id(a)  # when we change the value address also change"
   ]
  },
  {
   "cell_type": "markdown",
   "id": "393dc87f-56b9-4af7-b556-f58de18d5e75",
   "metadata": {},
   "source": [
    "- what ever the variale we assigned the memory and we not assigned anywhere then we can use as garbage collection.|| \n",
    "VARIABLE - we can change the values || CONSTANT - we cannot change the value\n",
    "- can we make VARIABLE as a CONSTANT (note - in python you cannot make variable as constant)\n"
   ]
  },
  {
   "cell_type": "code",
   "execution_count": 51,
   "id": "a6f2ded3-4c0c-48b5-bb55-51b5b947fa4f",
   "metadata": {},
   "outputs": [
    {
     "data": {
      "text/plain": [
       "3.14"
      ]
     },
     "execution_count": 51,
     "metadata": {},
     "output_type": "execute_result"
    }
   ],
   "source": [
    "PI = 3.14    # In maths it is always constant but in python it can change the value\n",
    "PI"
   ]
  },
  {
   "cell_type": "code",
   "execution_count": 57,
   "id": "1b0a2b9d-6b51-4ee1-af25-d4ce2d0d7e97",
   "metadata": {},
   "outputs": [
    {
     "data": {
      "text/plain": [
       "3.18"
      ]
     },
     "execution_count": 57,
     "metadata": {},
     "output_type": "execute_result"
    }
   ],
   "source": [
    "PI = 3.18\n",
    "PI"
   ]
  },
  {
   "cell_type": "code",
   "execution_count": 59,
   "id": "f4c013a0-dc59-4289-856b-624e1182d845",
   "metadata": {},
   "outputs": [
    {
     "data": {
      "text/plain": [
       "float"
      ]
     },
     "execution_count": 59,
     "metadata": {},
     "output_type": "execute_result"
    }
   ],
   "source": [
    "type(PI)"
   ]
  },
  {
   "cell_type": "markdown",
   "id": "5ea43302-46a7-4654-bdcf-27b6e0eac6b3",
   "metadata": {},
   "source": [
    "# range"
   ]
  },
  {
   "cell_type": "code",
   "execution_count": 62,
   "id": "a9744816-3373-44ca-8981-bedf5904b4cd",
   "metadata": {},
   "outputs": [
    {
     "data": {
      "text/plain": [
       "range(0, 10)"
      ]
     },
     "execution_count": 62,
     "metadata": {},
     "output_type": "execute_result"
    }
   ],
   "source": [
    "r = range(0,10)\n",
    "r"
   ]
  },
  {
   "cell_type": "code",
   "execution_count": 64,
   "id": "36322abd-bf5d-4ff2-a9e4-6cdef1eed6dd",
   "metadata": {},
   "outputs": [
    {
     "data": {
      "text/plain": [
       "range"
      ]
     },
     "execution_count": 64,
     "metadata": {},
     "output_type": "execute_result"
    }
   ],
   "source": [
    "type(r)"
   ]
  },
  {
   "cell_type": "code",
   "execution_count": 66,
   "id": "e9047bb9-c19b-40bd-a188-d1551ca9de82",
   "metadata": {},
   "outputs": [
    {
     "data": {
      "text/plain": [
       "[0, 1, 2, 3, 4, 5, 6, 7, 8, 9]"
      ]
     },
     "execution_count": 66,
     "metadata": {},
     "output_type": "execute_result"
    }
   ],
   "source": [
    "list(range(10))  # if we peint the range"
   ]
  },
  {
   "cell_type": "code",
   "execution_count": 68,
   "id": "8277aa38-ab9f-4743-a73a-8c9cb971bc40",
   "metadata": {},
   "outputs": [
    {
     "data": {
      "text/plain": [
       "{1: 'one', 2: 'two', 3: 'three', 4: 'four'}"
      ]
     },
     "execution_count": 68,
     "metadata": {},
     "output_type": "execute_result"
    }
   ],
   "source": [
    "a = {1 : 'one', 2: 'two', 3:\"three\",4:\"four\"}\n",
    "a"
   ]
  },
  {
   "cell_type": "code",
   "execution_count": 70,
   "id": "469aba9f-bac7-450e-90ba-d1c10f42d6d0",
   "metadata": {},
   "outputs": [
    {
     "data": {
      "text/plain": [
       "dict"
      ]
     },
     "execution_count": 70,
     "metadata": {},
     "output_type": "execute_result"
    }
   ],
   "source": [
    "type(a)"
   ]
  },
  {
   "cell_type": "code",
   "execution_count": 72,
   "id": "5845b690-683b-4f84-9976-c342adcf10e9",
   "metadata": {},
   "outputs": [
    {
     "data": {
      "text/plain": [
       "'three'"
      ]
     },
     "execution_count": 72,
     "metadata": {},
     "output_type": "execute_result"
    }
   ],
   "source": [
    "# how to get particular :- by using get ()or access the element\n",
    "a[3]"
   ]
  },
  {
   "cell_type": "code",
   "execution_count": 74,
   "id": "faa1c25a-1df8-4c10-856c-3e319d56eed2",
   "metadata": {},
   "outputs": [
    {
     "data": {
      "text/plain": [
       "'one'"
      ]
     },
     "execution_count": 74,
     "metadata": {},
     "output_type": "execute_result"
    }
   ],
   "source": [
    "a.get(1)"
   ]
  },
  {
   "cell_type": "code",
   "execution_count": 76,
   "id": "54ddeb16-f97a-4cdb-81ae-cf892d8eaadc",
   "metadata": {},
   "outputs": [
    {
     "data": {
      "text/plain": [
       "dict_values(['one', 'two', 'three', 'four'])"
      ]
     },
     "execution_count": 76,
     "metadata": {},
     "output_type": "execute_result"
    }
   ],
   "source": [
    "a.values()"
   ]
  },
  {
   "cell_type": "code",
   "execution_count": 78,
   "id": "b702092e-dbb9-49ee-8316-bacf25ed4644",
   "metadata": {},
   "outputs": [
    {
     "data": {
      "text/plain": [
       "dict_keys([1, 2, 3, 4])"
      ]
     },
     "execution_count": 78,
     "metadata": {},
     "output_type": "execute_result"
    }
   ],
   "source": [
    "a.keys()"
   ]
  },
  {
   "cell_type": "markdown",
   "id": "92898c89-85ca-4d64-b7b7-cb2d5debbc18",
   "metadata": {},
   "source": [
    "# Opreator in python"
   ]
  },
  {
   "cell_type": "markdown",
   "id": "d8534096-32a1-4140-8244-e104c3fc4610",
   "metadata": {},
   "source": [
    "- Arthmetic operator:- +,-,*,/,**,%\n",
    "- Assignment operator:- ==, +=, -=, *=, /=\n",
    "- logical operator:- AND, OR , NOT\n",
    "- Relational opeartor:->,<,>=,<=,!=,==\n",
    "- Unary operator:-\n",
    "- Bitwise operator:->>, <<,~,&,|| ,^"
   ]
  },
  {
   "cell_type": "markdown",
   "id": "f5f397ba-0201-4e22-90d7-683b0752ab4f",
   "metadata": {},
   "source": [
    "# Arthmetic operator"
   ]
  },
  {
   "cell_type": "code",
   "execution_count": 83,
   "id": "42a04eb2-bf64-4330-b17d-f5b94af4e073",
   "metadata": {},
   "outputs": [],
   "source": [
    "x, y= 2,4"
   ]
  },
  {
   "cell_type": "raw",
   "id": "457e9ee5-9c87-459a-a809-7223e877342d",
   "metadata": {},
   "source": [
    "print(x,y)"
   ]
  },
  {
   "cell_type": "code",
   "execution_count": 85,
   "id": "7f58ae84-3c52-444d-b11f-b924c5639403",
   "metadata": {},
   "outputs": [
    {
     "data": {
      "text/plain": [
       "6"
      ]
     },
     "execution_count": 85,
     "metadata": {},
     "output_type": "execute_result"
    }
   ],
   "source": [
    "x+y"
   ]
  },
  {
   "cell_type": "code",
   "execution_count": 87,
   "id": "153aaa06-d442-49d1-b4c6-772867dc7091",
   "metadata": {},
   "outputs": [
    {
     "data": {
      "text/plain": [
       "-2"
      ]
     },
     "execution_count": 87,
     "metadata": {},
     "output_type": "execute_result"
    }
   ],
   "source": [
    "x-y"
   ]
  },
  {
   "cell_type": "code",
   "execution_count": 89,
   "id": "e3c2bf00-0d06-46de-b19a-e9cf8b4505dd",
   "metadata": {},
   "outputs": [
    {
     "data": {
      "text/plain": [
       "8"
      ]
     },
     "execution_count": 89,
     "metadata": {},
     "output_type": "execute_result"
    }
   ],
   "source": [
    "x*y"
   ]
  },
  {
   "cell_type": "code",
   "execution_count": 91,
   "id": "0df2330d-3512-435d-8c17-fe854fa8da51",
   "metadata": {},
   "outputs": [
    {
     "data": {
      "text/plain": [
       "0.5"
      ]
     },
     "execution_count": 91,
     "metadata": {},
     "output_type": "execute_result"
    }
   ],
   "source": [
    "x/y"
   ]
  },
  {
   "cell_type": "code",
   "execution_count": 93,
   "id": "46117cd7-5ded-4ee3-999e-a55549a40d9d",
   "metadata": {},
   "outputs": [
    {
     "data": {
      "text/plain": [
       "0"
      ]
     },
     "execution_count": 93,
     "metadata": {},
     "output_type": "execute_result"
    }
   ],
   "source": [
    "x//y"
   ]
  },
  {
   "cell_type": "code",
   "execution_count": 95,
   "id": "1e3574f0-1dd4-4523-9772-85e3d259bf77",
   "metadata": {},
   "outputs": [
    {
     "data": {
      "text/plain": [
       "2"
      ]
     },
     "execution_count": 95,
     "metadata": {},
     "output_type": "execute_result"
    }
   ],
   "source": [
    "x%y"
   ]
  },
  {
   "cell_type": "code",
   "execution_count": 97,
   "id": "2054ec50-1db7-41e3-8212-7228efd12dbf",
   "metadata": {},
   "outputs": [
    {
     "data": {
      "text/plain": [
       "16"
      ]
     },
     "execution_count": 97,
     "metadata": {},
     "output_type": "execute_result"
    }
   ],
   "source": [
    "x ** y"
   ]
  },
  {
   "cell_type": "markdown",
   "id": "539973fc-1d83-410f-bb46-0555dbb253ab",
   "metadata": {},
   "source": [
    "# Assignment Operator"
   ]
  },
  {
   "cell_type": "code",
   "execution_count": 112,
   "id": "8fe4cf43-0c4a-4e6d-8e45-0ea7d01f07a6",
   "metadata": {},
   "outputs": [],
   "source": [
    "x = 2"
   ]
  },
  {
   "cell_type": "code",
   "execution_count": 114,
   "id": "392b2fa8-d952-41e1-acfa-8b7892b91dd1",
   "metadata": {},
   "outputs": [],
   "source": [
    "x += 2"
   ]
  },
  {
   "cell_type": "code",
   "execution_count": 116,
   "id": "f7d12f3d-84af-4625-bfe6-03b44dbd0c7e",
   "metadata": {},
   "outputs": [
    {
     "data": {
      "text/plain": [
       "4"
      ]
     },
     "execution_count": 116,
     "metadata": {},
     "output_type": "execute_result"
    }
   ],
   "source": [
    "x"
   ]
  },
  {
   "cell_type": "code",
   "execution_count": 118,
   "id": "50a8e0d5-63ba-40d7-8e7b-96e7782bfc7b",
   "metadata": {},
   "outputs": [
    {
     "data": {
      "text/plain": [
       "6"
      ]
     },
     "execution_count": 118,
     "metadata": {},
     "output_type": "execute_result"
    }
   ],
   "source": [
    "x += 2\n",
    "x"
   ]
  },
  {
   "cell_type": "code",
   "execution_count": 120,
   "id": "ac4dc95a-8137-4905-982f-a78a73664e69",
   "metadata": {},
   "outputs": [],
   "source": [
    "x -= 2"
   ]
  },
  {
   "cell_type": "code",
   "execution_count": 122,
   "id": "f9243a68-2f9f-4e38-8949-73c066f758c9",
   "metadata": {},
   "outputs": [
    {
     "data": {
      "text/plain": [
       "4"
      ]
     },
     "execution_count": 122,
     "metadata": {},
     "output_type": "execute_result"
    }
   ],
   "source": [
    "x"
   ]
  },
  {
   "cell_type": "code",
   "execution_count": 124,
   "id": "a2106c29-18bd-483f-8ff8-212839214434",
   "metadata": {},
   "outputs": [],
   "source": [
    "x *= 2"
   ]
  },
  {
   "cell_type": "code",
   "execution_count": 126,
   "id": "a9f7f6c4-b26c-414d-ace8-61756d4f2d09",
   "metadata": {},
   "outputs": [
    {
     "data": {
      "text/plain": [
       "8"
      ]
     },
     "execution_count": 126,
     "metadata": {},
     "output_type": "execute_result"
    }
   ],
   "source": [
    "x"
   ]
  },
  {
   "cell_type": "code",
   "execution_count": 131,
   "id": "cf1aadea-16f1-4767-b7f0-408d82326f01",
   "metadata": {},
   "outputs": [
    {
     "data": {
      "text/plain": [
       "2.0"
      ]
     },
     "execution_count": 131,
     "metadata": {},
     "output_type": "execute_result"
    }
   ],
   "source": [
    "x /= 2\n",
    "x"
   ]
  },
  {
   "cell_type": "code",
   "execution_count": 133,
   "id": "bb07e596-e9b7-4ff2-99cd-54d72b3204fe",
   "metadata": {},
   "outputs": [],
   "source": [
    "x //= 2"
   ]
  },
  {
   "cell_type": "code",
   "execution_count": 135,
   "id": "fd489e0d-60fb-457a-a27f-13132c762257",
   "metadata": {},
   "outputs": [
    {
     "data": {
      "text/plain": [
       "1.0"
      ]
     },
     "execution_count": 135,
     "metadata": {},
     "output_type": "execute_result"
    }
   ],
   "source": [
    "x"
   ]
  },
  {
   "cell_type": "markdown",
   "id": "6a0ccfe9-5398-416b-94dc-4dca5404976f",
   "metadata": {},
   "source": [
    "# Logical Operator"
   ]
  },
  {
   "cell_type": "code",
   "execution_count": 1,
   "id": "a7cdd2f6-b51e-4fcd-9ce4-80a595045c1a",
   "metadata": {},
   "outputs": [],
   "source": [
    "a = 3\n",
    "b = 4"
   ]
  },
  {
   "cell_type": "code",
   "execution_count": 3,
   "id": "21aeee56-a787-470c-ad4c-888de54fb769",
   "metadata": {},
   "outputs": [
    {
     "data": {
      "text/plain": [
       "(3, 4)"
      ]
     },
     "execution_count": 3,
     "metadata": {},
     "output_type": "execute_result"
    }
   ],
   "source": [
    "a,b"
   ]
  },
  {
   "cell_type": "code",
   "execution_count": 5,
   "id": "3251500a-a749-4027-b0e7-2dfb65f82dc1",
   "metadata": {},
   "outputs": [
    {
     "data": {
      "text/plain": [
       "False"
      ]
     },
     "execution_count": 5,
     "metadata": {},
     "output_type": "execute_result"
    }
   ],
   "source": [
    "a > b and b <a  #In AND operator on;y 1 and 1 is 1 otherwise all are zero"
   ]
  },
  {
   "cell_type": "code",
   "execution_count": 7,
   "id": "cd21c65f-aeee-48b3-9e10-c36e8d27e43d",
   "metadata": {},
   "outputs": [
    {
     "data": {
      "text/plain": [
       "True"
      ]
     },
     "execution_count": 7,
     "metadata": {},
     "output_type": "execute_result"
    }
   ],
   "source": [
    "a < b and b>a"
   ]
  },
  {
   "cell_type": "code",
   "execution_count": 9,
   "id": "989a1fd2-6d19-49fd-96c6-a2e5e229faa0",
   "metadata": {},
   "outputs": [
    {
     "data": {
      "text/plain": [
       "True"
      ]
     },
     "execution_count": 9,
     "metadata": {},
     "output_type": "execute_result"
    }
   ],
   "source": [
    "a > b or a < b  #In OR Operator only 0 or 0 is 0 otherwise all are true"
   ]
  },
  {
   "cell_type": "code",
   "execution_count": 11,
   "id": "421387e7-8788-4c12-803a-ad2569b1c388",
   "metadata": {},
   "outputs": [
    {
     "data": {
      "text/plain": [
       "False"
      ]
     },
     "execution_count": 11,
     "metadata": {},
     "output_type": "execute_result"
    }
   ],
   "source": [
    "a > b or a > b"
   ]
  },
  {
   "cell_type": "code",
   "execution_count": 13,
   "id": "e7df385a-97d4-4d15-bd30-9244d1601272",
   "metadata": {},
   "outputs": [
    {
     "data": {
      "text/plain": [
       "True"
      ]
     },
     "execution_count": 13,
     "metadata": {},
     "output_type": "execute_result"
    }
   ],
   "source": [
    "x = True\n",
    "x"
   ]
  },
  {
   "cell_type": "code",
   "execution_count": 15,
   "id": "64aa4ade-24b6-4a77-a69c-ab161e778cff",
   "metadata": {},
   "outputs": [
    {
     "data": {
      "text/plain": [
       "False"
      ]
     },
     "execution_count": 15,
     "metadata": {},
     "output_type": "execute_result"
    }
   ],
   "source": [
    "not x  #Not always gives the opposite operator"
   ]
  },
  {
   "cell_type": "markdown",
   "id": "f3f4dd8a-825d-4e18-9df9-4cc1cf1e350c",
   "metadata": {},
   "source": [
    "# Relational Opperator"
   ]
  },
  {
   "cell_type": "markdown",
   "id": "ea28066d-a16f-45f9-80fd-949ca26921ce",
   "metadata": {},
   "source": [
    "- we are using operator for compairing"
   ]
  },
  {
   "cell_type": "code",
   "execution_count": 19,
   "id": "2decf7e6-f047-4349-906a-f834ee98fd9f",
   "metadata": {},
   "outputs": [],
   "source": [
    "x = 6 \n",
    "y = 3"
   ]
  },
  {
   "cell_type": "code",
   "execution_count": 21,
   "id": "676010b1-32c0-476c-ab1c-6c41183d54c5",
   "metadata": {},
   "outputs": [
    {
     "data": {
      "text/plain": [
       "False"
      ]
     },
     "execution_count": 21,
     "metadata": {},
     "output_type": "execute_result"
    }
   ],
   "source": [
    "x == y"
   ]
  },
  {
   "cell_type": "code",
   "execution_count": 23,
   "id": "a8c1829c-9744-423e-a639-d442e7230592",
   "metadata": {},
   "outputs": [
    {
     "data": {
      "text/plain": [
       "True"
      ]
     },
     "execution_count": 23,
     "metadata": {},
     "output_type": "execute_result"
    }
   ],
   "source": [
    "x > y"
   ]
  },
  {
   "cell_type": "code",
   "execution_count": 25,
   "id": "1a964c38-69e5-4ed5-a4f4-7e34d3d2a2db",
   "metadata": {},
   "outputs": [
    {
     "data": {
      "text/plain": [
       "False"
      ]
     },
     "execution_count": 25,
     "metadata": {},
     "output_type": "execute_result"
    }
   ],
   "source": [
    "x < y"
   ]
  },
  {
   "cell_type": "code",
   "execution_count": 27,
   "id": "c7c23e18-53fa-494d-a78f-a5ae5b409d3a",
   "metadata": {},
   "outputs": [
    {
     "data": {
      "text/plain": [
       "True"
      ]
     },
     "execution_count": 27,
     "metadata": {},
     "output_type": "execute_result"
    }
   ],
   "source": [
    "x >= y"
   ]
  },
  {
   "cell_type": "code",
   "execution_count": 29,
   "id": "751fcf8f-2f62-4bbe-bac2-29a12d159eaa",
   "metadata": {},
   "outputs": [
    {
     "data": {
      "text/plain": [
       "False"
      ]
     },
     "execution_count": 29,
     "metadata": {},
     "output_type": "execute_result"
    }
   ],
   "source": [
    "x <= y"
   ]
  },
  {
   "cell_type": "code",
   "execution_count": 31,
   "id": "ce7a0c62-f833-461c-9dc9-2cbbb276dc80",
   "metadata": {},
   "outputs": [
    {
     "data": {
      "text/plain": [
       "True"
      ]
     },
     "execution_count": 31,
     "metadata": {},
     "output_type": "execute_result"
    }
   ],
   "source": [
    "x != y"
   ]
  },
  {
   "cell_type": "markdown",
   "id": "b3a1e8e3-5c3c-40c0-967a-7d3255cb0681",
   "metadata": {},
   "source": [
    "# Unary Operator"
   ]
  },
  {
   "cell_type": "markdown",
   "id": "518609dd-c11b-46c3-8932-9fff4bea334a",
   "metadata": {},
   "source": [
    "- Here we are applying unary minus operator(-) on the operand n; the value of m becomes -7, which indicates it as a negative value."
   ]
  },
  {
   "cell_type": "code",
   "execution_count": 52,
   "id": "f8c74ae6-b63f-4c4b-a0ec-f6c8b89a28ab",
   "metadata": {},
   "outputs": [],
   "source": [
    "n = 7 #negative"
   ]
  },
  {
   "cell_type": "code",
   "execution_count": 55,
   "id": "c23854dd-fca2-43e9-ba80-71ae9f74afbe",
   "metadata": {},
   "outputs": [],
   "source": [
    "m = -(n)"
   ]
  },
  {
   "cell_type": "code",
   "execution_count": 57,
   "id": "b20d9bb7-26ee-49c4-bd65-bb6f044d5e22",
   "metadata": {},
   "outputs": [
    {
     "data": {
      "text/plain": [
       "-7"
      ]
     },
     "execution_count": 57,
     "metadata": {},
     "output_type": "execute_result"
    }
   ],
   "source": [
    "m"
   ]
  },
  {
   "cell_type": "code",
   "execution_count": 59,
   "id": "12c755d3-a716-48da-afd9-8912272a550e",
   "metadata": {},
   "outputs": [
    {
     "data": {
      "text/plain": [
       "-7"
      ]
     },
     "execution_count": 59,
     "metadata": {},
     "output_type": "execute_result"
    }
   ],
   "source": [
    "-n"
   ]
  },
  {
   "cell_type": "code",
   "execution_count": 61,
   "id": "e0cf56e6-ee01-4b17-9f25-e390c5f52792",
   "metadata": {},
   "outputs": [
    {
     "data": {
      "text/plain": [
       "7"
      ]
     },
     "execution_count": 61,
     "metadata": {},
     "output_type": "execute_result"
    }
   ],
   "source": [
    "n"
   ]
  },
  {
   "cell_type": "markdown",
   "id": "48df0288-003b-4c01-9316-7e2dbdc315af",
   "metadata": {},
   "source": [
    "# Bitwise Operator"
   ]
  },
  {
   "cell_type": "markdown",
   "id": "b4f1f91a-07e6-4256-a239-514fee4ee899",
   "metadata": {},
   "source": [
    "- we have six operator\n",
    "- 1] complement (~)\n",
    "- 2] AND (&)\n",
    "- 3] OR (|)\n",
    "- 4] XOR (^)\n",
    "- 5] Left Shift (<<)\n",
    "- 6] Right Shift (>>)"
   ]
  },
  {
   "cell_type": "code",
   "execution_count": 65,
   "id": "4b16f521-838b-4850-a8bf-c049b196ee05",
   "metadata": {},
   "outputs": [
    {
     "name": "stdout",
     "output_type": "stream",
     "text": [
      "0b1100\n",
      "0b1101\n"
     ]
    }
   ],
   "source": [
    "print(bin(12))\n",
    "print(bin(13))"
   ]
  },
  {
   "cell_type": "markdown",
   "id": "32d98bbe-011d-4dbf-85f4-c3d9dc7c10f2",
   "metadata": {},
   "source": [
    "# Complement :--> You will get key below ecs character."
   ]
  },
  {
   "cell_type": "markdown",
   "id": "d97aa68d-4ffb-4c29-aef3-0948a74bee91",
   "metadata": {},
   "source": [
    "- 12 ===> First we need to undestand what is mean by complement.\n",
    "- Complement means it will do reverse of the binary format.\n",
    "- i.e ~0 it will gives 1 and ~1 it will give 0,12 binary format is 00001100 ( complement of ~00001100 reverse the number - 11110011 which is (-13)\n",
    "- but why we got the(-13),to understand this concept ( we have concept of 2's complement\n",
    "- 2's complement mean (1's complement + 1),in the system we can store +Ve number but how to store -ve number\n",
    "- lets understand binary form of 13 - 00001101 + 1 "
   ]
  },
  {
   "cell_type": "code",
   "execution_count": 69,
   "id": "e52d807d-8859-4c04-bba8-c3285ef0b403",
   "metadata": {},
   "outputs": [
    {
     "data": {
      "text/plain": [
       "-13"
      ]
     },
     "execution_count": 69,
     "metadata": {},
     "output_type": "execute_result"
    }
   ],
   "source": [
    "# complement (~) (TILDE OR TILD)\n",
    "~12 #why we get -13 .first we understand what is complement meaans reverse the binary format and it comes with negative value and convert it's into one's complement and next add 1 to do two's complement\n"
   ]
  },
  {
   "cell_type": "code",
   "execution_count": 71,
   "id": "2f198d34-a2aa-41ec-97ec-cb96baafa06f",
   "metadata": {},
   "outputs": [
    {
     "data": {
      "text/plain": [
       "-46"
      ]
     },
     "execution_count": 71,
     "metadata": {},
     "output_type": "execute_result"
    }
   ],
   "source": [
    "~ 45"
   ]
  },
  {
   "cell_type": "code",
   "execution_count": 73,
   "id": "37b719ab-cfe3-44ac-ac17-d6f277bfd716",
   "metadata": {},
   "outputs": [
    {
     "data": {
      "text/plain": [
       "-7"
      ]
     },
     "execution_count": 73,
     "metadata": {},
     "output_type": "execute_result"
    }
   ],
   "source": [
    "~6"
   ]
  },
  {
   "cell_type": "code",
   "execution_count": 75,
   "id": "ec043201-4184-453c-bdeb-058ef01fd9a4",
   "metadata": {},
   "outputs": [
    {
     "data": {
      "text/plain": [
       "-3"
      ]
     },
     "execution_count": 75,
     "metadata": {},
     "output_type": "execute_result"
    }
   ],
   "source": [
    "~2"
   ]
  },
  {
   "cell_type": "code",
   "execution_count": 77,
   "id": "50e31b9d-fa6f-407d-877e-4bdd7733ffb0",
   "metadata": {},
   "outputs": [
    {
     "data": {
      "text/plain": [
       "-6"
      ]
     },
     "execution_count": 77,
     "metadata": {},
     "output_type": "execute_result"
    }
   ],
   "source": [
    "~5"
   ]
  },
  {
   "cell_type": "markdown",
   "id": "ad839dbb-3dd5-4577-8bfa-b982c5f3af4b",
   "metadata": {},
   "source": [
    "# Bitwisw AND operator"
   ]
  },
  {
   "cell_type": "markdown",
   "id": "90bf2945-05d4-4529-9abd-829fcbad8f32",
   "metadata": {},
   "source": [
    "- AND - LOGICAL OPERATOR ||| & - BITWISE AND OPERATOR  \n",
    "- (we know that 1 & 1 is 1)\n",
    "- 12 - 00001100 \n",
    "- 13 - 00001101\n",
    "- when we are add both then then outut we will get as 12 "
   ]
  },
  {
   "cell_type": "code",
   "execution_count": 81,
   "id": "9cceae0a-2f0d-4142-8a59-a15c655a8828",
   "metadata": {},
   "outputs": [
    {
     "data": {
      "text/plain": [
       "12"
      ]
     },
     "execution_count": 81,
     "metadata": {},
     "output_type": "execute_result"
    }
   ],
   "source": [
    "12 & 13"
   ]
  },
  {
   "cell_type": "code",
   "execution_count": 83,
   "id": "97a653e3-549e-4784-acbd-e229cdd662fd",
   "metadata": {},
   "outputs": [
    {
     "data": {
      "text/plain": [
       "1"
      ]
     },
     "execution_count": 83,
     "metadata": {},
     "output_type": "execute_result"
    }
   ],
   "source": [
    "1 & 1"
   ]
  },
  {
   "cell_type": "code",
   "execution_count": 85,
   "id": "9e0a9adb-f508-4615-9a28-7a5beabafde5",
   "metadata": {},
   "outputs": [
    {
     "data": {
      "text/plain": [
       "0"
      ]
     },
     "execution_count": 85,
     "metadata": {},
     "output_type": "execute_result"
    }
   ],
   "source": [
    "1 & 0"
   ]
  },
  {
   "cell_type": "code",
   "execution_count": 87,
   "id": "34660b5d-a6f4-43b4-8aef-fd06710f5f25",
   "metadata": {},
   "outputs": [
    {
     "data": {
      "text/plain": [
       "0"
      ]
     },
     "execution_count": 87,
     "metadata": {},
     "output_type": "execute_result"
    }
   ],
   "source": [
    "0 & 0"
   ]
  },
  {
   "cell_type": "code",
   "execution_count": 89,
   "id": "246f3f9c-d031-4eab-a846-75d883f7fc34",
   "metadata": {},
   "outputs": [
    {
     "data": {
      "text/plain": [
       "13"
      ]
     },
     "execution_count": 89,
     "metadata": {},
     "output_type": "execute_result"
    }
   ],
   "source": [
    "12 | 13"
   ]
  },
  {
   "cell_type": "code",
   "execution_count": 91,
   "id": "fa2ae586-7aea-4aca-ac6a-06e95448c49a",
   "metadata": {},
   "outputs": [
    {
     "data": {
      "text/plain": [
       "32"
      ]
     },
     "execution_count": 91,
     "metadata": {},
     "output_type": "execute_result"
    }
   ],
   "source": [
    "35 & 40"
   ]
  },
  {
   "cell_type": "code",
   "execution_count": 93,
   "id": "3e684175-d978-42e6-a428-21069c927272",
   "metadata": {},
   "outputs": [
    {
     "data": {
      "text/plain": [
       "43"
      ]
     },
     "execution_count": 93,
     "metadata": {},
     "output_type": "execute_result"
    }
   ],
   "source": [
    "35 | 40"
   ]
  },
  {
   "cell_type": "code",
   "execution_count": 95,
   "id": "91a3803c-45d8-4fde-b8b9-9e3152813da6",
   "metadata": {},
   "outputs": [
    {
     "data": {
      "text/plain": [
       "1"
      ]
     },
     "execution_count": 95,
     "metadata": {},
     "output_type": "execute_result"
    }
   ],
   "source": [
    "# in XOR if the both number are different then we will get 1 or else we will get 0\n",
    "12 ^ 13"
   ]
  },
  {
   "cell_type": "code",
   "execution_count": 97,
   "id": "37c43491-03c7-4cbd-ab9e-55b467b12156",
   "metadata": {},
   "outputs": [
    {
     "data": {
      "text/plain": [
       "7"
      ]
     },
     "execution_count": 97,
     "metadata": {},
     "output_type": "execute_result"
    }
   ],
   "source": [
    "25 ^ 30"
   ]
  },
  {
   "cell_type": "code",
   "execution_count": 99,
   "id": "2f7bae97-6265-47af-8440-e491193bde02",
   "metadata": {},
   "outputs": [
    {
     "data": {
      "text/plain": [
       "'0b11001'"
      ]
     },
     "execution_count": 99,
     "metadata": {},
     "output_type": "execute_result"
    }
   ],
   "source": [
    "bin(25)"
   ]
  },
  {
   "cell_type": "code",
   "execution_count": 101,
   "id": "0f749c13-9945-415d-909b-957266f767cf",
   "metadata": {},
   "outputs": [
    {
     "data": {
      "text/plain": [
       "'0b11110'"
      ]
     },
     "execution_count": 101,
     "metadata": {},
     "output_type": "execute_result"
    }
   ],
   "source": [
    "bin(30)"
   ]
  },
  {
   "cell_type": "code",
   "execution_count": 103,
   "id": "de84087f-d683-4290-ab91-386a1681d2c3",
   "metadata": {},
   "outputs": [
    {
     "data": {
      "text/plain": [
       "7"
      ]
     },
     "execution_count": 103,
     "metadata": {},
     "output_type": "execute_result"
    }
   ],
   "source": [
    "int(0b000111)"
   ]
  },
  {
   "cell_type": "markdown",
   "id": "8fbca7da-da85-42ff-9f2d-510dd7d8b44a",
   "metadata": {},
   "source": [
    "# Bitwise left shift operator"
   ]
  },
  {
   "cell_type": "markdown",
   "id": "cb18a40e-9a4d-4e54-b01e-46541870cd4f",
   "metadata": {},
   "source": [
    "- BIT WISE LEFT OPERATOR\n",
    "- bit wise left operator bydefault you will take 2 zeros ( )\n",
    "- 10 binary operator is 1010 | also i can say 1010\n",
    "10<<2"
   ]
  },
  {
   "cell_type": "code",
   "execution_count": 107,
   "id": "0e36725d-48c8-4688-bb5e-2262493d050c",
   "metadata": {},
   "outputs": [
    {
     "data": {
      "text/plain": [
       "40"
      ]
     },
     "execution_count": 107,
     "metadata": {},
     "output_type": "execute_result"
    }
   ],
   "source": [
    "10 << 2"
   ]
  },
  {
   "cell_type": "code",
   "execution_count": 109,
   "id": "0cc62905-c972-4201-89ad-b5efdae31467",
   "metadata": {},
   "outputs": [
    {
     "data": {
      "text/plain": [
       "320"
      ]
     },
     "execution_count": 109,
     "metadata": {},
     "output_type": "execute_result"
    }
   ],
   "source": [
    "20 << 4"
   ]
  },
  {
   "cell_type": "code",
   "execution_count": 111,
   "id": "c5b38c2d-28fc-4307-9782-360f84810edb",
   "metadata": {},
   "outputs": [
    {
     "data": {
      "text/plain": [
       "2"
      ]
     },
     "execution_count": 111,
     "metadata": {},
     "output_type": "execute_result"
    }
   ],
   "source": [
    "10>>2"
   ]
  },
  {
   "cell_type": "code",
   "execution_count": 113,
   "id": "35410684-16bd-41b7-b223-25c31aefa22f",
   "metadata": {},
   "outputs": [
    {
     "data": {
      "text/plain": [
       "5"
      ]
     },
     "execution_count": 113,
     "metadata": {},
     "output_type": "execute_result"
    }
   ],
   "source": [
    "10>>1"
   ]
  },
  {
   "cell_type": "code",
   "execution_count": 115,
   "id": "7036db1b-8c72-4bd5-bfab-aca69261051c",
   "metadata": {},
   "outputs": [
    {
     "data": {
      "text/plain": [
       "1"
      ]
     },
     "execution_count": 115,
     "metadata": {},
     "output_type": "execute_result"
    }
   ],
   "source": [
    "20>>4"
   ]
  },
  {
   "cell_type": "code",
   "execution_count": 117,
   "id": "4ad95c89-91d6-480a-ad53-c41ba13f584d",
   "metadata": {},
   "outputs": [
    {
     "data": {
      "text/plain": [
       "'0b10100'"
      ]
     },
     "execution_count": 117,
     "metadata": {},
     "output_type": "execute_result"
    }
   ],
   "source": [
    "bin(20)"
   ]
  },
  {
   "cell_type": "markdown",
   "id": "31b89984-d17b-4e4e-9d9f-b45e4adb77f1",
   "metadata": {},
   "source": [
    "# Number system Converstion (bit-binary digit)"
   ]
  },
  {
   "cell_type": "markdown",
   "id": "351eefaf-4a42-4aa6-a3d8-55114e021454",
   "metadata": {},
   "source": [
    "- binary :- base(0-1) :divide 15/2 and count in reverse order\n",
    "- octal:- base(0-7)\n",
    "- hexadecimal:-(0-9 and a-f)\n",
    "- When you check the ipaddress you will these format :--->cmd - ipconfig"
   ]
  },
  {
   "cell_type": "code",
   "execution_count": 121,
   "id": "66ee900b-7d9f-4947-aed9-d72cff53a243",
   "metadata": {},
   "outputs": [
    {
     "data": {
      "text/plain": [
       "25"
      ]
     },
     "execution_count": 121,
     "metadata": {},
     "output_type": "execute_result"
    }
   ],
   "source": [
    "25"
   ]
  },
  {
   "cell_type": "code",
   "execution_count": 123,
   "id": "65679695-1319-41fb-a7bd-196ca4384929",
   "metadata": {},
   "outputs": [
    {
     "data": {
      "text/plain": [
       "'0b11001'"
      ]
     },
     "execution_count": 123,
     "metadata": {},
     "output_type": "execute_result"
    }
   ],
   "source": [
    "bin(25)"
   ]
  },
  {
   "cell_type": "code",
   "execution_count": 125,
   "id": "5daeb8a7-600a-457a-9908-241f8371b28e",
   "metadata": {},
   "outputs": [
    {
     "data": {
      "text/plain": [
       "'0b1100'"
      ]
     },
     "execution_count": 125,
     "metadata": {},
     "output_type": "execute_result"
    }
   ],
   "source": [
    "bin(12)"
   ]
  },
  {
   "cell_type": "code",
   "execution_count": 127,
   "id": "41847855-eb7e-49ff-9869-e772273b7f56",
   "metadata": {},
   "outputs": [
    {
     "data": {
      "text/plain": [
       "13"
      ]
     },
     "execution_count": 127,
     "metadata": {},
     "output_type": "execute_result"
    }
   ],
   "source": [
    "int(0b1101)"
   ]
  },
  {
   "cell_type": "code",
   "execution_count": 130,
   "id": "2eeced4e-6ae2-4e2e-906e-7485316164ac",
   "metadata": {},
   "outputs": [
    {
     "data": {
      "text/plain": [
       "'0b100011'"
      ]
     },
     "execution_count": 130,
     "metadata": {},
     "output_type": "execute_result"
    }
   ],
   "source": [
    "bin(35)"
   ]
  },
  {
   "cell_type": "code",
   "execution_count": 134,
   "id": "1aff074f-7954-47f3-9d0c-f78b214a79ce",
   "metadata": {},
   "outputs": [
    {
     "data": {
      "text/plain": [
       "35"
      ]
     },
     "execution_count": 134,
     "metadata": {},
     "output_type": "execute_result"
    }
   ],
   "source": [
    "int(0b100011)"
   ]
  },
  {
   "cell_type": "code",
   "execution_count": 136,
   "id": "00f42eea-9424-40e2-8024-b138227a0319",
   "metadata": {},
   "outputs": [
    {
     "data": {
      "text/plain": [
       "'0b10100'"
      ]
     },
     "execution_count": 136,
     "metadata": {},
     "output_type": "execute_result"
    }
   ],
   "source": [
    "bin(20)"
   ]
  },
  {
   "cell_type": "code",
   "execution_count": 141,
   "id": "efcb2980-0900-4a1b-9e49-45706f833dd1",
   "metadata": {},
   "outputs": [
    {
     "data": {
      "text/plain": [
       "20"
      ]
     },
     "execution_count": 141,
     "metadata": {},
     "output_type": "execute_result"
    }
   ],
   "source": [
    "int(0b10100)"
   ]
  },
  {
   "cell_type": "code",
   "execution_count": 146,
   "id": "256d1d05-2f24-4913-8a50-b1630c3a68a9",
   "metadata": {},
   "outputs": [
    {
     "data": {
      "text/plain": [
       "15"
      ]
     },
     "execution_count": 146,
     "metadata": {},
     "output_type": "execute_result"
    }
   ],
   "source": [
    "0b1111"
   ]
  },
  {
   "cell_type": "code",
   "execution_count": 148,
   "id": "da6bd434-0c60-4418-9645-eddf4148256c",
   "metadata": {},
   "outputs": [
    {
     "data": {
      "text/plain": [
       "'0o17'"
      ]
     },
     "execution_count": 148,
     "metadata": {},
     "output_type": "execute_result"
    }
   ],
   "source": [
    "oct(15)"
   ]
  },
  {
   "cell_type": "code",
   "execution_count": 150,
   "id": "077549bc-65d3-4050-a163-72eba5438960",
   "metadata": {},
   "outputs": [
    {
     "data": {
      "text/plain": [
       "'0xa'"
      ]
     },
     "execution_count": 150,
     "metadata": {},
     "output_type": "execute_result"
    }
   ],
   "source": [
    "hex(10)"
   ]
  },
  {
   "cell_type": "code",
   "execution_count": 152,
   "id": "601c97ee-4f2c-463d-9c8b-94dec9872566",
   "metadata": {},
   "outputs": [
    {
     "data": {
      "text/plain": [
       "15"
      ]
     },
     "execution_count": 152,
     "metadata": {},
     "output_type": "execute_result"
    }
   ],
   "source": [
    "0xf"
   ]
  },
  {
   "cell_type": "code",
   "execution_count": 154,
   "id": "5cadfd83-1729-4fa4-b931-40bcd1859ea1",
   "metadata": {},
   "outputs": [
    {
     "data": {
      "text/plain": [
       "'0x19'"
      ]
     },
     "execution_count": 154,
     "metadata": {},
     "output_type": "execute_result"
    }
   ],
   "source": [
    "hex(25)"
   ]
  },
  {
   "cell_type": "code",
   "execution_count": 156,
   "id": "2fc48a42-8b13-486b-a59c-939458bb9d77",
   "metadata": {},
   "outputs": [
    {
     "data": {
      "text/plain": [
       "21"
      ]
     },
     "execution_count": 156,
     "metadata": {},
     "output_type": "execute_result"
    }
   ],
   "source": [
    "0x15"
   ]
  },
  {
   "cell_type": "markdown",
   "id": "b2fdc6e2-cf9d-457d-b16a-bdd1a7b92c99",
   "metadata": {},
   "source": [
    "# Swaping Variable in python"
   ]
  },
  {
   "cell_type": "markdown",
   "id": "9ffdb829-15d9-4e6d-8ef2-0b72db06d279",
   "metadata": {},
   "source": [
    "- (a,b = 5,6) After swap we should get  ==> (a, b = 6,5 )"
   ]
  },
  {
   "cell_type": "code",
   "execution_count": 160,
   "id": "3709052e-7ee2-493f-8abb-c164851be84f",
   "metadata": {},
   "outputs": [],
   "source": [
    "a = 5\n",
    "b = 7"
   ]
  },
  {
   "cell_type": "code",
   "execution_count": 162,
   "id": "24b21cd8-c00a-4341-93e2-de530d32f9f2",
   "metadata": {},
   "outputs": [],
   "source": [
    "a = b\n",
    "b = a"
   ]
  },
  {
   "cell_type": "code",
   "execution_count": 164,
   "id": "4dbef506-9ce0-4597-a2de-1cde41810301",
   "metadata": {},
   "outputs": [
    {
     "data": {
      "text/plain": [
       "(7, 7)"
      ]
     },
     "execution_count": 164,
     "metadata": {},
     "output_type": "execute_result"
    }
   ],
   "source": [
    "a,b"
   ]
  },
  {
   "cell_type": "code",
   "execution_count": 166,
   "id": "980d20fc-75eb-4d1a-b042-6e1eb3d0c415",
   "metadata": {},
   "outputs": [],
   "source": [
    "a,b = b,a"
   ]
  },
  {
   "cell_type": "code",
   "execution_count": 168,
   "id": "475510b3-12a0-4874-860f-6a663771a7e2",
   "metadata": {},
   "outputs": [
    {
     "data": {
      "text/plain": [
       "(7, 7)"
      ]
     },
     "execution_count": 168,
     "metadata": {},
     "output_type": "execute_result"
    }
   ],
   "source": [
    "a,b"
   ]
  },
  {
   "cell_type": "code",
   "execution_count": 176,
   "id": "3c498a50-1dcb-481c-98ff-363f9cbd3283",
   "metadata": {},
   "outputs": [],
   "source": [
    "# In abiove senario we lost the value of 5\n",
    "a1 = 7\n",
    "b1 = 8"
   ]
  },
  {
   "cell_type": "code",
   "execution_count": 178,
   "id": "330dfd38-7963-42b1-be4e-a5da429b9ec5",
   "metadata": {},
   "outputs": [],
   "source": [
    "temp = a1 \n",
    "a1 = b1\n",
    "b1 = temp"
   ]
  },
  {
   "cell_type": "code",
   "execution_count": 180,
   "id": "9b0e7579-0c89-4f31-a6f0-e3bd3dc10e3e",
   "metadata": {},
   "outputs": [
    {
     "name": "stdout",
     "output_type": "stream",
     "text": [
      "8\n",
      "7\n"
     ]
    }
   ],
   "source": [
    "print(a1)\n",
    "print(b1)"
   ]
  },
  {
   "cell_type": "code",
   "execution_count": 182,
   "id": "975fddd8-6c65-4052-bc73-27b99aa74dd8",
   "metadata": {},
   "outputs": [],
   "source": [
    "# swap the two value without usiong the third variable\n",
    "a2 = 5\n",
    "b2 = 6"
   ]
  },
  {
   "cell_type": "code",
   "execution_count": 184,
   "id": "64a202a2-da13-428c-8759-57d9992367ea",
   "metadata": {},
   "outputs": [],
   "source": [
    "a2 = a2+b2\n",
    "b2 = a2-b2\n",
    "a2 = a2-b2"
   ]
  },
  {
   "cell_type": "code",
   "execution_count": 186,
   "id": "42ede8a5-9fb9-4c50-886a-56cac396e577",
   "metadata": {},
   "outputs": [
    {
     "name": "stdout",
     "output_type": "stream",
     "text": [
      "6\n",
      "5\n"
     ]
    }
   ],
   "source": [
    "print(a2)\n",
    "print(b2)"
   ]
  },
  {
   "cell_type": "code",
   "execution_count": 188,
   "id": "b95e03c2-b218-4c33-9403-3dc22d33cff3",
   "metadata": {},
   "outputs": [],
   "source": [
    "# there is another way to used the swap variaable so which is xor because it will not waste the extra bit\n",
    "a2 = a2 ^ b2\n",
    "b2 = a2 ^ b2\n",
    "a2 = a2 ^ b2"
   ]
  },
  {
   "cell_type": "code",
   "execution_count": 190,
   "id": "5b6e93a6-0670-4200-a837-5d41762c84e2",
   "metadata": {},
   "outputs": [
    {
     "name": "stdout",
     "output_type": "stream",
     "text": [
      "5\n",
      "6\n"
     ]
    }
   ],
   "source": [
    "print(a2)\n",
    "print(b2)"
   ]
  },
  {
   "cell_type": "code",
   "execution_count": 192,
   "id": "f0f2c807-cee8-4e5a-bd9a-98396514fd64",
   "metadata": {},
   "outputs": [],
   "source": [
    "a2,b2 = b2,a2 # this is another way to solve the swp variable"
   ]
  },
  {
   "cell_type": "code",
   "execution_count": 194,
   "id": "137c4bfb-1b14-4ed2-954d-5b3ce6ae5adc",
   "metadata": {},
   "outputs": [
    {
     "name": "stdout",
     "output_type": "stream",
     "text": [
      "6\n",
      "5\n"
     ]
    }
   ],
   "source": [
    "print(a2)\n",
    "print(b2)"
   ]
  }
 ],
 "metadata": {
  "kernelspec": {
   "display_name": "Python 3 (ipykernel)",
   "language": "python",
   "name": "python3"
  },
  "language_info": {
   "codemirror_mode": {
    "name": "ipython",
    "version": 3
   },
   "file_extension": ".py",
   "mimetype": "text/x-python",
   "name": "python",
   "nbconvert_exporter": "python",
   "pygments_lexer": "ipython3",
   "version": "3.12.7"
  }
 },
 "nbformat": 4,
 "nbformat_minor": 5
}
