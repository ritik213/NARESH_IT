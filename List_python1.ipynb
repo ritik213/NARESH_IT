{
 "cells": [
  {
   "cell_type": "markdown",
   "id": "30f24a83-6b9e-4ebd-aab2-b8454590f7d3",
   "metadata": {},
   "source": [
    "# List "
   ]
  },
  {
   "cell_type": "raw",
   "id": "ab38e87d-6545-4469-9db5-81b88c037811",
   "metadata": {},
   "source": [
    "# 1.List is ordered sequence of items.\n",
    "# 2.List we use multiple datype like integer,float,string etc.\n",
    "# 3.List is a mutable (It can change in list)\n",
    "# 4.It growable\n",
    "# 5.Duplicate can allow"
   ]
  },
  {
   "cell_type": "markdown",
   "id": "b1c0d79c-e27f-4e95-965e-b5440281d06d",
   "metadata": {},
   "source": [
    "s = '  abc def ghi  '\n",
    "print(s.lstrip())"
   ]
  },
  {
   "cell_type": "code",
   "execution_count": 3,
   "id": "282838e4-9c23-4495-8782-de783a96055f",
   "metadata": {},
   "outputs": [
    {
     "data": {
      "text/plain": [
       "'  abc def ghi'"
      ]
     },
     "execution_count": 3,
     "metadata": {},
     "output_type": "execute_result"
    }
   ],
   "source": [
    "text = '  abc def ghi  '\n",
    "text.rstrip()"
   ]
  },
  {
   "cell_type": "code",
   "execution_count": 5,
   "id": "dbf2a8d5-4360-4d9c-94b9-6265198c5185",
   "metadata": {},
   "outputs": [
    {
     "data": {
      "text/plain": [
       "'abc def ghi'"
      ]
     },
     "execution_count": 5,
     "metadata": {},
     "output_type": "execute_result"
    }
   ],
   "source": [
    "text.strip()"
   ]
  },
  {
   "cell_type": "markdown",
   "id": "4d823c61-ca3c-478a-98be-f6f557dba0a6",
   "metadata": {},
   "source": [
    "# Using Escape character\n"
   ]
  },
  {
   "cell_type": "code",
   "execution_count": 8,
   "id": "845393e7-ef36-425e-b65d-e5f87bc28743",
   "metadata": {},
   "outputs": [
    {
     "ename": "SyntaxError",
     "evalue": "invalid syntax (2569213796.py, line 2)",
     "output_type": "error",
     "traceback": [
      "\u001b[1;36m  Cell \u001b[1;32mIn[8], line 2\u001b[1;36m\u001b[0m\n\u001b[1;33m    mystr = \"My favourite TV show is \"Game of Thrones\"\"\u001b[0m\n\u001b[1;37m                                      ^\u001b[0m\n\u001b[1;31mSyntaxError\u001b[0m\u001b[1;31m:\u001b[0m invalid syntax\n"
     ]
    }
   ],
   "source": [
    "# using double quotes in string is not allowed\n",
    "mystr = \"My favourite TV show is \"Game of Thrones\"\"\n",
    "print(mystr)"
   ]
  },
  {
   "cell_type": "code",
   "execution_count": 10,
   "id": "2e9bef73-6932-4d0f-9fa4-134d858a8880",
   "metadata": {},
   "outputs": [
    {
     "name": "stdout",
     "output_type": "stream",
     "text": [
      "My Favourite TV Show is \"Game of Thrones\"\n"
     ]
    }
   ],
   "source": [
    "#Using escape character is allow illegal character\n",
    "mystr = \"My Favourite TV Show is \\\"Game of Thrones\\\"\"\n",
    "print(mystr)"
   ]
  },
  {
   "cell_type": "code",
   "execution_count": 12,
   "id": "82297ee7-0f30-474d-b45b-7edbded5643a",
   "metadata": {},
   "outputs": [
    {
     "data": {
      "text/plain": [
       "[]"
      ]
     },
     "execution_count": 12,
     "metadata": {},
     "output_type": "execute_result"
    }
   ],
   "source": [
    "list = []     #empty list\n",
    "list"
   ]
  },
  {
   "cell_type": "code",
   "execution_count": 14,
   "id": "bc09668f-af6a-43cc-89c3-736f1969c592",
   "metadata": {},
   "outputs": [
    {
     "name": "stdout",
     "output_type": "stream",
     "text": [
      "<class 'list'>\n"
     ]
    }
   ],
   "source": [
    "print(type(list))"
   ]
  },
  {
   "cell_type": "code",
   "execution_count": 16,
   "id": "aeeead84-8f3c-4228-bae3-efbeeff73794",
   "metadata": {},
   "outputs": [
    {
     "name": "stdout",
     "output_type": "stream",
     "text": [
      "[10, 20, 30]\n",
      "<class 'list'>\n"
     ]
    }
   ],
   "source": [
    "list1 = [10,20,30]    #list of integer number\n",
    "print(list1)\n",
    "print(type(list1))"
   ]
  },
  {
   "cell_type": "code",
   "execution_count": 18,
   "id": "6e231243-4165-40af-80dc-f08a395b67f1",
   "metadata": {},
   "outputs": [
    {
     "name": "stdout",
     "output_type": "stream",
     "text": [
      "[1.2, 1.3, 1.4, 1.5]\n"
     ]
    }
   ],
   "source": [
    "list2 = [1.2,1.3,1.4,1.5]   #List of Float Number\n",
    "print(list2)"
   ]
  },
  {
   "cell_type": "code",
   "execution_count": 20,
   "id": "e39ddc34-b251-41da-b473-676f5279a1b9",
   "metadata": {},
   "outputs": [
    {
     "data": {
      "text/plain": [
       "['three', 'two', 'one']"
      ]
     },
     "execution_count": 20,
     "metadata": {},
     "output_type": "execute_result"
    }
   ],
   "source": [
    "list3 = ['three','two','one']  #list of string\n",
    "list3"
   ]
  },
  {
   "cell_type": "code",
   "execution_count": 22,
   "id": "e3885122-aa1b-4c47-93ba-b865bd6e2ee8",
   "metadata": {},
   "outputs": [
    {
     "data": {
      "text/plain": [
       "['one', 25, [10, 20, 30], [20, 25, 30, 35]]"
      ]
     },
     "execution_count": 22,
     "metadata": {},
     "output_type": "execute_result"
    }
   ],
   "source": [
    "list4 = ['one',25,[10,20,30],[20,25,30,35]]   #Nested list\n",
    "list4"
   ]
  },
  {
   "cell_type": "code",
   "execution_count": 24,
   "id": "db4afe8a-8124-47a8-b154-9534a424984c",
   "metadata": {},
   "outputs": [
    {
     "data": {
      "text/plain": [
       "[10, 3.14, 'seven', (2+5j), True]"
      ]
     },
     "execution_count": 24,
     "metadata": {},
     "output_type": "execute_result"
    }
   ],
   "source": [
    "list5 =[10,3.14,'seven',2+5J,True]      #List of the mixed data type\n",
    "list5"
   ]
  },
  {
   "cell_type": "code",
   "execution_count": 26,
   "id": "8e9709b5-ea70-4f4e-889b-3c9b9724445a",
   "metadata": {},
   "outputs": [
    {
     "data": {
      "text/plain": [
       "['one', 25, [10, 20, 30], [20, 25, 30, 35], {'David', 'John'}]"
      ]
     },
     "execution_count": 26,
     "metadata": {},
     "output_type": "execute_result"
    }
   ],
   "source": [
    "list6=['one',25,[10,20,30],[20,25,30,35],{'David','John'}]\n",
    "list6"
   ]
  },
  {
   "cell_type": "code",
   "execution_count": 28,
   "id": "31e7b7cd-6415-4834-a783-8002206aab5c",
   "metadata": {},
   "outputs": [
    {
     "data": {
      "text/plain": [
       "5"
      ]
     },
     "execution_count": 28,
     "metadata": {},
     "output_type": "execute_result"
    }
   ],
   "source": [
    "len(list5)"
   ]
  },
  {
   "cell_type": "markdown",
   "id": "304f678c-6ec4-48e0-ac90-65d51ae114e5",
   "metadata": {},
   "source": [
    "\n",
    "# List Indexing"
   ]
  },
  {
   "cell_type": "raw",
   "id": "e0f6fcc6-315f-4c5a-807a-1af0c6ff3e2c",
   "metadata": {},
   "source": [
    "# Forward indexing :-> Start from left to right:(start from 0)\n",
    "# Backward indexing:->start from right to left:(Start from -1)"
   ]
  },
  {
   "cell_type": "code",
   "execution_count": 31,
   "id": "45d34f0a-6220-442a-9613-c4e2e4357f34",
   "metadata": {},
   "outputs": [
    {
     "data": {
      "text/plain": [
       "10"
      ]
     },
     "execution_count": 31,
     "metadata": {},
     "output_type": "execute_result"
    }
   ],
   "source": [
    "list1[0]  #retrive first element from the list"
   ]
  },
  {
   "cell_type": "code",
   "execution_count": 33,
   "id": "7a40d4da-6b37-4f32-b0a9-040da8945d76",
   "metadata": {},
   "outputs": [
    {
     "data": {
      "text/plain": [
       "'three'"
      ]
     },
     "execution_count": 33,
     "metadata": {},
     "output_type": "execute_result"
    }
   ],
   "source": [
    "list3[0] #Retrive the first element from the list"
   ]
  },
  {
   "cell_type": "code",
   "execution_count": 35,
   "id": "84e6762d-0156-44b7-921f-f3a99e8af7d0",
   "metadata": {},
   "outputs": [
    {
     "data": {
      "text/plain": [
       "'t'"
      ]
     },
     "execution_count": 35,
     "metadata": {},
     "output_type": "execute_result"
    }
   ],
   "source": [
    "list3[0][0]   #Access the first character from first index in nested list"
   ]
  },
  {
   "cell_type": "code",
   "execution_count": 37,
   "id": "34b060f1-895a-408c-8ff3-06237bc69782",
   "metadata": {},
   "outputs": [
    {
     "data": {
      "text/plain": [
       "'one'"
      ]
     },
     "execution_count": 37,
     "metadata": {},
     "output_type": "execute_result"
    }
   ],
   "source": [
    "list3[-1]"
   ]
  },
  {
   "cell_type": "code",
   "execution_count": 39,
   "id": "75cdf9f8-f10e-4c38-8d87-f42f9074ae49",
   "metadata": {},
   "outputs": [
    {
     "data": {
      "text/plain": [
       "[20, 25, 30, 35]"
      ]
     },
     "execution_count": 39,
     "metadata": {},
     "output_type": "execute_result"
    }
   ],
   "source": [
    "list4[-1]"
   ]
  },
  {
   "cell_type": "markdown",
   "id": "62a5b0d4-795d-4dc3-a04e-7b7559a50caf",
   "metadata": {},
   "source": [
    "# List Slicing"
   ]
  },
  {
   "cell_type": "code",
   "execution_count": 42,
   "id": "0951f0e1-f24a-4d49-b6dc-4f9e18d83fe2",
   "metadata": {},
   "outputs": [],
   "source": [
    "mylist = ['one','two','Three','Four','Five','Six','Seven','Eight']"
   ]
  },
  {
   "cell_type": "code",
   "execution_count": 44,
   "id": "89337484-d6c7-41b0-b9fd-c2442822a74e",
   "metadata": {},
   "outputs": [
    {
     "data": {
      "text/plain": [
       "['one', 'two', 'Three']"
      ]
     },
     "execution_count": 44,
     "metadata": {},
     "output_type": "execute_result"
    }
   ],
   "source": [
    "mylist[0:3] #Return the all items from 0th indexing to the 3rd index"
   ]
  },
  {
   "cell_type": "code",
   "execution_count": 46,
   "id": "d45d62b8-75e2-4b51-806b-160766902cd2",
   "metadata": {},
   "outputs": [
    {
     "data": {
      "text/plain": [
       "['Three', 'Four', 'Five']"
      ]
     },
     "execution_count": 46,
     "metadata": {},
     "output_type": "execute_result"
    }
   ],
   "source": [
    "mylist[2:5]"
   ]
  },
  {
   "cell_type": "code",
   "execution_count": 48,
   "id": "09d9485f-85d1-4c08-a989-850065651ccb",
   "metadata": {},
   "outputs": [
    {
     "data": {
      "text/plain": [
       "['one', 'two', 'Three']"
      ]
     },
     "execution_count": 48,
     "metadata": {},
     "output_type": "execute_result"
    }
   ],
   "source": [
    "mylist[:3]"
   ]
  },
  {
   "cell_type": "code",
   "execution_count": 50,
   "id": "e189a35a-f050-422b-ac01-23572bc25e53",
   "metadata": {},
   "outputs": [
    {
     "data": {
      "text/plain": [
       "['one', 'two']"
      ]
     },
     "execution_count": 50,
     "metadata": {},
     "output_type": "execute_result"
    }
   ],
   "source": [
    "mylist[:2]"
   ]
  },
  {
   "cell_type": "code",
   "execution_count": 52,
   "id": "a81aea34-1b79-43b9-882b-ddd8e1d602a1",
   "metadata": {},
   "outputs": [
    {
     "data": {
      "text/plain": [
       "['Six', 'Seven', 'Eight']"
      ]
     },
     "execution_count": 52,
     "metadata": {},
     "output_type": "execute_result"
    }
   ],
   "source": [
    "mylist[-3:]"
   ]
  },
  {
   "cell_type": "code",
   "execution_count": 54,
   "id": "79cf76ef-7487-422d-8c68-a1a2e22d17f8",
   "metadata": {},
   "outputs": [
    {
     "data": {
      "text/plain": [
       "['Seven', 'Eight']"
      ]
     },
     "execution_count": 54,
     "metadata": {},
     "output_type": "execute_result"
    }
   ],
   "source": [
    "mylist[-2:]"
   ]
  },
  {
   "cell_type": "code",
   "execution_count": 56,
   "id": "a4e2ba3e-9e9a-4d42-abdf-c614d3fe5a1b",
   "metadata": {},
   "outputs": [
    {
     "data": {
      "text/plain": [
       "'Eight'"
      ]
     },
     "execution_count": 56,
     "metadata": {},
     "output_type": "execute_result"
    }
   ],
   "source": [
    "mylist[-1]"
   ]
  },
  {
   "cell_type": "markdown",
   "id": "383e95d8-0288-4869-b8c8-cf84054f2970",
   "metadata": {},
   "source": [
    "# Add Remove and change item"
   ]
  },
  {
   "cell_type": "code",
   "execution_count": 59,
   "id": "ec1c29b5-f5d3-45a0-858f-63ca83bdfde9",
   "metadata": {},
   "outputs": [
    {
     "data": {
      "text/plain": [
       "['one', 'two', 'Three', 'Four', 'Five', 'Six', 'Seven', 'Eight']"
      ]
     },
     "execution_count": 59,
     "metadata": {},
     "output_type": "execute_result"
    }
   ],
   "source": [
    "mylist"
   ]
  },
  {
   "cell_type": "code",
   "execution_count": 61,
   "id": "45caf6e0-a36f-43d9-8104-9583f25e90ba",
   "metadata": {},
   "outputs": [],
   "source": [
    "mylist.append('nine') # Add tge element at a last index"
   ]
  },
  {
   "cell_type": "code",
   "execution_count": 63,
   "id": "2165e0a4-6630-456e-8fc3-66731b5d7f18",
   "metadata": {},
   "outputs": [
    {
     "data": {
      "text/plain": [
       "['one', 'two', 'Three', 'Four', 'Five', 'Six', 'Seven', 'Eight', 'nine']"
      ]
     },
     "execution_count": 63,
     "metadata": {},
     "output_type": "execute_result"
    }
   ],
   "source": [
    "mylist"
   ]
  },
  {
   "cell_type": "code",
   "execution_count": 65,
   "id": "48d959f7-0e58-4dc0-ba3b-7af0fa8c50cb",
   "metadata": {},
   "outputs": [
    {
     "data": {
      "text/plain": [
       "['one', 'two', 'Three', 'Four', 'Five', 'Six', 'Seven', 'Eight', 'nine', 'ten']"
      ]
     },
     "execution_count": 65,
     "metadata": {},
     "output_type": "execute_result"
    }
   ],
   "source": [
    "mylist.insert(9,'ten') #ADD item at index 9\n",
    "mylist"
   ]
  },
  {
   "cell_type": "code",
   "execution_count": 67,
   "id": "9158e804-bfbe-4722-9026-74ff3ba195ae",
   "metadata": {},
   "outputs": [
    {
     "data": {
      "text/plain": [
       "['one', 'two', 'Three', 'Four', 'Five', 'Six', 'Seven', 'Eight', 'nine', 'ten']"
      ]
     },
     "execution_count": 67,
     "metadata": {},
     "output_type": "execute_result"
    }
   ],
   "source": [
    "mylist"
   ]
  },
  {
   "cell_type": "code",
   "execution_count": 69,
   "id": "e6390dcd-b955-4966-a32d-b3f77753622a",
   "metadata": {},
   "outputs": [
    {
     "data": {
      "text/plain": [
       "['one',\n",
       " 'ONE',\n",
       " 'two',\n",
       " 'Three',\n",
       " 'Four',\n",
       " 'Five',\n",
       " 'Six',\n",
       " 'Seven',\n",
       " 'Eight',\n",
       " 'nine',\n",
       " 'ten']"
      ]
     },
     "execution_count": 69,
     "metadata": {},
     "output_type": "execute_result"
    }
   ],
   "source": [
    "mylist.insert(1,'ONE')  # ADD the item at index location 'ONE'\n",
    "mylist"
   ]
  },
  {
   "cell_type": "code",
   "execution_count": 71,
   "id": "ce746166-c3f3-4d2d-a65f-34b60452dfa9",
   "metadata": {},
   "outputs": [
    {
     "data": {
      "text/plain": [
       "['one', 'two', 'Three', 'Four', 'Five', 'Six', 'Seven', 'Eight', 'nine', 'ten']"
      ]
     },
     "execution_count": 71,
     "metadata": {},
     "output_type": "execute_result"
    }
   ],
   "source": [
    "mylist.remove('ONE')\n",
    "mylist"
   ]
  },
  {
   "cell_type": "code",
   "execution_count": 73,
   "id": "ce79eafb-69c3-4e5b-b48f-a39c15d15ecf",
   "metadata": {},
   "outputs": [
    {
     "data": {
      "text/plain": [
       "'ten'"
      ]
     },
     "execution_count": 73,
     "metadata": {},
     "output_type": "execute_result"
    }
   ],
   "source": [
    "mylist.pop()  #Remove the last element bydefault"
   ]
  },
  {
   "cell_type": "code",
   "execution_count": 75,
   "id": "80d099da-5a7c-4613-bfdc-e51c55adf40f",
   "metadata": {},
   "outputs": [
    {
     "data": {
      "text/plain": [
       "['one', 'two', 'Three', 'Four', 'Five', 'Six', 'Seven', 'Eight', 'nine']"
      ]
     },
     "execution_count": 75,
     "metadata": {},
     "output_type": "execute_result"
    }
   ],
   "source": [
    "mylist"
   ]
  },
  {
   "cell_type": "code",
   "execution_count": 77,
   "id": "98bbfae7-c820-4183-8fa0-0c0891fd4f0f",
   "metadata": {},
   "outputs": [
    {
     "data": {
      "text/plain": [
       "'nine'"
      ]
     },
     "execution_count": 77,
     "metadata": {},
     "output_type": "execute_result"
    }
   ],
   "source": [
    "mylist.pop(8) #Remove the item at  index 8 "
   ]
  },
  {
   "cell_type": "code",
   "execution_count": 79,
   "id": "54efe6af-30de-47fe-bd18-292ad05f9683",
   "metadata": {},
   "outputs": [
    {
     "data": {
      "text/plain": [
       "['one', 'two', 'Three', 'Four', 'Five', 'Six', 'Seven', 'Eight']"
      ]
     },
     "execution_count": 79,
     "metadata": {},
     "output_type": "execute_result"
    }
   ],
   "source": [
    "mylist"
   ]
  },
  {
   "cell_type": "code",
   "execution_count": 81,
   "id": "4de87e8c-0024-4e4a-bfc3-36a886df39e7",
   "metadata": {},
   "outputs": [
    {
     "ename": "IndexError",
     "evalue": "pop index out of range",
     "output_type": "error",
     "traceback": [
      "\u001b[1;31m---------------------------------------------------------------------------\u001b[0m",
      "\u001b[1;31mIndexError\u001b[0m                                Traceback (most recent call last)",
      "Cell \u001b[1;32mIn[81], line 1\u001b[0m\n\u001b[1;32m----> 1\u001b[0m mylist\u001b[38;5;241m.\u001b[39mpop(\u001b[38;5;241m9\u001b[39m)\n",
      "\u001b[1;31mIndexError\u001b[0m: pop index out of range"
     ]
    }
   ],
   "source": [
    "mylist.pop(9)"
   ]
  },
  {
   "cell_type": "code",
   "execution_count": null,
   "id": "38f17c9d-219c-4a2d-a7bd-129dfff4689b",
   "metadata": {},
   "outputs": [],
   "source": [
    "del mylist[7]"
   ]
  },
  {
   "cell_type": "code",
   "execution_count": null,
   "id": "a7f50a2f-6f45-430c-af8f-03a5d81895f2",
   "metadata": {},
   "outputs": [],
   "source": [
    "mylist"
   ]
  },
  {
   "cell_type": "markdown",
   "id": "8722cb0f-c9a0-4f64-b251-ebbdc78f70df",
   "metadata": {},
   "source": [
    "# Change value of a string"
   ]
  },
  {
   "cell_type": "code",
   "execution_count": 84,
   "id": "79b1dae3-ab66-408f-a160-8563d9e70520",
   "metadata": {},
   "outputs": [
    {
     "data": {
      "text/plain": [
       "['one', 'two', 'Three', 'Four', 'Five', 'Six', 'Seven', 'Eight']"
      ]
     },
     "execution_count": 84,
     "metadata": {},
     "output_type": "execute_result"
    }
   ],
   "source": [
    "mylist"
   ]
  },
  {
   "cell_type": "code",
   "execution_count": 86,
   "id": "10c93125-ef27-44de-83b2-d5fb610e85f2",
   "metadata": {},
   "outputs": [
    {
     "data": {
      "text/plain": [
       "[1, 2, 3, 'Four', 'Five', 'Six', 'Seven', 'Eight']"
      ]
     },
     "execution_count": 86,
     "metadata": {},
     "output_type": "execute_result"
    }
   ],
   "source": [
    "mylist[0] = 1\n",
    "mylist[1] = 2\n",
    "mylist[2] = 3\n",
    "mylist"
   ]
  },
  {
   "cell_type": "code",
   "execution_count": 88,
   "id": "196be373-6e20-4783-80bc-58b4c49dd248",
   "metadata": {},
   "outputs": [
    {
     "data": {
      "text/plain": [
       "[]"
      ]
     },
     "execution_count": 88,
     "metadata": {},
     "output_type": "execute_result"
    }
   ],
   "source": [
    "mylist.clear() #clear the all item from the list\n",
    "mylist"
   ]
  },
  {
   "cell_type": "markdown",
   "id": "06c25355-ad6a-4fc7-9157-7de161ef2824",
   "metadata": {},
   "source": [
    "# copy list"
   ]
  },
  {
   "cell_type": "code",
   "execution_count": 91,
   "id": "d60634e5-9956-4ed6-82cd-03692e546ec4",
   "metadata": {},
   "outputs": [
    {
     "data": {
      "text/plain": [
       "['one', 'two', 'three', 'four', 'five', 'six', 'seven', 'eight', 'nine']"
      ]
     },
     "execution_count": 91,
     "metadata": {},
     "output_type": "execute_result"
    }
   ],
   "source": [
    "mylist = ['one','two','three','four','five','six','seven','eight','nine']\n",
    "mylist"
   ]
  },
  {
   "cell_type": "code",
   "execution_count": 93,
   "id": "6a0ebb64-58d0-4cef-bbe2-f4468683cbe9",
   "metadata": {},
   "outputs": [],
   "source": [
    "mylist1 = mylist"
   ]
  },
  {
   "cell_type": "code",
   "execution_count": 95,
   "id": "37628fb7-7ec6-42f3-9076-93b2bff9d560",
   "metadata": {},
   "outputs": [
    {
     "data": {
      "text/plain": [
       "['one', 'two', 'three', 'four', 'five', 'six', 'seven', 'eight', 'nine']"
      ]
     },
     "execution_count": 95,
     "metadata": {},
     "output_type": "execute_result"
    }
   ],
   "source": [
    "mylist1"
   ]
  },
  {
   "cell_type": "code",
   "execution_count": 97,
   "id": "8ab50d34-f2cd-422c-afdd-d739b37b1f2b",
   "metadata": {},
   "outputs": [
    {
     "data": {
      "text/plain": [
       "(1620672541184, 1620672541184)"
      ]
     },
     "execution_count": 97,
     "metadata": {},
     "output_type": "execute_result"
    }
   ],
   "source": [
    "id(mylist), id(mylist1)  # here both the adresssof the mylist and mylist1 are the same"
   ]
  },
  {
   "cell_type": "code",
   "execution_count": 99,
   "id": "c9ed9dde-a211-4da0-a733-59aa74d67cc9",
   "metadata": {},
   "outputs": [
    {
     "data": {
      "text/plain": [
       "['one', 'two', 'three', 'four', 'five', 'six', 'seven', 'eight', 'nine']"
      ]
     },
     "execution_count": 99,
     "metadata": {},
     "output_type": "execute_result"
    }
   ],
   "source": [
    "mylist2 = mylist.copy()  #creating the copy of the list\n",
    "mylist2"
   ]
  },
  {
   "cell_type": "code",
   "execution_count": 101,
   "id": "ee1d4186-1982-46fa-9d03-f4ee2885a745",
   "metadata": {},
   "outputs": [
    {
     "data": {
      "text/plain": [
       "1620672500032"
      ]
     },
     "execution_count": 101,
     "metadata": {},
     "output_type": "execute_result"
    }
   ],
   "source": [
    "id(mylist2)   #here the adrees of the mylist is the difference as compaire to the mylist"
   ]
  },
  {
   "cell_type": "code",
   "execution_count": 103,
   "id": "8bb9c4cf-05f4-480d-83b0-34e5d701d076",
   "metadata": {},
   "outputs": [
    {
     "data": {
      "text/plain": [
       "'one'"
      ]
     },
     "execution_count": 103,
     "metadata": {},
     "output_type": "execute_result"
    }
   ],
   "source": [
    "mylist[0]"
   ]
  },
  {
   "cell_type": "code",
   "execution_count": 105,
   "id": "d313bf1d-f50b-42b6-93b3-62a2fec4d363",
   "metadata": {},
   "outputs": [
    {
     "data": {
      "text/plain": [
       "['one', 'two', 'three', 'four', 'five', 'six', 'seven', 'eight', 'nine']"
      ]
     },
     "execution_count": 105,
     "metadata": {},
     "output_type": "execute_result"
    }
   ],
   "source": [
    "mylist"
   ]
  },
  {
   "cell_type": "code",
   "execution_count": 107,
   "id": "c846c1dc-9f50-4ae3-9b1a-02f022762959",
   "metadata": {},
   "outputs": [
    {
     "data": {
      "text/plain": [
       "['one', 'two', 'three', 'four', 'five', 'six', 'seven', 'eight', 'nine']"
      ]
     },
     "execution_count": 107,
     "metadata": {},
     "output_type": "execute_result"
    }
   ],
   "source": [
    "mylist1"
   ]
  },
  {
   "cell_type": "code",
   "execution_count": 109,
   "id": "3b59c459-ddc7-4d32-8a22-5eb9b03cd426",
   "metadata": {},
   "outputs": [
    {
     "data": {
      "text/plain": [
       "['one', 'two', 'three', 'four', 'five', 'six', 'seven', 'eight', 'nine']"
      ]
     },
     "execution_count": 109,
     "metadata": {},
     "output_type": "execute_result"
    }
   ],
   "source": [
    "mylist2"
   ]
  },
  {
   "cell_type": "markdown",
   "id": "0b3098ca-5219-4f44-8a4a-3654df76db1a",
   "metadata": {},
   "source": [
    "# Join List "
   ]
  },
  {
   "cell_type": "code",
   "execution_count": 112,
   "id": "9cf2061b-3884-4676-9ea7-003ef2db9d98",
   "metadata": {},
   "outputs": [],
   "source": [
    "list1 = ['one','two','three','four']\n",
    "list2 = ['five','six','seven','eight']"
   ]
  },
  {
   "cell_type": "code",
   "execution_count": 114,
   "id": "98952aff-9d5c-4201-a086-d9cab5473627",
   "metadata": {},
   "outputs": [
    {
     "data": {
      "text/plain": [
       "['one', 'two', 'three', 'four', 'five', 'six', 'seven', 'eight']"
      ]
     },
     "execution_count": 114,
     "metadata": {},
     "output_type": "execute_result"
    }
   ],
   "source": [
    "list3 = list1 + list2   #Join two list by the '+' operator\n",
    "list3"
   ]
  },
  {
   "cell_type": "code",
   "execution_count": 116,
   "id": "ac1f4541-0683-496c-ad9c-d5fde8ec3d78",
   "metadata": {},
   "outputs": [
    {
     "data": {
      "text/plain": [
       "['one', 'two', 'three', 'four', 'five', 'six', 'seven', 'eight']"
      ]
     },
     "execution_count": 116,
     "metadata": {},
     "output_type": "execute_result"
    }
   ],
   "source": [
    "list1.extend(list2)    #Append list2 with list1\n",
    "list1"
   ]
  },
  {
   "cell_type": "markdown",
   "id": "7ab55044-b71f-4f52-b69b-d75b794817f8",
   "metadata": {},
   "source": [
    "# List Membership"
   ]
  },
  {
   "cell_type": "code",
   "execution_count": 119,
   "id": "3de027f9-e3d9-4494-83d7-20de6c1ab5c4",
   "metadata": {},
   "outputs": [
    {
     "data": {
      "text/plain": [
       "['one', 'two', 'three', 'four', 'five', 'six', 'seven', 'eight']"
      ]
     },
     "execution_count": 119,
     "metadata": {},
     "output_type": "execute_result"
    }
   ],
   "source": [
    "list1"
   ]
  },
  {
   "cell_type": "code",
   "execution_count": 121,
   "id": "1dd002a4-28ec-443e-8477-d70e67ff864b",
   "metadata": {},
   "outputs": [
    {
     "data": {
      "text/plain": [
       "True"
      ]
     },
     "execution_count": 121,
     "metadata": {},
     "output_type": "execute_result"
    }
   ],
   "source": [
    "'one' in list1   # check one exists in list1 or not "
   ]
  },
  {
   "cell_type": "code",
   "execution_count": 123,
   "id": "ad2d38df-1303-4ef3-b834-61abb278f926",
   "metadata": {},
   "outputs": [
    {
     "data": {
      "text/plain": [
       "False"
      ]
     },
     "execution_count": 123,
     "metadata": {},
     "output_type": "execute_result"
    }
   ],
   "source": [
    "'ten' in list1  "
   ]
  },
  {
   "cell_type": "code",
   "execution_count": 125,
   "id": "eb64a1d1-817c-45e7-af80-dcda0761f6d4",
   "metadata": {},
   "outputs": [
    {
     "name": "stdout",
     "output_type": "stream",
     "text": [
      "Three is present in list\n"
     ]
    }
   ],
   "source": [
    "if 'three' in list1:\n",
    "    print('Three is present in list')\n",
    "else:\n",
    "    print('Three is not present in list')"
   ]
  },
  {
   "cell_type": "code",
   "execution_count": 127,
   "id": "99fe373e-2141-45f8-afe9-16d1929b04d1",
   "metadata": {},
   "outputs": [
    {
     "name": "stdout",
     "output_type": "stream",
     "text": [
      "Eleven is not present in list\n"
     ]
    }
   ],
   "source": [
    "if 'eleven' in list:\n",
    "    print('Eleven is present in list')\n",
    "else:\n",
    "    print('Eleven is not present in list')"
   ]
  },
  {
   "cell_type": "markdown",
   "id": "94fa7702-3042-424b-accb-ab50776fb88a",
   "metadata": {},
   "source": [
    "# Reverse and Sort List"
   ]
  },
  {
   "cell_type": "code",
   "execution_count": 130,
   "id": "6e235b70-6626-47e7-92fc-2ccf026e8bcd",
   "metadata": {},
   "outputs": [
    {
     "data": {
      "text/plain": [
       "['one', 'two', 'three', 'four', 'five', 'six', 'seven', 'eight']"
      ]
     },
     "execution_count": 130,
     "metadata": {},
     "output_type": "execute_result"
    }
   ],
   "source": [
    "list1 "
   ]
  },
  {
   "cell_type": "code",
   "execution_count": 132,
   "id": "53f920f9-d367-4435-ab46-720bbd688c59",
   "metadata": {},
   "outputs": [
    {
     "data": {
      "text/plain": [
       "['eight', 'seven', 'six', 'five', 'four', 'three', 'two', 'one']"
      ]
     },
     "execution_count": 132,
     "metadata": {},
     "output_type": "execute_result"
    }
   ],
   "source": [
    "list1.reverse()\n",
    "list1"
   ]
  },
  {
   "cell_type": "code",
   "execution_count": 134,
   "id": "9abbd82a-0d04-4f4e-b3f2-1e6ac670d6be",
   "metadata": {},
   "outputs": [
    {
     "data": {
      "text/plain": [
       "['one', 'two', 'three', 'four', 'five', 'six', 'seven', 'eight']"
      ]
     },
     "execution_count": 134,
     "metadata": {},
     "output_type": "execute_result"
    }
   ],
   "source": [
    "list1[::-1]"
   ]
  },
  {
   "cell_type": "code",
   "execution_count": 136,
   "id": "67f8bca9-07a4-48bf-97c7-77d7c13cbfd1",
   "metadata": {},
   "outputs": [
    {
     "data": {
      "text/plain": [
       "['five', 'six', 'seven', 'eight']"
      ]
     },
     "execution_count": 136,
     "metadata": {},
     "output_type": "execute_result"
    }
   ],
   "source": [
    "list2"
   ]
  },
  {
   "cell_type": "code",
   "execution_count": 158,
   "id": "9b942a51-164d-4d0b-9beb-85311ae10469",
   "metadata": {},
   "outputs": [
    {
     "data": {
      "text/plain": [
       "[2, 5, 9, 12, 34, 88, 99]"
      ]
     },
     "execution_count": 158,
     "metadata": {},
     "output_type": "execute_result"
    }
   ],
   "source": [
    "mylist3 = [9,5,2,99,12,88,34]   # sort list in ascending oredr\n",
    "mylist3.sort()\n",
    "mylist3"
   ]
  },
  {
   "cell_type": "code",
   "execution_count": 161,
   "id": "54453f58-f29e-4773-82c3-e278b726ab4c",
   "metadata": {},
   "outputs": [
    {
     "data": {
      "text/plain": [
       "[99, 88, 34, 12, 9, 5, 2]"
      ]
     },
     "execution_count": 161,
     "metadata": {},
     "output_type": "execute_result"
    }
   ],
   "source": [
    "mylist3 =[9,5,2,99,12,88,34]\n",
    "mylist3.sort(reverse=True)  #sort list in descending order\n",
    "mylist3"
   ]
  },
  {
   "cell_type": "code",
   "execution_count": 163,
   "id": "bd5a96f3-f1e3-42fa-a363-5ae9eb552b55",
   "metadata": {},
   "outputs": [
    {
     "data": {
      "text/plain": [
       "[11, 21, 33, 65, 88, 98]"
      ]
     },
     "execution_count": 163,
     "metadata": {},
     "output_type": "execute_result"
    }
   ],
   "source": [
    "mylist4 = [88,65,33,21,11,98]\n",
    "sorted(mylist4)"
   ]
  },
  {
   "cell_type": "markdown",
   "id": "e0d30f67-7b60-4778-ad24-7ce5f7e7f945",
   "metadata": {},
   "source": [
    "# Loop through alist"
   ]
  },
  {
   "cell_type": "code",
   "execution_count": 138,
   "id": "2b77339b-8c99-494b-8db1-963b76e3258e",
   "metadata": {},
   "outputs": [
    {
     "data": {
      "text/plain": [
       "['eight', 'seven', 'six', 'five', 'four', 'three', 'two', 'one']"
      ]
     },
     "execution_count": 138,
     "metadata": {},
     "output_type": "execute_result"
    }
   ],
   "source": [
    "list1"
   ]
  },
  {
   "cell_type": "code",
   "execution_count": 140,
   "id": "9a02bd7e-a436-4ed8-aaab-7026d5dcdded",
   "metadata": {},
   "outputs": [
    {
     "name": "stdout",
     "output_type": "stream",
     "text": [
      "eight\n",
      "seven\n",
      "six\n",
      "five\n",
      "four\n",
      "three\n",
      "two\n",
      "one\n"
     ]
    }
   ],
   "source": [
    "for i in list1:\n",
    "    print(i)"
   ]
  },
  {
   "cell_type": "code",
   "execution_count": 144,
   "id": "a36b9ed4-a144-4b81-b90d-eb98f42defb6",
   "metadata": {},
   "outputs": [
    {
     "name": "stdout",
     "output_type": "stream",
     "text": [
      "(0, 'eight')\n",
      "(1, 'seven')\n",
      "(2, 'six')\n",
      "(3, 'five')\n",
      "(4, 'four')\n",
      "(5, 'three')\n",
      "(6, 'two')\n",
      "(7, 'one')\n"
     ]
    }
   ],
   "source": [
    "for i in enumerate(list1):\n",
    "    print(i)"
   ]
  },
  {
   "cell_type": "markdown",
   "id": "1ead0a23-a10a-4366-9d3c-7e63856a2cba",
   "metadata": {},
   "source": [
    "# count"
   ]
  },
  {
   "cell_type": "code",
   "execution_count": 147,
   "id": "9f3b3fec-6ddf-4724-b0a8-f99f60f6d3c5",
   "metadata": {},
   "outputs": [],
   "source": [
    "list10 = ['one','two','three','four','one','one','two','three']"
   ]
  },
  {
   "cell_type": "code",
   "execution_count": 149,
   "id": "bee02551-91f0-4490-9e8e-d307fc905256",
   "metadata": {},
   "outputs": [
    {
     "data": {
      "text/plain": [
       "3"
      ]
     },
     "execution_count": 149,
     "metadata": {},
     "output_type": "execute_result"
    }
   ],
   "source": [
    "list10.count('one')   #Number of time occured in list"
   ]
  },
  {
   "cell_type": "code",
   "execution_count": 151,
   "id": "506ef617-213e-447e-a068-3b8f03777321",
   "metadata": {},
   "outputs": [
    {
     "data": {
      "text/plain": [
       "2"
      ]
     },
     "execution_count": 151,
     "metadata": {},
     "output_type": "execute_result"
    }
   ],
   "source": [
    "list10.count('two')"
   ]
  },
  {
   "cell_type": "code",
   "execution_count": 155,
   "id": "186392fe-0192-470a-8ef4-00ab20d8ca5c",
   "metadata": {},
   "outputs": [
    {
     "data": {
      "text/plain": [
       "1"
      ]
     },
     "execution_count": 155,
     "metadata": {},
     "output_type": "execute_result"
    }
   ],
   "source": [
    "list10.count('four')"
   ]
  },
  {
   "cell_type": "markdown",
   "id": "1ad80579-0c2c-4f31-a06e-dc1a5087da44",
   "metadata": {},
   "source": [
    "# All & Any Method"
   ]
  },
  {
   "cell_type": "raw",
   "id": "aec02913-ce47-4b40-bc28-3e21acf574d6",
   "metadata": {},
   "source": [
    "All : If all element of list are true\n",
    "Any :If any element in list is true"
   ]
  },
  {
   "cell_type": "code",
   "execution_count": 158,
   "id": "46da6d0f-797a-4ebb-81e1-032685de8c05",
   "metadata": {},
   "outputs": [],
   "source": [
    "l1 =[1,2,3,4,0]"
   ]
  },
  {
   "cell_type": "code",
   "execution_count": 160,
   "id": "b5286b15-9b94-43a2-9779-9f28add0e223",
   "metadata": {},
   "outputs": [
    {
     "data": {
      "text/plain": [
       "False"
      ]
     },
     "execution_count": 160,
     "metadata": {},
     "output_type": "execute_result"
    }
   ],
   "source": [
    "all(l1)     "
   ]
  },
  {
   "cell_type": "code",
   "execution_count": 162,
   "id": "b6a1e6eb-7b78-457a-af14-d2d812d46f38",
   "metadata": {},
   "outputs": [
    {
     "data": {
      "text/plain": [
       "True"
      ]
     },
     "execution_count": 162,
     "metadata": {},
     "output_type": "execute_result"
    }
   ],
   "source": [
    "any(l1)"
   ]
  },
  {
   "cell_type": "code",
   "execution_count": 170,
   "id": "2f3ea697-96d7-4701-87fb-fef2084910f0",
   "metadata": {},
   "outputs": [
    {
     "data": {
      "text/plain": [
       "False"
      ]
     },
     "execution_count": 170,
     "metadata": {},
     "output_type": "execute_result"
    }
   ],
   "source": [
    "l2 = [1,2,3,4,True,False]\n",
    "all(l2)"
   ]
  },
  {
   "cell_type": "code",
   "execution_count": 172,
   "id": "9908cca0-e168-443d-b6c6-bac0d735373d",
   "metadata": {},
   "outputs": [
    {
     "data": {
      "text/plain": [
       "True"
      ]
     },
     "execution_count": 172,
     "metadata": {},
     "output_type": "execute_result"
    }
   ],
   "source": [
    "any(l2)"
   ]
  },
  {
   "cell_type": "code",
   "execution_count": 174,
   "id": "d7a49d47-1d3c-4ab1-b295-014769245c90",
   "metadata": {},
   "outputs": [
    {
     "data": {
      "text/plain": [
       "True"
      ]
     },
     "execution_count": 174,
     "metadata": {},
     "output_type": "execute_result"
    }
   ],
   "source": [
    "l3 = [1,2,3,4,5,True]\n",
    "all(l3)"
   ]
  },
  {
   "cell_type": "code",
   "execution_count": 176,
   "id": "a2fddac7-1607-4bd5-88ab-1c9ab65709db",
   "metadata": {},
   "outputs": [
    {
     "data": {
      "text/plain": [
       "False"
      ]
     },
     "execution_count": 176,
     "metadata": {},
     "output_type": "execute_result"
    }
   ],
   "source": [
    "l4 = [1,2,3,4,5,False]\n",
    "all(l4)"
   ]
  },
  {
   "cell_type": "code",
   "execution_count": null,
   "id": "5870e87c-4eaa-48e6-ad57-e567ef04a044",
   "metadata": {},
   "outputs": [],
   "source": []
  }
 ],
 "metadata": {
  "kernelspec": {
   "display_name": "Python 3 (ipykernel)",
   "language": "python",
   "name": "python3"
  },
  "language_info": {
   "codemirror_mode": {
    "name": "ipython",
    "version": 3
   },
   "file_extension": ".py",
   "mimetype": "text/x-python",
   "name": "python",
   "nbconvert_exporter": "python",
   "pygments_lexer": "ipython3",
   "version": "3.12.7"
  }
 },
 "nbformat": 4,
 "nbformat_minor": 5
}
