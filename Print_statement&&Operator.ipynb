{
 "cells": [
  {
   "cell_type": "markdown",
   "id": "6a5d2c2b-7300-4954-ac89-e1c8933154fd",
   "metadata": {},
   "source": [
    "### Print statement used for the output"
   ]
  },
  {
   "cell_type": "code",
   "execution_count": 8,
   "id": "693f521e-1cff-4834-ab93-144901dffd2f",
   "metadata": {},
   "outputs": [
    {
     "data": {
      "text/plain": [
       "15"
      ]
     },
     "execution_count": 8,
     "metadata": {},
     "output_type": "execute_result"
    }
   ],
   "source": [
    "a = 12\n",
    "b = 15\n",
    "a\n",
    "b"
   ]
  },
  {
   "cell_type": "code",
   "execution_count": 10,
   "id": "c8b17675-759b-4112-9ecf-45c218258d9a",
   "metadata": {},
   "outputs": [
    {
     "data": {
      "text/plain": [
       "20"
      ]
     },
     "execution_count": 10,
     "metadata": {},
     "output_type": "execute_result"
    }
   ],
   "source": [
    "a1 = 10\n",
    "b1 = 20\n",
    "b1"
   ]
  },
  {
   "cell_type": "code",
   "execution_count": 12,
   "id": "9ee36aed-cdfa-4dac-ad9a-2adafb6cf737",
   "metadata": {},
   "outputs": [
    {
     "data": {
      "text/plain": [
       "10"
      ]
     },
     "execution_count": 12,
     "metadata": {},
     "output_type": "execute_result"
    }
   ],
   "source": [
    "a1"
   ]
  },
  {
   "cell_type": "code",
   "execution_count": 14,
   "id": "392fd4af-c63b-4f29-ab93-d3bea906dbbe",
   "metadata": {},
   "outputs": [
    {
     "name": "stdout",
     "output_type": "stream",
     "text": [
      "30\n",
      "40\n"
     ]
    }
   ],
   "source": [
    "a2 = 30\n",
    "b2 = 40\n",
    "print(a2)\n",
    "print(b2)"
   ]
  },
  {
   "cell_type": "code",
   "execution_count": 16,
   "id": "f1801c74-aa43-4d14-851f-bd0e702963a6",
   "metadata": {},
   "outputs": [
    {
     "name": "stdout",
     "output_type": "stream",
     "text": [
      "30 40\n"
     ]
    }
   ],
   "source": [
    "print(a2,b2)"
   ]
  },
  {
   "cell_type": "code",
   "execution_count": 18,
   "id": "6592ec6e-ec6b-4f0d-93be-27645553c5d7",
   "metadata": {},
   "outputs": [
    {
     "name": "stdout",
     "output_type": "stream",
     "text": [
      "14\n"
     ]
    }
   ],
   "source": [
    "m = 9\n",
    "n = 5\n",
    "print(m + n)"
   ]
  },
  {
   "cell_type": "code",
   "execution_count": 12,
   "id": "d903c9b9-e401-4128-ac51-756a089a5496",
   "metadata": {},
   "outputs": [
    {
     "name": "stdout",
     "output_type": "stream",
     "text": [
      "10 20\n",
      "10 20 30\n",
      "Lnguage\n",
      "10 20 10 20 30 Language\n"
     ]
    }
   ],
   "source": [
    "print(10,20)\n",
    "print(10,20,30)\n",
    "print('Lnguage')\n",
    "print(10,20,10,20,30,'Language')"
   ]
  },
  {
   "cell_type": "code",
   "execution_count": 22,
   "id": "7e89c212-21f6-430b-9781-9f7fc6fa34f7",
   "metadata": {},
   "outputs": [
    {
     "name": "stdout",
     "output_type": "stream",
     "text": [
      "25\n"
     ]
    }
   ],
   "source": [
    "num = 13\n",
    "num1 = 12\n",
    "num2= num+num1\n",
    "\n",
    "print(num2)"
   ]
  },
  {
   "cell_type": "code",
   "execution_count": 33,
   "id": "596bff16-0f88-4f9e-9817-debaf7c14b18",
   "metadata": {},
   "outputs": [
    {
     "name": "stdout",
     "output_type": "stream",
     "text": [
      "1\n",
      "156\n",
      "1.0833333333333333\n",
      "1\n",
      "1\n"
     ]
    }
   ],
   "source": [
    "print(num - num1)\n",
    "print(num * num1)\n",
    "print(num / num1)\n",
    "print(num // num1)\n",
    "print(num % num1)"
   ]
  },
  {
   "cell_type": "code",
   "execution_count": 35,
   "id": "2f376d14-a8ca-4146-ad0e-391de83e6fc5",
   "metadata": {},
   "outputs": [
    {
     "name": "stdout",
     "output_type": "stream",
     "text": [
      "25 1\n"
     ]
    }
   ],
   "source": [
    "print(num+num1, num-num1)"
   ]
  },
  {
   "cell_type": "markdown",
   "id": "6a267616-bde1-4798-87f6-405fb6c00550",
   "metadata": {},
   "source": [
    "## Print result with string"
   ]
  },
  {
   "cell_type": "code",
   "execution_count": 42,
   "id": "32598f53-c9ee-4888-afcc-6f69763c0805",
   "metadata": {},
   "outputs": [
    {
     "name": "stdout",
     "output_type": "stream",
     "text": [
      "The addition of 13 & 12 is =  25\n"
     ]
    }
   ],
   "source": [
    "print('The addition of',num,'&',num1,'is = ',num2)"
   ]
  },
  {
   "cell_type": "code",
   "execution_count": 48,
   "id": "0efd39f2-f8f0-49e4-a54d-3e38cd5eb8d3",
   "metadata": {},
   "outputs": [
    {
     "name": "stdout",
     "output_type": "stream",
     "text": [
      "My name is  python Language and I born 1989 Actualy I released in market on 1991 and I am developed from the complete Tv show from monty python flying circus \n"
     ]
    }
   ],
   "source": [
    "name = 'python Language'\n",
    "born = 1989\n",
    "market=1991\n",
    "devloped = 'Tv show from monty python flying circus '\n",
    "print('My name is ',name,'and I born',born,'Actualy I released in market on',market,'and I am developed from the complete',devloped)"
   ]
  },
  {
   "cell_type": "code",
   "execution_count": 76,
   "id": "fc301288-d9ae-468a-9d56-cccd89f9c8a5",
   "metadata": {},
   "outputs": [
    {
     "name": "stdout",
     "output_type": "stream",
     "text": [
      "The substraction of  20 And 10 is =  2\n"
     ]
    }
   ],
   "source": [
    "num1 = 10\n",
    "num2 = 20\n",
    "num3 = num2-num1\n",
    "num3 = num1*num2\n",
    "num3 = num2 / num1\n",
    "num3 = num2 // num1\n",
    "print('The substraction of ',num2,'And', num1,'is = ',num3)"
   ]
  },
  {
   "cell_type": "code",
   "execution_count": 78,
   "id": "0e18d3f1-2bee-4bc8-bddb-7c6eeb7e0999",
   "metadata": {},
   "outputs": [
    {
     "name": "stdout",
     "output_type": "stream",
     "text": [
      "Multiplication of 10 and 20 is =  2\n"
     ]
    }
   ],
   "source": [
    "print('Multiplication of',num1,'and',num2,'is = ',num3)"
   ]
  },
  {
   "cell_type": "code",
   "execution_count": 80,
   "id": "07daeeff-b495-4e0c-9f02-9c3d96522b1d",
   "metadata": {},
   "outputs": [
    {
     "name": "stdout",
     "output_type": "stream",
     "text": [
      "division of 10 and 20 is =  2\n"
     ]
    }
   ],
   "source": [
    "print('division of',num1,'and',num2,'is = ', num3)"
   ]
  },
  {
   "cell_type": "code",
   "execution_count": 82,
   "id": "df15a86d-77d2-47f0-bc75-7b9f8a8538cc",
   "metadata": {},
   "outputs": [
    {
     "name": "stdout",
     "output_type": "stream",
     "text": [
      "Floor division 20 and 10 is =  2\n"
     ]
    }
   ],
   "source": [
    "print('Floor division',num2,'and',num1,'is = ',num3)"
   ]
  },
  {
   "cell_type": "markdown",
   "id": "bc971424-a5b0-4fee-bf2f-4f823d22968f",
   "metadata": {},
   "source": [
    "## Print format method \n",
    "### 1. using the .format()\n",
    "### 2. using the f-string format()"
   ]
  },
  {
   "cell_type": "code",
   "execution_count": 90,
   "id": "0b39bc5c-7874-4585-a0c9-2b9ab9101004",
   "metadata": {},
   "outputs": [
    {
     "name": "stdout",
     "output_type": "stream",
     "text": [
      "The addition of 20 and 30 is = 50\n"
     ]
    }
   ],
   "source": [
    "num1 = 20\n",
    "num2 = 30\n",
    "add = num1 + num2\n",
    "print('The addition of {} and {} is = {}'.format(num1, num2,add))"
   ]
  },
  {
   "cell_type": "code",
   "execution_count": 101,
   "id": "9c29431f-e291-4b8e-844d-baad245d6e22",
   "metadata": {},
   "outputs": [
    {
     "name": "stdout",
     "output_type": "stream",
     "text": [
      "Name: Alice,\tAge : 1998\n"
     ]
    }
   ],
   "source": [
    "name = 'Alice'\n",
    "age = 1998\n",
    "print(f'Name: {name},\\tAge : {age}')"
   ]
  },
  {
   "cell_type": "code",
   "execution_count": 114,
   "id": "5787eecd-8cab-47b2-b56c-b1026b073cc7",
   "metadata": {},
   "outputs": [
    {
     "name": "stdout",
     "output_type": "stream",
     "text": [
      " My Name is python Language,I was born in:1989,I am released in the Market : 1991,I am come from the Tv show from monty python flying circus \n"
     ]
    }
   ],
   "source": [
    "name = 'python Language'\n",
    "born = 1989\n",
    "market=1991\n",
    "devloped = 'Tv show from monty python flying circus '\n",
    "print(f' My Name is {name},I was born in:{born},I am released in the Market : {market},I am come from the {devloped}')"
   ]
  },
  {
   "cell_type": "code",
   "execution_count": 124,
   "id": "ca669e77-abac-4811-98ee-49f45bac491a",
   "metadata": {},
   "outputs": [
    {
     "name": "stdout",
     "output_type": "stream",
     "text": [
      " Number one is 10, Number Two is 20, Number three is30, Total Average is 20.0\n"
     ]
    }
   ],
   "source": [
    "num1 = 10 \n",
    "num2 = 20\n",
    "num3 = 30\n",
    "avg = ((num1+num2+num3)/3)\n",
    "print(f' Number one is {num1}, Number Two is {num2}, Number three is {num3}, Total Average is {avg}')"
   ]
  },
  {
   "cell_type": "code",
   "execution_count": 130,
   "id": "27b43feb-435f-44de-8648-f39bd5ab4628",
   "metadata": {},
   "outputs": [
    {
     "name": "stdout",
     "output_type": "stream",
     "text": [
      "substraction is 11 and 22 is = -11\n",
      "The substraction of the 11 and 22 is = -11\n"
     ]
    }
   ],
   "source": [
    "a = 11\n",
    "b = 22\n",
    "c = a-b\n",
    "print('substraction of {} and {} is = {}'.format(a,b,c))\n",
    "print(f'The substraction of the {a} and {b} is = {c}')"
   ]
  },
  {
   "cell_type": "markdown",
   "id": "4eddf9a4-39df-44cc-897f-63c1571e514e",
   "metadata": {},
   "source": [
    "### End Statement"
   ]
  },
  {
   "cell_type": "raw",
   "id": "c79fe7ef-065d-42cd-aca6-5637a3bd3d81",
   "metadata": {},
   "source": [
    "print('Hello Everyone')\n",
    "print('Having a Good day.')"
   ]
  },
  {
   "cell_type": "code",
   "execution_count": 10,
   "id": "07b95084-0036-4801-9976-d5a3813541bd",
   "metadata": {},
   "outputs": [
    {
     "name": "stdout",
     "output_type": "stream",
     "text": [
      "Hello Everyone  Have a Good day.\n"
     ]
    }
   ],
   "source": [
    "print('Hello Everyone ', end = \" \")\n",
    "print('Have a Good day.')"
   ]
  },
  {
   "cell_type": "markdown",
   "id": "f31ee1a1-30c2-4b3d-96a5-7471f7ffb620",
   "metadata": {},
   "source": [
    "### Sepeator Method"
   ]
  },
  {
   "cell_type": "code",
   "execution_count": 6,
   "id": "78a4d364-fd42-414b-9c52-3d70bb8fede5",
   "metadata": {},
   "outputs": [
    {
     "name": "stdout",
     "output_type": "stream",
     "text": [
      "hello--->hai--->how are you\n"
     ]
    }
   ],
   "source": [
    "print('hello','hai','how are you',sep='--->')"
   ]
  },
  {
   "cell_type": "code",
   "execution_count": 8,
   "id": "0ee31d58-5944-4a40-adf5-0ed5308e22c3",
   "metadata": {},
   "outputs": [
    {
     "name": "stdout",
     "output_type": "stream",
     "text": [
      "Hello#####Everyone#####Have a Good day\n"
     ]
    }
   ],
   "source": [
    "print('Hello','Everyone' , 'Have a Good day', sep='#####')"
   ]
  },
  {
   "cell_type": "code",
   "execution_count": 158,
   "id": "e4a8dde4-fe88-4347-a735-bc8c589a6141",
   "metadata": {},
   "outputs": [
    {
     "name": "stdout",
     "output_type": "stream",
     "text": [
      "Hey******************* Everyone*******************What a beautiful nature\n"
     ]
    }
   ],
   "source": [
    "print('Hey', ' Everyone','What a beautiful nature', sep=\"*******************\")"
   ]
  },
  {
   "cell_type": "markdown",
   "id": "8311e41c-28fa-477f-bf40-7d79db21f72e",
   "metadata": {},
   "source": [
    "# ***operator in python*** \n",
    "------------------------------------------------------------------------------------------------------------------------------\n",
    "##### Operator is a symbol used represent the operand to perform one or more operations"
   ]
  },
  {
   "cell_type": "markdown",
   "id": "9f863b24-d0ea-46dc-a0d1-6921089fd9ae",
   "metadata": {},
   "source": [
    "#### 1. Arthematic Operator\n",
    "#### 2. Relational Operator\n",
    "#### 3. Bitwise Operator\n",
    "#### 4. Logical Operator\n",
    "#### 5. Assignment Operator\n",
    "#### 6. Unary Operator"
   ]
  },
  {
   "cell_type": "markdown",
   "id": "df4e3b51-e1c1-4a8e-9077-542c65306d1e",
   "metadata": {},
   "source": [
    "#### Arethematic Operator"
   ]
  },
  {
   "cell_type": "markdown",
   "id": "8ade818e-94f2-4ae5-9a0f-b1859a01d1fe",
   "metadata": {},
   "source": [
    "x + y\n",
    "x - y\n",
    "x * y\n",
    "x / y\n",
    "x // y\n",
    "x % y\n",
    "x ** y"
   ]
  },
  {
   "cell_type": "code",
   "execution_count": 20,
   "id": "200f5c9c-dd72-46d3-a579-d706c9dda5f8",
   "metadata": {},
   "outputs": [
    {
     "data": {
      "text/plain": [
       "5"
      ]
     },
     "execution_count": 20,
     "metadata": {},
     "output_type": "execute_result"
    }
   ],
   "source": [
    "x = 2\n",
    "y = 3\n",
    "z = x+y\n",
    "z"
   ]
  },
  {
   "cell_type": "code",
   "execution_count": 22,
   "id": "78f007fa-fe94-4de8-865b-0c1906ff005d",
   "metadata": {},
   "outputs": [
    {
     "data": {
      "text/plain": [
       "8"
      ]
     },
     "execution_count": 22,
     "metadata": {},
     "output_type": "execute_result"
    }
   ],
   "source": [
    "z= x**y\n",
    "z"
   ]
  },
  {
   "cell_type": "code",
   "execution_count": 25,
   "id": "d5beb774-b784-4f01-981d-a3f90755daba",
   "metadata": {},
   "outputs": [
    {
     "data": {
      "text/plain": [
       "-1"
      ]
     },
     "execution_count": 25,
     "metadata": {},
     "output_type": "execute_result"
    }
   ],
   "source": [
    "z = x - y\n",
    "z"
   ]
  },
  {
   "cell_type": "code",
   "execution_count": 27,
   "id": "0851bd73-b5d0-49e1-94cd-e4a751879dfd",
   "metadata": {},
   "outputs": [
    {
     "data": {
      "text/plain": [
       "6"
      ]
     },
     "execution_count": 27,
     "metadata": {},
     "output_type": "execute_result"
    }
   ],
   "source": [
    "z = x * y\n",
    "z"
   ]
  },
  {
   "cell_type": "code",
   "execution_count": 29,
   "id": "b1f623e9-ef62-40f7-8e33-2b5e49a70725",
   "metadata": {},
   "outputs": [
    {
     "data": {
      "text/plain": [
       "0.6666666666666666"
      ]
     },
     "execution_count": 29,
     "metadata": {},
     "output_type": "execute_result"
    }
   ],
   "source": [
    "z = x / y\n",
    "z"
   ]
  },
  {
   "cell_type": "code",
   "execution_count": 31,
   "id": "59d8f9e5-e0ac-4b5c-8b86-d6a5fe80c7c4",
   "metadata": {},
   "outputs": [
    {
     "data": {
      "text/plain": [
       "0"
      ]
     },
     "execution_count": 31,
     "metadata": {},
     "output_type": "execute_result"
    }
   ],
   "source": [
    "z = x // y\n",
    "z"
   ]
  },
  {
   "cell_type": "code",
   "execution_count": 33,
   "id": "733b83c1-52ef-47bb-b365-a8beaa0689f2",
   "metadata": {},
   "outputs": [
    {
     "data": {
      "text/plain": [
       "2"
      ]
     },
     "execution_count": 33,
     "metadata": {},
     "output_type": "execute_result"
    }
   ],
   "source": [
    "z = x % y\n",
    "z"
   ]
  },
  {
   "cell_type": "code",
   "execution_count": 43,
   "id": "2e75bc0f-fc37-44f6-b320-0b775f9054ee",
   "metadata": {},
   "outputs": [
    {
     "name": "stdout",
     "output_type": "stream",
     "text": [
      "-1.75\n"
     ]
    }
   ],
   "source": [
    "a = 4\n",
    "b= 3\n",
    "c = 5\n",
    "d = (a + b - (c / a) * (a + b))\n",
    "print(d)"
   ]
  },
  {
   "cell_type": "code",
   "execution_count": 56,
   "id": "765e7cd0-b2e7-4953-8026-beb87ce41c70",
   "metadata": {},
   "outputs": [
    {
     "data": {
      "text/plain": [
       "8"
      ]
     },
     "execution_count": 56,
     "metadata": {},
     "output_type": "execute_result"
    }
   ],
   "source": [
    " 2 ** 4 // 3*2 +3-5"
   ]
  },
  {
   "cell_type": "markdown",
   "id": "e9ccf4bc-cc59-4512-a367-633a5be7de79",
   "metadata": {},
   "source": [
    "#### Assignment operator"
   ]
  },
  {
   "cell_type": "code",
   "execution_count": 46,
   "id": "3b4e1e83-0c05-4d9c-9b3e-f450c6741a41",
   "metadata": {},
   "outputs": [
    {
     "data": {
      "text/plain": [
       "2"
      ]
     },
     "execution_count": 46,
     "metadata": {},
     "output_type": "execute_result"
    }
   ],
   "source": [
    "a = 2\n",
    "a"
   ]
  },
  {
   "cell_type": "code",
   "execution_count": 48,
   "id": "7b3ed1d1-693e-4231-81bd-828eebed41db",
   "metadata": {},
   "outputs": [
    {
     "data": {
      "text/plain": [
       "4"
      ]
     },
     "execution_count": 48,
     "metadata": {},
     "output_type": "execute_result"
    }
   ],
   "source": [
    "a += 2\n",
    "a"
   ]
  },
  {
   "cell_type": "code",
   "execution_count": 50,
   "id": "b392988b-9582-4f4d-878e-a4bed8983b9f",
   "metadata": {},
   "outputs": [
    {
     "data": {
      "text/plain": [
       "2"
      ]
     },
     "execution_count": 50,
     "metadata": {},
     "output_type": "execute_result"
    }
   ],
   "source": [
    "a -= 2\n",
    "a"
   ]
  },
  {
   "cell_type": "code",
   "execution_count": 54,
   "id": "dd4efc0a-d405-4f44-8276-594c970fc5d6",
   "metadata": {},
   "outputs": [
    {
     "data": {
      "text/plain": [
       "18"
      ]
     },
     "execution_count": 54,
     "metadata": {},
     "output_type": "execute_result"
    }
   ],
   "source": [
    "a *= 3\n",
    "a"
   ]
  },
  {
   "cell_type": "code",
   "execution_count": 3,
   "id": "c9646341-0c92-49ec-b84b-14c2fc381bb6",
   "metadata": {},
   "outputs": [
    {
     "data": {
      "text/plain": [
       "2"
      ]
     },
     "execution_count": 3,
     "metadata": {},
     "output_type": "execute_result"
    }
   ],
   "source": [
    "x = 55\n",
    "y = 10\n",
    "x &= y\n",
    "x"
   ]
  },
  {
   "cell_type": "code",
   "execution_count": 1,
   "id": "646322b1-0d91-4ae7-93a7-7b6adbc6fc31",
   "metadata": {},
   "outputs": [
    {
     "data": {
      "text/plain": [
       "8"
      ]
     },
     "execution_count": 1,
     "metadata": {},
     "output_type": "execute_result"
    }
   ],
   "source": [
    "a = 12\n",
    "b = 25\n",
    "a &=  b\n",
    "a"
   ]
  },
  {
   "cell_type": "code",
   "execution_count": 3,
   "id": "a6e5d1c4-00a1-4115-8af8-abb8465c97d6",
   "metadata": {},
   "outputs": [
    {
     "data": {
      "text/plain": [
       "11"
      ]
     },
     "execution_count": 3,
     "metadata": {},
     "output_type": "execute_result"
    }
   ],
   "source": [
    "b = 10\n",
    "c = 9\n",
    "b |= c\n",
    "b"
   ]
  },
  {
   "cell_type": "code",
   "execution_count": 12,
   "id": "40bb6170-0e4d-401e-bc54-f00584f9cc8d",
   "metadata": {},
   "outputs": [
    {
     "data": {
      "text/plain": [
       "12"
      ]
     },
     "execution_count": 12,
     "metadata": {},
     "output_type": "execute_result"
    }
   ],
   "source": [
    "x = 5\n",
    "y = 3\n",
    "x *= y\n",
    "x"
   ]
  },
  {
   "cell_type": "code",
   "execution_count": 14,
   "id": "f2db6d36-43a3-4d92-86b7-c298b01b5c4e",
   "metadata": {},
   "outputs": [
    {
     "data": {
      "text/plain": [
       "1"
      ]
     },
     "execution_count": 14,
     "metadata": {},
     "output_type": "execute_result"
    }
   ],
   "source": [
    "a = 2\n",
    "b = 1\n",
    "a -= b\n",
    "a"
   ]
  },
  {
   "cell_type": "code",
   "execution_count": 16,
   "id": "a2c61c83-cabe-4ff9-affa-ee22c69a86df",
   "metadata": {},
   "outputs": [
    {
     "data": {
      "text/plain": [
       "5"
      ]
     },
     "execution_count": 16,
     "metadata": {},
     "output_type": "execute_result"
    }
   ],
   "source": [
    "a1 = 5 \n",
    "b1 = 10\n",
    "a1 / b1\n",
    "a1"
   ]
  },
  {
   "cell_type": "code",
   "execution_count": 18,
   "id": "2c06a423-358d-4374-87a9-1924c3eebb3e",
   "metadata": {},
   "outputs": [
    {
     "data": {
      "text/plain": [
       "2"
      ]
     },
     "execution_count": 18,
     "metadata": {},
     "output_type": "execute_result"
    }
   ],
   "source": [
    "m = 4\n",
    "n = 2\n",
    "m //= n\n",
    "m"
   ]
  },
  {
   "cell_type": "code",
   "execution_count": 21,
   "id": "c5baacf3-a084-4685-8979-0ff29fec9048",
   "metadata": {},
   "outputs": [
    {
     "data": {
      "text/plain": [
       "13"
      ]
     },
     "execution_count": 21,
     "metadata": {},
     "output_type": "execute_result"
    }
   ],
   "source": [
    "n = 13\n",
    "m = 14\n",
    "n %= m\n",
    "n"
   ]
  },
  {
   "cell_type": "markdown",
   "id": "f9c34a88-2f85-45f3-b2d5-57e91c3dbbd7",
   "metadata": {},
   "source": [
    "#### Unary Operator"
   ]
  },
  {
   "cell_type": "code",
   "execution_count": 24,
   "id": "71207e53-723c-4db0-9a6d-12a6ca05cc2e",
   "metadata": {},
   "outputs": [
    {
     "data": {
      "text/plain": [
       "7"
      ]
     },
     "execution_count": 24,
     "metadata": {},
     "output_type": "execute_result"
    }
   ],
   "source": [
    "m = 7\n",
    "m"
   ]
  },
  {
   "cell_type": "code",
   "execution_count": 28,
   "id": "96ba6c2e-f0a7-452c-8e85-dd8d0e8767dd",
   "metadata": {},
   "outputs": [
    {
     "data": {
      "text/plain": [
       "-1"
      ]
     },
     "execution_count": 28,
     "metadata": {},
     "output_type": "execute_result"
    }
   ],
   "source": [
    "n = -(a)\n",
    "n"
   ]
  },
  {
   "cell_type": "markdown",
   "id": "e1ae6780-6c9d-4a09-9be6-7514c0e34e56",
   "metadata": {},
   "source": [
    "#### Realtional Operator"
   ]
  },
  {
   "cell_type": "raw",
   "id": "850e6948-f5e7-49cf-bee7-0b8a4268f588",
   "metadata": {},
   "source": [
    "== (Equal to)\n",
    "!= (Not Equal to)\n",
    "> (Greater than)\n",
    "< (Less Than)\n",
    ">= (Greater than equal to)\n",
    "<= (Less Than Equal to)"
   ]
  },
  {
   "cell_type": "code",
   "execution_count": 31,
   "id": "c78db0ce-f6e1-4de8-a7a7-d767c5a2c684",
   "metadata": {},
   "outputs": [
    {
     "data": {
      "text/plain": [
       "False"
      ]
     },
     "execution_count": 31,
     "metadata": {},
     "output_type": "execute_result"
    }
   ],
   "source": [
    "a = 10\n",
    "b = 20\n",
    "a == b"
   ]
  },
  {
   "cell_type": "code",
   "execution_count": 33,
   "id": "d7373bd5-4d23-493e-b363-9a3e5e16fb89",
   "metadata": {},
   "outputs": [
    {
     "data": {
      "text/plain": [
       "True"
      ]
     },
     "execution_count": 33,
     "metadata": {},
     "output_type": "execute_result"
    }
   ],
   "source": [
    "a != b"
   ]
  },
  {
   "cell_type": "code",
   "execution_count": 35,
   "id": "b50e4f9d-720f-4fe2-89e5-2433e1ab5ecb",
   "metadata": {},
   "outputs": [
    {
     "data": {
      "text/plain": [
       "False"
      ]
     },
     "execution_count": 35,
     "metadata": {},
     "output_type": "execute_result"
    }
   ],
   "source": [
    "a > b"
   ]
  },
  {
   "cell_type": "code",
   "execution_count": 37,
   "id": "13120fe3-6a8e-49b4-9cc4-244a423213ff",
   "metadata": {},
   "outputs": [
    {
     "data": {
      "text/plain": [
       "True"
      ]
     },
     "execution_count": 37,
     "metadata": {},
     "output_type": "execute_result"
    }
   ],
   "source": [
    "a < b"
   ]
  },
  {
   "cell_type": "code",
   "execution_count": 39,
   "id": "1089e853-8975-458b-8bf2-50ea6dc6294a",
   "metadata": {},
   "outputs": [
    {
     "data": {
      "text/plain": [
       "False"
      ]
     },
     "execution_count": 39,
     "metadata": {},
     "output_type": "execute_result"
    }
   ],
   "source": [
    "a >= b"
   ]
  },
  {
   "cell_type": "code",
   "execution_count": 41,
   "id": "5b26dd78-b216-4790-b829-730e8887c600",
   "metadata": {},
   "outputs": [
    {
     "data": {
      "text/plain": [
       "True"
      ]
     },
     "execution_count": 41,
     "metadata": {},
     "output_type": "execute_result"
    }
   ],
   "source": [
    "a <= b"
   ]
  },
  {
   "cell_type": "markdown",
   "id": "36bff6fc-b498-487e-b705-5241f692dde4",
   "metadata": {},
   "source": [
    "#### Logical Operator"
   ]
  },
  {
   "cell_type": "markdown",
   "id": "c7798244-5df1-43dd-a44a-192b658c7b95",
   "metadata": {},
   "source": [
    "& ---> Logical AND operaor\n",
    "| ---> Logical OR Operator\n",
    "Logical NOT Operator"
   ]
  },
  {
   "cell_type": "code",
   "execution_count": 15,
   "id": "f0c80ce8-dcf1-485c-b478-036e1a0d2dc2",
   "metadata": {},
   "outputs": [
    {
     "name": "stdout",
     "output_type": "stream",
     "text": [
      "Wrong\n"
     ]
    }
   ],
   "source": [
    "num = 12\n",
    "num1 = 4\n",
    "if(num >= 13):\n",
    "    print(\"Right\")\n",
    "else:\n",
    "    print(\"Wrong\")"
   ]
  },
  {
   "cell_type": "markdown",
   "id": "ac1b7ce5-5f07-4f1a-ab48-b1ae57a24992",
   "metadata": {},
   "source": [
    "num < 23 and num < 6"
   ]
  },
  {
   "cell_type": "code",
   "execution_count": 17,
   "id": "1f72982f-f1fa-441c-8217-45941f1b1eb3",
   "metadata": {},
   "outputs": [
    {
     "data": {
      "text/plain": [
       "True"
      ]
     },
     "execution_count": 17,
     "metadata": {},
     "output_type": "execute_result"
    }
   ],
   "source": [
    "num >= 21 or num <= 34"
   ]
  },
  {
   "cell_type": "code",
   "execution_count": 20,
   "id": "54d0ea19-2fb6-41bf-b8cc-f6dfd0644a06",
   "metadata": {},
   "outputs": [
    {
     "data": {
      "text/plain": [
       "True"
      ]
     },
     "execution_count": 20,
     "metadata": {},
     "output_type": "execute_result"
    }
   ],
   "source": [
    "a = not(False)\n",
    "a"
   ]
  },
  {
   "cell_type": "code",
   "execution_count": 22,
   "id": "9a0cf79d-2a54-48f6-8f61-3c15c8578a96",
   "metadata": {},
   "outputs": [
    {
     "data": {
      "text/plain": [
       "False"
      ]
     },
     "execution_count": 22,
     "metadata": {},
     "output_type": "execute_result"
    }
   ],
   "source": [
    " not(True)"
   ]
  },
  {
   "cell_type": "code",
   "execution_count": 24,
   "id": "b2843f3d-55c2-4f5d-999e-5ce590bd06aa",
   "metadata": {},
   "outputs": [
    {
     "data": {
      "text/plain": [
       "'0b11001'"
      ]
     },
     "execution_count": 24,
     "metadata": {},
     "output_type": "execute_result"
    }
   ],
   "source": [
    "bin(25)"
   ]
  },
  {
   "cell_type": "code",
   "execution_count": 26,
   "id": "52796f4b-25a1-4f19-bc23-61b4949ead78",
   "metadata": {},
   "outputs": [
    {
     "data": {
      "text/plain": [
       "'0x20'"
      ]
     },
     "execution_count": 26,
     "metadata": {},
     "output_type": "execute_result"
    }
   ],
   "source": [
    "hex(32)"
   ]
  },
  {
   "cell_type": "markdown",
   "id": "14f76c0f-80e1-481e-a043-e815adf04916",
   "metadata": {},
   "source": [
    "Swaping the two number \n",
    "for example 4 = 3 and 3 = 4"
   ]
  },
  {
   "cell_type": "code",
   "execution_count": 39,
   "id": "43169bb1-9bc3-4c68-bda9-5634439de49b",
   "metadata": {},
   "outputs": [],
   "source": [
    "a = 3\n",
    "b = 4"
   ]
  },
  {
   "cell_type": "code",
   "execution_count": 41,
   "id": "be21de64-115a-4994-8de3-ee8cbe7d523e",
   "metadata": {},
   "outputs": [],
   "source": [
    "temp = a\n",
    "a = b\n",
    "b = temp"
   ]
  },
  {
   "cell_type": "code",
   "execution_count": 43,
   "id": "7dc05e88-e280-4a24-a372-420c218594f1",
   "metadata": {},
   "outputs": [
    {
     "name": "stdout",
     "output_type": "stream",
     "text": [
      "4 3\n"
     ]
    }
   ],
   "source": [
    "print(a,b)"
   ]
  },
  {
   "cell_type": "code",
   "execution_count": 51,
   "id": "e01a0a3b-33f8-4c42-ad54-f9b230d4cb6f",
   "metadata": {},
   "outputs": [
    {
     "name": "stdout",
     "output_type": "stream",
     "text": [
      "8\n",
      "9\n"
     ]
    }
   ],
   "source": [
    "x = 9\n",
    "y = 8\n",
    "x = x + y\n",
    "y = x - y\n",
    "x = x - y\n",
    "print(x)\n",
    "print(y)"
   ]
  },
  {
   "cell_type": "code",
   "execution_count": 55,
   "id": "253a85bb-2251-4a9c-84ea-66bc72a002bf",
   "metadata": {},
   "outputs": [
    {
     "name": "stdout",
     "output_type": "stream",
     "text": [
      "8\n",
      "9\n"
     ]
    }
   ],
   "source": [
    "print(x)\n",
    "print(y)"
   ]
  },
  {
   "cell_type": "code",
   "execution_count": 57,
   "id": "442512da-b12c-4751-9eb1-6028bfee60ca",
   "metadata": {},
   "outputs": [
    {
     "name": "stdout",
     "output_type": "stream",
     "text": [
      "9\n",
      "8\n"
     ]
    }
   ],
   "source": [
    "# by using the xor operation it can't take the extra bit\n",
    "x = x ^ y\n",
    "y = x ^ y \n",
    "x = x ^ y\n",
    "print(x)\n",
    "print(y)"
   ]
  },
  {
   "cell_type": "markdown",
   "id": "f29f4536-5c26-4593-a8cd-85c6c9f38e4d",
   "metadata": {},
   "source": [
    "### Bitwise operator"
   ]
  },
  {
   "cell_type": "markdown",
   "id": "65435046-0934-486b-a96c-11aae6acd2bb",
   "metadata": {},
   "source": [
    "#### 1. Bitwise Complement or Not (~)\n",
    "#### 2. Bitwise Right shift(>>)\n",
    "#### 3. Bitwise Left Shift(<<)\n",
    "#### 4. Bitwise AND (&)\n",
    "#### 5. Bitwise XOR (^)\n",
    "#### 6. Bitwise OR (|)"
   ]
  },
  {
   "cell_type": "markdown",
   "id": "1a8e705a-b31b-416a-a8e0-9174bb0e72d2",
   "metadata": {},
   "source": [
    "#### 1. Bitwise Complement OR Not(~)"
   ]
  },
  {
   "cell_type": "code",
   "execution_count": 63,
   "id": "6bcfba75-9352-4fc8-9f67-0ca68677c650",
   "metadata": {},
   "outputs": [
    {
     "data": {
      "text/plain": [
       "-13"
      ]
     },
     "execution_count": 63,
     "metadata": {},
     "output_type": "execute_result"
    }
   ],
   "source": [
    "~12"
   ]
  },
  {
   "cell_type": "code",
   "execution_count": 6,
   "id": "ff36ed20-4da5-4509-aa95-42e8ed94f862",
   "metadata": {},
   "outputs": [
    {
     "name": "stdout",
     "output_type": "stream",
     "text": [
      "0b1111110011\n"
     ]
    }
   ],
   "source": [
    "a = 1011\n",
    "c = ~a\n",
    "print(bin(a))"
   ]
  },
  {
   "cell_type": "code",
   "execution_count": 8,
   "id": "7f808673-11d1-4a35-8f01-d7c5854f758c",
   "metadata": {},
   "outputs": [
    {
     "name": "stdout",
     "output_type": "stream",
     "text": [
      "-0b1111101010\n"
     ]
    }
   ],
   "source": [
    "b = 1001\n",
    "c = ~b\n",
    "print(bin(c))"
   ]
  },
  {
   "cell_type": "code",
   "execution_count": 12,
   "id": "6048e9cf-145d-4c8e-9acf-2631942b726a",
   "metadata": {},
   "outputs": [
    {
     "name": "stdout",
     "output_type": "stream",
     "text": [
      "0b1111110010\n"
     ]
    }
   ],
   "source": [
    "m = 1010\n",
    "n = ~m\n",
    "print(bin(m))"
   ]
  },
  {
   "cell_type": "code",
   "execution_count": 16,
   "id": "375b3c39-6cbe-48df-9535-f648a9f6c521",
   "metadata": {},
   "outputs": [
    {
     "data": {
      "text/plain": [
       "'0b1011'"
      ]
     },
     "execution_count": 16,
     "metadata": {},
     "output_type": "execute_result"
    }
   ],
   "source": [
    "bin(11)"
   ]
  },
  {
   "cell_type": "markdown",
   "id": "baaf7308-764a-4e74-b28a-0b02bb93e7ef",
   "metadata": {},
   "source": [
    "#### 2.Bitwise left shift operator"
   ]
  },
  {
   "cell_type": "code",
   "execution_count": 21,
   "id": "efef4790-9514-4298-a042-d9ee8a4b5a17",
   "metadata": {},
   "outputs": [
    {
     "name": "stdout",
     "output_type": "stream",
     "text": [
      "4040\n"
     ]
    }
   ],
   "source": [
    "a = 1010\n",
    "b = a << 2\n",
    "print(b)"
   ]
  },
  {
   "cell_type": "code",
   "execution_count": 23,
   "id": "6900706f-1457-4b8e-a459-6234fcc76d61",
   "metadata": {},
   "outputs": [
    {
     "name": "stdout",
     "output_type": "stream",
     "text": [
      "40\n"
     ]
    }
   ],
   "source": [
    "a = 10\n",
    "b = a<<2\n",
    "print(b)"
   ]
  },
  {
   "cell_type": "code",
   "execution_count": 25,
   "id": "982baa2e-5117-4293-99b2-e2a638490b5c",
   "metadata": {},
   "outputs": [
    {
     "data": {
      "text/plain": [
       "'0b101000'"
      ]
     },
     "execution_count": 25,
     "metadata": {},
     "output_type": "execute_result"
    }
   ],
   "source": [
    "bin(b)"
   ]
  },
  {
   "cell_type": "code",
   "execution_count": 31,
   "id": "deca1c29-05e7-4898-ad1a-d66209a76872",
   "metadata": {},
   "outputs": [
    {
     "name": "stdout",
     "output_type": "stream",
     "text": [
      "22\n"
     ]
    }
   ],
   "source": [
    "x = 11\n",
    "y = x<<1\n",
    "print(y)"
   ]
  },
  {
   "cell_type": "code",
   "execution_count": 33,
   "id": "2f84d601-0713-4643-8f72-b7ea12ab7207",
   "metadata": {},
   "outputs": [
    {
     "data": {
      "text/plain": [
       "'0b10110'"
      ]
     },
     "execution_count": 33,
     "metadata": {},
     "output_type": "execute_result"
    }
   ],
   "source": [
    "bin(y)"
   ]
  },
  {
   "cell_type": "markdown",
   "id": "cf9efd33-a311-448d-947d-6c8b5933f180",
   "metadata": {},
   "source": [
    "#### Bitwise Right Shift operator"
   ]
  },
  {
   "cell_type": "code",
   "execution_count": 46,
   "id": "ed130b76-f76a-45b3-ba6b-3b370a6d7e43",
   "metadata": {},
   "outputs": [
    {
     "name": "stdout",
     "output_type": "stream",
     "text": [
      "505\n"
     ]
    }
   ],
   "source": [
    "a = 1010\n",
    "b = a>>1\n",
    "print(b)"
   ]
  },
  {
   "cell_type": "code",
   "execution_count": 48,
   "id": "23871110-e837-448a-b421-bd1db0f7898a",
   "metadata": {},
   "outputs": [
    {
     "data": {
      "text/plain": [
       "'0b111111001'"
      ]
     },
     "execution_count": 48,
     "metadata": {},
     "output_type": "execute_result"
    }
   ],
   "source": [
    "bin(b)"
   ]
  },
  {
   "cell_type": "code",
   "execution_count": 50,
   "id": "2e260ea5-a1c6-493b-8418-0ba97e5c24e0",
   "metadata": {},
   "outputs": [
    {
     "data": {
      "text/plain": [
       "2"
      ]
     },
     "execution_count": 50,
     "metadata": {},
     "output_type": "execute_result"
    }
   ],
   "source": [
    "#Bitwise and operator\n",
    "a = 0b01010\n",
    "b = 0b10010\n",
    "c = a & b \n",
    "c"
   ]
  },
  {
   "cell_type": "code",
   "execution_count": 52,
   "id": "cef1b3d2-9424-48a2-989d-8be03d137b56",
   "metadata": {},
   "outputs": [
    {
     "data": {
      "text/plain": [
       "191"
      ]
     },
     "execution_count": 52,
     "metadata": {},
     "output_type": "execute_result"
    }
   ],
   "source": [
    "#Bitwise or operator\n",
    "x = 0b10101011\n",
    "y = 0b10010100\n",
    "z = x|y\n",
    "z"
   ]
  },
  {
   "cell_type": "code",
   "execution_count": 54,
   "id": "86d1769e-1a21-41b4-a28f-af41c7cc85b3",
   "metadata": {},
   "outputs": [
    {
     "data": {
      "text/plain": [
       "13"
      ]
     },
     "execution_count": 54,
     "metadata": {},
     "output_type": "execute_result"
    }
   ],
   "source": [
    "#Bitwise XOR operator\n",
    "m = 0b1010\n",
    "n = 0b0111\n",
    "o = m ^ n\n",
    "o"
   ]
  },
  {
   "cell_type": "code",
   "execution_count": 56,
   "id": "63f6cd20-07e3-46f0-9100-ca8fe11673ad",
   "metadata": {},
   "outputs": [
    {
     "data": {
      "text/plain": [
       "'0b1101'"
      ]
     },
     "execution_count": 56,
     "metadata": {},
     "output_type": "execute_result"
    }
   ],
   "source": [
    "bin(o)"
   ]
  }
 ],
 "metadata": {
  "kernelspec": {
   "display_name": "Python 3 (ipykernel)",
   "language": "python",
   "name": "python3"
  },
  "language_info": {
   "codemirror_mode": {
    "name": "ipython",
    "version": 3
   },
   "file_extension": ".py",
   "mimetype": "text/x-python",
   "name": "python",
   "nbconvert_exporter": "python",
   "pygments_lexer": "ipython3",
   "version": "3.12.7"
  }
 },
 "nbformat": 4,
 "nbformat_minor": 5
}
