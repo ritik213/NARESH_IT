{
 "cells": [
  {
   "cell_type": "markdown",
   "id": "b73d8ed9-fea7-4d72-86eb-4283d0add3cb",
   "metadata": {},
   "source": [
    "# Datatype in Python"
   ]
  },
  {
   "cell_type": "raw",
   "id": "444a3233-f0f0-4d42-831d-fa32d3d1dfda",
   "metadata": {},
   "source": [
    "1.Data type born from the variable concept\n",
    "         OR\n",
    "2.Python datatype that identify the data that variable can stored."
   ]
  },
  {
   "cell_type": "raw",
   "id": "75fe4471-bb0c-47fa-9733-960ebe6ff231",
   "metadata": {},
   "source": [
    "1.integer datatype\n",
    "2.float datatype\n",
    "3.string datatype\n",
    "4.boolean datatype\n",
    "5.complex datatype\n",
    "\n"
   ]
  },
  {
   "cell_type": "markdown",
   "id": "40cd62eb-5877-4a22-b191-227d326a2d4a",
   "metadata": {},
   "source": [
    "# 1. integer datatype"
   ]
  },
  {
   "cell_type": "code",
   "execution_count": 6,
   "id": "ab0873c5-af21-4b14-a4f7-a7a01fb84af0",
   "metadata": {},
   "outputs": [
    {
     "name": "stdout",
     "output_type": "stream",
     "text": [
      "7\n"
     ]
    },
    {
     "data": {
      "text/plain": [
       "int"
      ]
     },
     "execution_count": 6,
     "metadata": {},
     "output_type": "execute_result"
    }
   ],
   "source": [
    "a = 7\n",
    "print(a)\n",
    "type(a)"
   ]
  },
  {
   "cell_type": "code",
   "execution_count": 8,
   "id": "abcf5935-d143-4bb8-9ffa-c57eb4f8cb5a",
   "metadata": {},
   "outputs": [
    {
     "name": "stdout",
     "output_type": "stream",
     "text": [
      "9\n",
      "<class 'int'>\n"
     ]
    }
   ],
   "source": [
    "a = 4\n",
    "b = 5\n",
    "c = a+b\n",
    "print(c)\n",
    "print(type(c))"
   ]
  },
  {
   "cell_type": "code",
   "execution_count": 18,
   "id": "7bd20862-ce45-41d3-b088-d401397c8780",
   "metadata": {},
   "outputs": [
    {
     "name": "stdout",
     "output_type": "stream",
     "text": [
      "10 20 30\n"
     ]
    }
   ],
   "source": [
    "a , b , c= 10,20,30\n",
    "print(a,b,c)"
   ]
  },
  {
   "cell_type": "code",
   "execution_count": 20,
   "id": "2d198d4c-b12b-4064-99d9-6fe96a78f614",
   "metadata": {},
   "outputs": [
    {
     "name": "stdout",
     "output_type": "stream",
     "text": [
      "30\n",
      "-10\n",
      "200\n",
      "0.5\n"
     ]
    }
   ],
   "source": [
    "x = 10\n",
    "y = 20\n",
    "\n",
    "print(x+y)\n",
    "print(x-y)\n",
    "print(x*y)\n",
    "print(x/y)"
   ]
  },
  {
   "cell_type": "code",
   "execution_count": 36,
   "id": "ddaf1993-fb4b-4d13-bf46-e7070c29ecc4",
   "metadata": {},
   "outputs": [
    {
     "name": "stdout",
     "output_type": "stream",
     "text": [
      "1\n",
      "<class 'int'>\n"
     ]
    }
   ],
   "source": [
    "x = True\n",
    "y = False\n",
    "z = x+y\n",
    "print(z)\n",
    "print(type(z))"
   ]
  },
  {
   "cell_type": "markdown",
   "id": "cd605b17-cd1d-453b-b9eb-319eb37610d5",
   "metadata": {},
   "source": [
    "# float Datatype"
   ]
  },
  {
   "cell_type": "code",
   "execution_count": 23,
   "id": "3b93c7f3-b5f9-4579-8d08-738fab8e5e91",
   "metadata": {},
   "outputs": [
    {
     "name": "stdout",
     "output_type": "stream",
     "text": [
      "3.14\n",
      "<class 'float'>\n"
     ]
    }
   ],
   "source": [
    "m = 3.14\n",
    "print(m)\n",
    "print(type(m))"
   ]
  },
  {
   "cell_type": "markdown",
   "id": "e97c99c8-8713-453a-a07f-1f9843928c15",
   "metadata": {},
   "source": [
    "# boolean datatype"
   ]
  },
  {
   "cell_type": "code",
   "execution_count": 28,
   "id": "96512960-c00e-48a6-83d3-a9f892e5d7ac",
   "metadata": {},
   "outputs": [
    {
     "data": {
      "text/plain": [
       "bool"
      ]
     },
     "execution_count": 28,
     "metadata": {},
     "output_type": "execute_result"
    }
   ],
   "source": [
    "True\n",
    "type(True)"
   ]
  },
  {
   "cell_type": "code",
   "execution_count": 30,
   "id": "c68ef83a-c3c8-4c70-87da-bfcc960f16fc",
   "metadata": {},
   "outputs": [
    {
     "ename": "NameError",
     "evalue": "name 'true' is not defined",
     "output_type": "error",
     "traceback": [
      "\u001b[1;31m---------------------------------------------------------------------------\u001b[0m",
      "\u001b[1;31mNameError\u001b[0m                                 Traceback (most recent call last)",
      "Cell \u001b[1;32mIn[30], line 1\u001b[0m\n\u001b[1;32m----> 1\u001b[0m true\n",
      "\u001b[1;31mNameError\u001b[0m: name 'true' is not defined"
     ]
    }
   ],
   "source": [
    "true"
   ]
  },
  {
   "cell_type": "code",
   "execution_count": 32,
   "id": "7dfacd92-a698-4291-bb9c-bc31cf0b573f",
   "metadata": {},
   "outputs": [
    {
     "data": {
      "text/plain": [
       "bool"
      ]
     },
     "execution_count": 32,
     "metadata": {},
     "output_type": "execute_result"
    }
   ],
   "source": [
    "False\n",
    "type(False)"
   ]
  },
  {
   "cell_type": "code",
   "execution_count": 46,
   "id": "96e60ac0-a5cc-4495-aa3f-09046cc1b616",
   "metadata": {},
   "outputs": [
    {
     "name": "stdout",
     "output_type": "stream",
     "text": [
      "1\n",
      "1\n",
      "0\n"
     ]
    }
   ],
   "source": [
    "x = True\n",
    "y = False\n",
    "print(x+y)\n",
    "print(x-y)\n",
    "print(x*y)"
   ]
  },
  {
   "cell_type": "code",
   "execution_count": 48,
   "id": "f7b86586-f951-494f-b2f9-b30fad81b190",
   "metadata": {},
   "outputs": [
    {
     "data": {
      "text/plain": [
       "bool"
      ]
     },
     "execution_count": 48,
     "metadata": {},
     "output_type": "execute_result"
    }
   ],
   "source": [
    "type(y)"
   ]
  },
  {
   "cell_type": "markdown",
   "id": "ec0d959f-fbed-45a8-b7b9-27a499fe803c",
   "metadata": {},
   "source": [
    "# complex datatype"
   ]
  },
  {
   "cell_type": "raw",
   "id": "6d28827e-8c23-4ee2-9dbf-caac7f6d649f",
   "metadata": {},
   "source": [
    "complex datatype we can used the more maths operation"
   ]
  },
  {
   "cell_type": "code",
   "execution_count": 51,
   "id": "9232d352-b48c-49ac-ac14-c9f204082016",
   "metadata": {},
   "outputs": [
    {
     "data": {
      "text/plain": [
       "(2+3j)"
      ]
     },
     "execution_count": 51,
     "metadata": {},
     "output_type": "execute_result"
    }
   ],
   "source": [
    "a = 2 + 3J\n",
    "a"
   ]
  },
  {
   "cell_type": "code",
   "execution_count": 53,
   "id": "687dc0b4-3ff6-4df2-ad42-167f2ccc2b4a",
   "metadata": {},
   "outputs": [
    {
     "name": "stdout",
     "output_type": "stream",
     "text": [
      "(3+2j)\n",
      "<class 'complex'>\n"
     ]
    }
   ],
   "source": [
    "a = 3 + 2J\n",
    "print(a)\n",
    "print(type(a))"
   ]
  },
  {
   "cell_type": "code",
   "execution_count": 57,
   "id": "65837d15-21eb-4661-a81e-bd560abc587b",
   "metadata": {},
   "outputs": [
    {
     "name": "stdout",
     "output_type": "stream",
     "text": [
      "5.0\n",
      "6.0\n"
     ]
    }
   ],
   "source": [
    "x = 5 + 6J\n",
    "print(x.real)\n",
    "print(x.imag)"
   ]
  },
  {
   "cell_type": "code",
   "execution_count": 61,
   "id": "4e6d9932-7aa0-4693-ac2a-81eb4b4c524b",
   "metadata": {},
   "outputs": [
    {
     "data": {
      "text/plain": [
       "(5+0j)"
      ]
     },
     "execution_count": 61,
     "metadata": {},
     "output_type": "execute_result"
    }
   ],
   "source": [
    "y = complex(2+3)\n",
    "y"
   ]
  },
  {
   "cell_type": "code",
   "execution_count": 3,
   "id": "eabb7e10-71fa-4abd-bd9f-b2ec46a53f46",
   "metadata": {},
   "outputs": [
    {
     "name": "stdout",
     "output_type": "stream",
     "text": [
      "(8+5j)\n",
      "(-2-1j)\n",
      "(9+19j)\n",
      "(0.6176470588235294+0.02941176470588238j)\n"
     ]
    }
   ],
   "source": [
    "# operation with complex number\n",
    "a = 3 + 2J\n",
    "b = 5 + 3J\n",
    "\n",
    "print(a+b)\n",
    "print(a-b)\n",
    "print(a*b)\n",
    "print(a/b)"
   ]
  },
  {
   "cell_type": "code",
   "execution_count": 21,
   "id": "58f773fe-ca30-4ac3-90a1-8820d0869d1b",
   "metadata": {},
   "outputs": [
    {
     "name": "stdout",
     "output_type": "stream",
     "text": [
      "3.605551275463989\n",
      "(-2-3j)\n"
     ]
    }
   ],
   "source": [
    "# These are the complex built-in-function\n",
    "a = -2 + 3j\n",
    "print(abs(a)) # abs is an abstract or magnitude\n",
    "print(a.conjugate())"
   ]
  },
  {
   "cell_type": "code",
   "execution_count": 24,
   "id": "0437b355-6716-4bd8-a850-8edb9dc46678",
   "metadata": {},
   "outputs": [
    {
     "name": "stdout",
     "output_type": "stream",
     "text": [
      "0.5880026035475675\n",
      "(3.605551275463989, 0.5880026035475675)\n",
      "(1.8173540210239707+0.5502505227003375j)\n"
     ]
    }
   ],
   "source": [
    "# by using the cmath module method (by using the trigonametric and function logarithemtic , squareroot)\n",
    "import cmath\n",
    "\n",
    "x = 3 + 2j\n",
    "print(cmath.phase(x))\n",
    "print(cmath.polar(x))\n",
    "print(cmath.sqrt(x))"
   ]
  },
  {
   "cell_type": "markdown",
   "id": "45e4067d-42c1-4804-b68c-0f63365d98ad",
   "metadata": {},
   "source": [
    "# type casting and the type conversion"
   ]
  },
  {
   "cell_type": "code",
   "execution_count": 1,
   "id": "b8e3cea9-becb-4bdd-879a-d5c63ca801f7",
   "metadata": {},
   "outputs": [
    {
     "data": {
      "text/plain": [
       "3"
      ]
     },
     "execution_count": 1,
     "metadata": {},
     "output_type": "execute_result"
    }
   ],
   "source": [
    "int(3.14)  #float to int"
   ]
  },
  {
   "cell_type": "code",
   "execution_count": 3,
   "id": "9b2f3fa9-bd9d-42f8-a1ae-be149261eecd",
   "metadata": {},
   "outputs": [
    {
     "ename": "TypeError",
     "evalue": "int() takes at most 2 arguments (3 given)",
     "output_type": "error",
     "traceback": [
      "\u001b[1;31m---------------------------------------------------------------------------\u001b[0m",
      "\u001b[1;31mTypeError\u001b[0m                                 Traceback (most recent call last)",
      "Cell \u001b[1;32mIn[3], line 1\u001b[0m\n\u001b[1;32m----> 1\u001b[0m \u001b[38;5;28mint\u001b[39m(\u001b[38;5;241m3.14\u001b[39m , \u001b[38;5;241m1\u001b[39m,\u001b[38;5;241m34\u001b[39m)\n",
      "\u001b[1;31mTypeError\u001b[0m: int() takes at most 2 arguments (3 given)"
     ]
    }
   ],
   "source": [
    "int(3.14 , 1,34)"
   ]
  },
  {
   "cell_type": "code",
   "execution_count": 9,
   "id": "4e459674-e5d9-4cb7-a887-45690747e059",
   "metadata": {},
   "outputs": [
    {
     "data": {
      "text/plain": [
       "10"
      ]
     },
     "execution_count": 9,
     "metadata": {},
     "output_type": "execute_result"
    }
   ],
   "source": [
    "int('10')  #string to int"
   ]
  },
  {
   "cell_type": "code",
   "execution_count": 7,
   "id": "dd8d766c-e0f4-47f1-86e2-d1a1f7043c08",
   "metadata": {},
   "outputs": [
    {
     "ename": "ValueError",
     "evalue": "invalid literal for int() with base 10: 'Two'",
     "output_type": "error",
     "traceback": [
      "\u001b[1;31m---------------------------------------------------------------------------\u001b[0m",
      "\u001b[1;31mValueError\u001b[0m                                Traceback (most recent call last)",
      "Cell \u001b[1;32mIn[7], line 1\u001b[0m\n\u001b[1;32m----> 1\u001b[0m \u001b[38;5;28mint\u001b[39m(\u001b[38;5;124m'\u001b[39m\u001b[38;5;124mTwo\u001b[39m\u001b[38;5;124m'\u001b[39m)\n",
      "\u001b[1;31mValueError\u001b[0m: invalid literal for int() with base 10: 'Two'"
     ]
    }
   ],
   "source": [
    "int('Two')"
   ]
  },
  {
   "cell_type": "markdown",
   "id": "2756401a-c195-4ffb-8878-866e9ce6fa87",
   "metadata": {},
   "source": [
    "# In these type casting the string text is not allowed"
   ]
  },
  {
   "cell_type": "code",
   "execution_count": 11,
   "id": "eb069f7e-1fbf-4077-a90a-9d185b16efd0",
   "metadata": {},
   "outputs": [
    {
     "data": {
      "text/plain": [
       "1"
      ]
     },
     "execution_count": 11,
     "metadata": {},
     "output_type": "execute_result"
    }
   ],
   "source": [
    "int(True)  #bool to int"
   ]
  },
  {
   "cell_type": "code",
   "execution_count": 13,
   "id": "8743cee6-649b-4795-bb8e-243742b9f9b5",
   "metadata": {},
   "outputs": [
    {
     "ename": "ValueError",
     "evalue": "int() base must be >= 2 and <= 36, or 0",
     "output_type": "error",
     "traceback": [
      "\u001b[1;31m---------------------------------------------------------------------------\u001b[0m",
      "\u001b[1;31mValueError\u001b[0m                                Traceback (most recent call last)",
      "Cell \u001b[1;32mIn[13], line 1\u001b[0m\n\u001b[1;32m----> 1\u001b[0m \u001b[38;5;28mint\u001b[39m(\u001b[38;5;28;01mFalse\u001b[39;00m, \u001b[38;5;28;01mTrue\u001b[39;00m)\n",
      "\u001b[1;31mValueError\u001b[0m: int() base must be >= 2 and <= 36, or 0"
     ]
    }
   ],
   "source": [
    "int(False, True)"
   ]
  },
  {
   "cell_type": "code",
   "execution_count": 15,
   "id": "0c32159b-605b-4de0-be4b-ff572ce38256",
   "metadata": {},
   "outputs": [
    {
     "ename": "TypeError",
     "evalue": "int() argument must be a string, a bytes-like object or a real number, not 'complex'",
     "output_type": "error",
     "traceback": [
      "\u001b[1;31m---------------------------------------------------------------------------\u001b[0m",
      "\u001b[1;31mTypeError\u001b[0m                                 Traceback (most recent call last)",
      "Cell \u001b[1;32mIn[15], line 1\u001b[0m\n\u001b[1;32m----> 1\u001b[0m \u001b[38;5;28mint\u001b[39m(\u001b[38;5;241m2\u001b[39m\u001b[38;5;241m+\u001b[39m\u001b[38;5;241m3\u001b[39mj)\n",
      "\u001b[1;31mTypeError\u001b[0m: int() argument must be a string, a bytes-like object or a real number, not 'complex'"
     ]
    }
   ],
   "source": [
    "int(2+3j)"
   ]
  },
  {
   "cell_type": "markdown",
   "id": "f7775213-1660-4d71-adf5-c4ca7d0e9cd1",
   "metadata": {},
   "source": [
    "# so in type casting the complex is also not allowed"
   ]
  },
  {
   "cell_type": "markdown",
   "id": "83adbd6f-1ad8-43f3-8b92-9b386664e2a7",
   "metadata": {},
   "source": [
    "# keywords"
   ]
  },
  {
   "cell_type": "code",
   "execution_count": 20,
   "id": "b2516e79-8eea-4c44-be7d-126c58aa8a5f",
   "metadata": {},
   "outputs": [
    {
     "data": {
      "text/plain": [
       "['False',\n",
       " 'None',\n",
       " 'True',\n",
       " 'and',\n",
       " 'as',\n",
       " 'assert',\n",
       " 'async',\n",
       " 'await',\n",
       " 'break',\n",
       " 'class',\n",
       " 'continue',\n",
       " 'def',\n",
       " 'del',\n",
       " 'elif',\n",
       " 'else',\n",
       " 'except',\n",
       " 'finally',\n",
       " 'for',\n",
       " 'from',\n",
       " 'global',\n",
       " 'if',\n",
       " 'import',\n",
       " 'in',\n",
       " 'is',\n",
       " 'lambda',\n",
       " 'nonlocal',\n",
       " 'not',\n",
       " 'or',\n",
       " 'pass',\n",
       " 'raise',\n",
       " 'return',\n",
       " 'try',\n",
       " 'while',\n",
       " 'with',\n",
       " 'yield']"
      ]
     },
     "execution_count": 20,
     "metadata": {},
     "output_type": "execute_result"
    }
   ],
   "source": [
    "import keyword\n",
    "keyword.kwlist"
   ]
  },
  {
   "cell_type": "code",
   "execution_count": 22,
   "id": "d0f7028e-0fba-4e4e-8986-d3a7a91f3af5",
   "metadata": {},
   "outputs": [
    {
     "data": {
      "text/plain": [
       "35"
      ]
     },
     "execution_count": 22,
     "metadata": {},
     "output_type": "execute_result"
    }
   ],
   "source": [
    "len(keyword.kwlist)"
   ]
  },
  {
   "cell_type": "markdown",
   "id": "18af695f-aa0a-4faf-b0e3-7b8194fe1946",
   "metadata": {},
   "source": [
    "# identifier"
   ]
  },
  {
   "cell_type": "code",
   "execution_count": 1,
   "id": "c631a9b5-c52b-4c27-9538-c631fbd54264",
   "metadata": {},
   "outputs": [
    {
     "ename": "SyntaxError",
     "evalue": "invalid decimal literal (2691573763.py, line 1)",
     "output_type": "error",
     "traceback": [
      "\u001b[1;36m  Cell \u001b[1;32mIn[1], line 1\u001b[1;36m\u001b[0m\n\u001b[1;33m    1v = 3\u001b[0m\n\u001b[1;37m    ^\u001b[0m\n\u001b[1;31mSyntaxError\u001b[0m\u001b[1;31m:\u001b[0m invalid decimal literal\n"
     ]
    }
   ],
   "source": [
    "1v = 3\n",
    "1v#identifier can't start with the digit"
   ]
  },
  {
   "cell_type": "code",
   "execution_count": 3,
   "id": "b92a5206-7644-4b02-b796-36527b150da0",
   "metadata": {},
   "outputs": [
    {
     "ename": "SyntaxError",
     "evalue": "invalid syntax (2836865400.py, line 1)",
     "output_type": "error",
     "traceback": [
      "\u001b[1;36m  Cell \u001b[1;32mIn[3], line 1\u001b[1;36m\u001b[0m\n\u001b[1;33m    x3@ = 23\u001b[0m\n\u001b[1;37m        ^\u001b[0m\n\u001b[1;31mSyntaxError\u001b[0m\u001b[1;31m:\u001b[0m invalid syntax\n"
     ]
    }
   ],
   "source": [
    "x3@ = 23 #identifier can't start with trhe special character\n",
    "c3@"
   ]
  },
  {
   "cell_type": "code",
   "execution_count": 5,
   "id": "d111ebed-17cf-4210-ae4a-a3bb047a4b97",
   "metadata": {},
   "outputs": [
    {
     "ename": "SyntaxError",
     "evalue": "invalid syntax (2365914397.py, line 1)",
     "output_type": "error",
     "traceback": [
      "\u001b[1;36m  Cell \u001b[1;32mIn[5], line 1\u001b[1;36m\u001b[0m\n\u001b[1;33m    def = 345\u001b[0m\n\u001b[1;37m        ^\u001b[0m\n\u001b[1;31mSyntaxError\u001b[0m\u001b[1;31m:\u001b[0m invalid syntax\n"
     ]
    }
   ],
   "source": [
    "def = 345 #identifier can't start used as the keyword\n",
    "def"
   ]
  },
  {
   "cell_type": "code",
   "execution_count": 7,
   "id": "ddb8fc4c-0930-4729-8664-5f32156bcf2e",
   "metadata": {},
   "outputs": [
    {
     "data": {
      "text/plain": [
       "123"
      ]
     },
     "execution_count": 7,
     "metadata": {},
     "output_type": "execute_result"
    }
   ],
   "source": [
    "var_7 = 123\n",
    "var_7"
   ]
  },
  {
   "cell_type": "markdown",
   "id": "8512a3f4-3f6e-40f6-900e-f1fc7437306c",
   "metadata": {},
   "source": [
    "# comment in python"
   ]
  },
  {
   "cell_type": "code",
   "execution_count": null,
   "id": "d9520487-305f-4310-a784-9c4c5e27e4e4",
   "metadata": {},
   "outputs": [],
   "source": [
    "two types of comment\n",
    "1.single line comment(#)\n",
    "2.Multiline comment(\"\"\" \"\"\")"
   ]
  },
  {
   "cell_type": "code",
   "execution_count": 12,
   "id": "36e321af-0544-4b35-bdeb-f1bfcd3d0811",
   "metadata": {},
   "outputs": [
    {
     "data": {
      "text/plain": [
       "'True'"
      ]
     },
     "execution_count": 12,
     "metadata": {},
     "output_type": "execute_result"
    }
   ],
   "source": [
    "#single line comment\n",
    "str = 'True'\n",
    "str"
   ]
  },
  {
   "cell_type": "code",
   "execution_count": 14,
   "id": "c6e35da4-3856-4d9e-9f69-2f3057d06e39",
   "metadata": {},
   "outputs": [
    {
     "data": {
      "text/plain": [
       "' i hope you are enjoying 30 days python bootcamp\\n          so python is very easy laguage and having the standard library'"
      ]
     },
     "execution_count": 14,
     "metadata": {},
     "output_type": "execute_result"
    }
   ],
   "source": [
    "#Multi line comment\n",
    "x = ''' i hope you are enjoying 30 days python bootcamp\n",
    "          so python is very easy laguage and having the standard library'''\n",
    "x"
   ]
  }
 ],
 "metadata": {
  "kernelspec": {
   "display_name": "Python 3 (ipykernel)",
   "language": "python",
   "name": "python3"
  },
  "language_info": {
   "codemirror_mode": {
    "name": "ipython",
    "version": 3
   },
   "file_extension": ".py",
   "mimetype": "text/x-python",
   "name": "python",
   "nbconvert_exporter": "python",
   "pygments_lexer": "ipython3",
   "version": "3.12.7"
  }
 },
 "nbformat": 4,
 "nbformat_minor": 5
}
