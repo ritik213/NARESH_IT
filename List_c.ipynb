{
 "cells": [
  {
   "cell_type": "markdown",
   "id": "4668633f-8c65-41b3-a2ca-09ca81bf1153",
   "metadata": {},
   "source": [
    "# Datastructre in python"
   ]
  },
  {
   "cell_type": "raw",
   "id": "890e33bd-191d-47d4-9497-11440d3798c2",
   "metadata": {},
   "source": [
    "1. datstructre :- user can aaccess the more than one value\n",
    "2. Matrix :- It is the collection of the rows and column"
   ]
  },
  {
   "cell_type": "raw",
   "id": "e9398b43-267e-4cbd-b445-241d8f5fbb67",
   "metadata": {},
   "source": [
    "Datastructure :- It is divided into two parts\n",
    "1. Built in datastructure\n",
    "    a] List :- []\n",
    "    b] Tuple :- ()\n",
    "    c] dictionary :- {}\n",
    "    d] Set :- ()\n",
    "2. User defined datastructure\n",
    "    a] Stack\n",
    "    b] Linked List\n",
    "    c] array\n",
    "    d] tree"
   ]
  },
  {
   "cell_type": "markdown",
   "id": "3058de51-1408-4417-a7c3-2c359a638791",
   "metadata": {},
   "source": [
    "# 1. List :- []"
   ]
  },
  {
   "cell_type": "raw",
   "id": "c358f18a-07a8-467c-8219-20d2b670e207",
   "metadata": {},
   "source": [
    "Built-in-function\n",
    "1.append()\n",
    "2.copy()\n",
    "3.clear()\n",
    "4.index()"
   ]
  },
  {
   "cell_type": "code",
   "execution_count": 63,
   "id": "001a0ae1-f6c9-4d3a-9a4b-9b0ae6bb68ec",
   "metadata": {},
   "outputs": [
    {
     "data": {
      "text/plain": [
       "[]"
      ]
     },
     "execution_count": 63,
     "metadata": {},
     "output_type": "execute_result"
    }
   ],
   "source": [
    "l = []\n",
    "l"
   ]
  },
  {
   "cell_type": "code",
   "execution_count": 65,
   "id": "99fbffd5-958d-4471-87f4-68d51b48556b",
   "metadata": {},
   "outputs": [
    {
     "data": {
      "text/plain": [
       "list"
      ]
     },
     "execution_count": 65,
     "metadata": {},
     "output_type": "execute_result"
    }
   ],
   "source": [
    "type(l)"
   ]
  },
  {
   "cell_type": "code",
   "execution_count": 67,
   "id": "d6e8bafb-9160-495c-a3c0-697df0cf68e9",
   "metadata": {},
   "outputs": [],
   "source": [
    "l.append(10)"
   ]
  },
  {
   "cell_type": "code",
   "execution_count": 69,
   "id": "9c37028b-0d35-451c-a1a6-e45ad8d3fd39",
   "metadata": {},
   "outputs": [
    {
     "data": {
      "text/plain": [
       "[10]"
      ]
     },
     "execution_count": 69,
     "metadata": {},
     "output_type": "execute_result"
    }
   ],
   "source": [
    "l\n"
   ]
  },
  {
   "cell_type": "code",
   "execution_count": 71,
   "id": "811489d6-0532-45dd-b28a-74637534caec",
   "metadata": {},
   "outputs": [],
   "source": [
    "l.append(20)\n",
    "l.append(30)\n",
    "l.append(40)\n",
    "l.append(50)"
   ]
  },
  {
   "cell_type": "code",
   "execution_count": 73,
   "id": "5d80202c-9448-4642-976f-565c064dd5a6",
   "metadata": {},
   "outputs": [
    {
     "data": {
      "text/plain": [
       "[10, 20, 30, 40, 50]"
      ]
     },
     "execution_count": 73,
     "metadata": {},
     "output_type": "execute_result"
    }
   ],
   "source": [
    "l"
   ]
  },
  {
   "cell_type": "code",
   "execution_count": 75,
   "id": "f9fd13e4-6cf1-40b2-9945-cc9d9f0b1578",
   "metadata": {},
   "outputs": [
    {
     "data": {
      "text/plain": [
       "[]"
      ]
     },
     "execution_count": 75,
     "metadata": {},
     "output_type": "execute_result"
    }
   ],
   "source": [
    "li = []\n",
    "li"
   ]
  },
  {
   "cell_type": "code",
   "execution_count": 77,
   "id": "9d068f92-bf22-4e2f-9059-c318e3f53fc2",
   "metadata": {},
   "outputs": [
    {
     "data": {
      "text/plain": [
       "[10]"
      ]
     },
     "execution_count": 77,
     "metadata": {},
     "output_type": "execute_result"
    }
   ],
   "source": [
    "li.append(10)\n",
    "li"
   ]
  },
  {
   "cell_type": "code",
   "execution_count": 79,
   "id": "2a7764f5-6377-415d-bfa0-05467447098e",
   "metadata": {},
   "outputs": [],
   "source": [
    "li.append(11)\n",
    "li.append(12)\n",
    "li.append(13)\n",
    "li.append(14)\n",
    "li.append(15)"
   ]
  },
  {
   "cell_type": "code",
   "execution_count": 81,
   "id": "e988d848-79cb-47d1-a3f4-de29c0fdb740",
   "metadata": {},
   "outputs": [
    {
     "data": {
      "text/plain": [
       "[10, 11, 12, 13, 14, 15]"
      ]
     },
     "execution_count": 81,
     "metadata": {},
     "output_type": "execute_result"
    }
   ],
   "source": [
    "li"
   ]
  },
  {
   "cell_type": "code",
   "execution_count": 83,
   "id": "49fad5d0-d40e-4573-812f-f32a2a608dde",
   "metadata": {},
   "outputs": [
    {
     "data": {
      "text/plain": [
       "[10, 20, 30, 40, 50, 60]"
      ]
     },
     "execution_count": 83,
     "metadata": {},
     "output_type": "execute_result"
    }
   ],
   "source": [
    "l.append(60)\n",
    "l"
   ]
  },
  {
   "cell_type": "code",
   "execution_count": 85,
   "id": "b2a1ecb3-4700-4369-ba1b-2fdfc4531b39",
   "metadata": {},
   "outputs": [
    {
     "ename": "TypeError",
     "evalue": "list.append() takes exactly one argument (3 given)",
     "output_type": "error",
     "traceback": [
      "\u001b[1;31m---------------------------------------------------------------------------\u001b[0m",
      "\u001b[1;31mTypeError\u001b[0m                                 Traceback (most recent call last)",
      "Cell \u001b[1;32mIn[85], line 1\u001b[0m\n\u001b[1;32m----> 1\u001b[0m l\u001b[38;5;241m.\u001b[39mappend(\u001b[38;5;241m70\u001b[39m,\u001b[38;5;241m80\u001b[39m,\u001b[38;5;241m90\u001b[39m)\n\u001b[0;32m      2\u001b[0m l\n",
      "\u001b[1;31mTypeError\u001b[0m: list.append() takes exactly one argument (3 given)"
     ]
    }
   ],
   "source": [
    "l.append(70,80,90)\n",
    "l"
   ]
  },
  {
   "cell_type": "code",
   "execution_count": 87,
   "id": "40438dfb-227a-4f71-9935-051269adc224",
   "metadata": {},
   "outputs": [
    {
     "data": {
      "text/plain": [
       "[10, 20, 30, 40, 50, 60, 10]"
      ]
     },
     "execution_count": 87,
     "metadata": {},
     "output_type": "execute_result"
    }
   ],
   "source": [
    "# In list duplicate is inserted that is called as the mutable\n",
    "#mutable \n",
    "l.append(10)\n",
    "l"
   ]
  },
  {
   "cell_type": "code",
   "execution_count": 89,
   "id": "64c320dc-ea79-493c-b412-78d9a3c86801",
   "metadata": {},
   "outputs": [
    {
     "data": {
      "text/plain": [
       "7"
      ]
     },
     "execution_count": 89,
     "metadata": {},
     "output_type": "execute_result"
    }
   ],
   "source": [
    "len(l)"
   ]
  },
  {
   "cell_type": "code",
   "execution_count": 91,
   "id": "e7d93e19-b6b5-4671-9a94-6c51cd09c653",
   "metadata": {},
   "outputs": [],
   "source": [
    "l1 = l.copy()"
   ]
  },
  {
   "cell_type": "code",
   "execution_count": 93,
   "id": "fa4f6d5c-53cf-4f5c-9781-f3300357b7e3",
   "metadata": {},
   "outputs": [
    {
     "data": {
      "text/plain": [
       "[10, 20, 30, 40, 50, 60, 10]"
      ]
     },
     "execution_count": 93,
     "metadata": {},
     "output_type": "execute_result"
    }
   ],
   "source": [
    "l1"
   ]
  },
  {
   "cell_type": "code",
   "execution_count": 95,
   "id": "3c4b8e25-354a-4792-a99a-75448414d144",
   "metadata": {},
   "outputs": [],
   "source": [
    "l1.append(3.14)\n",
    "l1.append(2+3j)\n",
    "l1.append('nit')\n",
    "l1.append([1,2,3,4])"
   ]
  },
  {
   "cell_type": "code",
   "execution_count": 97,
   "id": "9b91e266-369e-425b-9488-2cd157d338ab",
   "metadata": {},
   "outputs": [
    {
     "data": {
      "text/plain": [
       "[10, 20, 30, 40, 50, 60, 10, 3.14, (2+3j), 'nit', [1, 2, 3, 4]]"
      ]
     },
     "execution_count": 97,
     "metadata": {},
     "output_type": "execute_result"
    }
   ],
   "source": [
    "l1"
   ]
  },
  {
   "cell_type": "code",
   "execution_count": 99,
   "id": "427214c9-8334-44ef-b4cd-ffb13c1709dc",
   "metadata": {},
   "outputs": [
    {
     "name": "stdout",
     "output_type": "stream",
     "text": [
      "[10, 20, 30, 40, 50, 60, 10]\n",
      "[10, 20, 30, 40, 50, 60, 10, 3.14, (2+3j), 'nit', [1, 2, 3, 4]]\n"
     ]
    }
   ],
   "source": [
    "print(l)\n",
    "print(l1)"
   ]
  },
  {
   "cell_type": "code",
   "execution_count": 101,
   "id": "a16dff78-8938-4e6a-b20b-097cb16d040b",
   "metadata": {},
   "outputs": [
    {
     "name": "stdout",
     "output_type": "stream",
     "text": [
      "7\n",
      "11\n"
     ]
    }
   ],
   "source": [
    "print(len(l))\n",
    "print(len(l1))"
   ]
  },
  {
   "cell_type": "code",
   "execution_count": 103,
   "id": "15738d8d-e591-4177-a508-63f80256ddbe",
   "metadata": {},
   "outputs": [
    {
     "data": {
      "text/plain": [
       "False"
      ]
     },
     "execution_count": 103,
     "metadata": {},
     "output_type": "execute_result"
    }
   ],
   "source": [
    "l == li"
   ]
  },
  {
   "cell_type": "code",
   "execution_count": 105,
   "id": "e09002a3-f785-4094-9157-972ad7f0689d",
   "metadata": {},
   "outputs": [],
   "source": [
    "l2 = l.copy()"
   ]
  },
  {
   "cell_type": "code",
   "execution_count": 107,
   "id": "fa002ced-b308-4134-ba05-1017da797125",
   "metadata": {},
   "outputs": [
    {
     "data": {
      "text/plain": [
       "True"
      ]
     },
     "execution_count": 107,
     "metadata": {},
     "output_type": "execute_result"
    }
   ],
   "source": [
    "l == l2"
   ]
  },
  {
   "cell_type": "code",
   "execution_count": 109,
   "id": "6d477d0e-4a14-4df0-9137-955955ff8a1a",
   "metadata": {},
   "outputs": [
    {
     "name": "stdout",
     "output_type": "stream",
     "text": [
      "[10, 20, 30, 40, 50, 60, 10]\n",
      "[10, 20, 30, 40, 50, 60, 10, 3.14, (2+3j), 'nit', [1, 2, 3, 4]]\n",
      "[10, 20, 30, 40, 50, 60, 10]\n"
     ]
    }
   ],
   "source": [
    "print(l)\n",
    "print(l1)\n",
    "print(l2)"
   ]
  },
  {
   "cell_type": "code",
   "execution_count": 111,
   "id": "de200874-5e4d-4917-b830-91a630b6fd85",
   "metadata": {},
   "outputs": [
    {
     "data": {
      "text/plain": [
       "[10, 20, 30, 40, 50, 60, 10]"
      ]
     },
     "execution_count": 111,
     "metadata": {},
     "output_type": "execute_result"
    }
   ],
   "source": [
    "l[:]"
   ]
  },
  {
   "cell_type": "code",
   "execution_count": 113,
   "id": "cbe93cd8-42cb-4e12-ad8b-fcdac0e7caf8",
   "metadata": {},
   "outputs": [
    {
     "data": {
      "text/plain": [
       "10"
      ]
     },
     "execution_count": 113,
     "metadata": {},
     "output_type": "execute_result"
    }
   ],
   "source": [
    "l[0]"
   ]
  },
  {
   "cell_type": "code",
   "execution_count": 115,
   "id": "c85acaa6-d349-482c-82ef-f49204c2b6a6",
   "metadata": {},
   "outputs": [],
   "source": [
    "#updating the value\n",
    "l[0] = 100"
   ]
  },
  {
   "cell_type": "code",
   "execution_count": 117,
   "id": "eaba6ea4-63c3-4f1a-a14c-455b6cf5818a",
   "metadata": {},
   "outputs": [
    {
     "data": {
      "text/plain": [
       "[100, 20, 30, 40, 50, 60, 10]"
      ]
     },
     "execution_count": 117,
     "metadata": {},
     "output_type": "execute_result"
    }
   ],
   "source": [
    "l"
   ]
  },
  {
   "cell_type": "code",
   "execution_count": 119,
   "id": "444fd1dc-7fb5-477b-910d-169177256ef9",
   "metadata": {},
   "outputs": [],
   "source": [
    "l[-1] = 200"
   ]
  },
  {
   "cell_type": "code",
   "execution_count": 121,
   "id": "ef85e63e-e1d7-472a-9007-64532dbe45f5",
   "metadata": {},
   "outputs": [
    {
     "data": {
      "text/plain": [
       "[100, 20, 30, 40, 50, 60, 200]"
      ]
     },
     "execution_count": 121,
     "metadata": {},
     "output_type": "execute_result"
    }
   ],
   "source": [
    "l"
   ]
  },
  {
   "cell_type": "code",
   "execution_count": 123,
   "id": "c989cfcd-13e5-43dc-a7e0-ccdbd3c0b32a",
   "metadata": {},
   "outputs": [
    {
     "data": {
      "text/plain": [
       "[]"
      ]
     },
     "execution_count": 123,
     "metadata": {},
     "output_type": "execute_result"
    }
   ],
   "source": [
    "l[10:]"
   ]
  },
  {
   "cell_type": "code",
   "execution_count": 125,
   "id": "c56c7631-82c5-439f-8338-a30b4e7fce00",
   "metadata": {},
   "outputs": [
    {
     "data": {
      "text/plain": [
       "[100, 20, 30, 40, 50, 60, 200]"
      ]
     },
     "execution_count": 125,
     "metadata": {},
     "output_type": "execute_result"
    }
   ],
   "source": [
    "l[ : 10]"
   ]
  },
  {
   "cell_type": "code",
   "execution_count": 127,
   "id": "db990e66-eace-4406-aeb1-4f12b296f70a",
   "metadata": {},
   "outputs": [
    {
     "data": {
      "text/plain": [
       "[100, 20, 30, 40, 50, 60, 200]"
      ]
     },
     "execution_count": 127,
     "metadata": {},
     "output_type": "execute_result"
    }
   ],
   "source": [
    "l"
   ]
  },
  {
   "cell_type": "code",
   "execution_count": 129,
   "id": "6955a17d-6428-47b3-989a-c65de3522bda",
   "metadata": {},
   "outputs": [],
   "source": [
    "l2.clear()"
   ]
  },
  {
   "cell_type": "code",
   "execution_count": 131,
   "id": "2a81ec91-c345-47c3-bfd0-2268823e201a",
   "metadata": {},
   "outputs": [
    {
     "data": {
      "text/plain": [
       "[]"
      ]
     },
     "execution_count": 131,
     "metadata": {},
     "output_type": "execute_result"
    }
   ],
   "source": [
    "l2"
   ]
  },
  {
   "cell_type": "code",
   "execution_count": 133,
   "id": "7dacd055-555a-4520-9674-361762481591",
   "metadata": {},
   "outputs": [
    {
     "ename": "NameError",
     "evalue": "name 'l2' is not defined",
     "output_type": "error",
     "traceback": [
      "\u001b[1;31m---------------------------------------------------------------------------\u001b[0m",
      "\u001b[1;31mNameError\u001b[0m                                 Traceback (most recent call last)",
      "Cell \u001b[1;32mIn[133], line 2\u001b[0m\n\u001b[0;32m      1\u001b[0m \u001b[38;5;28;01mdel\u001b[39;00m l2\n\u001b[1;32m----> 2\u001b[0m l2\n",
      "\u001b[1;31mNameError\u001b[0m: name 'l2' is not defined"
     ]
    }
   ],
   "source": [
    "del l2\n",
    "l2"
   ]
  },
  {
   "cell_type": "code",
   "execution_count": 135,
   "id": "960e22cb-cabe-42ec-94aa-55ee1f63a9ef",
   "metadata": {},
   "outputs": [
    {
     "data": {
      "text/plain": [
       "[10, 20, 30, 40, 50, 60, 10, 3.14, (2+3j), 'nit', [1, 2, 3, 4]]"
      ]
     },
     "execution_count": 135,
     "metadata": {},
     "output_type": "execute_result"
    }
   ],
   "source": [
    "l1"
   ]
  },
  {
   "cell_type": "code",
   "execution_count": 137,
   "id": "63bd7083-e56f-492e-97d5-0f3bddf30218",
   "metadata": {},
   "outputs": [
    {
     "data": {
      "text/plain": [
       "[10, 60, [1, 2, 3, 4]]"
      ]
     },
     "execution_count": 137,
     "metadata": {},
     "output_type": "execute_result"
    }
   ],
   "source": [
    "l1[0:12:5]"
   ]
  },
  {
   "cell_type": "code",
   "execution_count": 138,
   "id": "3c2f29ee-4a4f-46d5-a6ba-cad2039c8895",
   "metadata": {},
   "outputs": [
    {
     "data": {
      "text/plain": [
       "[10, 20, 30, 40, 50, 60, 10, 3.14, (2+3j), 'nit', [1, 2, 3, 4]]"
      ]
     },
     "execution_count": 138,
     "metadata": {},
     "output_type": "execute_result"
    }
   ],
   "source": [
    "l1"
   ]
  },
  {
   "cell_type": "code",
   "execution_count": 141,
   "id": "7131c322-fa4c-4dcd-86fe-13609bb22707",
   "metadata": {},
   "outputs": [
    {
     "data": {
      "text/plain": [
       "[10, 40, 10, 'nit']"
      ]
     },
     "execution_count": 141,
     "metadata": {},
     "output_type": "execute_result"
    }
   ],
   "source": [
    "l1[0:11:3]"
   ]
  },
  {
   "cell_type": "code",
   "execution_count": 143,
   "id": "85cfb289-e03f-472d-bfae-985a22d19ee3",
   "metadata": {},
   "outputs": [
    {
     "data": {
      "text/plain": [
       "[10, 20, 30, 40, 50, 60, 10, 3.14, (2+3j), 'nit', [1, 2, 3, 4]]"
      ]
     },
     "execution_count": 143,
     "metadata": {},
     "output_type": "execute_result"
    }
   ],
   "source": [
    "l1"
   ]
  },
  {
   "cell_type": "code",
   "execution_count": 145,
   "id": "7d896755-8ec0-4642-8054-509073fec348",
   "metadata": {},
   "outputs": [
    {
     "data": {
      "text/plain": [
       "9"
      ]
     },
     "execution_count": 145,
     "metadata": {},
     "output_type": "execute_result"
    }
   ],
   "source": [
    "l1.index('nit')"
   ]
  },
  {
   "cell_type": "code",
   "execution_count": 147,
   "id": "324a0d83-f30e-4889-b174-bf6e1664bfa0",
   "metadata": {},
   "outputs": [
    {
     "data": {
      "text/plain": [
       "[100, 20, 30, 40, 50, 60, 200]"
      ]
     },
     "execution_count": 147,
     "metadata": {},
     "output_type": "execute_result"
    }
   ],
   "source": [
    "l"
   ]
  },
  {
   "cell_type": "code",
   "execution_count": 149,
   "id": "1ef9d7d7-0330-4afe-8d40-30b277df5518",
   "metadata": {},
   "outputs": [
    {
     "ename": "ValueError",
     "evalue": "'nit' is not in list",
     "output_type": "error",
     "traceback": [
      "\u001b[1;31m---------------------------------------------------------------------------\u001b[0m",
      "\u001b[1;31mValueError\u001b[0m                                Traceback (most recent call last)",
      "Cell \u001b[1;32mIn[149], line 1\u001b[0m\n\u001b[1;32m----> 1\u001b[0m l\u001b[38;5;241m.\u001b[39mindex(\u001b[38;5;124m'\u001b[39m\u001b[38;5;124mnit\u001b[39m\u001b[38;5;124m'\u001b[39m)\n",
      "\u001b[1;31mValueError\u001b[0m: 'nit' is not in list"
     ]
    }
   ],
   "source": [
    "l.index('nit')"
   ]
  },
  {
   "cell_type": "code",
   "execution_count": 151,
   "id": "fbf0439b-de77-43d0-9a6e-6b65533c41c4",
   "metadata": {},
   "outputs": [
    {
     "data": {
      "text/plain": [
       "[10, 20, 30, 40, 50, 60, 10, 3.14, (2+3j), 'nit', [1, 2, 3, 4]]"
      ]
     },
     "execution_count": 151,
     "metadata": {},
     "output_type": "execute_result"
    }
   ],
   "source": [
    "l1"
   ]
  },
  {
   "cell_type": "code",
   "execution_count": 153,
   "id": "ac0e2926-8391-400f-98a7-baac718d1d8c",
   "metadata": {},
   "outputs": [
    {
     "name": "stdout",
     "output_type": "stream",
     "text": [
      "10\n"
     ]
    }
   ],
   "source": [
    "print(l1.index([1,2,3,4]))"
   ]
  },
  {
   "cell_type": "code",
   "execution_count": 155,
   "id": "3e88ab16-fa44-4ba8-8fb6-04ec2e470a46",
   "metadata": {},
   "outputs": [
    {
     "data": {
      "text/plain": [
       "[1, 2, 3, 4, 5, 6, 70]"
      ]
     },
     "execution_count": 155,
     "metadata": {},
     "output_type": "execute_result"
    }
   ],
   "source": [
    "l3 = [1,2,3,4,5,6]\n",
    "l3.append(70)\n",
    "l3"
   ]
  },
  {
   "cell_type": "code",
   "execution_count": 157,
   "id": "b2ef5fba-fc10-418f-86b1-0187c9d08fad",
   "metadata": {},
   "outputs": [
    {
     "data": {
      "text/plain": [
       "list"
      ]
     },
     "execution_count": 157,
     "metadata": {},
     "output_type": "execute_result"
    }
   ],
   "source": [
    "type(l3)"
   ]
  },
  {
   "cell_type": "code",
   "execution_count": 159,
   "id": "a7c9357d-30fd-4511-ac2e-de81abec694f",
   "metadata": {},
   "outputs": [
    {
     "data": {
      "text/plain": [
       "[1, 2, 3, 4, 5, 6, 70, [60, 30]]"
      ]
     },
     "execution_count": 159,
     "metadata": {},
     "output_type": "execute_result"
    }
   ],
   "source": [
    "l3.append([60,30])\n",
    "l3"
   ]
  },
  {
   "cell_type": "code",
   "execution_count": 161,
   "id": "6ca7b389-58a8-4a34-aa37-78c0e1033d49",
   "metadata": {},
   "outputs": [],
   "source": [
    "l3 = l1.copy()"
   ]
  },
  {
   "cell_type": "code",
   "execution_count": 163,
   "id": "709a9cb3-9804-4825-b3c4-548d89355e20",
   "metadata": {},
   "outputs": [
    {
     "data": {
      "text/plain": [
       "[10, 20, 30, 40, 50, 60, 10, 3.14, (2+3j), 'nit', [1, 2, 3, 4]]"
      ]
     },
     "execution_count": 163,
     "metadata": {},
     "output_type": "execute_result"
    }
   ],
   "source": [
    "l3"
   ]
  },
  {
   "cell_type": "code",
   "execution_count": 165,
   "id": "21025ef9-6434-4f70-be77-feee6f6134e8",
   "metadata": {},
   "outputs": [
    {
     "data": {
      "text/plain": [
       "[10, 20, 30, 40, 50, 60, 10, 3.14, (2+3j), 'nit']"
      ]
     },
     "execution_count": 165,
     "metadata": {},
     "output_type": "execute_result"
    }
   ],
   "source": [
    "l3[:10]"
   ]
  },
  {
   "cell_type": "code",
   "execution_count": 167,
   "id": "ada21034-1ae2-4196-a0af-7f151fa25600",
   "metadata": {},
   "outputs": [
    {
     "data": {
      "text/plain": [
       "[1, 2, 3, 4]"
      ]
     },
     "execution_count": 167,
     "metadata": {},
     "output_type": "execute_result"
    }
   ],
   "source": [
    "l3[10]"
   ]
  },
  {
   "cell_type": "code",
   "execution_count": 169,
   "id": "578db6b8-c2e1-4e79-a38f-659cc139e85a",
   "metadata": {},
   "outputs": [
    {
     "data": {
      "text/plain": [
       "[[1, 2, 3, 4]]"
      ]
     },
     "execution_count": 169,
     "metadata": {},
     "output_type": "execute_result"
    }
   ],
   "source": [
    "l3[10:]"
   ]
  },
  {
   "cell_type": "code",
   "execution_count": 171,
   "id": "1b0d82fd-a5bb-4ad5-b67b-7974878118f2",
   "metadata": {},
   "outputs": [
    {
     "name": "stdout",
     "output_type": "stream",
     "text": [
      "[100, 20, 30, 40, 50, 60, 200]\n",
      "[10, 20, 30, 40, 50, 60, 10, 3.14, (2+3j), 'nit', [1, 2, 3, 4]]\n"
     ]
    }
   ],
   "source": [
    "print(l)\n",
    "\n",
    "print(l3)"
   ]
  },
  {
   "cell_type": "code",
   "execution_count": 173,
   "id": "0abac14d-72a9-4d82-89ef-26083c9bc709",
   "metadata": {},
   "outputs": [
    {
     "data": {
      "text/plain": [
       "(2+3j)"
      ]
     },
     "execution_count": 173,
     "metadata": {},
     "output_type": "execute_result"
    }
   ],
   "source": [
    "l1[8]"
   ]
  },
  {
   "cell_type": "code",
   "execution_count": 175,
   "id": "151c0507-8bcf-4c91-811c-fa9a096fffb0",
   "metadata": {},
   "outputs": [
    {
     "ename": "TypeError",
     "evalue": "'complex' object is not subscriptable",
     "output_type": "error",
     "traceback": [
      "\u001b[1;31m---------------------------------------------------------------------------\u001b[0m",
      "\u001b[1;31mTypeError\u001b[0m                                 Traceback (most recent call last)",
      "Cell \u001b[1;32mIn[175], line 1\u001b[0m\n\u001b[1;32m----> 1\u001b[0m \u001b[38;5;28mprint\u001b[39m(l3[\u001b[38;5;241m8\u001b[39m][\u001b[38;5;241m0\u001b[39m])\n\u001b[0;32m      2\u001b[0m \u001b[38;5;28mprint\u001b[39m(l3[\u001b[38;5;241m8\u001b[39m][\u001b[38;5;241m1\u001b[39m])\n\u001b[0;32m      3\u001b[0m \u001b[38;5;28mprint\u001b[39m(l3[\u001b[38;5;241m8\u001b[39m][\u001b[38;5;241m2\u001b[39m])\n",
      "\u001b[1;31mTypeError\u001b[0m: 'complex' object is not subscriptable"
     ]
    }
   ],
   "source": [
    "print(l3[8][0])\n",
    "print(l3[8][1])\n",
    "print(l3[8][2])"
   ]
  },
  {
   "cell_type": "code",
   "execution_count": 177,
   "id": "156056a0-cdee-4970-99fe-d345bfa8a946",
   "metadata": {},
   "outputs": [
    {
     "data": {
      "text/plain": [
       "[100, 20, 30, 40, 50, 60, 200]"
      ]
     },
     "execution_count": 177,
     "metadata": {},
     "output_type": "execute_result"
    }
   ],
   "source": [
    "l"
   ]
  },
  {
   "cell_type": "code",
   "execution_count": 179,
   "id": "2f7070e3-c05b-483a-9a25-c1eb557a47b5",
   "metadata": {},
   "outputs": [
    {
     "data": {
      "text/plain": [
       "1"
      ]
     },
     "execution_count": 179,
     "metadata": {},
     "output_type": "execute_result"
    }
   ],
   "source": [
    "l.count(100)"
   ]
  },
  {
   "cell_type": "code",
   "execution_count": 181,
   "id": "2b4787c3-0496-4ab3-b736-3ad93cb2371f",
   "metadata": {},
   "outputs": [
    {
     "data": {
      "text/plain": [
       "2"
      ]
     },
     "execution_count": 181,
     "metadata": {},
     "output_type": "execute_result"
    }
   ],
   "source": [
    "l3.count(10)"
   ]
  },
  {
   "cell_type": "code",
   "execution_count": 183,
   "id": "258a4239-9e06-45df-843a-9c870373addc",
   "metadata": {},
   "outputs": [
    {
     "data": {
      "text/plain": [
       "[10, 20, 30, 40, 50, 60, 10, 3.14, (2+3j), 'nit']"
      ]
     },
     "execution_count": 183,
     "metadata": {},
     "output_type": "execute_result"
    }
   ],
   "source": [
    "l1.remove([1,2,3,4])\n",
    "l1"
   ]
  },
  {
   "cell_type": "code",
   "execution_count": 185,
   "id": "a2866833-1a8f-4de1-85ed-5cf1ef4c2329",
   "metadata": {},
   "outputs": [
    {
     "data": {
      "text/plain": [
       "[20, 30, 40, 50, 60, 10, 3.14, (2+3j), 'nit']"
      ]
     },
     "execution_count": 185,
     "metadata": {},
     "output_type": "execute_result"
    }
   ],
   "source": [
    "l1.remove(10)\n",
    "l1"
   ]
  },
  {
   "cell_type": "code",
   "execution_count": 187,
   "id": "9899eb45-958a-446a-ac2a-307c77d9369d",
   "metadata": {},
   "outputs": [
    {
     "data": {
      "text/plain": [
       "[100, 20, 30, 40, 50, 60, 200]"
      ]
     },
     "execution_count": 187,
     "metadata": {},
     "output_type": "execute_result"
    }
   ],
   "source": [
    "l"
   ]
  },
  {
   "cell_type": "code",
   "execution_count": 189,
   "id": "e7f7d728-f73a-4583-a4c3-98104d9de60b",
   "metadata": {},
   "outputs": [
    {
     "data": {
      "text/plain": [
       "[100, 20, 30, 40, 50, 60, 200, 25]"
      ]
     },
     "execution_count": 189,
     "metadata": {},
     "output_type": "execute_result"
    }
   ],
   "source": [
    "l.append(25)\n",
    "l"
   ]
  },
  {
   "cell_type": "code",
   "execution_count": 191,
   "id": "30ee004f-a0a9-4e46-a3a9-cbf3eb17a093",
   "metadata": {},
   "outputs": [
    {
     "data": {
      "text/plain": [
       "[100, 20, 25, 30, 40, 50, 60, 200, 25]"
      ]
     },
     "execution_count": 191,
     "metadata": {},
     "output_type": "execute_result"
    }
   ],
   "source": [
    "l.insert(2,25)\n",
    "l"
   ]
  },
  {
   "cell_type": "code",
   "execution_count": 193,
   "id": "f6cb22f2-0bf9-405c-ba85-1248bc5171c8",
   "metadata": {},
   "outputs": [
    {
     "data": {
      "text/plain": [
       "[100, 20, 25, 30, 40, 50, 60, 200]"
      ]
     },
     "execution_count": 193,
     "metadata": {},
     "output_type": "execute_result"
    }
   ],
   "source": [
    "l.pop()\n",
    "l"
   ]
  },
  {
   "cell_type": "code",
   "execution_count": 195,
   "id": "0afef84f-3c51-43e9-87a4-f31ea143059d",
   "metadata": {},
   "outputs": [
    {
     "data": {
      "text/plain": [
       "[100, 20, 25, 30, 40, 50, 60, 200]"
      ]
     },
     "execution_count": 195,
     "metadata": {},
     "output_type": "execute_result"
    }
   ],
   "source": [
    "l"
   ]
  },
  {
   "cell_type": "code",
   "execution_count": 197,
   "id": "188693df-c3cc-48bc-91cf-489d82104c4d",
   "metadata": {},
   "outputs": [
    {
     "data": {
      "text/plain": [
       "[100, 20, 25, 30, 40, 50, 60, 200]"
      ]
     },
     "execution_count": 197,
     "metadata": {},
     "output_type": "execute_result"
    }
   ],
   "source": [
    "l"
   ]
  },
  {
   "cell_type": "code",
   "execution_count": 199,
   "id": "0270796a-ffbc-47e0-839e-8311a2b5602e",
   "metadata": {},
   "outputs": [
    {
     "ename": "NameError",
     "evalue": "name 'l2' is not defined",
     "output_type": "error",
     "traceback": [
      "\u001b[1;31m---------------------------------------------------------------------------\u001b[0m",
      "\u001b[1;31mNameError\u001b[0m                                 Traceback (most recent call last)",
      "Cell \u001b[1;32mIn[199], line 1\u001b[0m\n\u001b[1;32m----> 1\u001b[0m l2\n",
      "\u001b[1;31mNameError\u001b[0m: name 'l2' is not defined"
     ]
    }
   ],
   "source": [
    "l2"
   ]
  },
  {
   "cell_type": "code",
   "execution_count": 201,
   "id": "95fc2c28-e012-4544-9fb8-2237f19cc1e1",
   "metadata": {},
   "outputs": [
    {
     "data": {
      "text/plain": [
       "[10, 20, 30, 40, 50, 60, 10, 3.14, (2+3j), 'nit', [1, 2, 3, 4]]"
      ]
     },
     "execution_count": 201,
     "metadata": {},
     "output_type": "execute_result"
    }
   ],
   "source": [
    "l3"
   ]
  },
  {
   "cell_type": "code",
   "execution_count": 203,
   "id": "73e63954-95c7-4142-b387-490866c35496",
   "metadata": {},
   "outputs": [
    {
     "data": {
      "text/plain": [
       "8"
      ]
     },
     "execution_count": 203,
     "metadata": {},
     "output_type": "execute_result"
    }
   ],
   "source": [
    "len(l)"
   ]
  },
  {
   "cell_type": "code",
   "execution_count": 205,
   "id": "1cdfdf51-84ad-4b1e-93f5-ae41c2bb5a19",
   "metadata": {},
   "outputs": [
    {
     "ename": "NameError",
     "evalue": "name 'n' is not defined",
     "output_type": "error",
     "traceback": [
      "\u001b[1;31m---------------------------------------------------------------------------\u001b[0m",
      "\u001b[1;31mNameError\u001b[0m                                 Traceback (most recent call last)",
      "Cell \u001b[1;32mIn[205], line 1\u001b[0m\n\u001b[1;32m----> 1\u001b[0m l \u001b[38;5;241m=\u001b[39mn\n",
      "\u001b[1;31mNameError\u001b[0m: name 'n' is not defined"
     ]
    }
   ],
   "source": [
    "l =n "
   ]
  },
  {
   "cell_type": "code",
   "execution_count": 207,
   "id": "2fb35e24-a156-48a4-892d-85b612e7c259",
   "metadata": {},
   "outputs": [
    {
     "data": {
      "text/plain": [
       "[10, 20, 30, 40, 50, 60, 10, 3.14, (2+3j), 'nit', [1, 2, 3, 4]]"
      ]
     },
     "execution_count": 207,
     "metadata": {},
     "output_type": "execute_result"
    }
   ],
   "source": [
    "l4 = l3.copy()\n",
    "l4"
   ]
  },
  {
   "cell_type": "code",
   "execution_count": 209,
   "id": "a960df03-6abc-4f73-b45f-c59af6ab29cd",
   "metadata": {},
   "outputs": [
    {
     "data": {
      "text/plain": [
       "True"
      ]
     },
     "execution_count": 209,
     "metadata": {},
     "output_type": "execute_result"
    }
   ],
   "source": [
    "l4 == l3"
   ]
  },
  {
   "cell_type": "code",
   "execution_count": 211,
   "id": "e37522f1-31c6-46b0-a574-43517132a845",
   "metadata": {},
   "outputs": [
    {
     "name": "stdout",
     "output_type": "stream",
     "text": [
      "[10, 20, 30, 40, 50, 60, 10, 3.14, (2+3j), 'nit', [1, 2, 3, 4], 10, 20, 30, 40, 50, 60, 10, 3.14, (2+3j), 'nit', [1, 2, 3, 4]]\n"
     ]
    }
   ],
   "source": [
    "l3.extend(l4)\n",
    "print(l3)"
   ]
  },
  {
   "cell_type": "code",
   "execution_count": 213,
   "id": "90d5f170-838a-4458-90ec-0bfc2f9011f8",
   "metadata": {},
   "outputs": [
    {
     "data": {
      "text/plain": [
       "['b', 'd', 'x', 'z']"
      ]
     },
     "execution_count": 213,
     "metadata": {},
     "output_type": "execute_result"
    }
   ],
   "source": [
    "l6 = ['z','x','b','d']  #parametertuning\n",
    "l6.sort()\n",
    "l6"
   ]
  },
  {
   "cell_type": "code",
   "execution_count": null,
   "id": "977f84cc-f95c-40f9-8b7b-cb43371935d1",
   "metadata": {},
   "outputs": [],
   "source": []
  },
  {
   "cell_type": "code",
   "execution_count": 216,
   "id": "ca2058b2-f7d7-4ad5-81e9-c8967ac59e4c",
   "metadata": {},
   "outputs": [
    {
     "data": {
      "text/plain": [
       "['z', 'x', 'd', 'b']"
      ]
     },
     "execution_count": 216,
     "metadata": {},
     "output_type": "execute_result"
    }
   ],
   "source": [
    "l6.sort(reverse=True)   #hyperparameterrtuning\n",
    "l6"
   ]
  },
  {
   "cell_type": "code",
   "execution_count": 218,
   "id": "4b1cfcb3-ab1f-4d66-8091-77886bf1d51a",
   "metadata": {},
   "outputs": [
    {
     "name": "stdout",
     "output_type": "stream",
     "text": [
      "z\n",
      "x\n",
      "d\n",
      "b\n"
     ]
    }
   ],
   "source": [
    "for i in l6:\n",
    "    print(i)"
   ]
  },
  {
   "cell_type": "code",
   "execution_count": 220,
   "id": "534b201e-fbcf-40e7-89a8-5ec588023161",
   "metadata": {},
   "outputs": [
    {
     "data": {
      "text/plain": [
       "False"
      ]
     },
     "execution_count": 220,
     "metadata": {},
     "output_type": "execute_result"
    }
   ],
   "source": [
    "'zz' in l6  #list membership"
   ]
  },
  {
   "cell_type": "code",
   "execution_count": 230,
   "id": "9914a2a5-6a7c-4767-99b4-895de839df56",
   "metadata": {},
   "outputs": [
    {
     "data": {
      "text/plain": [
       "['z', 'x', 'd', 'b']"
      ]
     },
     "execution_count": 230,
     "metadata": {},
     "output_type": "execute_result"
    }
   ],
   "source": [
    "l6"
   ]
  }
 ],
 "metadata": {
  "kernelspec": {
   "display_name": "Python 3 (ipykernel)",
   "language": "python",
   "name": "python3"
  },
  "language_info": {
   "codemirror_mode": {
    "name": "ipython",
    "version": 3
   },
   "file_extension": ".py",
   "mimetype": "text/x-python",
   "name": "python",
   "nbconvert_exporter": "python",
   "pygments_lexer": "ipython3",
   "version": "3.12.7"
  }
 },
 "nbformat": 4,
 "nbformat_minor": 5
}
