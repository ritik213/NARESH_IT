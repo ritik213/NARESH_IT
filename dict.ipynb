{
 "cells": [
  {
   "cell_type": "markdown",
   "id": "74ff9f2c-47a3-405c-9512-9e2e93277b39",
   "metadata": {},
   "source": [
    "# Dictionary"
   ]
  },
  {
   "cell_type": "markdown",
   "id": "a65036c8-abaa-4a3f-bb99-76ce9b471d89",
   "metadata": {},
   "source": [
    "#### 1.Dictionary is mutable datatype\n",
    "#### 2.A python is a collection of the key and value pairs and seperated by (:), and enclosed with curly braces{}\n",
    "#### 3.key must be unique in disctionary. duplicate value are not allowes\n",
    "#### 4.duplicate values are allowed in values"
   ]
  },
  {
   "cell_type": "code",
   "execution_count": 5,
   "id": "9330bd32-174f-48ac-80ee-3fffe35d7510",
   "metadata": {},
   "outputs": [],
   "source": [
    "mydict = {'A':'one','B':'Two','C':'Three'}"
   ]
  },
  {
   "cell_type": "code",
   "execution_count": 7,
   "id": "48333be9-cf5f-4af5-bb04-0ea41685f299",
   "metadata": {},
   "outputs": [
    {
     "data": {
      "text/plain": [
       "{'A': 'one', 'B': 'Two', 'C': 'Three'}"
      ]
     },
     "execution_count": 7,
     "metadata": {},
     "output_type": "execute_result"
    }
   ],
   "source": [
    "mydict"
   ]
  },
  {
   "cell_type": "markdown",
   "id": "c16c7ca8-8395-4354-85e0-8634786cb92c",
   "metadata": {},
   "source": [
    "# create Dictionary"
   ]
  },
  {
   "cell_type": "code",
   "execution_count": 10,
   "id": "1a752bbb-fbaa-483a-bbf8-964729891000",
   "metadata": {},
   "outputs": [
    {
     "name": "stdout",
     "output_type": "stream",
     "text": [
      "{}\n",
      "<class 'dict'>\n"
     ]
    }
   ],
   "source": [
    "mydict = dict() #Empty dictionary\n",
    "print(mydict)\n",
    "print(type(mydict))"
   ]
  },
  {
   "cell_type": "code",
   "execution_count": 12,
   "id": "624717f7-cdda-4a62-accc-2f3dbed11a5b",
   "metadata": {},
   "outputs": [
    {
     "data": {
      "text/plain": [
       "{}"
      ]
     },
     "execution_count": 12,
     "metadata": {},
     "output_type": "execute_result"
    }
   ],
   "source": [
    "mydict  = {}\n",
    "mydict"
   ]
  },
  {
   "cell_type": "code",
   "execution_count": 14,
   "id": "61bb90b7-7ff8-427a-a383-032d2cf0d155",
   "metadata": {},
   "outputs": [
    {
     "data": {
      "text/plain": [
       "{1: 'one', 2: 'two', 3: 'three', 4: 'four', 5: 'five'}"
      ]
     },
     "execution_count": 14,
     "metadata": {},
     "output_type": "execute_result"
    }
   ],
   "source": [
    "mydict = {1:'one', 2:'two', 3:'three', 4:'four', 5:'five'}   #Dictionary with integer number\n",
    "mydict"
   ]
  },
  {
   "cell_type": "code",
   "execution_count": 16,
   "id": "6bee9a21-0dd8-4eda-b031-a21dbc55bf39",
   "metadata": {},
   "outputs": [],
   "source": [
    "mydict = ({1:'one',2:'two',3:'three',4:'four',5:'five',6:'six',7:'seven'})   # Create dictionary using dict() "
   ]
  },
  {
   "cell_type": "code",
   "execution_count": 18,
   "id": "87899b9e-795c-497b-9411-e3b8734964c2",
   "metadata": {},
   "outputs": [
    {
     "data": {
      "text/plain": [
       "{1: 'one', 2: 'two', 3: 'three', 4: 'four', 5: 'five', 6: 'six', 7: 'seven'}"
      ]
     },
     "execution_count": 18,
     "metadata": {},
     "output_type": "execute_result"
    }
   ],
   "source": [
    "mydict"
   ]
  },
  {
   "cell_type": "code",
   "execution_count": 20,
   "id": "1d2d81ee-a8cd-4259-b61b-214a74155da3",
   "metadata": {},
   "outputs": [
    {
     "data": {
      "text/plain": [
       "{'A': 'one', 'B': 'two', 'C': 'three', 'D': 'four'}"
      ]
     },
     "execution_count": 20,
     "metadata": {},
     "output_type": "execute_result"
    }
   ],
   "source": [
    "mydict = {'A':'one','B':'two','C':'three','D':'four'} #dictionary by using key character\n",
    "mydict"
   ]
  },
  {
   "cell_type": "code",
   "execution_count": 22,
   "id": "0db7ac1b-d270-4fa5-bc25-38dcecc03616",
   "metadata": {},
   "outputs": [
    {
     "data": {
      "text/plain": [
       "{1: 'one', 'B': 'two', 3: 'three'}"
      ]
     },
     "execution_count": 22,
     "metadata": {},
     "output_type": "execute_result"
    }
   ],
   "source": [
    "mydict = {1:'one', 'B':'two', 3:'three'}   #By using the mixed key\n",
    "mydict"
   ]
  },
  {
   "cell_type": "code",
   "execution_count": 24,
   "id": "aa433af9-1287-4c0c-8aeb-6502a0a7486a",
   "metadata": {},
   "outputs": [
    {
     "data": {
      "text/plain": [
       "dict_keys([1, 'B', 3])"
      ]
     },
     "execution_count": 24,
     "metadata": {},
     "output_type": "execute_result"
    }
   ],
   "source": [
    "mydict.keys()    #return dictionary keys by using the key() method"
   ]
  },
  {
   "cell_type": "code",
   "execution_count": 26,
   "id": "bdb943fe-1ac1-45a8-aa8a-2b6faac0f5e9",
   "metadata": {},
   "outputs": [
    {
     "data": {
      "text/plain": [
       "dict_values(['one', 'two', 'three'])"
      ]
     },
     "execution_count": 26,
     "metadata": {},
     "output_type": "execute_result"
    }
   ],
   "source": [
    "mydict.values()  #return the dictionary values using values() method"
   ]
  },
  {
   "cell_type": "code",
   "execution_count": 28,
   "id": "377d4bdc-6ef9-4521-9e33-55398804937c",
   "metadata": {},
   "outputs": [
    {
     "data": {
      "text/plain": [
       "dict_items([(1, 'one'), ('B', 'two'), (3, 'three')])"
      ]
     },
     "execution_count": 28,
     "metadata": {},
     "output_type": "execute_result"
    }
   ],
   "source": [
    "mydict.items()  #access all key values pairs in dictionary"
   ]
  },
  {
   "cell_type": "code",
   "execution_count": 30,
   "id": "16f2c6d8-7136-4bf2-a248-9a063a7489f7",
   "metadata": {},
   "outputs": [
    {
     "data": {
      "text/plain": [
       "{1: 'one', 2: 'two', 3: 'three', 'A': ['one', 'two', 'three']}"
      ]
     },
     "execution_count": 30,
     "metadata": {},
     "output_type": "execute_result"
    }
   ],
   "source": [
    "mydict = {1:'one',2:'two',3:'three','A':['one','two','three']}   #Nested dictionary\n",
    "mydict"
   ]
  },
  {
   "cell_type": "code",
   "execution_count": 32,
   "id": "a560240b-64ab-4d50-8895-8ec37de85b6a",
   "metadata": {},
   "outputs": [
    {
     "data": {
      "text/plain": [
       "{1: 'one',\n",
       " 2: 'two',\n",
       " 3: 'three',\n",
       " 4: 'four',\n",
       " 5: 'five',\n",
       " 'A': ('john', 'meria', 'asif'),\n",
       " 'B': ['hat', 'cat', 'mat']}"
      ]
     },
     "execution_count": 32,
     "metadata": {},
     "output_type": "execute_result"
    }
   ],
   "source": [
    "mydict = {1:'one',2:'two',3:'three',4:'four',5:'five','A':('john','meria','asif'),'B':['hat','cat','mat']}\n",
    "mydict"
   ]
  },
  {
   "cell_type": "code",
   "execution_count": 34,
   "id": "95adaac4-cb85-46c9-99f2-2dfe08881df1",
   "metadata": {},
   "outputs": [
    {
     "data": {
      "text/plain": [
       "{1: 'one',\n",
       " 2: 'two',\n",
       " 3: 'three',\n",
       " 4: 'four',\n",
       " 5: 'five',\n",
       " 'A': {'Name': 'Ritika', 'age': 80},\n",
       " 'B': ('A', 'B', 'c', 'd')}"
      ]
     },
     "execution_count": 34,
     "metadata": {},
     "output_type": "execute_result"
    }
   ],
   "source": [
    "mydict = {1:'one',2:'two',3:'three',4:'four',5:'five','A':{'Name':'Ritika','age':80},'B':('A','B','c','d')}\n",
    "mydict"
   ]
  },
  {
   "cell_type": "code",
   "execution_count": 36,
   "id": "a946c6b7-d5dc-45b8-b50a-310f6b70aebc",
   "metadata": {},
   "outputs": [],
   "source": [
    "mydict ={'A','B','C','D','E','F','G','H'}  #create dict from seqence of keys\n",
    "mydict1 = dict.fromkeys(mydict)"
   ]
  },
  {
   "cell_type": "code",
   "execution_count": 38,
   "id": "c7a1f8d4-ed5a-4c3e-86e8-d6cb1e57f411",
   "metadata": {},
   "outputs": [
    {
     "data": {
      "text/plain": [
       "{'A': None,\n",
       " 'H': None,\n",
       " 'G': None,\n",
       " 'B': None,\n",
       " 'D': None,\n",
       " 'F': None,\n",
       " 'C': None,\n",
       " 'E': None}"
      ]
     },
     "execution_count": 38,
     "metadata": {},
     "output_type": "execute_result"
    }
   ],
   "source": [
    "mydict1"
   ]
  },
  {
   "cell_type": "code",
   "execution_count": 40,
   "id": "26e53ae9-4d6a-448e-a8a4-735abeb88f6d",
   "metadata": {},
   "outputs": [
    {
     "data": {
      "text/plain": [
       "{'A', 'B', 'C', 'D', 'E', 'F', 'G', 'H'}"
      ]
     },
     "execution_count": 40,
     "metadata": {},
     "output_type": "execute_result"
    }
   ],
   "source": [
    "mydict"
   ]
  },
  {
   "cell_type": "code",
   "execution_count": 42,
   "id": "0e8aeeae-c9cf-4883-9ed9-02668ebe21f1",
   "metadata": {},
   "outputs": [
    {
     "name": "stdout",
     "output_type": "stream",
     "text": [
      "{'A': None, 'H': None, 'G': None, 'B': None, 'D': None, 'F': None, 'C': None, 'E': None}\n"
     ]
    }
   ],
   "source": [
    "print(dict.fromkeys(mydict1))"
   ]
  },
  {
   "cell_type": "code",
   "execution_count": 44,
   "id": "a9e1d930-790b-4d3f-9f35-339dc80d7264",
   "metadata": {},
   "outputs": [
    {
     "data": {
      "text/plain": [
       "{1: 'A', 2: 'A', 3: 'A', 4: 'A', 5: 'A', 6: 'A'}"
      ]
     },
     "execution_count": 44,
     "metadata": {},
     "output_type": "execute_result"
    }
   ],
   "source": [
    "mydict = {1,2,3,4,5,6}  # cretate a dictionary from sequence of key and value pair\n",
    "value = 'A'\n",
    "mydict1 = dict.fromkeys(mydict, value)\n",
    "mydict1"
   ]
  },
  {
   "cell_type": "code",
   "execution_count": 46,
   "id": "f4ae6d0f-515f-4468-8b53-f13965eca2a1",
   "metadata": {},
   "outputs": [
    {
     "data": {
      "text/plain": [
       "{1: ('A', 'B', 'C', 'D', 'E', 'F'),\n",
       " 2: ('A', 'B', 'C', 'D', 'E', 'F'),\n",
       " 3: ('A', 'B', 'C', 'D', 'E', 'F'),\n",
       " 4: ('A', 'B', 'C', 'D', 'E', 'F'),\n",
       " 5: ('A', 'B', 'C', 'D', 'E', 'F'),\n",
       " 6: ('A', 'B', 'C', 'D', 'E', 'F')}"
      ]
     },
     "execution_count": 46,
     "metadata": {},
     "output_type": "execute_result"
    }
   ],
   "source": [
    "mydict = {1,2,3,4,5,6}  # cretate a dictionary from sequence of key and value pair\n",
    "value = ('A','B','C','D','E','F')\n",
    "mydict1 = dict.fromkeys(mydict, value)\n",
    "mydict1"
   ]
  },
  {
   "cell_type": "code",
   "execution_count": 48,
   "id": "3fe2c2a8-0c53-4540-88ce-53901b2b7fdb",
   "metadata": {},
   "outputs": [
    {
     "data": {
      "text/plain": [
       "{'c': [10, 20, 30], 'a': [10, 20, 30], 'd': [10, 20, 30], 'b': [10, 20, 30]}"
      ]
     },
     "execution_count": 48,
     "metadata": {},
     "output_type": "execute_result"
    }
   ],
   "source": [
    "keys = {'a' , 'b' , 'c' , 'd'} \n",
    "value = [10,20,30] \n",
    "mydict3 = dict.fromkeys(keys , value) \n",
    "mydict3 "
   ]
  },
  {
   "cell_type": "code",
   "execution_count": 50,
   "id": "b3b5ed7a-31e3-4c69-b050-27cf69344d0e",
   "metadata": {},
   "outputs": [
    {
     "data": {
      "text/plain": [
       "{'c': [10, 20, 30, 40],\n",
       " 'a': [10, 20, 30, 40],\n",
       " 'd': [10, 20, 30, 40],\n",
       " 'b': [10, 20, 30, 40]}"
      ]
     },
     "execution_count": 50,
     "metadata": {},
     "output_type": "execute_result"
    }
   ],
   "source": [
    "value.append(40) \n",
    "mydict3 "
   ]
  },
  {
   "cell_type": "code",
   "execution_count": 52,
   "id": "65902998-b8b1-40f3-818d-0098ddd88758",
   "metadata": {},
   "outputs": [
    {
     "data": {
      "text/plain": [
       "{'c': [10, 20, 30, 40, 50],\n",
       " 'a': [10, 20, 30, 40, 50],\n",
       " 'd': [10, 20, 30, 40, 50],\n",
       " 'b': [10, 20, 30, 40, 50]}"
      ]
     },
     "execution_count": 52,
     "metadata": {},
     "output_type": "execute_result"
    }
   ],
   "source": [
    "value.append(50)\n",
    "mydict3"
   ]
  },
  {
   "cell_type": "markdown",
   "id": "ef8466cc-3691-4669-89c8-bb9cfda8ec80",
   "metadata": {},
   "source": [
    "# Accessing Items"
   ]
  },
  {
   "cell_type": "code",
   "execution_count": 55,
   "id": "22a0a8bc-10d2-4a9c-b94f-10cc06f9e025",
   "metadata": {},
   "outputs": [],
   "source": [
    "mydict = {1:'one',2:'two',3:'three',4:'four'}"
   ]
  },
  {
   "cell_type": "code",
   "execution_count": 57,
   "id": "9395f387-577e-4ebd-b6fd-7362d79ef371",
   "metadata": {},
   "outputs": [
    {
     "data": {
      "text/plain": [
       "{1: 'one', 2: 'two', 3: 'three', 4: 'four'}"
      ]
     },
     "execution_count": 57,
     "metadata": {},
     "output_type": "execute_result"
    }
   ],
   "source": [
    "mydict"
   ]
  },
  {
   "cell_type": "code",
   "execution_count": 59,
   "id": "6097ee82-b39d-49ec-ac6f-ae3bc4ea36e1",
   "metadata": {},
   "outputs": [
    {
     "data": {
      "text/plain": [
       "'one'"
      ]
     },
     "execution_count": 59,
     "metadata": {},
     "output_type": "execute_result"
    }
   ],
   "source": [
    "mydict[1] # access the item using key"
   ]
  },
  {
   "cell_type": "code",
   "execution_count": 61,
   "id": "9b09b184-413b-4509-a6ce-f933ff655ef3",
   "metadata": {},
   "outputs": [
    {
     "data": {
      "text/plain": [
       "'three'"
      ]
     },
     "execution_count": 61,
     "metadata": {},
     "output_type": "execute_result"
    }
   ],
   "source": [
    "mydict[3]"
   ]
  },
  {
   "cell_type": "code",
   "execution_count": 63,
   "id": "81b2985e-5774-4b81-939f-dd4e13779e63",
   "metadata": {},
   "outputs": [
    {
     "data": {
      "text/plain": [
       "'four'"
      ]
     },
     "execution_count": 63,
     "metadata": {},
     "output_type": "execute_result"
    }
   ],
   "source": [
    "mydict.get(4)  #Accessing the item using get() Method"
   ]
  },
  {
   "cell_type": "code",
   "execution_count": 65,
   "id": "a4ab8361-3c65-4b2e-a7bb-803690358bea",
   "metadata": {},
   "outputs": [
    {
     "data": {
      "text/plain": [
       "{'Name': 'John', 'ID': 2918, 'DOB': 1987, 'JOB': 'python_Devloper'}"
      ]
     },
     "execution_count": 65,
     "metadata": {},
     "output_type": "execute_result"
    }
   ],
   "source": [
    "mydict = {'Name':'John','ID':2918, 'DOB':1987, 'JOB':'python_Devloper'}\n",
    "mydict"
   ]
  },
  {
   "cell_type": "code",
   "execution_count": 67,
   "id": "3cda243e-b4d6-4f60-9b50-9b4bec230ee0",
   "metadata": {},
   "outputs": [
    {
     "data": {
      "text/plain": [
       "'John'"
      ]
     },
     "execution_count": 67,
     "metadata": {},
     "output_type": "execute_result"
    }
   ],
   "source": [
    "mydict['Name']"
   ]
  },
  {
   "cell_type": "code",
   "execution_count": 69,
   "id": "4007bd22-92f9-4532-b377-9deffbd9b944",
   "metadata": {},
   "outputs": [
    {
     "data": {
      "text/plain": [
       "'python_Devloper'"
      ]
     },
     "execution_count": 69,
     "metadata": {},
     "output_type": "execute_result"
    }
   ],
   "source": [
    "mydict['JOB']"
   ]
  },
  {
   "cell_type": "code",
   "execution_count": 71,
   "id": "1189e703-c734-40a2-95e9-a0fc888c78f0",
   "metadata": {},
   "outputs": [
    {
     "data": {
      "text/plain": [
       "2918"
      ]
     },
     "execution_count": 71,
     "metadata": {},
     "output_type": "execute_result"
    }
   ],
   "source": [
    "mydict['ID'] # Access the items using key"
   ]
  },
  {
   "cell_type": "code",
   "execution_count": 73,
   "id": "874bff79-7844-49de-9b3e-6c7fa011edbe",
   "metadata": {},
   "outputs": [
    {
     "data": {
      "text/plain": [
       "1987"
      ]
     },
     "execution_count": 73,
     "metadata": {},
     "output_type": "execute_result"
    }
   ],
   "source": [
    "mydict.get('DOB')  #access the items using the get method()"
   ]
  },
  {
   "cell_type": "markdown",
   "id": "68422099-56b2-44a9-85a0-760abc8a267d",
   "metadata": {},
   "source": [
    "# Add, Remove & Change Items"
   ]
  },
  {
   "cell_type": "code",
   "execution_count": 76,
   "id": "ec4102b5-71fa-45e1-9c1a-eaee158baebc",
   "metadata": {},
   "outputs": [
    {
     "data": {
      "text/plain": [
       "{'Name': 'john',\n",
       " 'ID': 1447,\n",
       " 'DOB': 1934,\n",
       " 'Address': 'HYD',\n",
       " 'JOb': 'Full Stack java'}"
      ]
     },
     "execution_count": 76,
     "metadata": {},
     "output_type": "execute_result"
    }
   ],
   "source": [
    "mydict ={'Name':'john', 'ID':1447,'DOB':1934, 'Address':'HYD','JOb':'Full Stack java'}\n",
    "mydict"
   ]
  },
  {
   "cell_type": "code",
   "execution_count": 78,
   "id": "0ea189c9-dea8-4cf1-87ee-e05782aad837",
   "metadata": {},
   "outputs": [
    {
     "data": {
      "text/plain": [
       "{'Name': 'john',\n",
       " 'ID': 1447,\n",
       " 'DOB': 1992,\n",
       " 'Address': 'HYD',\n",
       " 'JOb': 'Full Stack java'}"
      ]
     },
     "execution_count": 78,
     "metadata": {},
     "output_type": "execute_result"
    }
   ],
   "source": [
    "mydict['DOB']=1992   # changing dictionary items\n",
    "mydict"
   ]
  },
  {
   "cell_type": "code",
   "execution_count": 80,
   "id": "17562e2b-6ee1-4a60-bbf3-68a71af1dbaf",
   "metadata": {},
   "outputs": [
    {
     "data": {
      "text/plain": [
       "{'Name': 'john',\n",
       " 'ID': 1447,\n",
       " 'DOB': 1992,\n",
       " 'Address': 'Delhi',\n",
       " 'JOb': 'Full Stack java'}"
      ]
     },
     "execution_count": 80,
     "metadata": {},
     "output_type": "execute_result"
    }
   ],
   "source": [
    "mydict['Address']='Delhi'\n",
    "mydict"
   ]
  },
  {
   "cell_type": "code",
   "execution_count": 82,
   "id": "2299e769-8e9d-427f-b85b-27cd3132adef",
   "metadata": {},
   "outputs": [
    {
     "data": {
      "text/plain": [
       "{'Name': 'john',\n",
       " 'ID': 1447,\n",
       " 'DOB': 1995,\n",
       " 'Address': 'Delhi',\n",
       " 'JOb': 'Full Stack java'}"
      ]
     },
     "execution_count": 82,
     "metadata": {},
     "output_type": "execute_result"
    }
   ],
   "source": [
    "dict1={'DOB':1995}\n",
    "mydict.update(dict1)\n",
    "mydict"
   ]
  },
  {
   "cell_type": "code",
   "execution_count": 84,
   "id": "fbe90199-f34f-498a-a39d-8c2cbf1e0d48",
   "metadata": {},
   "outputs": [
    {
     "data": {
      "text/plain": [
       "{'Name': 'Book',\n",
       " 'ID': 1447,\n",
       " 'DOB': 1995,\n",
       " 'Address': 'Delhi',\n",
       " 'JOb': 'Full Stack java'}"
      ]
     },
     "execution_count": 84,
     "metadata": {},
     "output_type": "execute_result"
    }
   ],
   "source": [
    "dict2={'Name':'Book'}\n",
    "mydict.update(dict2)\n",
    "mydict"
   ]
  },
  {
   "cell_type": "code",
   "execution_count": 86,
   "id": "4a9d3554-a031-4722-8902-32db023486b7",
   "metadata": {},
   "outputs": [
    {
     "data": {
      "text/plain": [
       "{'Name': 'Book',\n",
       " 'ID': 4777,\n",
       " 'DOB': 1995,\n",
       " 'Address': 'Delhi',\n",
       " 'JOb': 'Full Stack java'}"
      ]
     },
     "execution_count": 86,
     "metadata": {},
     "output_type": "execute_result"
    }
   ],
   "source": [
    "dict3 = {'ID':4777}\n",
    "mydict.update(dict3)  #updating the values\n",
    "mydict"
   ]
  },
  {
   "cell_type": "code",
   "execution_count": 88,
   "id": "17969b40-25a6-434b-b7ea-8c39896b4780",
   "metadata": {},
   "outputs": [
    {
     "data": {
      "text/plain": [
       "{'Name': 'Book',\n",
       " 'ID': 4777,\n",
       " 'DOB': 1995,\n",
       " 'Address': 'Delhi',\n",
       " 'JOb': 'Full Stack java',\n",
       " 'job1': 'Analyst'}"
      ]
     },
     "execution_count": 88,
     "metadata": {},
     "output_type": "execute_result"
    }
   ],
   "source": [
    "mydict['job1'] =  'Analyst'  #Adding the item in dictionary\n",
    "mydict"
   ]
  },
  {
   "cell_type": "code",
   "execution_count": 90,
   "id": "e1f5cc1b-5c9b-457a-87c4-9c67874dd969",
   "metadata": {},
   "outputs": [
    {
     "data": {
      "text/plain": [
       "{'Name': 'Book',\n",
       " 'ID': 4777,\n",
       " 'DOB': 1995,\n",
       " 'Address': 'Delhi',\n",
       " 'job1': 'Analyst'}"
      ]
     },
     "execution_count": 90,
     "metadata": {},
     "output_type": "execute_result"
    }
   ],
   "source": [
    "mydict.pop('JOb')  #removing the item in dictionary using pop() Method\n",
    "mydict"
   ]
  },
  {
   "cell_type": "code",
   "execution_count": 92,
   "id": "aa76448c-ec10-4403-a8d7-c1412b1d8ee8",
   "metadata": {},
   "outputs": [
    {
     "data": {
      "text/plain": [
       "('job1', 'Analyst')"
      ]
     },
     "execution_count": 92,
     "metadata": {},
     "output_type": "execute_result"
    }
   ],
   "source": [
    "mydict.popitem()  #removing random element"
   ]
  },
  {
   "cell_type": "code",
   "execution_count": 94,
   "id": "e4ad31f7-a714-453a-9ab0-8dbef3a3ab38",
   "metadata": {},
   "outputs": [
    {
     "data": {
      "text/plain": [
       "{'Name': 'Book', 'ID': 4777, 'DOB': 1995, 'Address': 'Delhi'}"
      ]
     },
     "execution_count": 94,
     "metadata": {},
     "output_type": "execute_result"
    }
   ],
   "source": [
    "mydict"
   ]
  },
  {
   "cell_type": "code",
   "execution_count": 96,
   "id": "9320494a-4af6-41be-a8d4-bf05e3056d47",
   "metadata": {},
   "outputs": [],
   "source": [
    "del[mydict['ID']] # removing the item using del method"
   ]
  },
  {
   "cell_type": "code",
   "execution_count": 98,
   "id": "f4c8ecfb-c076-4106-b89d-f34088664d5b",
   "metadata": {},
   "outputs": [
    {
     "data": {
      "text/plain": [
       "{'Name': 'Book', 'DOB': 1995, 'Address': 'Delhi'}"
      ]
     },
     "execution_count": 98,
     "metadata": {},
     "output_type": "execute_result"
    }
   ],
   "source": [
    "mydict"
   ]
  },
  {
   "cell_type": "code",
   "execution_count": 100,
   "id": "66a061a5-44fc-4b27-aa61-d6ec0182b1d8",
   "metadata": {},
   "outputs": [],
   "source": [
    "del[mydict['Name']]"
   ]
  },
  {
   "cell_type": "code",
   "execution_count": 102,
   "id": "d6fb87fe-b509-4178-b891-2b61e7f5f4c5",
   "metadata": {},
   "outputs": [
    {
     "data": {
      "text/plain": [
       "{'DOB': 1995, 'Address': 'Delhi'}"
      ]
     },
     "execution_count": 102,
     "metadata": {},
     "output_type": "execute_result"
    }
   ],
   "source": [
    "mydict"
   ]
  },
  {
   "cell_type": "code",
   "execution_count": 104,
   "id": "f6747038-39bd-41db-8936-666cacc2d081",
   "metadata": {},
   "outputs": [],
   "source": [
    "mydict.clear() #remove all the item of dictionary using clear() method"
   ]
  },
  {
   "cell_type": "code",
   "execution_count": 106,
   "id": "460e0e12-a19e-4919-a117-c851238c103e",
   "metadata": {},
   "outputs": [
    {
     "data": {
      "text/plain": [
       "{}"
      ]
     },
     "execution_count": 106,
     "metadata": {},
     "output_type": "execute_result"
    }
   ],
   "source": [
    "mydict"
   ]
  },
  {
   "cell_type": "markdown",
   "id": "af311e1c-f644-40a9-ad77-f7571166c952",
   "metadata": {},
   "source": [
    "# Copy Dictionary"
   ]
  },
  {
   "cell_type": "code",
   "execution_count": 109,
   "id": "6c3326f4-9abb-4242-b95d-8b253b9d8d52",
   "metadata": {},
   "outputs": [],
   "source": [
    "mydict ={'Name':'john', 'ID':1447,'DOB':1934, 'Address':'HYD','JOb':'Full Stack java'}"
   ]
  },
  {
   "cell_type": "code",
   "execution_count": 111,
   "id": "d7a0ab87-c77b-4dfd-9719-7f47589ec921",
   "metadata": {},
   "outputs": [
    {
     "data": {
      "text/plain": [
       "{'Name': 'john',\n",
       " 'ID': 1447,\n",
       " 'DOB': 1934,\n",
       " 'Address': 'HYD',\n",
       " 'JOb': 'Full Stack java'}"
      ]
     },
     "execution_count": 111,
     "metadata": {},
     "output_type": "execute_result"
    }
   ],
   "source": [
    "mydict"
   ]
  },
  {
   "cell_type": "code",
   "execution_count": 113,
   "id": "664a20f1-a29b-4785-afd5-20b6fa9617d0",
   "metadata": {},
   "outputs": [],
   "source": [
    "mydict1 = mydict "
   ]
  },
  {
   "cell_type": "code",
   "execution_count": 115,
   "id": "b7ce4933-bf59-42b3-84dd-0ff1e6f19406",
   "metadata": {},
   "outputs": [
    {
     "data": {
      "text/plain": [
       "(2397407372160, 2397407372160)"
      ]
     },
     "execution_count": 115,
     "metadata": {},
     "output_type": "execute_result"
    }
   ],
   "source": [
    "id(mydict),id(mydict1)"
   ]
  },
  {
   "cell_type": "code",
   "execution_count": 117,
   "id": "5dd6ce0a-1075-4dfb-ae9a-6d37df2ebbf9",
   "metadata": {},
   "outputs": [],
   "source": [
    "mydict2 = mydict.copy()"
   ]
  },
  {
   "cell_type": "code",
   "execution_count": 119,
   "id": "39fa68a8-81af-40a3-bbfa-f85cd85a7e73",
   "metadata": {},
   "outputs": [
    {
     "data": {
      "text/plain": [
       "{'Name': 'john',\n",
       " 'ID': 1447,\n",
       " 'DOB': 1934,\n",
       " 'Address': 'HYD',\n",
       " 'JOb': 'Full Stack java'}"
      ]
     },
     "execution_count": 119,
     "metadata": {},
     "output_type": "execute_result"
    }
   ],
   "source": [
    "mydict2"
   ]
  },
  {
   "cell_type": "code",
   "execution_count": 121,
   "id": "b5de7356-8e01-4deb-8436-5bad34c1b52a",
   "metadata": {},
   "outputs": [
    {
     "data": {
      "text/plain": [
       "2397407432256"
      ]
     },
     "execution_count": 121,
     "metadata": {},
     "output_type": "execute_result"
    }
   ],
   "source": [
    "id(mydict2)"
   ]
  },
  {
   "cell_type": "code",
   "execution_count": 123,
   "id": "bb0dc0a6-3e7a-44ce-8ca5-85c29c055010",
   "metadata": {},
   "outputs": [],
   "source": [
    "mydict['Address'] = 'Mumbai'"
   ]
  },
  {
   "cell_type": "code",
   "execution_count": 125,
   "id": "f619054d-6a61-4e94-8523-af63f53ad250",
   "metadata": {},
   "outputs": [
    {
     "data": {
      "text/plain": [
       "{'Name': 'john',\n",
       " 'ID': 1447,\n",
       " 'DOB': 1934,\n",
       " 'Address': 'Mumbai',\n",
       " 'JOb': 'Full Stack java'}"
      ]
     },
     "execution_count": 125,
     "metadata": {},
     "output_type": "execute_result"
    }
   ],
   "source": [
    "mydict"
   ]
  },
  {
   "cell_type": "code",
   "execution_count": 127,
   "id": "0d57e14d-6963-497b-bd05-1f2bc9bf51c4",
   "metadata": {},
   "outputs": [
    {
     "data": {
      "text/plain": [
       "{'Name': 'john',\n",
       " 'ID': 1447,\n",
       " 'DOB': 1934,\n",
       " 'Address': 'Mumbai',\n",
       " 'JOb': 'Full Stack java'}"
      ]
     },
     "execution_count": 127,
     "metadata": {},
     "output_type": "execute_result"
    }
   ],
   "source": [
    "mydict1 ## mydict1 will be also impacted as it is pointing to the same dictionar"
   ]
  },
  {
   "cell_type": "code",
   "execution_count": 129,
   "id": "a07a4b7a-eee9-4dde-8183-211dc76d5cd6",
   "metadata": {},
   "outputs": [
    {
     "data": {
      "text/plain": [
       "{'Name': 'john',\n",
       " 'ID': 1447,\n",
       " 'DOB': 1934,\n",
       " 'Address': 'HYD',\n",
       " 'JOb': 'Full Stack java'}"
      ]
     },
     "execution_count": 129,
     "metadata": {},
     "output_type": "execute_result"
    }
   ],
   "source": [
    "mydict2  # Copy of list won't be impacted due to the changes made in the original"
   ]
  },
  {
   "cell_type": "markdown",
   "id": "f2e11b16-7a91-45c3-b0bb-134fc976e450",
   "metadata": {},
   "source": [
    "# Loop Through dictionary"
   ]
  },
  {
   "cell_type": "code",
   "execution_count": 132,
   "id": "b0736c02-a5fd-47e0-850f-fc59b2239c1d",
   "metadata": {},
   "outputs": [
    {
     "data": {
      "text/plain": [
       "{'Name': 'john',\n",
       " 'ID': 1447,\n",
       " 'DOB': 1934,\n",
       " 'Address': 'Mumbai',\n",
       " 'JOb': 'Full Stack java'}"
      ]
     },
     "execution_count": 132,
     "metadata": {},
     "output_type": "execute_result"
    }
   ],
   "source": [
    "mydict"
   ]
  },
  {
   "cell_type": "code",
   "execution_count": 134,
   "id": "8d6a5bcc-49f2-4e87-ab31-d71b99caaac8",
   "metadata": {},
   "outputs": [
    {
     "name": "stdout",
     "output_type": "stream",
     "text": [
      "Name\n",
      "ID\n",
      "DOB\n",
      "Address\n",
      "JOb\n"
     ]
    }
   ],
   "source": [
    "for i in mydict:\n",
    "    print(i) # key "
   ]
  },
  {
   "cell_type": "code",
   "execution_count": 136,
   "id": "df906d48-94e9-44f4-9a86-ac927b53c874",
   "metadata": {},
   "outputs": [
    {
     "name": "stdout",
     "output_type": "stream",
     "text": [
      "Name : {'Name': 'john', 'ID': 1447, 'DOB': 1934, 'Address': 'Mumbai', 'JOb': 'Full Stack java'}\n",
      "ID : {'Name': 'john', 'ID': 1447, 'DOB': 1934, 'Address': 'Mumbai', 'JOb': 'Full Stack java'}\n",
      "DOB : {'Name': 'john', 'ID': 1447, 'DOB': 1934, 'Address': 'Mumbai', 'JOb': 'Full Stack java'}\n",
      "Address : {'Name': 'john', 'ID': 1447, 'DOB': 1934, 'Address': 'Mumbai', 'JOb': 'Full Stack java'}\n",
      "JOb : {'Name': 'john', 'ID': 1447, 'DOB': 1934, 'Address': 'Mumbai', 'JOb': 'Full Stack java'}\n"
     ]
    }
   ],
   "source": [
    "for i in mydict:\n",
    "    print(i,':',mydict)"
   ]
  },
  {
   "cell_type": "code",
   "execution_count": 138,
   "id": "0e7a882c-1921-432d-aa92-58031f34667b",
   "metadata": {},
   "outputs": [
    {
     "name": "stdout",
     "output_type": "stream",
     "text": [
      "Name : john\n",
      "ID : 1447\n",
      "DOB : 1934\n",
      "Address : Mumbai\n",
      "JOb : Full Stack java\n"
     ]
    }
   ],
   "source": [
    "for i in mydict:\n",
    "    print(i,':',mydict[i]) #key and value pair"
   ]
  },
  {
   "cell_type": "code",
   "execution_count": 140,
   "id": "b551f2b4-5244-4849-9275-bc77ec4ebff8",
   "metadata": {},
   "outputs": [
    {
     "name": "stdout",
     "output_type": "stream",
     "text": [
      "john\n",
      "1447\n",
      "1934\n",
      "Mumbai\n",
      "Full Stack java\n"
     ]
    }
   ],
   "source": [
    "for i in mydict:\n",
    "    print(mydict[i])  # Dictionary items"
   ]
  },
  {
   "cell_type": "markdown",
   "id": "86a63f04-cb9d-4dde-b0d9-bd11894489e8",
   "metadata": {},
   "source": [
    "# Dictionary Membership"
   ]
  },
  {
   "cell_type": "code",
   "execution_count": 143,
   "id": "ec13e8de-cb1b-4071-ad6d-bb1d698f784e",
   "metadata": {},
   "outputs": [
    {
     "data": {
      "text/plain": [
       "{'Name': 'john',\n",
       " 'ID': 1447,\n",
       " 'DOB': 1934,\n",
       " 'Address': 'Mumbai',\n",
       " 'JOb': 'Full Stack java'}"
      ]
     },
     "execution_count": 143,
     "metadata": {},
     "output_type": "execute_result"
    }
   ],
   "source": [
    "mydict"
   ]
  },
  {
   "cell_type": "code",
   "execution_count": 145,
   "id": "080e74c8-15d5-4274-ba85-2e7de12fdaad",
   "metadata": {},
   "outputs": [
    {
     "data": {
      "text/plain": [
       "True"
      ]
     },
     "execution_count": 145,
     "metadata": {},
     "output_type": "execute_result"
    }
   ],
   "source": [
    "'Name' in mydict #check if the key is dictionary or not"
   ]
  },
  {
   "cell_type": "code",
   "execution_count": 147,
   "id": "98c42a4d-2802-4c9c-bd11-3109d90dd064",
   "metadata": {},
   "outputs": [
    {
     "data": {
      "text/plain": [
       "False"
      ]
     },
     "execution_count": 147,
     "metadata": {},
     "output_type": "execute_result"
    }
   ],
   "source": [
    "'name' in mydict"
   ]
  },
  {
   "cell_type": "code",
   "execution_count": 149,
   "id": "ed5a7aed-51d9-4bd9-85c0-56514074b592",
   "metadata": {},
   "outputs": [
    {
     "data": {
      "text/plain": [
       "True"
      ]
     },
     "execution_count": 149,
     "metadata": {},
     "output_type": "execute_result"
    }
   ],
   "source": [
    "'ID' in mydict"
   ]
  },
  {
   "cell_type": "code",
   "execution_count": 151,
   "id": "76959884-cfa3-4e9d-b3c9-2703e83c5cdd",
   "metadata": {},
   "outputs": [
    {
     "data": {
      "text/plain": [
       "True"
      ]
     },
     "execution_count": 151,
     "metadata": {},
     "output_type": "execute_result"
    }
   ],
   "source": [
    "'Address' in mydict"
   ]
  },
  {
   "cell_type": "markdown",
   "id": "db4254ad-a2e1-41c8-8f26-79aa2e9599cf",
   "metadata": {},
   "source": [
    "# ALL & ANY"
   ]
  },
  {
   "cell_type": "code",
   "execution_count": 154,
   "id": "c81382ba-4922-426a-be68-fe295be7ac31",
   "metadata": {},
   "outputs": [
    {
     "data": {
      "text/plain": [
       "{'Name': 'john',\n",
       " 'ID': 1447,\n",
       " 'DOB': 1934,\n",
       " 'Address': 'Mumbai',\n",
       " 'JOb': 'Full Stack java'}"
      ]
     },
     "execution_count": 154,
     "metadata": {},
     "output_type": "execute_result"
    }
   ],
   "source": [
    "mydict"
   ]
  },
  {
   "cell_type": "code",
   "execution_count": 156,
   "id": "e13c327b-325a-4f86-b0fb-ad00cd5631fe",
   "metadata": {},
   "outputs": [
    {
     "data": {
      "text/plain": [
       "True"
      ]
     },
     "execution_count": 156,
     "metadata": {},
     "output_type": "execute_result"
    }
   ],
   "source": [
    "all(mydict)"
   ]
  },
  {
   "cell_type": "code",
   "execution_count": 158,
   "id": "4e12267b-0ffb-4fdd-9864-594de8894126",
   "metadata": {},
   "outputs": [
    {
     "data": {
      "text/plain": [
       "True"
      ]
     },
     "execution_count": 158,
     "metadata": {},
     "output_type": "execute_result"
    }
   ],
   "source": [
    "any(mydict)"
   ]
  },
  {
   "cell_type": "code",
   "execution_count": 160,
   "id": "288d6204-622d-4b5d-8cbf-f4290ab0a981",
   "metadata": {},
   "outputs": [
    {
     "data": {
      "text/plain": [
       "True"
      ]
     },
     "execution_count": 160,
     "metadata": {},
     "output_type": "execute_result"
    }
   ],
   "source": [
    "all(mydict1)"
   ]
  }
 ],
 "metadata": {
  "kernelspec": {
   "display_name": "Python 3 (ipykernel)",
   "language": "python",
   "name": "python3"
  },
  "language_info": {
   "codemirror_mode": {
    "name": "ipython",
    "version": 3
   },
   "file_extension": ".py",
   "mimetype": "text/x-python",
   "name": "python",
   "nbconvert_exporter": "python",
   "pygments_lexer": "ipython3",
   "version": "3.12.7"
  }
 },
 "nbformat": 4,
 "nbformat_minor": 5
}
